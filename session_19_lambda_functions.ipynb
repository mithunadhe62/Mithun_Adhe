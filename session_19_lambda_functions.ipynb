{
 "cells": [
  {
   "cell_type": "markdown",
   "id": "463b2125-6fce-4cec-8385-c0e0bce7bae3",
   "metadata": {},
   "source": [
    "**lambda functions**\n",
    "\n",
    "- lambda functions represents functions in a single line\n",
    "\n",
    "- it is similar analogy to list comprehension\n",
    "\n",
    "- to redus the time complexity will go to for lambda functions"
   ]
  },
  {
   "cell_type": "markdown",
   "id": "63ceefe6-e199-4518-a5ea-c55658a7e7fc",
   "metadata": {},
   "source": [
    "$pattern-1$: functions with one argument"
   ]
  },
  {
   "cell_type": "code",
   "execution_count": 6,
   "id": "6c32a272-3975-4bff-b924-c6b444ba33f7",
   "metadata": {},
   "outputs": [
    {
     "data": {
      "text/plain": [
       "100"
      ]
     },
     "execution_count": 6,
     "metadata": {},
     "output_type": "execute_result"
    }
   ],
   "source": [
    "def mul(a):\n",
    "    return(a*a)\n",
    "ans=mul(10)\n",
    "ans"
   ]
  },
  {
   "cell_type": "code",
   "execution_count": null,
   "id": "a0d6a880-1313-46f2-a4b6-20eff3a1e443",
   "metadata": {},
   "outputs": [],
   "source": [
    "# syntax\n",
    "# fundtion_name=lambda <argument> : <return output>\n",
    "# in the above\n",
    "# function_name =mul\n",
    "# argument name =a\n",
    "# return output =a*a"
   ]
  },
  {
   "cell_type": "code",
   "execution_count": 8,
   "id": "1d54baf3-9ec0-42f2-be30-8f928e1e8704",
   "metadata": {},
   "outputs": [
    {
     "data": {
      "text/plain": [
       "400"
      ]
     },
     "execution_count": 8,
     "metadata": {},
     "output_type": "execute_result"
    }
   ],
   "source": [
    "mul=lambda a: a*a\n",
    "mul(20)"
   ]
  },
  {
   "cell_type": "code",
   "execution_count": 10,
   "id": "0f555ec2-1222-4dab-b3c1-7f5f995745aa",
   "metadata": {},
   "outputs": [
    {
     "data": {
      "text/plain": [
       "1000000"
      ]
     },
     "execution_count": 10,
     "metadata": {},
     "output_type": "execute_result"
    }
   ],
   "source": [
    "def cube(a):\n",
    "    return(a*a*a)\n",
    "cube(100)"
   ]
  },
  {
   "cell_type": "code",
   "execution_count": 12,
   "id": "f3e97dc6-9430-4c34-9759-cbc40a60f41b",
   "metadata": {},
   "outputs": [
    {
     "data": {
      "text/plain": [
       "8000"
      ]
     },
     "execution_count": 12,
     "metadata": {},
     "output_type": "execute_result"
    }
   ],
   "source": [
    "cube=lambda a : a*a*a\n",
    "cube(20)"
   ]
  },
  {
   "cell_type": "markdown",
   "id": "1bac07bb-d4b9-45e5-806b-39c3ec255c12",
   "metadata": {},
   "source": [
    "$pattern-2$: **function with two argument"
   ]
  },
  {
   "cell_type": "code",
   "execution_count": 15,
   "id": "d100b4ff-bbb8-438e-96dc-1be28a3f03c3",
   "metadata": {},
   "outputs": [
    {
     "data": {
      "text/plain": [
       "30"
      ]
     },
     "execution_count": 15,
     "metadata": {},
     "output_type": "execute_result"
    }
   ],
   "source": [
    "def add(a,b):\n",
    "    return(a+b)\n",
    "add(10,20)"
   ]
  },
  {
   "cell_type": "code",
   "execution_count": 17,
   "id": "8d8c9b26-0876-4259-8be5-85cb8c3c73d8",
   "metadata": {},
   "outputs": [
    {
     "data": {
      "text/plain": [
       "30"
      ]
     },
     "execution_count": 17,
     "metadata": {},
     "output_type": "execute_result"
    }
   ],
   "source": [
    "add=lambda a,b : a+b\n",
    "add(10,20)"
   ]
  },
  {
   "cell_type": "code",
   "execution_count": 21,
   "id": "3cb1f523-e515-4d38-83b9-de0d7969bb11",
   "metadata": {},
   "outputs": [
    {
     "data": {
      "text/plain": [
       "(18, 2)"
      ]
     },
     "execution_count": 21,
     "metadata": {},
     "output_type": "execute_result"
    }
   ],
   "source": [
    "def avg(a,b,c):\n",
    "    return(round((a+b+c)/3),2)\n",
    "avg(9,23,21)"
   ]
  },
  {
   "cell_type": "markdown",
   "id": "4aeb361b-f357-4950-a689-8e5b3a48f2cc",
   "metadata": {},
   "source": [
    "$pattern-3$"
   ]
  },
  {
   "cell_type": "code",
   "execution_count": 25,
   "id": "e6ab29fc-3f1f-4936-a773-82dd364e5bbb",
   "metadata": {},
   "outputs": [
    {
     "data": {
      "text/plain": [
       "(18, 2)"
      ]
     },
     "execution_count": 25,
     "metadata": {},
     "output_type": "execute_result"
    }
   ],
   "source": [
    "avg=lambda a,b,c :(round((a+b+c)/3),2)\n",
    "avg(9,23,21)"
   ]
  },
  {
   "cell_type": "markdown",
   "id": "5c67aa0d-a595-49d6-91c5-94e04cd63f90",
   "metadata": {},
   "source": [
    "$pattern-4$"
   ]
  },
  {
   "cell_type": "code",
   "execution_count": 29,
   "id": "299c17cb-a844-4ee9-bf5f-7913c1d2b92c",
   "metadata": {},
   "outputs": [
    {
     "data": {
      "text/plain": [
       "(18, 2)"
      ]
     },
     "execution_count": 29,
     "metadata": {},
     "output_type": "execute_result"
    }
   ],
   "source": [
    "avg=lambda a,b,c=21 :(round((a+b+c)/3),2)\n",
    "avg(9,23,21)"
   ]
  },
  {
   "cell_type": "code",
   "execution_count": null,
   "id": "9bbfec37-254b-4287-83a9-1d627f2a7969",
   "metadata": {},
   "outputs": [],
   "source": [
    "mul=lambda a: a*a\n",
    "add=lambda a,b : a+b\n",
    "avg=lambda a,b,c :(round((a+b+c)/3),2)\n",
    "avg=lambda a,b,c=21 :(round((a+b+c)/3),2)"
   ]
  },
  {
   "cell_type": "markdown",
   "id": "13337a21-18f1-42a1-9fc3-3048c68f0d1a",
   "metadata": {},
   "source": [
    "**pattern-5**\n",
    "\n",
    "- list cases"
   ]
  },
  {
   "cell_type": "code",
   "execution_count": 39,
   "id": "f5bc7372-8af0-4c49-81d9-73a5f99f6a1a",
   "metadata": {},
   "outputs": [
    {
     "data": {
      "text/plain": [
       "['Hyd', 'Benguluru', 'Mumbai', 'Pune']"
      ]
     },
     "execution_count": 39,
     "metadata": {},
     "output_type": "execute_result"
    }
   ],
   "source": [
    "input=['hyd','benguluru','mumbai','pune']\n",
    "output=[]\n",
    "for i in input:\n",
    "    output.append(i.capitalize())\n",
    "\n",
    "output"
   ]
  },
  {
   "cell_type": "code",
   "execution_count": null,
   "id": "f02d723a-d1c1-407b-b9a4-cd9a6a9b7739",
   "metadata": {},
   "outputs": [],
   "source": [
    "# step-1 lambda <variable> : <output>\n",
    "# step-2 lambda <variable> : <output>, <iterator>\n",
    "# step-3 map(lambda <variable> : <output>, <iterator)\n",
    "# step-4 list(map(lambda <variable> : <output>, <iterator))"
   ]
  },
  {
   "cell_type": "code",
   "execution_count": 41,
   "id": "4e01e269-c941-44b3-a377-979c5bd373f2",
   "metadata": {},
   "outputs": [
    {
     "data": {
      "text/plain": [
       "<function __main__.<lambda>(i)>"
      ]
     },
     "execution_count": 41,
     "metadata": {},
     "output_type": "execute_result"
    }
   ],
   "source": [
    "# step-1 lambda <variable> : <output>\n",
    "lambda i : i.capitalize()"
   ]
  },
  {
   "cell_type": "code",
   "execution_count": 43,
   "id": "b11521d8-218e-4ff3-bb3f-5366798ffd16",
   "metadata": {},
   "outputs": [
    {
     "data": {
      "text/plain": [
       "(<function __main__.<lambda>(i)>, ['hyd', 'benguluru', 'mumbai', 'pune'])"
      ]
     },
     "execution_count": 43,
     "metadata": {},
     "output_type": "execute_result"
    }
   ],
   "source": [
    "# step-2 lambda <variable> : <output>, <iterator>\n",
    "lambda i : i.capitalize(),input"
   ]
  },
  {
   "cell_type": "code",
   "execution_count": 45,
   "id": "b6e8acd2-d010-4daf-a0f6-fc4dc9b3b2d5",
   "metadata": {},
   "outputs": [
    {
     "data": {
      "text/plain": [
       "<map at 0x1e828fe3790>"
      ]
     },
     "execution_count": 45,
     "metadata": {},
     "output_type": "execute_result"
    }
   ],
   "source": [
    "# step-3 map(lambda <variable> : <output>, <iterator)\n",
    "map(lambda i : i.capitalize(),input)"
   ]
  },
  {
   "cell_type": "code",
   "execution_count": 47,
   "id": "c7e9f3f8-1f48-4bf1-962d-fc1d3d7c2a41",
   "metadata": {},
   "outputs": [
    {
     "data": {
      "text/plain": [
       "['Hyd', 'Benguluru', 'Mumbai', 'Pune']"
      ]
     },
     "execution_count": 47,
     "metadata": {},
     "output_type": "execute_result"
    }
   ],
   "source": [
    "# step-4 list(map(lambda <variable> : <output>, <iterator))\n",
    "list(map(lambda i : i.capitalize(),input))"
   ]
  },
  {
   "cell_type": "code",
   "execution_count": 51,
   "id": "1201bea1-cc65-49ce-a3a6-dfd6c3f74d53",
   "metadata": {},
   "outputs": [
    {
     "data": {
      "text/plain": [
       "['HYD', 'BENGULURU', 'MUMBAI', 'PUNE']"
      ]
     },
     "execution_count": 51,
     "metadata": {},
     "output_type": "execute_result"
    }
   ],
   "source": [
    "input=['hyd','benguluru','mumbai','pune']\n",
    "list(map(lambda i : i.upper(),input))"
   ]
  },
  {
   "cell_type": "code",
   "execution_count": 89,
   "id": "10f50175-ea53-44c3-80a2-fc95ae5eafe4",
   "metadata": {},
   "outputs": [
    {
     "data": {
      "text/plain": [
       "[0, 1, 2, 3]"
      ]
     },
     "execution_count": 89,
     "metadata": {},
     "output_type": "execute_result"
    }
   ],
   "source": [
    "input=['hyd','benguluru','mumbai','pune']\n",
    "list(map(lambda i : input.index(i),input))"
   ]
  },
  {
   "cell_type": "code",
   "execution_count": 93,
   "id": "4142b20a-b12a-4210-bde6-066fea770a33",
   "metadata": {},
   "outputs": [
    {
     "data": {
      "text/plain": [
       "['Hello', 'How', 'Are', 'You']"
      ]
     },
     "execution_count": 93,
     "metadata": {},
     "output_type": "execute_result"
    }
   ],
   "source": [
    "input='hello how are you'\n",
    "\n",
    "list(map(lambda i : i.capitalize(),input.split()))\n",
    "\n"
   ]
  },
  {
   "cell_type": "code",
   "execution_count": 95,
   "id": "a7db3e25-cd88-4c39-bb9b-670360082edc",
   "metadata": {},
   "outputs": [
    {
     "name": "stdout",
     "output_type": "stream",
     "text": [
      "beng#uluru\n",
      "pu#ne\n"
     ]
    }
   ],
   "source": [
    "input=['hyd','beng#uluru','mumbai','pu#ne']\n",
    "for i in input:\n",
    "    if '#' in i:\n",
    "        print(i)"
   ]
  },
  {
   "cell_type": "code",
   "execution_count": 97,
   "id": "7c8dad82-80a3-4d77-8b54-77d3060ad2c6",
   "metadata": {},
   "outputs": [
    {
     "data": {
      "text/plain": [
       "[False, True, False, True]"
      ]
     },
     "execution_count": 97,
     "metadata": {},
     "output_type": "execute_result"
    }
   ],
   "source": [
    "input=['hyd','beng#uluru','mumbai','pu#ne']\n",
    "list(map(lambda i : '#' in i,input))"
   ]
  },
  {
   "cell_type": "markdown",
   "id": "99845ddc-b6b6-45e0-b392-fb39e087dc65",
   "metadata": {},
   "source": [
    "**filter**\n",
    "\n",
    "- filter is apply on lambda function to retrive the True output\n",
    "\n",
    "- map will just map the function and interater\n",
    "\n",
    "- when we apllye condition map will give True False\n",
    "\n",
    "- filter will use instead of map"
   ]
  },
  {
   "cell_type": "code",
   "execution_count": 100,
   "id": "b6f5226a-6d5a-4321-ae25-0c96e2a34303",
   "metadata": {},
   "outputs": [
    {
     "data": {
      "text/plain": [
       "['beng#uluru', 'pu#ne']"
      ]
     },
     "execution_count": 100,
     "metadata": {},
     "output_type": "execute_result"
    }
   ],
   "source": [
    "input=['hyd','beng#uluru','mumbai','pu#ne']\n",
    "list(filter(lambda i : '#' in i,input))"
   ]
  },
  {
   "cell_type": "code",
   "execution_count": 102,
   "id": "9ec7fc2c-0712-45a3-a318-e8c40b8458f4",
   "metadata": {},
   "outputs": [
    {
     "data": {
      "text/plain": [
       "['hyd', 'mumbai']"
      ]
     },
     "execution_count": 102,
     "metadata": {},
     "output_type": "execute_result"
    }
   ],
   "source": [
    "input=['hyd','beng#uluru','mumbai','pu#ne']\n",
    "list(filter(lambda i : '#' not in i,input))"
   ]
  },
  {
   "cell_type": "markdown",
   "id": "dedec304-dd5a-4a5e-84ad-71479ae28d34",
   "metadata": {},
   "source": [
    "**reduce**\n",
    "\n",
    "- reduce will helpful to perfrom math operations using lambda function\n",
    "\n",
    "- it is a method under a package called : **functools**"
   ]
  },
  {
   "cell_type": "code",
   "execution_count": 107,
   "id": "67a3ff00-68c9-456b-9d44-9b2f4c5ae234",
   "metadata": {},
   "outputs": [
    {
     "data": {
      "text/plain": [
       "['GenericAlias',\n",
       " 'RLock',\n",
       " 'WRAPPER_ASSIGNMENTS',\n",
       " 'WRAPPER_UPDATES',\n",
       " '_CacheInfo',\n",
       " '_HashedSeq',\n",
       " '_NOT_FOUND',\n",
       " '__all__',\n",
       " '__builtins__',\n",
       " '__cached__',\n",
       " '__doc__',\n",
       " '__file__',\n",
       " '__loader__',\n",
       " '__name__',\n",
       " '__package__',\n",
       " '__spec__',\n",
       " '_c3_merge',\n",
       " '_c3_mro',\n",
       " '_compose_mro',\n",
       " '_convert',\n",
       " '_find_impl',\n",
       " '_ge_from_gt',\n",
       " '_ge_from_le',\n",
       " '_ge_from_lt',\n",
       " '_gt_from_ge',\n",
       " '_gt_from_le',\n",
       " '_gt_from_lt',\n",
       " '_initial_missing',\n",
       " '_le_from_ge',\n",
       " '_le_from_gt',\n",
       " '_le_from_lt',\n",
       " '_lru_cache_wrapper',\n",
       " '_lt_from_ge',\n",
       " '_lt_from_gt',\n",
       " '_lt_from_le',\n",
       " '_make_key',\n",
       " '_unwrap_partial',\n",
       " 'cache',\n",
       " 'cached_property',\n",
       " 'cmp_to_key',\n",
       " 'get_cache_token',\n",
       " 'lru_cache',\n",
       " 'namedtuple',\n",
       " 'partial',\n",
       " 'partialmethod',\n",
       " 'recursive_repr',\n",
       " 'reduce',\n",
       " 'singledispatch',\n",
       " 'singledispatchmethod',\n",
       " 'total_ordering',\n",
       " 'update_wrapper',\n",
       " 'wraps']"
      ]
     },
     "execution_count": 107,
     "metadata": {},
     "output_type": "execute_result"
    }
   ],
   "source": [
    "import functools\n",
    "dir(functools)"
   ]
  },
  {
   "cell_type": "code",
   "execution_count": 116,
   "id": "24c66b87-cf34-4fc6-a9df-18ff1b81c032",
   "metadata": {},
   "outputs": [
    {
     "data": {
      "text/plain": [
       "15"
      ]
     },
     "execution_count": 116,
     "metadata": {},
     "output_type": "execute_result"
    }
   ],
   "source": [
    "from functools import reduce\n",
    "list1=[1,2,3,4,5]\n",
    "lambda summ,i : summ+i\n",
    "lambda summ,i : summ+i,list1\n",
    "reduce(lambda summ,i : summ+i,list1)"
   ]
  },
  {
   "cell_type": "code",
   "execution_count": 2,
   "id": "4e453493-e578-4a86-b291-fa8cce8ee551",
   "metadata": {},
   "outputs": [
    {
     "data": {
      "text/plain": [
       "215"
      ]
     },
     "execution_count": 2,
     "metadata": {},
     "output_type": "execute_result"
    }
   ],
   "source": [
    "from functools import reduce\n",
    "list1=[1,2,3,4,5]\n",
    "lambda summ,i : summ+i\n",
    "lambda summ,i : summ+i,list1\n",
    "lambda summ,i : summ+i,list1,200\n",
    "reduce(lambda summ,i : summ+i,list1,200)"
   ]
  },
  {
   "cell_type": "code",
   "execution_count": 4,
   "id": "98146d52-2933-4f1d-bf33-4706f7ecae7e",
   "metadata": {},
   "outputs": [
    {
     "data": {
      "text/plain": [
       "350"
      ]
     },
     "execution_count": 4,
     "metadata": {},
     "output_type": "execute_result"
    }
   ],
   "source": [
    "from functools import reduce\n",
    "list1=[10,20,30,40,50]\n",
    "lambda summ,i : summ+i\n",
    "lambda summ,i : summ+i,list1\n",
    "lambda summ,i : summ+i,list1,200\n",
    "reduce(lambda summ,i : summ+i,list1,200)"
   ]
  },
  {
   "cell_type": "code",
   "execution_count": null,
   "id": "dd8701c8-6026-4d63-9653-abfbfae33899",
   "metadata": {},
   "outputs": [],
   "source": []
  }
 ],
 "metadata": {
  "kernelspec": {
   "display_name": "Python 3 (ipykernel)",
   "language": "python",
   "name": "python3"
  },
  "language_info": {
   "codemirror_mode": {
    "name": "ipython",
    "version": 3
   },
   "file_extension": ".py",
   "mimetype": "text/x-python",
   "name": "python",
   "nbconvert_exporter": "python",
   "pygments_lexer": "ipython3",
   "version": "3.12.4"
  }
 },
 "nbformat": 4,
 "nbformat_minor": 5
}
