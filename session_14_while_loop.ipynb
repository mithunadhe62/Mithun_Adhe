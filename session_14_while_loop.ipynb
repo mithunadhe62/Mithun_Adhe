{
 "cells": [
  {
   "cell_type": "markdown",
   "id": "ccd00f37-2ab6-46a7-b49b-01368a13ce5e",
   "metadata": {},
   "source": [
    "# while loop"
   ]
  },
  {
   "cell_type": "markdown",
   "id": "2b93e818-4c04-431c-85ed-18b6eb4088a6",
   "metadata": {},
   "source": [
    "- intialization\n",
    "\n",
    "- increment or decrement\n",
    "\n",
    "- condition to stop"
   ]
  },
  {
   "cell_type": "code",
   "execution_count": 3,
   "id": "fe00bc0a-edaa-4577-95cc-8824a573d62a",
   "metadata": {},
   "outputs": [
    {
     "ename": "SyntaxError",
     "evalue": "expected ':' (182340526.py, line 1)",
     "output_type": "error",
     "traceback": [
      "\u001b[1;36m  Cell \u001b[1;32mIn[3], line 1\u001b[1;36m\u001b[0m\n\u001b[1;33m    for i in range(1,10)\u001b[0m\n\u001b[1;37m                        ^\u001b[0m\n\u001b[1;31mSyntaxError\u001b[0m\u001b[1;31m:\u001b[0m expected ':'\n"
     ]
    }
   ],
   "source": [
    "for i in range(1,10)"
   ]
  },
  {
   "cell_type": "code",
   "execution_count": null,
   "id": "996ff0c9-f959-40b2-9295-2f04b4618bfb",
   "metadata": {},
   "outputs": [],
   "source": []
  },
  {
   "cell_type": "code",
   "execution_count": null,
   "id": "c2c3e4af-cfe3-45b0-b6f0-9e5dea2ab555",
   "metadata": {},
   "outputs": [],
   "source": [
    "<intialization>\n",
    "while <condition>\n",
    "\n",
    "\n",
    "\n",
    "    <increment or decrement>"
   ]
  },
  {
   "cell_type": "code",
   "execution_count": null,
   "id": "f7a6fb17-aaf1-469d-b4a6-f49dda2db9ba",
   "metadata": {},
   "outputs": [],
   "source": [
    "i=1\n",
    "while i<10:\n",
    "    print(i,end=' ')\n",
    "    i=i+1\n",
    "\n",
    "# step-1: i=1 whilw 1<3 true print(1) i=1+1=2\n",
    "\n",
    "# step-2: i=2 while 2<3 True print(2) i=2+1=3\n",
    "\n",
    "# step-3: i=3 while 3<3 false"
   ]
  },
  {
   "cell_type": "code",
   "execution_count": 6,
   "id": "106cb156-467d-4eaf-b9a2-ce760e6dcbe5",
   "metadata": {},
   "outputs": [
    {
     "name": "stdout",
     "output_type": "stream",
     "text": [
      "1 2 3 4 5 6 7 8 9 10 "
     ]
    }
   ],
   "source": [
    "i=1\n",
    "while i<11:\n",
    "    print(i,end=' ')\n",
    "    i=i+1"
   ]
  },
  {
   "cell_type": "code",
   "execution_count": 10,
   "id": "7d7e0e8d-4d58-4f5a-a291-551d70a17260",
   "metadata": {},
   "outputs": [
    {
     "name": "stdout",
     "output_type": "stream",
     "text": [
      "-10 -9 -8 -7 -6 -5 -4 -3 -2 -1 0 "
     ]
    }
   ],
   "source": [
    "i=10\n",
    "while i>=0:\n",
    "    print(-i,end=' ')\n",
    "    i=i-1"
   ]
  },
  {
   "cell_type": "code",
   "execution_count": 12,
   "id": "4da96c4d-6d28-4918-a4d7-0c441a22f2c1",
   "metadata": {},
   "outputs": [
    {
     "name": "stdout",
     "output_type": "stream",
     "text": [
      "10 9 8 7 6 5 4 3 2 "
     ]
    }
   ],
   "source": [
    "i=10\n",
    "while i>1:\n",
    "    print(i,end=' ')\n",
    "    i=i-1"
   ]
  },
  {
   "cell_type": "code",
   "execution_count": 3,
   "id": "a15ac479-a38c-438c-877a-c40c65bf7e72",
   "metadata": {},
   "outputs": [
    {
     "name": "stdout",
     "output_type": "stream",
     "text": [
      "-1 -2 -3 -4 -5 -6 -7 -8 -9 -10 "
     ]
    }
   ],
   "source": [
    "i=1\n",
    "while i<=10:\n",
    "    print(-i,end=' ')\n",
    "    i=i+1"
   ]
  },
  {
   "cell_type": "code",
   "execution_count": null,
   "id": "7ac7f643-0e02-445c-893a-74dc64c99182",
   "metadata": {},
   "outputs": [],
   "source": []
  },
  {
   "cell_type": "code",
   "execution_count": null,
   "id": "bd200d7a-a138-401b-95cb-9ea238b2a482",
   "metadata": {},
   "outputs": [],
   "source": []
  }
 ],
 "metadata": {
  "kernelspec": {
   "display_name": "Python 3 (ipykernel)",
   "language": "python",
   "name": "python3"
  },
  "language_info": {
   "codemirror_mode": {
    "name": "ipython",
    "version": 3
   },
   "file_extension": ".py",
   "mimetype": "text/x-python",
   "name": "python",
   "nbconvert_exporter": "python",
   "pygments_lexer": "ipython3",
   "version": "3.12.4"
  }
 },
 "nbformat": 4,
 "nbformat_minor": 5
}
