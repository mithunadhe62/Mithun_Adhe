{
 "cells": [
  {
   "cell_type": "code",
   "execution_count": 2,
   "id": "3eb0db85-b146-4ddd-ac83-b7b81b0afeac",
   "metadata": {},
   "outputs": [
    {
     "ename": "IndentationError",
     "evalue": "expected an indented block after 'if' statement on line 5 (618807548.py, line 6)",
     "output_type": "error",
     "traceback": [
      "\u001b[1;36m  Cell \u001b[1;32mIn[2], line 6\u001b[1;36m\u001b[0m\n\u001b[1;33m    l1.append(i)\u001b[0m\n\u001b[1;37m    ^\u001b[0m\n\u001b[1;31mIndentationError\u001b[0m\u001b[1;31m:\u001b[0m expected an indented block after 'if' statement on line 5\n"
     ]
    }
   ],
   "source": [
    "names=['ajay','shiddu','laxaman','jagdish']\n",
    "age=[20,25,30,35]\n",
    "l1=[]\n",
    "for i in range(len(name)): \n",
    "    if i not in l1:\n",
    "    l1.append(i)\n",
    "\n",
    "l1"
   ]
  },
  {
   "cell_type": "markdown",
   "id": "18388868-c809-4a44-8905-aa51910b1536",
   "metadata": {},
   "source": [
    "## zip"
   ]
  },
  {
   "cell_type": "code",
   "execution_count": 6,
   "id": "2a7f2b6f-36b9-4955-a72a-dfd08dedc677",
   "metadata": {},
   "outputs": [
    {
     "name": "stdout",
     "output_type": "stream",
     "text": [
      "ajay 20\n",
      "ajay : age is ajay\n",
      "shiddu 25\n",
      "shiddu : age is shiddu\n",
      "laxaman 30\n",
      "laxaman : age is laxaman\n",
      "jagdish 35\n",
      "jagdish : age is jagdish\n"
     ]
    }
   ],
   "source": [
    "names=['ajay','shiddu','laxaman','jagdish']\n",
    "age=[20,25,30,35]\n",
    "for i,j in zip(names,age):\n",
    "    print(i,j)\n",
    "    print(f'{i} : age is {i}')"
   ]
  },
  {
   "cell_type": "code",
   "execution_count": 9,
   "id": "f404f7ff-adb1-4483-a14e-d16b6e7f4eca",
   "metadata": {},
   "outputs": [
    {
     "name": "stdout",
     "output_type": "stream",
     "text": [
      "20\n",
      "25\n",
      "30\n",
      "35\n"
     ]
    }
   ],
   "source": [
    "for i,j in zip(names,age):\n",
    "    print(j)"
   ]
  },
  {
   "cell_type": "code",
   "execution_count": 11,
   "id": "25831895-0ce7-4a57-9cf7-5ac793593349",
   "metadata": {},
   "outputs": [
    {
     "name": "stdout",
     "output_type": "stream",
     "text": [
      "ajay\n",
      "shiddu\n",
      "laxaman\n",
      "jagdish\n"
     ]
    }
   ],
   "source": [
    "for i,j in zip(names,age):\n",
    "    print(i)"
   ]
  },
  {
   "cell_type": "markdown",
   "id": "2c183f00-bb5a-4a4d-b8b9-d0e1aa4735c2",
   "metadata": {},
   "source": [
    "**Dictionary**\n",
    "\n",
    "- in above example names and age both are togethor\n",
    "\n",
    "- wthen both are together we can pair then \n",
    "\n",
    "- this can happen using dictionary\n",
    "\n",
    "- dictionary is called as **key-value** pair\n",
    "\n",
    "- it reperesents with curly braces :**{key-value}**\n",
    "\n",
    "- ajay and 20 years both are pair: {'ajay',20}"
   ]
  },
  {
   "cell_type": "code",
   "execution_count": 14,
   "id": "9c13e7d8-4e21-4c7d-9e50-fc101c727587",
   "metadata": {},
   "outputs": [
    {
     "data": {
      "text/plain": [
       "{'ajay': 20, 'shiddu': 25, 'laximan': 30}"
      ]
     },
     "execution_count": 14,
     "metadata": {},
     "output_type": "execute_result"
    }
   ],
   "source": [
    "d1={\"ajay\":20,\"shiddu\":25,\"laximan\":30}\n",
    "d1"
   ]
  },
  {
   "cell_type": "code",
   "execution_count": 18,
   "id": "bb8b5007-ecba-47eb-aca1-4ab7d54a5b2b",
   "metadata": {},
   "outputs": [
    {
     "ename": "SyntaxError",
     "evalue": "':' expected after dictionary key (2703393901.py, line 1)",
     "output_type": "error",
     "traceback": [
      "\u001b[1;36m  Cell \u001b[1;32mIn[18], line 1\u001b[1;36m\u001b[0m\n\u001b[1;33m    d2={\"ajay\":20,\"shiddu\":25,\"laximan\"}\u001b[0m\n\u001b[1;37m                                      ^\u001b[0m\n\u001b[1;31mSyntaxError\u001b[0m\u001b[1;31m:\u001b[0m ':' expected after dictionary key\n"
     ]
    }
   ],
   "source": [
    "d2={\"ajay\":20,\"shiddu\":25,\"laximan\"}\n",
    "d2"
   ]
  },
  {
   "cell_type": "code",
   "execution_count": null,
   "id": "2a1a9290-be87-4f44-b006-e555e4e7f06d",
   "metadata": {},
   "outputs": [],
   "source": []
  },
  {
   "cell_type": "code",
   "execution_count": 35,
   "id": "707f651b-c6d5-4f2b-91f0-0f9e7891543f",
   "metadata": {},
   "outputs": [
    {
     "data": {
      "text/plain": [
       "{20: 'ajay', 25: 'shiddu', 30: 'laximan'}"
      ]
     },
     "execution_count": 35,
     "metadata": {},
     "output_type": "execute_result"
    }
   ],
   "source": [
    "d1={20:\"ajay\",25:\"shiddu\",30:\"laximan\"}\n",
    "d1"
   ]
  },
  {
   "cell_type": "code",
   "execution_count": 37,
   "id": "4f7f5d64-9e49-48a0-ac08-245e9de1e203",
   "metadata": {},
   "outputs": [
    {
     "data": {
      "text/plain": [
       "{20: 'ajay', 25: 'shiddu', 30: 'laximan'}"
      ]
     },
     "execution_count": 37,
     "metadata": {},
     "output_type": "execute_result"
    }
   ],
   "source": [
    "d1={20:\"ajay\",25:\"shiddu\",30:\"laximan\"}\n",
    "d1"
   ]
  },
  {
   "cell_type": "code",
   "execution_count": 39,
   "id": "20ad4adf-1adc-4495-a5dd-33c8e562e38f",
   "metadata": {},
   "outputs": [
    {
     "ename": "SyntaxError",
     "evalue": "invalid syntax (2822099018.py, line 1)",
     "output_type": "error",
     "traceback": [
      "\u001b[1;36m  Cell \u001b[1;32mIn[39], line 1\u001b[1;36m\u001b[0m\n\u001b[1;33m    d5{True:\"true\"}\u001b[0m\n\u001b[1;37m      ^\u001b[0m\n\u001b[1;31mSyntaxError\u001b[0m\u001b[1;31m:\u001b[0m invalid syntax\n"
     ]
    }
   ],
   "source": [
    "d5{True:\"true\"}\n",
    "d5"
   ]
  },
  {
   "cell_type": "code",
   "execution_count": null,
   "id": "e8b4b861-a1dd-4e50-b0c8-6b311e768599",
   "metadata": {},
   "outputs": [],
   "source": [
    "**list as key faile becuase list has a mutable mutable beahavivour**"
   ]
  },
  {
   "cell_type": "code",
   "execution_count": 5,
   "id": "d0701e48-1f42-41e6-8003-d89eec94cccf",
   "metadata": {},
   "outputs": [
    {
     "data": {
      "text/plain": [
       "{'fruites': {'apple': 20}}"
      ]
     },
     "execution_count": 5,
     "metadata": {},
     "output_type": "execute_result"
    }
   ],
   "source": [
    "d14={\"fruites\":{\"apple\":20}}\n",
    "d14"
   ]
  },
  {
   "cell_type": "code",
   "execution_count": 7,
   "id": "ecaec337-578e-43c0-a8ae-c04473858aaf",
   "metadata": {},
   "outputs": [
    {
     "ename": "TypeError",
     "evalue": "unhashable type: 'dict'",
     "output_type": "error",
     "traceback": [
      "\u001b[1;31m---------------------------------------------------------------------------\u001b[0m",
      "\u001b[1;31mTypeError\u001b[0m                                 Traceback (most recent call last)",
      "Cell \u001b[1;32mIn[7], line 1\u001b[0m\n\u001b[1;32m----> 1\u001b[0m d15\u001b[38;5;241m=\u001b[39m{{\u001b[38;5;124m\"\u001b[39m\u001b[38;5;124mapple\u001b[39m\u001b[38;5;124m\"\u001b[39m:\u001b[38;5;241m20\u001b[39m}:\u001b[38;5;124m\"\u001b[39m\u001b[38;5;124mfruites\u001b[39m\u001b[38;5;124m\"\u001b[39m}\n\u001b[0;32m      2\u001b[0m d15\n",
      "\u001b[1;31mTypeError\u001b[0m: unhashable type: 'dict'"
     ]
    }
   ],
   "source": [
    "d15={{\"apple\":20}:\"fruites\"}\n",
    "d15"
   ]
  },
  {
   "cell_type": "code",
   "execution_count": 9,
   "id": "7f427a3b-af6e-4b6f-a174-dea6df393ce3",
   "metadata": {},
   "outputs": [
    {
     "ename": "SyntaxError",
     "evalue": "expression expected after dictionary key and ':' (3923090552.py, line 2)",
     "output_type": "error",
     "traceback": [
      "\u001b[1;36m  Cell \u001b[1;32mIn[9], line 2\u001b[1;36m\u001b[0m\n\u001b[1;33m    dict2={'Apple':30,'apple':}\u001b[0m\n\u001b[1;37m                             ^\u001b[0m\n\u001b[1;31mSyntaxError\u001b[0m\u001b[1;31m:\u001b[0m expression expected after dictionary key and ':'\n"
     ]
    }
   ],
   "source": [
    "dict1={'apple':20,'banana':30,'cherry':50}\n",
    "dict2={'Apple':30,'apple':}\n",
    "dict3={20:'apple',30:'banana',50:'cherry'}"
   ]
  },
  {
   "cell_type": "code",
   "execution_count": 13,
   "id": "579f8f31-9ae4-4bc5-89b5-74514cdffa42",
   "metadata": {},
   "outputs": [
    {
     "ename": "AttributeError",
     "evalue": "'dict' object has no attribute 'min'",
     "output_type": "error",
     "traceback": [
      "\u001b[1;31m---------------------------------------------------------------------------\u001b[0m",
      "\u001b[1;31mAttributeError\u001b[0m                            Traceback (most recent call last)",
      "Cell \u001b[1;32mIn[13], line 2\u001b[0m\n\u001b[0;32m      1\u001b[0m dict1\u001b[38;5;241m=\u001b[39m{\u001b[38;5;124m'\u001b[39m\u001b[38;5;124mapple\u001b[39m\u001b[38;5;124m'\u001b[39m:\u001b[38;5;241m20\u001b[39m,\u001b[38;5;124m'\u001b[39m\u001b[38;5;124mbanana\u001b[39m\u001b[38;5;124m'\u001b[39m:\u001b[38;5;241m30\u001b[39m,\u001b[38;5;124m'\u001b[39m\u001b[38;5;124mcherry\u001b[39m\u001b[38;5;124m'\u001b[39m:\u001b[38;5;241m50\u001b[39m}\n\u001b[1;32m----> 2\u001b[0m dict1\u001b[38;5;241m.\u001b[39mmin()\n",
      "\u001b[1;31mAttributeError\u001b[0m: 'dict' object has no attribute 'min'"
     ]
    }
   ],
   "source": [
    "dict1={'apple':20,'banana':30,'cherry':50}\n",
    "dict1.min()"
   ]
  },
  {
   "cell_type": "code",
   "execution_count": 15,
   "id": "9ce29c79-8f76-4b28-96b6-0ed50027e0e0",
   "metadata": {},
   "outputs": [
    {
     "ename": "AttributeError",
     "evalue": "'dict' object has no attribute 'max'",
     "output_type": "error",
     "traceback": [
      "\u001b[1;31m---------------------------------------------------------------------------\u001b[0m",
      "\u001b[1;31mAttributeError\u001b[0m                            Traceback (most recent call last)",
      "Cell \u001b[1;32mIn[15], line 2\u001b[0m\n\u001b[0;32m      1\u001b[0m dict1\u001b[38;5;241m=\u001b[39m{\u001b[38;5;124m'\u001b[39m\u001b[38;5;124mapple\u001b[39m\u001b[38;5;124m'\u001b[39m:\u001b[38;5;241m20\u001b[39m,\u001b[38;5;124m'\u001b[39m\u001b[38;5;124mbanana\u001b[39m\u001b[38;5;124m'\u001b[39m:\u001b[38;5;241m30\u001b[39m,\u001b[38;5;124m'\u001b[39m\u001b[38;5;124mcherry\u001b[39m\u001b[38;5;124m'\u001b[39m:\u001b[38;5;241m50\u001b[39m}\n\u001b[1;32m----> 2\u001b[0m dict1\u001b[38;5;241m.\u001b[39mmax()\n",
      "\u001b[1;31mAttributeError\u001b[0m: 'dict' object has no attribute 'max'"
     ]
    }
   ],
   "source": [
    "dict1={'apple':20,'banana':30,'cherry':50}\n",
    "dict1.max()"
   ]
  },
  {
   "cell_type": "code",
   "execution_count": 17,
   "id": "41ac5507-38d2-48a7-833e-7f6a8b4207f5",
   "metadata": {},
   "outputs": [
    {
     "data": {
      "text/plain": [
       "['__class__',\n",
       " '__class_getitem__',\n",
       " '__contains__',\n",
       " '__delattr__',\n",
       " '__delitem__',\n",
       " '__dir__',\n",
       " '__doc__',\n",
       " '__eq__',\n",
       " '__format__',\n",
       " '__ge__',\n",
       " '__getattribute__',\n",
       " '__getitem__',\n",
       " '__getstate__',\n",
       " '__gt__',\n",
       " '__hash__',\n",
       " '__init__',\n",
       " '__init_subclass__',\n",
       " '__ior__',\n",
       " '__iter__',\n",
       " '__le__',\n",
       " '__len__',\n",
       " '__lt__',\n",
       " '__ne__',\n",
       " '__new__',\n",
       " '__or__',\n",
       " '__reduce__',\n",
       " '__reduce_ex__',\n",
       " '__repr__',\n",
       " '__reversed__',\n",
       " '__ror__',\n",
       " '__setattr__',\n",
       " '__setitem__',\n",
       " '__sizeof__',\n",
       " '__str__',\n",
       " '__subclasshook__',\n",
       " 'clear',\n",
       " 'copy',\n",
       " 'fromkeys',\n",
       " 'get',\n",
       " 'items',\n",
       " 'keys',\n",
       " 'pop',\n",
       " 'popitem',\n",
       " 'setdefault',\n",
       " 'update',\n",
       " 'values']"
      ]
     },
     "execution_count": 17,
     "metadata": {},
     "output_type": "execute_result"
    }
   ],
   "source": [
    "dir(dict)"
   ]
  },
  {
   "cell_type": "code",
   "execution_count": 21,
   "id": "00ad70f4-451f-4199-86c8-bb2fc4ef737a",
   "metadata": {},
   "outputs": [
    {
     "ename": "AttributeError",
     "evalue": "'dict' object has no attribute 'sum'",
     "output_type": "error",
     "traceback": [
      "\u001b[1;31m---------------------------------------------------------------------------\u001b[0m",
      "\u001b[1;31mAttributeError\u001b[0m                            Traceback (most recent call last)",
      "Cell \u001b[1;32mIn[21], line 2\u001b[0m\n\u001b[0;32m      1\u001b[0m dict1\u001b[38;5;241m=\u001b[39m{\u001b[38;5;124m'\u001b[39m\u001b[38;5;124mapple\u001b[39m\u001b[38;5;124m'\u001b[39m:\u001b[38;5;241m20\u001b[39m,\u001b[38;5;124m'\u001b[39m\u001b[38;5;124mbanana\u001b[39m\u001b[38;5;124m'\u001b[39m:\u001b[38;5;241m30\u001b[39m,\u001b[38;5;124m'\u001b[39m\u001b[38;5;124mcherry\u001b[39m\u001b[38;5;124m'\u001b[39m:\u001b[38;5;241m50\u001b[39m}\n\u001b[1;32m----> 2\u001b[0m dict1\u001b[38;5;241m.\u001b[39msum()\n\u001b[0;32m      3\u001b[0m dict1\n",
      "\u001b[1;31mAttributeError\u001b[0m: 'dict' object has no attribute 'sum'"
     ]
    }
   ],
   "source": [
    "dict1={'apple':20,'banana':30,'cherry':50}\n",
    "dict1.sum()"
   ]
  },
  {
   "cell_type": "code",
   "execution_count": 23,
   "id": "245b3259-8d5d-4af8-9bd5-8af4a33e01ce",
   "metadata": {},
   "outputs": [
    {
     "ename": "AttributeError",
     "evalue": "'dict' object has no attribute 'sorted'",
     "output_type": "error",
     "traceback": [
      "\u001b[1;31m---------------------------------------------------------------------------\u001b[0m",
      "\u001b[1;31mAttributeError\u001b[0m                            Traceback (most recent call last)",
      "Cell \u001b[1;32mIn[23], line 1\u001b[0m\n\u001b[1;32m----> 1\u001b[0m dict1\u001b[38;5;241m.\u001b[39msorted()\n",
      "\u001b[1;31mAttributeError\u001b[0m: 'dict' object has no attribute 'sorted'"
     ]
    }
   ],
   "source": [
    "dict1.sorted()"
   ]
  },
  {
   "cell_type": "code",
   "execution_count": 27,
   "id": "6f0a6fcf-0fcb-491e-ab3d-5e9960154ec4",
   "metadata": {},
   "outputs": [
    {
     "ename": "AttributeError",
     "evalue": "'dict' object has no attribute 'reversed'",
     "output_type": "error",
     "traceback": [
      "\u001b[1;31m---------------------------------------------------------------------------\u001b[0m",
      "\u001b[1;31mAttributeError\u001b[0m                            Traceback (most recent call last)",
      "Cell \u001b[1;32mIn[27], line 2\u001b[0m\n\u001b[0;32m      1\u001b[0m dict1\u001b[38;5;241m=\u001b[39m{\u001b[38;5;124m'\u001b[39m\u001b[38;5;124mapple\u001b[39m\u001b[38;5;124m'\u001b[39m:\u001b[38;5;241m20\u001b[39m,\u001b[38;5;124m'\u001b[39m\u001b[38;5;124mbanana\u001b[39m\u001b[38;5;124m'\u001b[39m:\u001b[38;5;241m30\u001b[39m,\u001b[38;5;124m'\u001b[39m\u001b[38;5;124mcherry\u001b[39m\u001b[38;5;124m'\u001b[39m:\u001b[38;5;241m50\u001b[39m}\n\u001b[1;32m----> 2\u001b[0m dict1\u001b[38;5;241m.\u001b[39mreversed()\n",
      "\u001b[1;31mAttributeError\u001b[0m: 'dict' object has no attribute 'reversed'"
     ]
    }
   ],
   "source": [
    "dict1={'apple':20,'banana':30,'cherry':50}\n",
    "dict1.reversed()"
   ]
  },
  {
   "cell_type": "code",
   "execution_count": 36,
   "id": "97f2ae7e-7401-43de-94db-e890f75851a5",
   "metadata": {},
   "outputs": [
    {
     "name": "stdout",
     "output_type": "stream",
     "text": [
      "cherry\n",
      "apple\n",
      "50\n"
     ]
    }
   ],
   "source": [
    "dict1={'apple':20,'banana':30,'cherry':50}\n",
    "dict2={'Apple':20,'apple':30}\n",
    "dict3={20:'apple',30:'banana',50:'cherry'}\n",
    "print(max(dict1))\n",
    "print(max(dict2))\n",
    "print(max(dict3))"
   ]
  },
  {
   "cell_type": "code",
   "execution_count": 38,
   "id": "0fdee2ad-23e7-46e0-b076-4771d2e9674e",
   "metadata": {},
   "outputs": [
    {
     "data": {
      "text/plain": [
       "('apple', 'Apple', 20)"
      ]
     },
     "execution_count": 38,
     "metadata": {},
     "output_type": "execute_result"
    }
   ],
   "source": [
    "dict1={'apple':20,'banana':30,'cherry':50}\n",
    "dict2={'Apple':20,'apple':30}\n",
    "dict3={20:'apple',30:'banana',50:'cherry'}\n",
    "(min(dict1)),(min(dict2)),(min(dict3))"
   ]
  },
  {
   "cell_type": "code",
   "execution_count": 48,
   "id": "50481f37-a18a-4134-bdb5-3da8f0cae683",
   "metadata": {},
   "outputs": [
    {
     "data": {
      "text/plain": [
       "['cherry', 'banana', 'apple']"
      ]
     },
     "execution_count": 48,
     "metadata": {},
     "output_type": "execute_result"
    }
   ],
   "source": [
    "list(reversed(dict1))"
   ]
  },
  {
   "cell_type": "code",
   "execution_count": 40,
   "id": "8149a971-b19c-4226-92bb-8ac78f36f9ec",
   "metadata": {},
   "outputs": [
    {
     "data": {
      "text/plain": [
       "['apple', 'banana', 'cherry']"
      ]
     },
     "execution_count": 40,
     "metadata": {},
     "output_type": "execute_result"
    }
   ],
   "source": [
    "sorted(dict1)"
   ]
  },
  {
   "cell_type": "code",
   "execution_count": 42,
   "id": "ef9f3fd7-55c9-4a43-91df-9df91fc81089",
   "metadata": {},
   "outputs": [
    {
     "data": {
      "text/plain": [
       "3"
      ]
     },
     "execution_count": 42,
     "metadata": {},
     "output_type": "execute_result"
    }
   ],
   "source": [
    "len(dict1)"
   ]
  },
  {
   "cell_type": "code",
   "execution_count": 54,
   "id": "05c8404c-8d87-410d-bae5-f0e7fa2914a9",
   "metadata": {},
   "outputs": [
    {
     "data": {
      "text/plain": [
       "True"
      ]
     },
     "execution_count": 54,
     "metadata": {},
     "output_type": "execute_result"
    }
   ],
   "source": [
    "dict1={'Apple':20,'banana':30,'cherry':10}\n",
    "'Apple' in dict1"
   ]
  },
  {
   "cell_type": "code",
   "execution_count": 56,
   "id": "d047bc62-57fb-4181-b396-99b10b63d51d",
   "metadata": {},
   "outputs": [
    {
     "data": {
      "text/plain": [
       "False"
      ]
     },
     "execution_count": 56,
     "metadata": {},
     "output_type": "execute_result"
    }
   ],
   "source": [
    "20 in dict1"
   ]
  },
  {
   "cell_type": "code",
   "execution_count": 58,
   "id": "8ee31de2-7f23-47cf-bfa8-edf45aec970c",
   "metadata": {},
   "outputs": [
    {
     "ename": "SyntaxError",
     "evalue": "illegal target for annotation (1635405859.py, line 1)",
     "output_type": "error",
     "traceback": [
      "\u001b[1;36m  Cell \u001b[1;32mIn[58], line 1\u001b[1;36m\u001b[0m\n\u001b[1;33m    'Apple':20 in dict1\u001b[0m\n\u001b[1;37m    ^\u001b[0m\n\u001b[1;31mSyntaxError\u001b[0m\u001b[1;31m:\u001b[0m illegal target for annotation\n"
     ]
    }
   ],
   "source": [
    "'Apple':20 in dict1"
   ]
  },
  {
   "cell_type": "code",
   "execution_count": 62,
   "id": "9f7870d2-a92f-42d4-9f6d-505361bd070e",
   "metadata": {},
   "outputs": [
    {
     "name": "stdout",
     "output_type": "stream",
     "text": [
      "0\n",
      "1\n",
      "2\n"
     ]
    }
   ],
   "source": [
    "dict1={'Apple':20,'banana':30,'cherry':10}\n",
    "for i in range(len(dict1)):\n",
    "    print(i)"
   ]
  },
  {
   "cell_type": "markdown",
   "id": "18569f29-2cb3-484b-887e-c5d60fec1d76",
   "metadata": {},
   "source": [
    "**index**"
   ]
  },
  {
   "cell_type": "code",
   "execution_count": 65,
   "id": "e43c3781-9b50-4f82-bb92-477815731455",
   "metadata": {},
   "outputs": [
    {
     "data": {
      "text/plain": [
       "10"
      ]
     },
     "execution_count": 65,
     "metadata": {},
     "output_type": "execute_result"
    }
   ],
   "source": [
    "l1=[10,20,30]\n",
    "l1[0]"
   ]
  },
  {
   "cell_type": "markdown",
   "id": "cedc4034-79d4-49f3-878b-19d21285dba5",
   "metadata": {},
   "source": [
    "**key error**"
   ]
  },
  {
   "cell_type": "code",
   "execution_count": 67,
   "id": "7916419d-e0d3-4b5b-8f54-0adcb92748dc",
   "metadata": {},
   "outputs": [
    {
     "ename": "KeyError",
     "evalue": "0",
     "output_type": "error",
     "traceback": [
      "\u001b[1;31m---------------------------------------------------------------------------\u001b[0m",
      "\u001b[1;31mKeyError\u001b[0m                                  Traceback (most recent call last)",
      "Cell \u001b[1;32mIn[67], line 2\u001b[0m\n\u001b[0;32m      1\u001b[0m dict1\u001b[38;5;241m=\u001b[39m{\u001b[38;5;124m'\u001b[39m\u001b[38;5;124mApple\u001b[39m\u001b[38;5;124m'\u001b[39m:\u001b[38;5;241m20\u001b[39m,\u001b[38;5;124m'\u001b[39m\u001b[38;5;124mbanana\u001b[39m\u001b[38;5;124m'\u001b[39m:\u001b[38;5;241m30\u001b[39m,\u001b[38;5;124m'\u001b[39m\u001b[38;5;124mcherry\u001b[39m\u001b[38;5;124m'\u001b[39m:\u001b[38;5;241m10\u001b[39m}\n\u001b[1;32m----> 2\u001b[0m dict1[\u001b[38;5;241m0\u001b[39m]\n",
      "\u001b[1;31mKeyError\u001b[0m: 0"
     ]
    }
   ],
   "source": [
    "dict1={'Apple':20,'banana':30,'cherry':10}\n",
    "dict1[0]"
   ]
  },
  {
   "cell_type": "markdown",
   "id": "0f79f329-538e-4fb7-b5e6-073d33553166",
   "metadata": {},
   "source": [
    "**how to extract the values**\n",
    "\n",
    "- in dictionary we have a comcept key:value pair\n",
    "\n",
    "- keys are very important\n",
    "\n",
    "- in order to get the values we need to take keys help"
   ]
  },
  {
   "cell_type": "code",
   "execution_count": 71,
   "id": "403b5cd1-774a-4110-bb38-f0815a0ce9ab",
   "metadata": {},
   "outputs": [
    {
     "data": {
      "text/plain": [
       "20"
      ]
     },
     "execution_count": 71,
     "metadata": {},
     "output_type": "execute_result"
    }
   ],
   "source": [
    "dict1={'Apple':20,'banana':30,'cherry':10}\n",
    "dict1['Apple']"
   ]
  },
  {
   "cell_type": "code",
   "execution_count": 73,
   "id": "2ae19786-a904-4569-a3df-bb648d09c013",
   "metadata": {},
   "outputs": [
    {
     "data": {
      "text/plain": [
       "30"
      ]
     },
     "execution_count": 73,
     "metadata": {},
     "output_type": "execute_result"
    }
   ],
   "source": [
    "dict1['banana']"
   ]
  },
  {
   "cell_type": "code",
   "execution_count": 75,
   "id": "a76cc238-d9f9-4f00-93a7-35f51af68576",
   "metadata": {},
   "outputs": [
    {
     "data": {
      "text/plain": [
       "10"
      ]
     },
     "execution_count": 75,
     "metadata": {},
     "output_type": "execute_result"
    }
   ],
   "source": [
    "dict1['cherry']"
   ]
  },
  {
   "cell_type": "code",
   "execution_count": 77,
   "id": "aa3648b7-913b-4079-ad5a-276b086c53a8",
   "metadata": {},
   "outputs": [
    {
     "name": "stdout",
     "output_type": "stream",
     "text": [
      "Apple 20\n",
      "banana 30\n",
      "cherry 10\n"
     ]
    }
   ],
   "source": [
    "for i in dict1:\n",
    "    print(i,dict1[i])"
   ]
  },
  {
   "cell_type": "code",
   "execution_count": 81,
   "id": "7c87e302-4e46-4b4f-b3a3-1698e684eb3b",
   "metadata": {},
   "outputs": [
    {
     "name": "stdout",
     "output_type": "stream",
     "text": [
      "ramesh, age is 20\n",
      "suresh, age is 25\n",
      "sathish, age is 30\n"
     ]
    }
   ],
   "source": [
    "names={'ramesh':20,'suresh':25,'sathish':30}\n",
    "for i in names:\n",
    "    print(f\"{i}, age is {names[i]}\")"
   ]
  },
  {
   "cell_type": "code",
   "execution_count": 83,
   "id": "6ed3b091-d6b0-4fcc-9634-b6db949aa2ba",
   "metadata": {},
   "outputs": [
    {
     "name": "stdout",
     "output_type": "stream",
     "text": [
      "0\n",
      "1\n",
      "2\n"
     ]
    }
   ],
   "source": [
    "for i in range(len(names)):\n",
    "    print(i,)"
   ]
  },
  {
   "cell_type": "code",
   "execution_count": 87,
   "id": "66759560-0a9d-4081-8243-aed99aeeb2cb",
   "metadata": {},
   "outputs": [
    {
     "data": {
      "text/plain": [
       "'Cherry'"
      ]
     },
     "execution_count": 87,
     "metadata": {},
     "output_type": "execute_result"
    }
   ],
   "source": [
    "d={'Fruites':['Apple','Banana','Cherry']}\n",
    "d['Fruites'][2]"
   ]
  },
  {
   "cell_type": "code",
   "execution_count": 93,
   "id": "35938a15-af46-466e-bec6-a1c54f56abb6",
   "metadata": {},
   "outputs": [
    {
     "data": {
      "text/plain": [
       "'green'"
      ]
     },
     "execution_count": 93,
     "metadata": {},
     "output_type": "execute_result"
    }
   ],
   "source": [
    "d={'Fruites':{'Apple':['sweet','sour','green']}}\n",
    "\n",
    "d['Fruites']['Apple'][2]"
   ]
  },
  {
   "cell_type": "code",
   "execution_count": 105,
   "id": "4cf21f15-568e-42d5-9764-2d7718f3e5d4",
   "metadata": {},
   "outputs": [
    {
     "data": {
      "text/plain": [
       "50"
      ]
     },
     "execution_count": 105,
     "metadata": {},
     "output_type": "execute_result"
    }
   ],
   "source": [
    "d={'fruites':[{'cost':[50]}]}\n",
    "d['fruites'][0]['cost'][0]"
   ]
  },
  {
   "cell_type": "code",
   "execution_count": null,
   "id": "a73fc716-5221-419c-b352-465dfa4778c4",
   "metadata": {},
   "outputs": [],
   "source": [
    "d={'fruites':['Apple'],'cost'}"
   ]
  },
  {
   "cell_type": "code",
   "execution_count": 129,
   "id": "56a9977d-92e7-4553-bd8a-fd310f4596ee",
   "metadata": {},
   "outputs": [],
   "source": [
    "d={'Fruites':['Apple'],'Cost':[{'1kg':[20,30,40],'2kg':None}]}\n",
    "d['Cost'][0]['2kg']"
   ]
  },
  {
   "cell_type": "code",
   "execution_count": 162,
   "id": "daf7da60-2d93-49f4-a432-3f5e03222c4d",
   "metadata": {},
   "outputs": [
    {
     "data": {
      "text/plain": [
       "{'Shambaji'}"
      ]
     },
     "execution_count": 162,
     "metadata": {},
     "output_type": "execute_result"
    }
   ],
   "source": [
    "d={'Fruites':{'Orange':{'Nagpur':{'MH':{'King':{'Shivaji maharaj':{'Shambaji'}}}}}}}\n",
    "d['Fruites']['Orange']['Nagpur']['MH']['King']['Shivaji maharaj']"
   ]
  },
  {
   "cell_type": "code",
   "execution_count": null,
   "id": "fb33e646-05ac-4327-9130-dfeea5d128e6",
   "metadata": {},
   "outputs": [],
   "source": [
    "**how to create empty dictionary**\n",
    "\n",
    "- how onwards focus on creationg of empty list , string as dictionry\n",
    "\n",
    "- we will take empty list will use append opretions\n",
    "\n",
    "- we will take empty string will use concatenation\n",
    "\n",
    "- we will take empty dictionary will use key:value pair concept"
   ]
  },
  {
   "cell_type": "code",
   "execution_count": 164,
   "id": "0adce32e-55b1-4145-9d97-94c5af3e9967",
   "metadata": {},
   "outputs": [
    {
     "data": {
      "text/plain": [
       "[10, 20]"
      ]
     },
     "execution_count": 164,
     "metadata": {},
     "output_type": "execute_result"
    }
   ],
   "source": [
    "# list\n",
    "l=[]\n",
    "l.append(10)\n",
    "l.append(20)\n",
    "l"
   ]
  },
  {
   "cell_type": "code",
   "execution_count": 170,
   "id": "a9085649-fd40-4441-864b-ee03888e9756",
   "metadata": {},
   "outputs": [
    {
     "data": {
      "text/plain": [
       "'py'"
      ]
     },
     "execution_count": 170,
     "metadata": {},
     "output_type": "execute_result"
    }
   ],
   "source": [
    "# string\n",
    "s=''\n",
    "s=s+'p'\n",
    "s=s+'y'\n",
    "s"
   ]
  },
  {
   "cell_type": "code",
   "execution_count": 174,
   "id": "2549b5a4-45bc-40ce-bd9c-c325a50d424f",
   "metadata": {},
   "outputs": [
    {
     "data": {
      "text/plain": [
       "{'ramesh': 20, 'suresh': 25, 'sathish': 30}"
      ]
     },
     "execution_count": 174,
     "metadata": {},
     "output_type": "execute_result"
    }
   ],
   "source": [
    "# dictionary\n",
    "d={}\n",
    "d['ramesh']=20\n",
    "d['suresh']=25\n",
    "d['sathish']=30\n",
    "d"
   ]
  },
  {
   "cell_type": "markdown",
   "id": "030c13e6-98f7-4fb8-b5cd-e7c7286ba85a",
   "metadata": {},
   "source": [
    "**how to convert list to dictionaty**"
   ]
  },
  {
   "cell_type": "code",
   "execution_count": 194,
   "id": "bcc4a197-a64f-437f-a858-dfb24a2c79ab",
   "metadata": {},
   "outputs": [
    {
     "data": {
      "text/plain": [
       "{'ramesh': 20, 'suresh': 25, 'sathish': 30}"
      ]
     },
     "execution_count": 194,
     "metadata": {},
     "output_type": "execute_result"
    }
   ],
   "source": [
    "names=['ramesh','suresh','sathish']\n",
    "age=[20,25,30]\n",
    "dict1={}\n",
    "for i,j in zip(names,age):\n",
    "    dict1[i]=j\n",
    "\n",
    "dict1"
   ]
  },
  {
   "cell_type": "markdown",
   "id": "2dc8de3d-4fb8-4004-942f-a43b6fa3985e",
   "metadata": {},
   "source": [
    "**dictionary comprehension**"
   ]
  },
  {
   "cell_type": "markdown",
   "id": "e411ed1c-8050-483c-ab7e-4863c92155e7",
   "metadata": {},
   "source": [
    "- for list comprehension we written everything inside list\n",
    "\n",
    "- for dict comprehension we should write everyting inside the dict"
   ]
  },
  {
   "cell_type": "code",
   "execution_count": 203,
   "id": "fe33ba5a-0553-4875-aac6-d3311b5c7af2",
   "metadata": {},
   "outputs": [
    {
     "ename": "SyntaxError",
     "evalue": "invalid syntax (3230221322.py, line 1)",
     "output_type": "error",
     "traceback": [
      "\u001b[1;36m  Cell \u001b[1;32mIn[203], line 1\u001b[1;36m\u001b[0m\n\u001b[1;33m    dict1{for i,j in zip(names,age): dict1[i]=j dict1}\u001b[0m\n\u001b[1;37m         ^\u001b[0m\n\u001b[1;31mSyntaxError\u001b[0m\u001b[1;31m:\u001b[0m invalid syntax\n"
     ]
    }
   ],
   "source": [
    "dict1{for i,j in zip(names,age): dict1[i]=j dict1}"
   ]
  },
  {
   "cell_type": "code",
   "execution_count": 209,
   "id": "a6d506cd-5fc8-48a5-9fd3-b0fb46bba20b",
   "metadata": {},
   "outputs": [
    {
     "data": {
      "text/plain": [
       "{'ramesh': 20, 'suresh': 25, 'sathish': 30}"
      ]
     },
     "execution_count": 209,
     "metadata": {},
     "output_type": "execute_result"
    }
   ],
   "source": [
    "names=['ramesh','suresh','sathish']\n",
    "age=[20,25,30]\n",
    "{i:j for i,j in zip(names,age)}"
   ]
  },
  {
   "cell_type": "markdown",
   "id": "7811b68b-e730-4c31-af73-7f992f55a0d2",
   "metadata": {},
   "source": [
    "**mutable-immutable**\n",
    "\n",
    "- list are mutable\n",
    "\n",
    "- dictionary are also mutable\n",
    "\n",
    "- string immutable\n",
    "\n",
    "- tuple immutable\n",
    "\n",
    "- in dictionary we can change the value using keys"
   ]
  },
  {
   "cell_type": "code",
   "execution_count": 214,
   "id": "e46bd686-1492-4925-9b13-38ddfc634671",
   "metadata": {},
   "outputs": [
    {
     "data": {
      "text/plain": [
       "{'ramesh': 30, 'suresh': 25, 'sathish': 30}"
      ]
     },
     "execution_count": 214,
     "metadata": {},
     "output_type": "execute_result"
    }
   ],
   "source": [
    "d={'ramesh': 20, 'suresh': 25, 'sathish': 30}\n",
    "d['ramesh']=30\n",
    "d"
   ]
  },
  {
   "cell_type": "code",
   "execution_count": 218,
   "id": "53d15bfb-19c3-4747-8137-905f65d306be",
   "metadata": {},
   "outputs": [
    {
     "data": {
      "text/plain": [
       "['__class__',\n",
       " '__class_getitem__',\n",
       " '__contains__',\n",
       " '__delattr__',\n",
       " '__delitem__',\n",
       " '__dir__',\n",
       " '__doc__',\n",
       " '__eq__',\n",
       " '__format__',\n",
       " '__ge__',\n",
       " '__getattribute__',\n",
       " '__getitem__',\n",
       " '__getstate__',\n",
       " '__gt__',\n",
       " '__hash__',\n",
       " '__init__',\n",
       " '__init_subclass__',\n",
       " '__ior__',\n",
       " '__iter__',\n",
       " '__le__',\n",
       " '__len__',\n",
       " '__lt__',\n",
       " '__ne__',\n",
       " '__new__',\n",
       " '__or__',\n",
       " '__reduce__',\n",
       " '__reduce_ex__',\n",
       " '__repr__',\n",
       " '__reversed__',\n",
       " '__ror__',\n",
       " '__setattr__',\n",
       " '__setitem__',\n",
       " '__sizeof__',\n",
       " '__str__',\n",
       " '__subclasshook__',\n",
       " 'clear',\n",
       " 'copy',\n",
       " 'fromkeys',\n",
       " 'get',\n",
       " 'items',\n",
       " 'keys',\n",
       " 'pop',\n",
       " 'popitem',\n",
       " 'setdefault',\n",
       " 'update',\n",
       " 'values']"
      ]
     },
     "execution_count": 218,
     "metadata": {},
     "output_type": "execute_result"
    }
   ],
   "source": [
    "dir({})"
   ]
  },
  {
   "cell_type": "code",
   "execution_count": null,
   "id": "a873a843-286b-4025-95fa-9229b23c2661",
   "metadata": {},
   "outputs": [],
   "source": [
    "'clear',\n",
    " 'copy',\n",
    " 'fromkeys',\n",
    " 'get',\n",
    " 'items',\n",
    " 'keys',\n",
    " 'pop',\n",
    " 'popitem',\n",
    " 'setdefault',\n",
    " 'update',\n",
    " 'values'"
   ]
  },
  {
   "cell_type": "code",
   "execution_count": null,
   "id": "6dda0f47-fb3d-4c28-ba3c-f80270242af6",
   "metadata": {},
   "outputs": [],
   "source": [
    "- clear\n",
    "\n",
    "- copy\n",
    "\n",
    "- keys\n",
    "\n",
    "- items"
   ]
  },
  {
   "cell_type": "code",
   "execution_count": 10,
   "id": "7039bf14-9f69-4cfb-895b-a2c2341d79f5",
   "metadata": {},
   "outputs": [
    {
     "data": {
      "text/plain": [
       "{}"
      ]
     },
     "execution_count": 10,
     "metadata": {},
     "output_type": "execute_result"
    }
   ],
   "source": [
    "d={'ramesh': 20, 'suresh': 25, 'sathish': 30}\n",
    "d.clear()\n",
    "d"
   ]
  },
  {
   "cell_type": "code",
   "execution_count": 6,
   "id": "a6750831-e998-4cc5-a6d9-8b90747cc437",
   "metadata": {},
   "outputs": [
    {
     "data": {
      "text/plain": [
       "{'ramesh': 20, 'suresh': 25, 'sathish': 30}"
      ]
     },
     "execution_count": 6,
     "metadata": {},
     "output_type": "execute_result"
    }
   ],
   "source": [
    "d={'ramesh': 20, 'suresh': 25, 'sathish': 30}\n",
    "d.copy()"
   ]
  },
  {
   "cell_type": "code",
   "execution_count": 2,
   "id": "8c399389-58f4-4e14-b30d-dc4832e710a0",
   "metadata": {},
   "outputs": [
    {
     "data": {
      "text/plain": [
       "dict_keys(['ramesh', 'suresh', 'sathish'])"
      ]
     },
     "execution_count": 2,
     "metadata": {},
     "output_type": "execute_result"
    }
   ],
   "source": [
    "d={'ramesh': 20, 'suresh': 25, 'sathish': 30}\n",
    "d.keys()"
   ]
  },
  {
   "cell_type": "code",
   "execution_count": 4,
   "id": "c561f8d0-ad88-423d-a908-d04ccd536b66",
   "metadata": {},
   "outputs": [
    {
     "data": {
      "text/plain": [
       "dict_items([('ramesh', 20), ('suresh', 25), ('sathish', 30)])"
      ]
     },
     "execution_count": 4,
     "metadata": {},
     "output_type": "execute_result"
    }
   ],
   "source": [
    "d={'ramesh': 20, 'suresh': 25, 'sathish': 30}\n",
    "d.items()"
   ]
  },
  {
   "cell_type": "markdown",
   "id": "3ffb7002-713f-4832-bfd2-5f04f13a80b0",
   "metadata": {},
   "source": [
    "**keys**"
   ]
  },
  {
   "cell_type": "code",
   "execution_count": 12,
   "id": "ff765b1c-5679-4e86-80c4-a3e88fadf9e2",
   "metadata": {},
   "outputs": [
    {
     "data": {
      "text/plain": [
       "dict_keys(['ramesh', 'suresh', 'sathish'])"
      ]
     },
     "execution_count": 12,
     "metadata": {},
     "output_type": "execute_result"
    }
   ],
   "source": [
    "d={'ramesh': 20, 'suresh': 25, 'sathish': 30}\n",
    "keys=d.keys()\n",
    "keys"
   ]
  },
  {
   "cell_type": "code",
   "execution_count": 14,
   "id": "bd8249a0-fcaa-45d7-9f5c-f94181d17abb",
   "metadata": {},
   "outputs": [
    {
     "ename": "AttributeError",
     "evalue": "'dict_keys' object has no attribute 'count'",
     "output_type": "error",
     "traceback": [
      "\u001b[1;31m---------------------------------------------------------------------------\u001b[0m",
      "\u001b[1;31mAttributeError\u001b[0m                            Traceback (most recent call last)",
      "Cell \u001b[1;32mIn[14], line 1\u001b[0m\n\u001b[1;32m----> 1\u001b[0m keys\u001b[38;5;241m.\u001b[39mcount(\u001b[38;5;124m'\u001b[39m\u001b[38;5;124mramesh\u001b[39m\u001b[38;5;124m'\u001b[39m)\n",
      "\u001b[1;31mAttributeError\u001b[0m: 'dict_keys' object has no attribute 'count'"
     ]
    }
   ],
   "source": [
    "# i got misteken am assuming this is list type\n",
    "keys.count('ramesh')"
   ]
  },
  {
   "cell_type": "markdown",
   "id": "df12fa49-39ed-4044-9f08-d29156766940",
   "metadata": {},
   "source": [
    "**convert dictionary to list**\n",
    "\n",
    "- in other to cinvert dictionary ti list\n",
    "\n",
    "- first we need to seperate keys ans value\n",
    "\n",
    "- then apply the list type casting"
   ]
  },
  {
   "cell_type": "code",
   "execution_count": 28,
   "id": "77c788cf-e9a5-4714-9527-99ddf0918697",
   "metadata": {},
   "outputs": [
    {
     "data": {
      "text/plain": [
       "['ramesh', 'suresh', 'sathish']"
      ]
     },
     "execution_count": 28,
     "metadata": {},
     "output_type": "execute_result"
    }
   ],
   "source": [
    "d={'ramesh': 20, 'suresh': 25, 'sathish': 30}\n",
    "keys=d.keys()\n",
    "keys_list=list(keys)\n",
    "keys_list"
   ]
  },
  {
   "cell_type": "code",
   "execution_count": null,
   "id": "beb5d8ec-5407-4d8e-aa0c-68dbeec2dc58",
   "metadata": {},
   "outputs": [],
   "source": [
    "# list == string   using join\n",
    "# string == list   using split\n",
    "# list == dict     using zip\n",
    "# dict == list     typecasting"
   ]
  },
  {
   "cell_type": "code",
   "execution_count": 36,
   "id": "2b0fd218-ab5b-40b1-8487-e598fb5e1b69",
   "metadata": {},
   "outputs": [
    {
     "data": {
      "text/plain": [
       "[('ramesh', 20), ('suresh', 25), ('sathish', 30)]"
      ]
     },
     "execution_count": 36,
     "metadata": {},
     "output_type": "execute_result"
    }
   ],
   "source": [
    "d={'ramesh': 20, 'suresh': 25, 'sathish': 30}\n",
    "items=d.items()\n",
    "items_list=list(items)\n",
    "items_list"
   ]
  },
  {
   "cell_type": "code",
   "execution_count": 38,
   "id": "2310e5e6-83e1-4d7a-b789-66ca1fa94111",
   "metadata": {},
   "outputs": [
    {
     "data": {
      "text/plain": [
       "(list, dict_keys)"
      ]
     },
     "execution_count": 38,
     "metadata": {},
     "output_type": "execute_result"
    }
   ],
   "source": [
    "type(keys_list),type(keys)"
   ]
  },
  {
   "cell_type": "code",
   "execution_count": 40,
   "id": "5a30f37b-d380-4aa4-8f16-02e934c5f417",
   "metadata": {},
   "outputs": [
    {
     "data": {
      "text/plain": [
       "1"
      ]
     },
     "execution_count": 40,
     "metadata": {},
     "output_type": "execute_result"
    }
   ],
   "source": [
    "keys_list.count('ramesh')"
   ]
  },
  {
   "cell_type": "code",
   "execution_count": 84,
   "id": "964040d6-bb7e-4c57-9770-bd9fb9dd5cf2",
   "metadata": {},
   "outputs": [
    {
     "ename": "NameError",
     "evalue": "name 'first_dot' is not defined",
     "output_type": "error",
     "traceback": [
      "\u001b[1;31m---------------------------------------------------------------------------\u001b[0m",
      "\u001b[1;31mNameError\u001b[0m                                 Traceback (most recent call last)",
      "Cell \u001b[1;32mIn[84], line 12\u001b[0m\n\u001b[0;32m     10\u001b[0m     at_the_rate\u001b[38;5;241m=\u001b[39mi\u001b[38;5;241m.\u001b[39mindex(\u001b[38;5;124m'\u001b[39m\u001b[38;5;124m@\u001b[39m\u001b[38;5;124m'\u001b[39m)\n\u001b[0;32m     11\u001b[0m     fname\u001b[38;5;241m.\u001b[39mappend(i[:first_dos])\n\u001b[1;32m---> 12\u001b[0m     sname\u001b[38;5;241m.\u001b[39mappend(i[first_dot\u001b[38;5;241m+\u001b[39m\u001b[38;5;241m1\u001b[39m:at_the_rate])\n\u001b[0;32m     13\u001b[0m     cname\u001b[38;5;241m.\u001b[39mappend(i[at_the_rate\u001b[38;5;241m+\u001b[39m\u001b[38;5;241m1\u001b[39m:second_dot])\n\u001b[0;32m     15\u001b[0m d[\u001b[38;5;124m'\u001b[39m\u001b[38;5;124mfname\u001b[39m\u001b[38;5;124m'\u001b[39m]\u001b[38;5;241m=\u001b[39mfname\n",
      "\u001b[1;31mNameError\u001b[0m: name 'first_dot' is not defined"
     ]
    }
   ],
   "source": [
    "input='virat.kohli@rcb.com;rohit.sharma@mi.com;ms.dhoni@csk.com'\n",
    "d1=input.split(';')\n",
    "fname=[]\n",
    "sname=[]\n",
    "cname=[]\n",
    "d={}\n",
    "for i in d1:\n",
    "    first_dos=i.index('.')\n",
    "    second_dot=i.index('.',first_dos+1)\n",
    "    at_the_rate=i.index('@')\n",
    "    fname.append(i[:first_dos])\n",
    "    sname.append(i[first_dot+1:at_the_rate])\n",
    "    cname.append(i[at_the_rate+1:second_dot])\n",
    "\n",
    "d['fname']=fname\n",
    "d['sname']=sname\n",
    "d['cname']=cname\n",
    "d"
   ]
  },
  {
   "cell_type": "code",
   "execution_count": 88,
   "id": "b59fde76-b594-4897-974f-b74a58fba124",
   "metadata": {},
   "outputs": [
    {
     "data": {
      "text/plain": [
       "{'fname': ['virat', 'virat', 'virat', 'rohit', 'ms.dh'],\n",
       " 'sname': ['kohli', 'sharma', 'dhoni'],\n",
       " 'cname': ['rcb', 'mi', 'csk']}"
      ]
     },
     "execution_count": 88,
     "metadata": {},
     "output_type": "execute_result"
    }
   ],
   "source": [
    "input='virat.kohli@rcb.com;rohit.sharma@mi.com;ms.dhoni@csk.com'\n",
    "d1=input.split(';')\n",
    "fname,sname,cname,[],[],[]\n",
    "d={}\n",
    "for i in d1:\n",
    "    first_dot=i.index('.')\n",
    "    second_dot=i.index('.',first_dos+1)\n",
    "    at_the_rate=i.index('@')\n",
    "    fname.append(i[:first_dos])\n",
    "    sname.append(i[first_dot+1:at_the_rate])\n",
    "    cname.append(i[at_the_rate+1:second_dot])\n",
    "\n",
    "d['fname']=fname\n",
    "d['sname']=sname\n",
    "d['cname']=cname\n",
    "d"
   ]
  },
  {
   "cell_type": "code",
   "execution_count": null,
   "id": "78bf1fed-a9ce-461b-b65f-9f1138c7fc03",
   "metadata": {},
   "outputs": [],
   "source": [
    "dir"
   ]
  },
  {
   "cell_type": "code",
   "execution_count": null,
   "id": "b825c22b-aa00-4b21-acb7-1e6320016ac2",
   "metadata": {},
   "outputs": [],
   "source": [
    "pop\n",
    "popitems"
   ]
  },
  {
   "cell_type": "code",
   "execution_count": null,
   "id": "a544f1d2-6979-4fdd-9feb-dd4cb58353f2",
   "metadata": {},
   "outputs": [],
   "source": [
    "d={'ramesh': 20, 'suresh': 25, 'sathish': 30}\n",
    "items=d.items()\n",
    "items_list=list(items)\n",
    "items_list"
   ]
  },
  {
   "cell_type": "code",
   "execution_count": 107,
   "id": "08399019-5b5d-45b4-a2ef-c1a35b4e0114",
   "metadata": {},
   "outputs": [
    {
     "data": {
      "text/plain": [
       "20"
      ]
     },
     "execution_count": 107,
     "metadata": {},
     "output_type": "execute_result"
    }
   ],
   "source": [
    "d={'ramesh': 20, 'suresh': 25, 'sathish': 30}\n",
    "d.pop('ramesh')"
   ]
  },
  {
   "cell_type": "code",
   "execution_count": 120,
   "id": "d9645a95-ed9d-4ad9-9486-5fd1a2800e63",
   "metadata": {},
   "outputs": [
    {
     "data": {
      "text/plain": [
       "('sathish', 30)"
      ]
     },
     "execution_count": 120,
     "metadata": {},
     "output_type": "execute_result"
    }
   ],
   "source": [
    "d={'ramesh': 20, 'suresh': 25, 'sathish': 30}\n",
    "d.popitem()\n"
   ]
  },
  {
   "cell_type": "markdown",
   "id": "216f3602-5893-4981-8ecf-c07e92c92335",
   "metadata": {},
   "source": [
    "**pop-popitem**"
   ]
  },
  {
   "cell_type": "code",
   "execution_count": 115,
   "id": "80016c7d-1783-4658-b098-70f823469720",
   "metadata": {},
   "outputs": [
    {
     "data": {
      "text/plain": [
       "['suresh', 'sathish']"
      ]
     },
     "execution_count": 115,
     "metadata": {},
     "output_type": "execute_result"
    }
   ],
   "source": [
    "l1=['ramesh','suresh','sathish']\n",
    "l1.remove('ramesh')\n",
    "l1"
   ]
  },
  {
   "cell_type": "markdown",
   "id": "2b9571ab-78e5-42d3-8ff1-04f4dadce4a3",
   "metadata": {},
   "source": [
    "- **pop** in dictionary, similar analogy **remove** in list\n",
    "\n",
    "- **pop item** id dictionary, similar analogy **pop** in list\n",
    "\n",
    "\n",
    "**get**"
   ]
  },
  {
   "cell_type": "code",
   "execution_count": 122,
   "id": "00b1e196-663f-482e-b4a5-5d86a868bcf1",
   "metadata": {},
   "outputs": [
    {
     "data": {
      "text/plain": [
       "20"
      ]
     },
     "execution_count": 122,
     "metadata": {},
     "output_type": "execute_result"
    }
   ],
   "source": [
    "d={'ramesh': 20, 'suresh': 25, 'sathish': 30}\n",
    "d.get('ramesh')"
   ]
  },
  {
   "cell_type": "code",
   "execution_count": 124,
   "id": "b99c4d6a-c18f-4bfc-af27-55b018825c47",
   "metadata": {},
   "outputs": [
    {
     "data": {
      "text/plain": [
       "20"
      ]
     },
     "execution_count": 124,
     "metadata": {},
     "output_type": "execute_result"
    }
   ],
   "source": [
    "d['ramesh'] # key as an index"
   ]
  },
  {
   "cell_type": "markdown",
   "id": "496c4113-f1d4-4f14-b1ff-d0cb390ffc88",
   "metadata": {},
   "source": [
    "**update**"
   ]
  },
  {
   "cell_type": "markdown",
   "id": "e0301fe3-5ef1-46b4-b37f-5c65f6d19072",
   "metadata": {},
   "source": [
    "- update is similar analogy **list extend**\n",
    "\n",
    "- take two dictionary and apply update method"
   ]
  },
  {
   "cell_type": "code",
   "execution_count": 129,
   "id": "21cf3572-7f73-42d1-b38d-d3463ea0b115",
   "metadata": {},
   "outputs": [
    {
     "data": {
      "text/plain": [
       "{'manish': 20, 'mahesh': 25, 'saresh': 30}"
      ]
     },
     "execution_count": 129,
     "metadata": {},
     "output_type": "execute_result"
    }
   ],
   "source": [
    "d={'ramesh': 20, 'suresh': 25, 'sathish': 30}\n",
    "d={'manish': 20, 'mahesh': 25, 'saresh': 30}\n",
    "d.update(d)\n",
    "d"
   ]
  },
  {
   "cell_type": "code",
   "execution_count": 145,
   "id": "783fcd26-42ba-4faf-9d18-59abc9053cfd",
   "metadata": {},
   "outputs": [
    {
     "ename": "AttributeError",
     "evalue": "'set' object has no attribute 'extend'",
     "output_type": "error",
     "traceback": [
      "\u001b[1;31m---------------------------------------------------------------------------\u001b[0m",
      "\u001b[1;31mAttributeError\u001b[0m                            Traceback (most recent call last)",
      "Cell \u001b[1;32mIn[145], line 3\u001b[0m\n\u001b[0;32m      1\u001b[0m l1\u001b[38;5;241m=\u001b[39m{\u001b[38;5;124m'\u001b[39m\u001b[38;5;124mramesh\u001b[39m\u001b[38;5;124m'\u001b[39m,\u001b[38;5;124m'\u001b[39m\u001b[38;5;124msuresh\u001b[39m\u001b[38;5;124m'\u001b[39m,\u001b[38;5;124m'\u001b[39m\u001b[38;5;124msathish\u001b[39m\u001b[38;5;124m'\u001b[39m}\n\u001b[0;32m      2\u001b[0m l2\u001b[38;5;241m=\u001b[39m{ \u001b[38;5;241m20\u001b[39m,\u001b[38;5;241m25\u001b[39m,\u001b[38;5;241m30\u001b[39m}\n\u001b[1;32m----> 3\u001b[0m l1\u001b[38;5;241m.\u001b[39mextend(l2)\n\u001b[0;32m      4\u001b[0m l1\n",
      "\u001b[1;31mAttributeError\u001b[0m: 'set' object has no attribute 'extend'"
     ]
    }
   ],
   "source": [
    "l1={'ramesh','suresh','sathish'}\n",
    "l2={ 20,25,30}\n",
    "l1.extend(l2)\n",
    "l1"
   ]
  },
  {
   "cell_type": "markdown",
   "id": "01e64612-8bc1-4817-b967-4a3ca09500bc",
   "metadata": {},
   "source": [
    "- **uptate in dictionary** similar analogy **list entend**"
   ]
  },
  {
   "cell_type": "markdown",
   "id": "1f8f7a55-2295-4b86-9318-da83455e9671",
   "metadata": {},
   "source": [
    "**setdefault**\n",
    "\n",
    "- suppose an alredy existed dictionary available\n",
    "\n",
    "- we can update the dictionary with new key:value pair"
   ]
  },
  {
   "cell_type": "code",
   "execution_count": 149,
   "id": "125c7516-9390-4754-9ded-3bf360836436",
   "metadata": {},
   "outputs": [
    {
     "data": {
      "text/plain": [
       "{'ramesh': 20, 'suresh': 25, 'sathish': 30, 'manish': None}"
      ]
     },
     "execution_count": 149,
     "metadata": {},
     "output_type": "execute_result"
    }
   ],
   "source": [
    "d1={'ramesh': 20, 'suresh': 25, 'sathish': 30}\n",
    "d1.setdefault('manish')\n",
    "d1.setdefault('manish',35)\n",
    "d1"
   ]
  },
  {
   "cell_type": "markdown",
   "id": "3af98d94-2b39-4057-a61d-f52889d78a4f",
   "metadata": {},
   "source": [
    "- **setdefault** in dictionary, similar analogy **list append**\n",
    "\n",
    "- always rembar dictionary is a key:value pair concept\n",
    "\n",
    "- it never ivlove index opertaions\n",
    "\n",
    "- thats why we dont have any index or find metheod\n",
    "\n",
    "- we have get method to extract value using key"
   ]
  },
  {
   "cell_type": "markdown",
   "id": "9a59860d-81d8-40f4-87ac-982196a4f53a",
   "metadata": {},
   "source": [
    "**fromkeys**\n",
    "\n",
    "- create a dictionary with diffent keys but same value\n",
    "\n",
    "- fromkeys will take an argument **iterable**\n",
    "\n",
    "- try to provaide an iterator i.e string,list,tuple"
   ]
  },
  {
   "cell_type": "code",
   "execution_count": 156,
   "id": "7a6d6f29-e664-40e9-8c35-70c980468b69",
   "metadata": {},
   "outputs": [
    {
     "data": {
      "text/plain": [
       "{'ramesh': 'narehsIT', 'suresh': 'narehsIT', 'sathish': 'narehsIT'}"
      ]
     },
     "execution_count": 156,
     "metadata": {},
     "output_type": "execute_result"
    }
   ],
   "source": [
    "d={}\n",
    "names=['ramesh','suresh','sathish']\n",
    "d.fromkeys(names,'narehsIT')"
   ]
  },
  {
   "cell_type": "code",
   "execution_count": 160,
   "id": "f5482f73-b1a1-4003-b344-1a879039eab8",
   "metadata": {},
   "outputs": [
    {
     "data": {
      "text/plain": [
       "{'p': None, 'y': None, 't': None, 'h': None, 'o': None, 'n': None}"
      ]
     },
     "execution_count": 160,
     "metadata": {},
     "output_type": "execute_result"
    }
   ],
   "source": [
    "d={}\n",
    "d.fromkeys('python')"
   ]
  },
  {
   "cell_type": "code",
   "execution_count": 162,
   "id": "493a9e87-056c-49a8-b004-766d2d32fdf1",
   "metadata": {},
   "outputs": [
    {
     "ename": "AttributeError",
     "evalue": "'dict' object has no attribute 'iterable'",
     "output_type": "error",
     "traceback": [
      "\u001b[1;31m---------------------------------------------------------------------------\u001b[0m",
      "\u001b[1;31mAttributeError\u001b[0m                            Traceback (most recent call last)",
      "Cell \u001b[1;32mIn[162], line 3\u001b[0m\n\u001b[0;32m      1\u001b[0m d\u001b[38;5;241m=\u001b[39m{}\n\u001b[0;32m      2\u001b[0m names\u001b[38;5;241m=\u001b[39m[\u001b[38;5;124m'\u001b[39m\u001b[38;5;124mramesh\u001b[39m\u001b[38;5;124m'\u001b[39m,\u001b[38;5;124m'\u001b[39m\u001b[38;5;124msuresh\u001b[39m\u001b[38;5;124m'\u001b[39m,\u001b[38;5;124m'\u001b[39m\u001b[38;5;124msathish\u001b[39m\u001b[38;5;124m'\u001b[39m]\n\u001b[1;32m----> 3\u001b[0m d\u001b[38;5;241m.\u001b[39miterable(names,\u001b[38;5;124m'\u001b[39m\u001b[38;5;124mnarehsIT\u001b[39m\u001b[38;5;124m'\u001b[39m)\n",
      "\u001b[1;31mAttributeError\u001b[0m: 'dict' object has no attribute 'iterable'"
     ]
    }
   ],
   "source": [
    "d={}\n",
    "names=['ramesh','suresh','sathish']\n",
    "d.iterable(names,'narehsIT')"
   ]
  },
  {
   "cell_type": "code",
   "execution_count": null,
   "id": "43f2bcd3-5871-4c47-a9e7-33c4421cdeb2",
   "metadata": {},
   "outputs": [],
   "source": [
    "- list have count, string has count, and tuple also has count\n",
    "   \n",
    "    - but dictionary dose not have **count**\n",
    "\n",
    "    - brcuase dictionary dose not allow **duplicates**\n",
    "\n",
    "- string has find but list does not have"
   ]
  },
  {
   "cell_type": "code",
   "execution_count": null,
   "id": "e575729f-f008-4dd7-b512-51e9af1651fb",
   "metadata": {},
   "outputs": [],
   "source": []
  }
 ],
 "metadata": {
  "kernelspec": {
   "display_name": "Python 3 (ipykernel)",
   "language": "python",
   "name": "python3"
  },
  "language_info": {
   "codemirror_mode": {
    "name": "ipython",
    "version": 3
   },
   "file_extension": ".py",
   "mimetype": "text/x-python",
   "name": "python",
   "nbconvert_exporter": "python",
   "pygments_lexer": "ipython3",
   "version": "3.12.4"
  }
 },
 "nbformat": 4,
 "nbformat_minor": 5
}
