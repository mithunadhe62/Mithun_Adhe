{
 "cells": [
  {
   "cell_type": "markdown",
   "id": "8a91a43e-eb08-49e3-a0f8-567f213529da",
   "metadata": {},
   "source": [
    "## list comprehesion\n",
    "\n",
    "- list comprehesion a way to writh list operations in a single line\n",
    "\n",
    "- when we apple for loop and if-else conditional statements then the code comprehesion becomes slow\n",
    "\n",
    "- which means it takes much time\n",
    "\n",
    "- in order to avoid the time complexit we will use list comprehesion\n",
    "\n",
    "- list comprehesion is a single line code"
   ]
  },
  {
   "cell_type": "markdown",
   "id": "03c3a67b-e261-43a4-ae85-4d3ff3b62bcb",
   "metadata": {},
   "source": [
    "**case-1: only for loop**"
   ]
  },
  {
   "cell_type": "code",
   "execution_count": 3,
   "id": "3a9c6a0a-d854-4ffc-a807-e90d8538b640",
   "metadata": {},
   "outputs": [
    {
     "data": {
      "text/plain": [
       "[0, 1, 2, 3, 4, 5, 6, 7, 8, 9]"
      ]
     },
     "execution_count": 3,
     "metadata": {},
     "output_type": "execute_result"
    }
   ],
   "source": [
    "                                        list1=[]\n",
    "for i in range(10):\n",
    "    list1.append(i)\n",
    "\n",
    "list1"
   ]
  },
  {
   "cell_type": "code",
   "execution_count": 6,
   "id": "2eb18b8b-edbc-46f6-a87c-4f274681d5ce",
   "metadata": {},
   "outputs": [
    {
     "data": {
      "text/plain": [
       "[0, 1, 2, 3, 4, 5, 6, 7, 8, 9]"
      ]
     },
     "execution_count": 6,
     "metadata": {},
     "output_type": "execute_result"
    }
   ],
   "source": [
    "list1=[i for i in range(10)]\n",
    "list1"
   ]
  },
  {
   "cell_type": "markdown",
   "id": "f598b067-1bd9-48b5-ab4c-603050b98d29",
   "metadata": {},
   "source": [
    "**dont give : after for loop**"
   ]
  },
  {
   "cell_type": "code",
   "execution_count": 20,
   "id": "c460a343-e86d-44b2-96dc-caa2130e8566",
   "metadata": {},
   "outputs": [
    {
     "data": {
      "text/plain": [
       "['Hyd', 'Bengluru', 'Pune', 'Munbai']"
      ]
     },
     "execution_count": 20,
     "metadata": {},
     "output_type": "execute_result"
    }
   ],
   "source": [
    "list1=['hyd','bengluru','pune','munbai']\n",
    "list2=[i.capitalize() for i in list1]\n",
    "list2"
   ]
  },
  {
   "cell_type": "code",
   "execution_count": 18,
   "id": "3c20e0e3-ed40-4caf-9a18-01a5206b855a",
   "metadata": {},
   "outputs": [
    {
     "data": {
      "text/plain": [
       "['HYD', 'BENGLURU', 'PUNE', 'MUNBAI']"
      ]
     },
     "execution_count": 18,
     "metadata": {},
     "output_type": "execute_result"
    }
   ],
   "source": [
    "list1=['hyd','bengluru','pune','munbai']\n",
    "list2=[i.upper() for i in list1]\n",
    "list2"
   ]
  },
  {
   "cell_type": "code",
   "execution_count": 22,
   "id": "59c45b68-97be-47d1-b14c-494b04074566",
   "metadata": {},
   "outputs": [
    {
     "name": "stdout",
     "output_type": "stream",
     "text": [
      "0\n",
      "10\n",
      "20\n",
      "30\n"
     ]
    }
   ],
   "source": [
    "list1=['hyd','bengluru','pune','munbai']\n",
    "for i in list1:\n",
    "    print(list1.index(i)*10)\n",
    "    "
   ]
  },
  {
   "cell_type": "code",
   "execution_count": 24,
   "id": "1b989151-eba2-43d0-af1d-1dcc43012d11",
   "metadata": {},
   "outputs": [
    {
     "data": {
      "text/plain": [
       "[0, 10, 20, 30]"
      ]
     },
     "execution_count": 24,
     "metadata": {},
     "output_type": "execute_result"
    }
   ],
   "source": [
    "[list1.index(i)*10 for i in list1]"
   ]
  },
  {
   "cell_type": "code",
   "execution_count": 34,
   "id": "ae022f61-278e-4eb5-b52d-d8c52061d100",
   "metadata": {},
   "outputs": [
    {
     "data": {
      "text/plain": [
       "60"
      ]
     },
     "execution_count": 34,
     "metadata": {},
     "output_type": "execute_result"
    }
   ],
   "source": [
    "list1=['hyd','bengluru','pune','munbai']\n",
    "list2=[list1.index(i)*10 for i in list1]\n",
    "sum(list2)"
   ]
  },
  {
   "cell_type": "markdown",
   "id": "d4a9a6ef-16c9-458f-a1c7-85f70437d82c",
   "metadata": {},
   "source": [
    "**walru operetor**"
   ]
  },
  {
   "cell_type": "code",
   "execution_count": 49,
   "id": "bba602d8-7a1e-42f7-8037-48375a377d77",
   "metadata": {},
   "outputs": [
    {
     "ename": "SyntaxError",
     "evalue": "invalid syntax. Maybe you meant '==' or ':=' instead of '='? (2663275567.py, line 1)",
     "output_type": "error",
     "traceback": [
      "\u001b[1;36m  Cell \u001b[1;32mIn[49], line 1\u001b[1;36m\u001b[0m\n\u001b[1;33m    [summ=summ+i for i in range(1,11)]\u001b[0m\n\u001b[1;37m     ^\u001b[0m\n\u001b[1;31mSyntaxError\u001b[0m\u001b[1;31m:\u001b[0m invalid syntax. Maybe you meant '==' or ':=' instead of '='?\n"
     ]
    }
   ],
   "source": [
    "[summ=summ+i for i in range(1,11)]"
   ]
  },
  {
   "cell_type": "code",
   "execution_count": 43,
   "id": "2cb70e9e-1076-4f14-828a-5dcb896a57d7",
   "metadata": {},
   "outputs": [
    {
     "data": {
      "text/plain": [
       "55"
      ]
     },
     "execution_count": 43,
     "metadata": {},
     "output_type": "execute_result"
    }
   ],
   "source": [
    "summ=0\n",
    "for i in range(1,11):\n",
    "    summ=summ+i\n",
    "\n",
    "summ"
   ]
  },
  {
   "cell_type": "code",
   "execution_count": 45,
   "id": "a5b688ea-e47a-4e32-af06-3512a0815866",
   "metadata": {},
   "outputs": [
    {
     "data": {
      "text/plain": [
       "[56, 58, 61, 65, 70, 76, 83, 91, 100, 110]"
      ]
     },
     "execution_count": 45,
     "metadata": {},
     "output_type": "execute_result"
    }
   ],
   "source": [
    "[summ:=summ+i for i in range(1,11)]"
   ]
  },
  {
   "cell_type": "code",
   "execution_count": 47,
   "id": "c5756ad4-dc20-4fd8-88f4-ff2c49010f04",
   "metadata": {},
   "outputs": [
    {
     "data": {
      "text/plain": [
       "55"
      ]
     },
     "execution_count": 47,
     "metadata": {},
     "output_type": "execute_result"
    }
   ],
   "source": [
    "summ=0\n",
    "[summ:=summ+i for i in range(1,11)]\n",
    "summ"
   ]
  },
  {
   "cell_type": "markdown",
   "id": "d8b8e486-aaf1-452a-9da4-192bc926d16c",
   "metadata": {},
   "source": [
    "**case-2: for loop if condition**"
   ]
  },
  {
   "cell_type": "code",
   "execution_count": 52,
   "id": "8d7393df-6b2e-4a75-80f5-278f03ab58b7",
   "metadata": {},
   "outputs": [
    {
     "name": "stdout",
     "output_type": "stream",
     "text": [
      "evan:2\n",
      "evan:4\n",
      "evan:6\n",
      "evan:8\n"
     ]
    }
   ],
   "source": [
    "for i in range(1,10):\n",
    "    if i%2==0:\n",
    "        print(f\"evan:{i}\")"
   ]
  },
  {
   "cell_type": "code",
   "execution_count": 54,
   "id": "89c0b4ef-0fb1-4b19-a97d-24905ca2cb72",
   "metadata": {},
   "outputs": [
    {
     "name": "stdout",
     "output_type": "stream",
     "text": [
      "odd:1\n",
      "evan:2\n",
      "odd:3\n",
      "evan:4\n",
      "odd:5\n",
      "evan:6\n",
      "odd:7\n",
      "evan:8\n",
      "odd:9\n"
     ]
    }
   ],
   "source": [
    "for i in range(1,10):\n",
    "    if i%2==0:\n",
    "        print(f\"evan:{i}\")\n",
    "    else:\n",
    "        print(f\"odd:{i}\")"
   ]
  },
  {
   "cell_type": "code",
   "execution_count": 60,
   "id": "a3ddf87a-7448-4462-80c7-5f5ab6982a12",
   "metadata": {},
   "outputs": [
    {
     "ename": "SyntaxError",
     "evalue": "expected 'else' after 'if' expression (397782747.py, line 1)",
     "output_type": "error",
     "traceback": [
      "\u001b[1;36m  Cell \u001b[1;32mIn[60], line 1\u001b[1;36m\u001b[0m\n\u001b[1;33m    [(f'evan:{i}') if i%2==0 for i in range(1,10)]\u001b[0m\n\u001b[1;37m      ^\u001b[0m\n\u001b[1;31mSyntaxError\u001b[0m\u001b[1;31m:\u001b[0m expected 'else' after 'if' expression\n"
     ]
    }
   ],
   "source": [
    "[(f'evan:{i}') if i%2==0 for i in range(1,10)]"
   ]
  },
  {
   "cell_type": "code",
   "execution_count": 58,
   "id": "c729db93-c9c0-4be7-a15c-8e52bdd6c46b",
   "metadata": {},
   "outputs": [
    {
     "data": {
      "text/plain": [
       "['evan:2', 'evan:4', 'evan:6', 'evan:8']"
      ]
     },
     "execution_count": 58,
     "metadata": {},
     "output_type": "execute_result"
    }
   ],
   "source": [
    "[(f'evan:{i}') for i in range(1,10) if i%2==0]"
   ]
  },
  {
   "cell_type": "code",
   "execution_count": 83,
   "id": "150cbcc0-1ac8-4c57-9af1-87e42a6f84f3",
   "metadata": {},
   "outputs": [
    {
     "name": "stdout",
     "output_type": "stream",
     "text": [
      "['ben#galuru', 'mu#mbai']\n"
     ]
    }
   ],
   "source": [
    "# Q5) input=['hyd','ben#galuru','pune','mu#mbai']\n",
    "#     output=[ben#galuru',mu#mbai']\n",
    "input = ['hyd', 'ben#galuru', 'pune', 'mu#mbai']\n",
    "ans = [i for i in input if '#' in i]\n",
    "print(ans)"
   ]
  },
  {
   "cell_type": "code",
   "execution_count": 77,
   "id": "3d3282a8-39fd-41fe-ba76-44180181516d",
   "metadata": {},
   "outputs": [
    {
     "name": "stdout",
     "output_type": "stream",
     "text": [
      "['hyd', 'pune']\n"
     ]
    }
   ],
   "source": [
    "# Q6) input=['hyd','ben#galuru','pune','mu#mbai']\n",
    "#     output=[hyd,pune]\n",
    "input= ['hyd', 'ben#galuru', 'pune', 'mu#bai']\n",
    "\n",
    "ans = [i for i in input if '#' not in i]\n",
    "print(ans)"
   ]
  },
  {
   "cell_type": "code",
   "execution_count": 85,
   "id": "a52429fa-67f0-4cfa-9fa3-f1aece44f9f2",
   "metadata": {},
   "outputs": [
    {
     "data": {
      "text/plain": [
       "['ben#galuru', 'mu#mbai']"
      ]
     },
     "execution_count": 85,
     "metadata": {},
     "output_type": "execute_result"
    }
   ],
   "source": [
    "input = [i for i in input if '#' in i]\n",
    "ans"
   ]
  },
  {
   "cell_type": "code",
   "execution_count": 81,
   "id": "269727ee-2a34-4dc3-bc97-0170a758891c",
   "metadata": {},
   "outputs": [
    {
     "data": {
      "text/plain": [
       "['hyd', 'pune']"
      ]
     },
     "execution_count": 81,
     "metadata": {},
     "output_type": "execute_result"
    }
   ],
   "source": [
    "input = [i for i in input if '#' not in i]\n",
    "ans"
   ]
  },
  {
   "cell_type": "code",
   "execution_count": 87,
   "id": "8992664f-cba3-48d8-a441-883fa2212ee9",
   "metadata": {},
   "outputs": [
    {
     "name": "stdout",
     "output_type": "stream",
     "text": [
      "odd:1\n",
      "evan:2\n",
      "odd:3\n",
      "evan:4\n",
      "odd:5\n",
      "evan:6\n",
      "odd:7\n",
      "evan:8\n",
      "odd:9\n"
     ]
    }
   ],
   "source": [
    "for i in range(1,10):\n",
    "    if i%2==0:\n",
    "        print(f\"evan:{i}\")\n",
    "    else:\n",
    "        print(f\"odd:{i}\")"
   ]
  },
  {
   "cell_type": "code",
   "execution_count": 93,
   "id": "9c1fcbe9-e8ec-444e-ab0e-676e4bcef299",
   "metadata": {},
   "outputs": [
    {
     "data": {
      "text/plain": [
       "['odd:1',\n",
       " 'evan:2',\n",
       " 'odd:3',\n",
       " 'evan:4',\n",
       " 'odd:5',\n",
       " 'evan:6',\n",
       " 'odd:7',\n",
       " 'evan:8',\n",
       " 'odd:9']"
      ]
     },
     "execution_count": 93,
     "metadata": {},
     "output_type": "execute_result"
    }
   ],
   "source": [
    "[f\"evan:{i}\" if i%2==0 else f\"odd:{i}\" for i in range(1,10)]"
   ]
  },
  {
   "cell_type": "markdown",
   "id": "6cc42ca4-06d7-4bc3-8f08-45eaf391f06c",
   "metadata": {},
   "source": [
    "**case-4: for-if-elif-else**\n",
    "\n",
    "- in list comprehension we dont have **elif** representations\n",
    "\n",
    "- if also represent as **else+if**\n",
    "\n",
    "- in elif we have elif **condition** and **elif output**\n",
    "\n",
    "- else elif_output elif_condition"
   ]
  },
  {
   "cell_type": "code",
   "execution_count": 99,
   "id": "33583faa-4509-45f4-9a30-8c8604388f1a",
   "metadata": {},
   "outputs": [
    {
     "name": "stdout",
     "output_type": "stream",
     "text": [
      "45: c gread\n",
      "55: c gread\n",
      "65: B gread\n",
      "75: B gread\n",
      "85: B gread\n",
      "95: A gread\n"
     ]
    }
   ],
   "source": [
    "l=[45,55,65,75,85,95]\n",
    "for i in l:\n",
    "    if i>85:\n",
    "        print(f\"{i}: A gread\")\n",
    "    elif i>60:\n",
    "        print(f\"{i}: B gread\")\n",
    "    else:\n",
    "        print(f\"{i}: c gread\")"
   ]
  },
  {
   "cell_type": "code",
   "execution_count": null,
   "id": "10a53dbc-40a7-4d3a-9356-caa4ad4649b2",
   "metadata": {},
   "outputs": [],
   "source": [
    "[f\"evan:{i}\" if i%2==0 else f\"odd:{i}\" for i in range(1,10)]"
   ]
  },
  {
   "cell_type": "code",
   "execution_count": 107,
   "id": "92da3feb-5ccc-44d1-ae73-e60e84abf9d5",
   "metadata": {},
   "outputs": [
    {
     "data": {
      "text/plain": [
       "['45: c gread',\n",
       " '55: c gread',\n",
       " '65 B gread',\n",
       " '75 B gread',\n",
       " '85 B gread',\n",
       " '95: A gread']"
      ]
     },
     "execution_count": 107,
     "metadata": {},
     "output_type": "execute_result"
    }
   ],
   "source": [
    "l=[45,55,65,75,85,95]\n",
    "[f\"{i}: A gread\" if i>85 else f\"{i} B gread\" if i>60 else f\"{i}: c gread\" for i in l]"
   ]
  },
  {
   "cell_type": "code",
   "execution_count": 17,
   "id": "16b16539-05e2-48d8-81d0-6013911c0f1a",
   "metadata": {},
   "outputs": [
    {
     "ename": "SyntaxError",
     "evalue": "invalid syntax (1984603624.py, line 7)",
     "output_type": "error",
     "traceback": [
      "\u001b[1;36m  Cell \u001b[1;32mIn[17], line 7\u001b[1;36m\u001b[0m\n\u001b[1;33m    elif\u001b[0m\n\u001b[1;37m         ^\u001b[0m\n\u001b[1;31mSyntaxError\u001b[0m\u001b[1;31m:\u001b[0m invalid syntax\n"
     ]
    }
   ],
   "source": [
    "list1=[45,76,89,53,67,90,82,49,33,99]\n",
    "count=0\n",
    "for i in list1:\n",
    "    if i<100:\n",
    "        print(f'{list1} {i}')\n",
    "        count=count+1\n",
    "    elif \n",
    "\n",
    "print(count)\n",
    "\n",
    "per=eval(input(' Enter a persentage:'))\n",
    "if  per>=90:\n",
    "    print('grade A')\n",
    "elif  per>=90:\n",
    "     print('grade B')\n",
    "elif per>=70:\n",
    "    print('grade C')\n",
    "elif per>=50:\n",
    "    print('grade D')\n",
    "else:\n",
    "    print('fail')"
   ]
  },
  {
   "cell_type": "code",
   "execution_count": 21,
   "id": "6c9560a4-c43b-4671-a69f-709d42872033",
   "metadata": {},
   "outputs": [
    {
     "ename": "SyntaxError",
     "evalue": "invalid syntax (784115099.py, line 3)",
     "output_type": "error",
     "traceback": [
      "\u001b[1;36m  Cell \u001b[1;32mIn[21], line 3\u001b[1;36m\u001b[0m\n\u001b[1;33m    [for i in marks if i>=50]\u001b[0m\n\u001b[1;37m     ^\u001b[0m\n\u001b[1;31mSyntaxError\u001b[0m\u001b[1;31m:\u001b[0m invalid syntax\n"
     ]
    }
   ],
   "source": [
    "list1=[45,76,89,53,67,90,82,49,33,99]\n",
    "\n",
    "[for i in marks if i>=50]\n"
   ]
  },
  {
   "cell_type": "code",
   "execution_count": 31,
   "id": "e440f610-f433-4255-8b33-b71b370a6404",
   "metadata": {},
   "outputs": [
    {
     "ename": "TypeError",
     "evalue": "'int' object is not iterable",
     "output_type": "error",
     "traceback": [
      "\u001b[1;31m---------------------------------------------------------------------------\u001b[0m",
      "\u001b[1;31mTypeError\u001b[0m                                 Traceback (most recent call last)",
      "Cell \u001b[1;32mIn[31], line 2\u001b[0m\n\u001b[0;32m      1\u001b[0m list1\u001b[38;5;241m=\u001b[39m[\u001b[38;5;241m45\u001b[39m,\u001b[38;5;241m76\u001b[39m,\u001b[38;5;241m89\u001b[39m,\u001b[38;5;241m53\u001b[39m,\u001b[38;5;241m67\u001b[39m,\u001b[38;5;241m90\u001b[39m,\u001b[38;5;241m82\u001b[39m,\u001b[38;5;241m49\u001b[39m,\u001b[38;5;241m33\u001b[39m,\u001b[38;5;241m99\u001b[39m]\n\u001b[1;32m----> 2\u001b[0m \u001b[38;5;28;01mfor\u001b[39;00m i \u001b[38;5;129;01min\u001b[39;00m per:\n\u001b[0;32m      3\u001b[0m     \u001b[38;5;28;01mif\u001b[39;00m  per\u001b[38;5;241m>\u001b[39m\u001b[38;5;241m=\u001b[39m\u001b[38;5;241m85\u001b[39m:\n\u001b[0;32m      4\u001b[0m         \u001b[38;5;28mprint\u001b[39m(\u001b[38;5;124m'\u001b[39m\u001b[38;5;124mgrade A\u001b[39m\u001b[38;5;124m'\u001b[39m)\n",
      "\u001b[1;31mTypeError\u001b[0m: 'int' object is not iterable"
     ]
    }
   ],
   "source": [
    "marks=[45,76,89,53,67,90,82,49,33,99]\n",
    "for i in marks:\n",
    "    if  i>=85:\n",
    "        print('grade A')\n",
    "    elif  i>=70:\n",
    "         print('grade B')\n",
    "    elif i>=50:\n",
    "        print('grade C')\n",
    "    elif per>=35:\n",
    "        print('grade D')\n",
    "    else:\n",
    "        print('fail')"
   ]
  },
  {
   "cell_type": "code",
   "execution_count": 37,
   "id": "d989a9c5-166a-4995-9df7-6cb32fe282e5",
   "metadata": {},
   "outputs": [
    {
     "data": {
      "text/plain": [
       "['marks =45: F gread.',\n",
       " 'marks =76: B gread.',\n",
       " 'marks =89 : A gread.',\n",
       " 'marks =53: C gread.',\n",
       " 'marks =67: C gread.',\n",
       " 'marks =90 : A gread.',\n",
       " 'marks =82: B gread.',\n",
       " 'marks =49: F gread.',\n",
       " 'marks =33: F gread.',\n",
       " 'marks =99 : A gread.']"
      ]
     },
     "execution_count": 37,
     "metadata": {},
     "output_type": "execute_result"
    }
   ],
   "source": [
    "marks=[45,76,89,53,67,90,82,49,33,99]\n",
    "[f\"marks ={i} : A gread.\" if i>=84\n",
    "else f\"marks ={i}: B gread.\"if i>=70\n",
    "else f\"marks ={i}: C gread.\" if i>50\n",
    "else f\"marks ={i}: F gread.\" \n",
    "for i in marks]"
   ]
  },
  {
   "cell_type": "code",
   "execution_count": 39,
   "id": "36291272-e7c4-4538-bb0b-c260fbaec8be",
   "metadata": {},
   "outputs": [
    {
     "data": {
      "text/plain": [
       "[50, 54, 38]"
      ]
     },
     "execution_count": 39,
     "metadata": {},
     "output_type": "execute_result"
    }
   ],
   "source": [
    "[i+5 for i in marks if i<50]"
   ]
  },
  {
   "cell_type": "code",
   "execution_count": 41,
   "id": "1def1a7a-2010-41d8-9867-f329d0bf8b2f",
   "metadata": {},
   "outputs": [
    {
     "name": "stdout",
     "output_type": "stream",
     "text": [
      "99\n",
      "90\n",
      "89\n"
     ]
    }
   ],
   "source": [
    "max_val=max(marks)\n",
    "for i in range(3):\n",
    "    max_val=max(marks)\n",
    "    print(max_val)\n",
    "    marks.remove(max_val)"
   ]
  },
  {
   "cell_type": "code",
   "execution_count": 47,
   "id": "c38c142f-5a1f-4256-b926-a51c5029e035",
   "metadata": {},
   "outputs": [
    {
     "data": {
      "text/plain": [
       "68.3"
      ]
     },
     "execution_count": 47,
     "metadata": {},
     "output_type": "execute_result"
    }
   ],
   "source": [
    "summ=0\n",
    "marks=[45,76,89,53,67,90,82,49,33,99]\n",
    "[summ:=summ+i for i in marks]\n",
    "summ/len(marks)"
   ]
  },
  {
   "cell_type": "markdown",
   "id": "64e262db-31de-4375-be3d-a46de865e8a5",
   "metadata": {},
   "source": [
    "**distance between two points**"
   ]
  },
  {
   "cell_type": "code",
   "execution_count": 52,
   "id": "7365136a-b1d2-4aa5-9540-b6146a0ffbe6",
   "metadata": {},
   "outputs": [
    {
     "ename": "SyntaxError",
     "evalue": "invalid syntax. Perhaps you forgot a comma? (1575083799.py, line 1)",
     "output_type": "error",
     "traceback": [
      "\u001b[1;36m  Cell \u001b[1;32mIn[52], line 1\u001b[1;36m\u001b[0m\n\u001b[1;33m    l1=[[]1,2],[4,5],[7,9]\u001b[0m\n\u001b[1;37m        ^\u001b[0m\n\u001b[1;31mSyntaxError\u001b[0m\u001b[1;31m:\u001b[0m invalid syntax. Perhaps you forgot a comma?\n"
     ]
    }
   ],
   "source": [
    "l1=[[]1,2],[4,5],[7,9]\n",
    "l1=[10,20]\n",
    "# find the distance between l1 with all other points from l1\n",
    "# which is the maximum distance give me that\n",
    "math.sqrt(math.pow(l2[0]-l1[]0,2)+math.pow(l2[1]-l1[1],2))"
   ]
  },
  {
   "cell_type": "markdown",
   "id": "a068efdc-d464-4d48-bd49-62a20afba42e",
   "metadata": {},
   "source": [
    "<img id=\"dimg_nnypZ5KLBY2fnesPqeaV2Aw_229\" src=\"data:image/png;base64,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\" class=\"YQ4gaf\" height=\"173\" style=\"object-position:0% 50%\" width=\"291\" alt=\"Euclidean Distance | Calculation ...\" data-csiid=\"nnypZ5KLBY2fnesPqeaV2Aw_20\" data-atf=\"1\">"
   ]
  },
  {
   "cell_type": "markdown",
   "id": "c0efc78e-82d8-4f96-beff-feb50deddda8",
   "metadata": {},
   "source": [
    "<img id=\"dimg_nnypZ5KLBY2fnesPqeaV2Aw_421\" src=\"data:image/png;base64,iVBORw0KGgoAAAANSUhEUgAAATcAAACiCAMAAAATIHpEAAABRFBMVEX///////0AAAD//v8lJir///wAKd4AJt4AKdwAJN38/f///f+/wuYjJyoAAAQlJikeISIXNd0bHR9ENNnX2vEAHtkAAM+dnZ4WFxn29/z09PVIOOC+v8AXGxyxsbLq6v52gNUAEs0AG9AAHNq7vufo6vcAAMZwcHJNTU88P0Dp6uvPz9Df3uBUVldNP97g3vFlWM97fX2Ki4xSQ8qDetakpKUwMTOAgIHX2/GPltlpbtEAH80tOtGGi9i3ueqrsOlDU8xjY2S4t7lFRkegmtexqt42I9FJN83PzO5ALcpYS8hiWM2KgNJINOJrX8wwDMV9c9ibluNZTdtWRsM7I8iVjd2fottdZdPKzuq8vt6Sm9pwe9Nhb9NGUdMfNMotRdFUXsgiNL2lq9d3fstARr5CU9yGi84fPdxFU9CcotNmb8mjpeRczvVKAAAR00lEQVR4nO1d/V/S2h/fwLbDImQ8yZwpbExLczOfAiaoN0WxrOwSkAqYN/tq/v+/fz+fM0DAJwaYcu/e9aqxje2c9/k8n3HGMA4cOHDgwIEDBw4cOHDgwIEDBw4cOHDgwIEDBw4cOHDgwIGD2zA+NrM5P/nYrRg2jE+6ooFAwPXXYzdkmDAxs+ryjSACbx+7LcODN69cL/0vKEZfLj52a4YF44suf8D3GokbeTHqmnjs9gwHxhd9Ub9rc3bWN4pqOuoaf+wWDQNm37mift8oyNisy+Lt/WM3aQjwZgbsmm8VQg+WGbd4izrm7T682XQF/K7XjbjDT3lzvXnUNj19gKxBsPbqygsswueo6x2InoNbAbLm97vm51r3rWxuLjrO9C7MUQ1F1lhHurrG3DzEax2y1iv+O7xPvEe7tjkg888yW9+2tcFc6wljdjHqA1mbGZzT9HpkObcsDex6TxDCxDwEuVHX2zcD1C9tp7CvyzvGgC739DC7GPCBgq6u3JRHubcSPV9Y2l0I6nmNedZ7254uwINGR6K+mZudgbQnf243Us+nDEO6WSzr++A/awP4OtiX9wbb3ieB8ZXX6EFvFjXEgiwvCFcfta0P+UKwUPjwvSUIZkMf26itH0EWWeZjMLg96FY/NuZmfFFIBDZvizug17L+waKNdYOQGTkZEZT1XKv2Lu0voQQyxscQZW33497OJ4NKHyvt6EsP3Y8/itmxUbBqvuji7O3neHO6xQi4jqXPIWZX2d9ZvtzeXtb1hZbTvsnyR/z/034ezg79vY/kLtXlbksuhB6wG38W45OvqAOdvyt7YoUlPWewTGh7V2IO5H3QN++udWih1WqxzJ5eQE3dloMghnsgkAsL+n7ZOhoKysWH6sYfxtwMkPbStTp2h6jRwFWWt8B6KcH9/AGo23OUIOobtbz+pfXU3RwI3DNGC8L5zHb+2xSy9d069jxvCePQY+W172XA53t7XzbFCnl9xw1G7fO+rAf1fbRobjfae2lP3/e2nbsA4QZb541iWc/t1hX1q/xp+Csps1j7Bv3sZkovu4+ukGW1UParri81O28syfKX9lMT+/IBiN2+bLmLxFIQxLN+/oK8MOy8QVrw0n+3K2jBF7mAWRL2+UDX5W265Wa2C7r+RQpttyUCX/W8l/kWLEzBSRjt6nvac82bfc502MIhxPgYTQtedz3tvqM3FMy9o+t6waAfEjnY/poPBndaz93N6bnykr4HX1jGE/SFvXw+mEO1HW7e3oAvgFjtlrTgJmiF4EF907uvfwnqH+j2FxlkT4eU/RM9qXH2ZS73Ecwba/GKALeayzIoisNr3yZeYTny9rTgJhhB2Yr0QYSCBWk5GPyFn3Z3vu4tfPqYDSEZ3z5bjgBi3JD3G0Qt1I0Ec7n8zsLyVgJVmfpT96A79CcgrKz6IOywypHdlzuavKHGLjAQ+O9nOiPYvVYdzFvB8NRuKDTVKB+xrJELbjFDiNlFmre/rRfWuteYFt7y8jIDBOjB3N9uoKIJZlnOP29cN1vPRJ8x7DOamloJ6kEwN4T5Apq1EZ9/rIep9qmGoEA+oILhgvgjZ3nYK3xs8gaGTw9eL1IOZ34KcUfrPKg9gGFqGHQJjRnYqN3tDtFZkJukdOYQCPj2J30/29PtHw+TTbPWWw33i3xfCagcDDZzKIiSr1U40aMMWbbgXvH7Rq3Kd4+0UYOWuuuM3R0dbZd1+S9yXrp2ny9Been63qcLYSwK6ZRvsa8niFgIZoMLt09JaZ9lGthS3qQ85F4dBXHpQ1Df0YZH3IQxSEJ9/pU+oyaIyXZkPX+rNxSWckXqXfFDNihn2xiCvHZJ1veGZz7LTVlbHcBTzG4Got22CmUb2Oca0kPLusySDq62jTfmkyx/kIZG2iYD0VHf6sAeYd4qbHfT9a2gnGI60oJv8eVBteLBMQE+1Dc64Cfmu+BtW1kC0eowDEMzW/9m3uWPBlYG+3BGd5cK4TxEp0EdDh0dn3FBvLYoNIzOgNDVpaysaih5G/O99LtmZoektU8FE6PgROdplPvYTRkiUMP2YuK/9NTZADD+Dh9cG8NNh7fuAYYt4JoZH7A7+LcDDNuo7701beDQ1i2oYRv9y1FQWxDeYcSGhs1hzQb+ikb91LA5sIE3ryAVfe380sAmFl2Blz6awDu8dY+50eiIo6J2gRl8dHUgP2v5L2HSF/Bb6YGD7jH7yjfim+/uUSwHTYy5AtGos5KHTcyt+pyQzTaEt67R6Is5Jz2wh8koBB/O6gA2AfnBC997Z3EAewAV9QcwP3CyAzuYxBT+rVObtIc37yFkc1TUJsZBRaM+Z9U6m1jBeVFHRW0CAt1R3yuqoqxDXLcY33Syqh4whvOii8/vP9FBC+ZWo6Mup/BhE7Q2GXBWc7IJWpt0clGbgFy04UWHBU1f/3hOfxynk4c30JU0rZwoxkobH7Q/SuGK70Gmk9v7IAjS1NSUYRjJZAiRTBqIqTo0CmubnlMul73e798TpxcXxcNUJpOJdeDo6Pdx6bxSq5pKXFE9hCNEzQy6D+2Y3Jy/+un2BHhROp08eEhGOXGRiqVPamt56F0dCkX8bihK2KN6ADzH8cQC1w7S3M3zHlU1q7Xz5EP0oolXLr//pctiauI1eNFozyrKMsINezXDe5pKn1fNeNjDW13DvwQ6CF1soL6F+5pcWCfgkbCqqhEKINE0iSiK/6uutaFWq2yUSumjzOVlImQ8+A8+3kZHRl6MBDZhc+6974X1ZHOPYA2zWjr+fQR6k0HEjkqVNVNRKF1AgycciZhrldJx7NvBYXF9PZsAeC0kLGSz663IZukJ5XIoZFDdlSTh7vaxzB+p49dXFR7xrcxu4hpP7/oybEdEbFUiaxvVRqlWjg/WEyFteH74czcmrMXmR0ZXcan+t30+D14F9RFNCoX+u3ZWOjrMejvVZvgrBJNRXDUdeHvhd+Hz4H11SItz1IdJdVzTKPoTbqa+yNhQc/eXr86b3491j/46E1JJ86e27LNn137A0r4421DzNucaGUULF303gItlebX8VCZXDW/oQZsyGkDeoq7+Cx8sc0ji9/5O9o/QqmWqcU/kQRcwm533+QLv3w6gXsSyR5wp3aN+f6JozDJVnnCiaD7sbayAqGXByJ57VuKq9377rsMDItXNbERqhyUSF/6w0QjFeln9lWVqZKOf22rGYH4y6mYFSLE2SHUgV+saLLPGh3/a7wIrmNxRz/cUtn7ElfjJQOJiXIk2FBbF6o/+BwIkNnHR1VIBLJOKEGLaXx5HU7k7F664657JKmQXvMj/7vEC1xBTIVVRTwdwpUQk0u1ltLRHVGyXE8phT6+rO2umSMTY+tngbLmxAVl+rH/xZSVFjHdPRSYsmnaFfJtTey3dHHr4GMR/Iqn0eIFODM5tx4jHTkCTCZOaYG9p7wyxTXUDRuGYYYoREWCe2LztNbDNf/tmj4XcUbQxlnC/NM/ZNDalnj2Y1b2MSkspkb7rjd8vElrLdfvAMybDh712rgNRhah+t3WTNVKy2ax2SJkSInVjM4v/3LHSUfuRTIR44umBrLniZkyxWr8+XS/+3jaAhCpiwU4NU4qTwVT0r7cNwopI3TeyNzZ9O4VCKlknZCKqh5DqQIJBb5gcNtqgCY17UHRaE6m+RDUYa86ORTRUbgBu/8YBBS54JcSyQlkA3q6bv2SEi/8WstMx62M56d3wkB/SAPKPI0y5jRTKejryE8R++p/msWyqTNsmfacBaL6eELNCVazaWBzKy/Pl+8/qCRCKU9t5FPkJ461Vfwps83UL+Ef4ESakdkbydA/lNc2RowF41ap4zjA/1BrDnHDERFtUaxwqR3i1gnWMHxFcsrTI8w0pK6JN7BqXJD7VbzObaDcQbNKqiB57xB8Sk1XDTcFm64/9hM5xrqbW3IvmeTrZN29TYQzl0xz/K+MhawbDnF3xphXikB6UmWyYtq1EmrGnppBYt3cAVeKUhvInfl1Ijd1MYzmZe77epqKH0+0WosiFUZaFEg/RUd2QGmkY1KSZ30injzIXTJqI6JckzYA0F+5XDqPAddv8W+D18HATUDwCw4IGE0s+jYOCUVJFJVEjdNdaS3JuK1E/BjWx2plWidr5xbYeGKVW3x5KnyS1jX9aY/uzjpAGBlOgDy6WOHIyFaf5XFqFAS5asQtmVKJIUtoPUwmHI6c4ThXRFPpduXedhHEV4DIku0oIFxK65JTWBDQVhzyHoysLiy3RRImsdX+PMwj2KRleGIXICWwIEnN6gqNUrrZ7jBIfpwZAQvOQAXGvQf+vHCDsQ3N8BSFOjutRQIWQMxGFgEnxisYImQ810TTj8RAE9uHyuoqhMznBM4uc0re9PSBh2g4QONoAJhTm27qSVUTRairetdm/7nljrwg/JkoyJODiieZpXI3hdfhC28kJFYePCX2eTjIaZgnmVI0j1SuJW4c+a6FyIlWq4PCGVHJZPyLVQGUUNH8JD/ghKlCCIElo0AqMFPsf8nZIByvM9/luGZY54EyNxWGEJiJfbH0EWQ18KDWtWa7OaGv0KtrR03jDGFbhW6goZVXkxAiOeYxahRZVLapiQTNMMQKCk67UUCuPCNW+UGmjUqtC701FUXieqJi0eD0tolMk1qwZ2J7dltvvqmj1jkSK6QRaZ+7QDkvX0eAtGRfXYLAyp0DWOSngYNXAh1LeIFCx8ptaw2OwzKnHRkqrxesRooTeBG2RBDIMXQS6UkRBCTBSmUzsl0AVMSyerYnKLxo+Wia1KqJQQuBF0AiLOHfNq0oFneIppxpN2quiZZqzrWSyoMBxgxEi1ly3msJCRs9lrSYuqZ4W1Ug5ESEcHwmh5qLFM8lvpA9u0hCtY0+8wYQpmvcVYq78oKHUw96rcd4QxTV6+JLeTDB5IEO9oMfA/Yn1/OKCiLUTbBEaiizOVZfOwZ6killv3ci18pZQeYuOdU9rqcurECyaJkrHR7FY5lSg7eibtyyngp2QYiA+5bW4Cg0EkwEa4EbeEEWe1BdWNs7XrQ2tKobX772y1hhzMCdW9c1QeTRGLJMEeaOdqfPGbETwoRjLHwkmyBSOivYbThM9J0wCZxEbLBAadzTClwQfbk4wVkTFYvPSo2hX8U1NbPMkrJsFE973jFZZJVfXCJXxDjUSMSCn5FCnsFrSmYtqVcLfX/Z2F8AA0QDdG/Z46/fikEDQHIx6qJe5JCry5p7SJMnyi1IJDonmISNNwwYfr5Yh3/DQ94m5WZyJDbf6wqkIqdUNJCSMMWvnemT6ijdBUTsbe0zUvpd0F0zyg2FaknbgZek3tgLcKnzSpiPt698yZROL1vfGq+4qIWm6lWiYm7LK0zrKhYccaWsixvYpLm40744eowKxx1kpTKYlyVTNUhG1EIQy1ND7MnDSeps0L5q/KAuKGGkcKV4FgWC7D9tNihf87kZX3NyJDEc1poUHulUh09bTnFpHqJOIi+FYF9dlQSzDNO5bb0SEIG/Im6agdZyKoDUqT/9s/Q5T4Ui4IjHrlRTe2XqNjCaSliJ50mgdRpY5UQkXQctYvX86mWUS6aoiknz/FZFnQp6QarFTfsD3pxtD3HYkGxcjqe7SYvAecST9kqunp2ATUN8uVFr5Sa8hA1Jr4M4y3rVS4kr6aNmiLIrhDkbaW1QNq7/QgSXvT55C6FUjRwOZGzPA2Ey3X0naIGL+5osfq/Fu199ngSeMXFKNzC1p2VLp6PCWieQbdpYh01PT7Yx0nhbKdps1aWa8kqLC1vcbUmDIM7WOsiLkNuIt71XV/un6ARmMpsMJtAR13gST22CujNkNDyWxHeJdrIG5i2fu6qW9BF160McTjWrp9mKyjYZKdOrimMtbX2QPp68ten0nTiGkjJSe8OtMbipAd3/u7aC5xjm31viSzSeEy9Ni5t/7PuE7kMTUsEbOeyt3PWOuP5j5nwCtYgsFiOP+la9SfkCkiCdhktRwvuDrEWGo4pnIDdubg54AKpCaK+Un8mjvEOGQw3Kxw5tdTMXxcVqHN9tIE0i2HN5sQzMj99c4HXSCZaWheQ3O04Kjo73C7US9Dhw4cODAgQMHDhw4+Nfg/y0UR5YeJILmAAAAAElFTkSuQmCC\" class=\"YQ4gaf\" height=\"162\" style=\"object-position:71% 75%\" width=\"311\" alt=\"Calculate Euclidean distance in Python ...\" data-csiid=\"nnypZ5KLBY2fnesPqeaV2Aw_35\" data-atf=\"5\">"
   ]
  },
  {
   "cell_type": "code",
   "execution_count": 56,
   "id": "86663308-8fd8-4468-b2ed-b3c284bce192",
   "metadata": {},
   "outputs": [
    {
     "data": {
      "text/plain": [
       "28.284271247461902"
      ]
     },
     "execution_count": 56,
     "metadata": {},
     "output_type": "execute_result"
    }
   ],
   "source": [
    "import math\n",
    "l1=[10,20]\n",
    "l2=[30,40]\n",
    "d2=l2[1]-l1[1]\n",
    "d2_square=math.pow(d2,2)\n",
    "d2_square\n",
    "\n",
    "d1=l2[0]-l1[0]\n",
    "d1_square=math.pow(d1,2)\n",
    "d1_square\n",
    "\n",
    "summ=d1_square+d2_square\n",
    "math.sqrt(summ)"
   ]
  },
  {
   "cell_type": "code",
   "execution_count": null,
   "id": "63ba8dcd-58a8-42ba-9c20-955fa065af42",
   "metadata": {},
   "outputs": [],
   "source": [
    "# how to sort the list\n",
    "# how to find the maximum value of the list\n",
    "# how to find the minimum value of the list\n",
    "# how to find the second maximum value of the list\n",
    "# how to find the second minimum value of the list\n",
    "# how to find the longest word of a string\n",
    "# how to find the most repeated word of a string\n",
    "\n"
   ]
  }
 ],
 "metadata": {
  "kernelspec": {
   "display_name": "Python 3 (ipykernel)",
   "language": "python",
   "name": "python3"
  },
  "language_info": {
   "codemirror_mode": {
    "name": "ipython",
    "version": 3
   },
   "file_extension": ".py",
   "mimetype": "text/x-python",
   "name": "python",
   "nbconvert_exporter": "python",
   "pygments_lexer": "ipython3",
   "version": "3.12.4"
  }
 },
 "nbformat": 4,
 "nbformat_minor": 5
}
