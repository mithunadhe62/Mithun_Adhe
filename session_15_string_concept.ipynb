{
 "cells": [
  {
   "cell_type": "markdown",
   "id": "16f7ebc0-45e1-4630-a53e-b3ba3b398e03",
   "metadata": {},
   "source": [
    "# String"
   ]
  },
  {
   "cell_type": "markdown",
   "id": "9c7cc9b7-e3d6-4403-b86f-b62a63a96a58",
   "metadata": {},
   "source": [
    "- basic representations\n",
    "\n",
    "- inbuilt functions\n",
    "\n",
    "    - print\n",
    "\n",
    "    - type\n",
    "\n",
    "    - len\n",
    "\n",
    "    - sum\n",
    "\n",
    "    - max\n",
    "\n",
    "    - min\n",
    "\n",
    "    - sorted\n",
    "\n",
    "    - reveresed\n",
    "\n",
    "- concatination\n",
    "\n",
    "- indecing\n",
    "\n",
    "- mutable or immutable concept\n",
    "\n",
    "- slice\n",
    "\n",
    "- methods"
   ]
  },
  {
   "cell_type": "markdown",
   "id": "8eb9f741-4c17-4de0-898b-c4360a3f0e59",
   "metadata": {},
   "source": [
    "**basic representations**"
   ]
  },
  {
   "cell_type": "code",
   "execution_count": 5,
   "id": "a227f3b7-adec-4abc-8d29-fbce6e70a3fc",
   "metadata": {},
   "outputs": [
    {
     "data": {
      "text/plain": [
       "'python'"
      ]
     },
     "execution_count": 5,
     "metadata": {},
     "output_type": "execute_result"
    }
   ],
   "source": [
    "name='python'\n",
    "name"
   ]
  },
  {
   "cell_type": "code",
   "execution_count": 7,
   "id": "41cf3b3b-7a8c-4381-8a47-ecca4947b5e8",
   "metadata": {},
   "outputs": [
    {
     "name": "stdout",
     "output_type": "stream",
     "text": [
      "python\n"
     ]
    }
   ],
   "source": [
    "print(name)"
   ]
  },
  {
   "cell_type": "code",
   "execution_count": 9,
   "id": "1107373a-f7d6-4bac-812f-ca12bba53c8f",
   "metadata": {},
   "outputs": [
    {
     "data": {
      "text/plain": [
       "'python'"
      ]
     },
     "execution_count": 9,
     "metadata": {},
     "output_type": "execute_result"
    }
   ],
   "source": [
    "name=\"python\"\n",
    "name"
   ]
  },
  {
   "cell_type": "markdown",
   "id": "95df7ee0-fb59-43d7-8cd2-999d0a622d75",
   "metadata": {},
   "source": [
    "- python by defualt gives output in **single quotes**\n",
    "\n",
    "- when we print the string the output display **without quotes**                                    "
   ]
  },
  {
   "cell_type": "code",
   "execution_count": 12,
   "id": "ed9ea90b-5ca6-451d-886b-89ae7f399ff8",
   "metadata": {},
   "outputs": [
    {
     "name": "stdout",
     "output_type": "stream",
     "text": [
      "i love python\n"
     ]
    }
   ],
   "source": [
    "str1=\"i love python\"\n",
    "print(str1)"
   ]
  },
  {
   "cell_type": "code",
   "execution_count": 14,
   "id": "e1c29a48-6d5b-4325-92cf-5973f59feec8",
   "metadata": {},
   "outputs": [
    {
     "name": "stdout",
     "output_type": "stream",
     "text": [
      "i love \"python\"\n"
     ]
    }
   ],
   "source": [
    "name=\"python\"\n",
    "len(name)"
   ]
  },
  {
   "cell_type": "markdown",
   "id": "e11f6bf0-24f0-45f0-b8c7-c31a2777dfa4",
   "metadata": {},
   "source": [
    "**doc string**\n",
    "\n",
    "- triple quotes also called as doc string\n",
    "\n",
    "- triple quotes means the user try to convey some function"
   ]
  },
  {
   "cell_type": "code",
   "execution_count": 16,
   "id": "7437f3a4-d3a7-48de-8c95-3d49ebbe9d33",
   "metadata": {},
   "outputs": [
    {
     "data": {
      "text/plain": [
       "str"
      ]
     },
     "execution_count": 16,
     "metadata": {},
     "output_type": "execute_result"
    }
   ],
   "source": [
    "name='python'\n",
    "type(name)"
   ]
  },
  {
   "cell_type": "code",
   "execution_count": 20,
   "id": "495973e6-d115-45d3-8bb8-a1f625a38176",
   "metadata": {},
   "outputs": [
    {
     "data": {
      "text/plain": [
       "6"
      ]
     },
     "execution_count": 20,
     "metadata": {},
     "output_type": "execute_result"
    }
   ],
   "source": [
    "name=\"python\"\n",
    "len(name)"
   ]
  },
  {
   "cell_type": "code",
   "execution_count": 22,
   "id": "f093db3a-c427-4106-ba0b-548ddda74367",
   "metadata": {},
   "outputs": [
    {
     "data": {
      "text/plain": [
       "'y'"
      ]
     },
     "execution_count": 22,
     "metadata": {},
     "output_type": "execute_result"
    }
   ],
   "source": [
    "name=\"python\"\n",
    "max(name)"
   ]
  },
  {
   "cell_type": "code",
   "execution_count": 24,
   "id": "c043f3da-e7c5-4988-a1e1-f0031d7e1b55",
   "metadata": {},
   "outputs": [
    {
     "data": {
      "text/plain": [
       "'h'"
      ]
     },
     "execution_count": 24,
     "metadata": {},
     "output_type": "execute_result"
    }
   ],
   "source": [
    "name=\"python\"\n",
    "min(name)"
   ]
  },
  {
   "cell_type": "code",
   "execution_count": 26,
   "id": "5dfd9839-11a9-4005-b2ce-be24f453b4db",
   "metadata": {},
   "outputs": [
    {
     "ename": "TypeError",
     "evalue": "unsupported operand type(s) for +: 'int' and 'str'",
     "output_type": "error",
     "traceback": [
      "\u001b[1;31m---------------------------------------------------------------------------\u001b[0m",
      "\u001b[1;31mTypeError\u001b[0m                                 Traceback (most recent call last)",
      "Cell \u001b[1;32mIn[26], line 2\u001b[0m\n\u001b[0;32m      1\u001b[0m name\u001b[38;5;241m=\u001b[39m\u001b[38;5;124m\"\u001b[39m\u001b[38;5;124mpython\u001b[39m\u001b[38;5;124m\"\u001b[39m\n\u001b[1;32m----> 2\u001b[0m \u001b[38;5;28msum\u001b[39m(name)\n",
      "\u001b[1;31mTypeError\u001b[0m: unsupported operand type(s) for +: 'int' and 'str'"
     ]
    }
   ],
   "source": [
    "name=\"python\"\n",
    "sum(name)"
   ]
  },
  {
   "cell_type": "code",
   "execution_count": 42,
   "id": "cf618893-2563-47af-aac1-98f4f82752ac",
   "metadata": {},
   "outputs": [
    {
     "data": {
      "text/plain": [
       "['h', 'n', 'o', 'p', 't', 'y']"
      ]
     },
     "execution_count": 42,
     "metadata": {},
     "output_type": "execute_result"
    }
   ],
   "source": [
    "name=\"python\"\n",
    "sorted(name)"
   ]
  },
  {
   "cell_type": "code",
   "execution_count": 37,
   "id": "a4f408cc-7d1e-44e3-ad8d-29c17984d493",
   "metadata": {},
   "outputs": [
    {
     "data": {
      "text/plain": [
       "<reversed at 0x1f05e9ee320>"
      ]
     },
     "execution_count": 37,
     "metadata": {},
     "output_type": "execute_result"
    }
   ],
   "source": [
    "name=\"python\"\n",
    "reversed(name)"
   ]
  },
  {
   "cell_type": "markdown",
   "id": "c9e2905d-85ec-4d26-9c0a-750a7f83236c",
   "metadata": {},
   "source": [
    "**len**"
   ]
  },
  {
   "cell_type": "code",
   "execution_count": 48,
   "id": "8451c42d-1b59-43f2-8ed5-92c8ec0aa0ba",
   "metadata": {},
   "outputs": [
    {
     "ename": "NameError",
     "evalue": "name 'atr1' is not defined",
     "output_type": "error",
     "traceback": [
      "\u001b[1;31m---------------------------------------------------------------------------\u001b[0m",
      "\u001b[1;31mNameError\u001b[0m                                 Traceback (most recent call last)",
      "Cell \u001b[1;32mIn[48], line 2\u001b[0m\n\u001b[0;32m      1\u001b[0m str1\u001b[38;5;241m=\u001b[39m\u001b[38;5;124m\"\u001b[39m\u001b[38;5;124mpython\u001b[39m\u001b[38;5;124m\"\u001b[39m\n\u001b[1;32m----> 2\u001b[0m \u001b[38;5;28msorted\u001b[39m(atr1,\u001b[38;5;28mreversed\u001b[39m\u001b[38;5;241m=\u001b[39m\u001b[38;5;28;01mTrue\u001b[39;00m)\n",
      "\u001b[1;31mNameError\u001b[0m: name 'atr1' is not defined"
     ]
    }
   ],
   "source": [
    "str1=\"python\"\n",
    "sorted(atr1,reversed=True)"
   ]
  },
  {
   "cell_type": "code",
   "execution_count": 50,
   "id": "ef7ed640-0fb2-4dc2-a6f6-f904cd4cd396",
   "metadata": {},
   "outputs": [
    {
     "name": "stdout",
     "output_type": "stream",
     "text": [
      "30\n"
     ]
    }
   ],
   "source": [
    "def add(a,b):\n",
    "    print(a+b)\n",
    "\n",
    "add(a=10,b=20)"
   ]
  },
  {
   "cell_type": "code",
   "execution_count": 52,
   "id": "d2152565-c3b4-46d5-ace4-44c25f23c270",
   "metadata": {},
   "outputs": [
    {
     "name": "stdout",
     "output_type": "stream",
     "text": [
      "30\n"
     ]
    }
   ],
   "source": [
    "def add(a,b):\n",
    "    print(a+b)\n",
    "\n",
    "add(10,20)"
   ]
  },
  {
   "cell_type": "code",
   "execution_count": 54,
   "id": "225affd3-541b-4dbd-8477-ba8214a95303",
   "metadata": {},
   "outputs": [
    {
     "ename": "TypeError",
     "evalue": "add() got some positional-only arguments passed as keyword arguments: 'a'",
     "output_type": "error",
     "traceback": [
      "\u001b[1;31m---------------------------------------------------------------------------\u001b[0m",
      "\u001b[1;31mTypeError\u001b[0m                                 Traceback (most recent call last)",
      "Cell \u001b[1;32mIn[54], line 4\u001b[0m\n\u001b[0;32m      1\u001b[0m \u001b[38;5;28;01mdef\u001b[39;00m \u001b[38;5;21madd\u001b[39m(a,\u001b[38;5;241m/\u001b[39m,b):\n\u001b[0;32m      2\u001b[0m     \u001b[38;5;28mprint\u001b[39m(a\u001b[38;5;241m+\u001b[39mb)\n\u001b[1;32m----> 4\u001b[0m add(a\u001b[38;5;241m=\u001b[39m\u001b[38;5;241m10\u001b[39m,b\u001b[38;5;241m=\u001b[39m\u001b[38;5;241m20\u001b[39m)\n",
      "\u001b[1;31mTypeError\u001b[0m: add() got some positional-only arguments passed as keyword arguments: 'a'"
     ]
    }
   ],
   "source": [
    "def add(a,/,b):\n",
    "    print(a+b)\n",
    "\n",
    "add(a=10,b=20)"
   ]
  },
  {
   "cell_type": "code",
   "execution_count": 56,
   "id": "500a1de4-63d6-4974-a02a-5d9fb1d2297f",
   "metadata": {},
   "outputs": [
    {
     "name": "stdout",
     "output_type": "stream",
     "text": [
      "30\n"
     ]
    }
   ],
   "source": [
    "def add(a,/,b):\n",
    "    print(a+b)\n",
    "\n",
    "add(10,b=20)"
   ]
  },
  {
   "cell_type": "code",
   "execution_count": 58,
   "id": "8fc846f8-a547-4e8d-968a-5111f272172e",
   "metadata": {},
   "outputs": [
    {
     "ename": "SyntaxError",
     "evalue": "positional argument follows keyword argument (187450653.py, line 4)",
     "output_type": "error",
     "traceback": [
      "\u001b[1;36m  Cell \u001b[1;32mIn[58], line 4\u001b[1;36m\u001b[0m\n\u001b[1;33m    add(a=10,20)\u001b[0m\n\u001b[1;37m               ^\u001b[0m\n\u001b[1;31mSyntaxError\u001b[0m\u001b[1;31m:\u001b[0m positional argument follows keyword argument\n"
     ]
    }
   ],
   "source": [
    "def add(a,/,b):\n",
    "    print(a+b)\n",
    "\n",
    "add(a=10,20)"
   ]
  },
  {
   "cell_type": "code",
   "execution_count": 60,
   "id": "1b2670e5-4094-4e46-b80e-6403363a077d",
   "metadata": {},
   "outputs": [
    {
     "name": "stdout",
     "output_type": "stream",
     "text": [
      "30\n"
     ]
    }
   ],
   "source": [
    "def add(a,*,b):\n",
    "    print(a+b)\n",
    "\n",
    "add(a=10,b=20)"
   ]
  },
  {
   "cell_type": "code",
   "execution_count": 62,
   "id": "71f39e13-a77d-48d2-b1a9-96c4a3f3c052",
   "metadata": {},
   "outputs": [
    {
     "name": "stdout",
     "output_type": "stream",
     "text": [
      "30\n"
     ]
    }
   ],
   "source": [
    "def add(a,*,b):\n",
    "    print(a+b)\n",
    "\n",
    "add(10,b=20)"
   ]
  },
  {
   "cell_type": "markdown",
   "id": "635da321-02f7-4216-af3a-2dd8b9787b05",
   "metadata": {},
   "source": [
    "**NOte** \n",
    "- / before dont argument name\n",
    "\n",
    "- / after you can use argument name, thet os wish\n",
    "\n",
    "- (*) indicates no need maintaion tha order of the arguments"
   ]
  },
  {
   "cell_type": "code",
   "execution_count": null,
   "id": "36ae31c5-aa62-427c-9252-944c6be7b57e",
   "metadata": {},
   "outputs": [],
   "source": [
    "def add(a,/,*,b,c):\n",
    "    print(a+b+c)\n",
    "\n",
    "add(10.c=20,b)"
   ]
  },
  {
   "cell_type": "markdown",
   "id": "98950126-2404-473d-b99f-60518eee732b",
   "metadata": {},
   "source": [
    "**NOte**\n",
    "\n",
    "- (*) indicate provide the argument name"
   ]
  },
  {
   "cell_type": "code",
   "execution_count": 1,
   "id": "67001d58-14ee-4c05-8812-0dd74d2f2bbb",
   "metadata": {},
   "outputs": [
    {
     "data": {
      "text/plain": [
       "['y', 't', 'p', 'o', 'n', 'h']"
      ]
     },
     "execution_count": 1,
     "metadata": {},
     "output_type": "execute_result"
    }
   ],
   "source": [
    "sorted('python',reverse=True)"
   ]
  },
  {
   "cell_type": "code",
   "execution_count": null,
   "id": "eb8bb198-814a-4bd6-8ece-85df5b27abf6",
   "metadata": {},
   "outputs": [],
   "source": [
    "sorted('python')\n",
    "sorted(iterable,'python')\n",
    "sorted(iterable,'python',reverse=True)\n",
    "sorted('python',True)"
   ]
  },
  {
   "cell_type": "code",
   "execution_count": 3,
   "id": "0132b5c6-f230-4803-a3b2-5b31e50a7256",
   "metadata": {},
   "outputs": [
    {
     "ename": "TypeError",
     "evalue": "reversed() takes no keyword arguments",
     "output_type": "error",
     "traceback": [
      "\u001b[1;31m---------------------------------------------------------------------------\u001b[0m",
      "\u001b[1;31mTypeError\u001b[0m                                 Traceback (most recent call last)",
      "Cell \u001b[1;32mIn[3], line 1\u001b[0m\n\u001b[1;32m----> 1\u001b[0m \u001b[38;5;28mreversed\u001b[39m(sequence\u001b[38;5;241m=\u001b[39m\u001b[38;5;124m'\u001b[39m\u001b[38;5;124mpython\u001b[39m\u001b[38;5;124m'\u001b[39m)\n",
      "\u001b[1;31mTypeError\u001b[0m: reversed() takes no keyword arguments"
     ]
    }
   ],
   "source": [
    "reversed(sequence='python')"
   ]
  },
  {
   "cell_type": "code",
   "execution_count": 5,
   "id": "490ea24b-d7ab-4f77-9dc3-c5b6dd552987",
   "metadata": {},
   "outputs": [
    {
     "data": {
      "text/plain": [
       "<reversed at 0x2f48ef9e770>"
      ]
     },
     "execution_count": 5,
     "metadata": {},
     "output_type": "execute_result"
    }
   ],
   "source": [
    "ans=reversed(\"mithun\")\n",
    "ans\n"
   ]
  },
  {
   "cell_type": "code",
   "execution_count": null,
   "id": "4312f868-ccec-4407-9b45-5023f04d43d7",
   "metadata": {},
   "outputs": [],
   "source": [
    "- answer seved at address memory location\n",
    "\n",
    "- we can see the answer by using for loop or lost\n",
    "\n",
    "- whenever we see \n",
    "\n",
    "- try to apply for loop or list"
   ]
  },
  {
   "cell_type": "code",
   "execution_count": 7,
   "id": "058a5c57-b676-47bd-beb2-e50d3eabd930",
   "metadata": {},
   "outputs": [
    {
     "name": "stdout",
     "output_type": "stream",
     "text": [
      "n\n",
      "u\n",
      "h\n",
      "t\n",
      "i\n",
      "m\n"
     ]
    }
   ],
   "source": [
    "for i in ans:\n",
    "    print(i)"
   ]
  },
  {
   "cell_type": "code",
   "execution_count": 11,
   "id": "d0b8dff6-de30-40f4-82ec-e7522c897418",
   "metadata": {},
   "outputs": [
    {
     "data": {
      "text/plain": [
       "['n', 'u', 'h', 't', 'i', 'm']"
      ]
     },
     "execution_count": 11,
     "metadata": {},
     "output_type": "execute_result"
    }
   ],
   "source": [
    "ans=reversed(\"mithun\")\n",
    "list(ans)"
   ]
  },
  {
   "cell_type": "markdown",
   "id": "408e1fd7-03a6-4e64-917d-f38061dd5e8a",
   "metadata": {},
   "source": [
    "**concadination**"
   ]
  },
  {
   "cell_type": "code",
   "execution_count": 14,
   "id": "5a75018a-85e4-47e4-9fcd-f312b2b50b52",
   "metadata": {},
   "outputs": [
    {
     "ename": "TypeError",
     "evalue": "unsupported operand type(s) for -: 'str' and 'str'",
     "output_type": "error",
     "traceback": [
      "\u001b[1;31m---------------------------------------------------------------------------\u001b[0m",
      "\u001b[1;31mTypeError\u001b[0m                                 Traceback (most recent call last)",
      "Cell \u001b[1;32mIn[14], line 4\u001b[0m\n\u001b[0;32m      2\u001b[0m str2\u001b[38;5;241m=\u001b[39m\u001b[38;5;124m'\u001b[39m\u001b[38;5;124mpython\u001b[39m\u001b[38;5;124m'\u001b[39m\n\u001b[0;32m      3\u001b[0m str1\u001b[38;5;241m+\u001b[39mstr2\n\u001b[1;32m----> 4\u001b[0m str1\u001b[38;5;241m-\u001b[39mstr2\n\u001b[0;32m      5\u001b[0m str1\u001b[38;5;241m*\u001b[39mstr2\n\u001b[0;32m      6\u001b[0m str1\u001b[38;5;241m/\u001b[39mstr2\n",
      "\u001b[1;31mTypeError\u001b[0m: unsupported operand type(s) for -: 'str' and 'str'"
     ]
    }
   ],
   "source": [
    "str1=\"hello\"\n",
    "str2='python'\n",
    "str1+str2\n",
    "str1-str2\n",
    "str1*str2\n",
    "str1/str2"
   ]
  },
  {
   "cell_type": "code",
   "execution_count": 16,
   "id": "6799134a-4b13-4566-b61e-de6cc0ef5fd1",
   "metadata": {},
   "outputs": [],
   "source": [
    "str1=\"hello\"\n",
    "str2='python'"
   ]
  },
  {
   "cell_type": "code",
   "execution_count": 18,
   "id": "3bc9c340-2f6e-47e8-96b6-09a0ab636e95",
   "metadata": {},
   "outputs": [
    {
     "data": {
      "text/plain": [
       "'hellopython'"
      ]
     },
     "execution_count": 18,
     "metadata": {},
     "output_type": "execute_result"
    }
   ],
   "source": [
    "str1+str2"
   ]
  },
  {
   "cell_type": "code",
   "execution_count": 20,
   "id": "2be34f71-5a0d-491a-a9f8-a97476c09924",
   "metadata": {},
   "outputs": [
    {
     "ename": "TypeError",
     "evalue": "unsupported operand type(s) for -: 'str' and 'str'",
     "output_type": "error",
     "traceback": [
      "\u001b[1;31m---------------------------------------------------------------------------\u001b[0m",
      "\u001b[1;31mTypeError\u001b[0m                                 Traceback (most recent call last)",
      "Cell \u001b[1;32mIn[20], line 1\u001b[0m\n\u001b[1;32m----> 1\u001b[0m str1\u001b[38;5;241m-\u001b[39mstr2\n",
      "\u001b[1;31mTypeError\u001b[0m: unsupported operand type(s) for -: 'str' and 'str'"
     ]
    }
   ],
   "source": [
    "str1-str2"
   ]
  },
  {
   "cell_type": "code",
   "execution_count": 22,
   "id": "496103fb-9e6d-4591-af57-0a967624385d",
   "metadata": {},
   "outputs": [
    {
     "ename": "TypeError",
     "evalue": "can't multiply sequence by non-int of type 'str'",
     "output_type": "error",
     "traceback": [
      "\u001b[1;31m---------------------------------------------------------------------------\u001b[0m",
      "\u001b[1;31mTypeError\u001b[0m                                 Traceback (most recent call last)",
      "Cell \u001b[1;32mIn[22], line 1\u001b[0m\n\u001b[1;32m----> 1\u001b[0m str1\u001b[38;5;241m*\u001b[39mstr2\n",
      "\u001b[1;31mTypeError\u001b[0m: can't multiply sequence by non-int of type 'str'"
     ]
    }
   ],
   "source": [
    "str1*str2"
   ]
  },
  {
   "cell_type": "code",
   "execution_count": 24,
   "id": "3326f47a-c3ed-49fb-b9ad-f3d720ea64eb",
   "metadata": {},
   "outputs": [
    {
     "ename": "TypeError",
     "evalue": "unsupported operand type(s) for /: 'str' and 'str'",
     "output_type": "error",
     "traceback": [
      "\u001b[1;31m---------------------------------------------------------------------------\u001b[0m",
      "\u001b[1;31mTypeError\u001b[0m                                 Traceback (most recent call last)",
      "Cell \u001b[1;32mIn[24], line 1\u001b[0m\n\u001b[1;32m----> 1\u001b[0m str1\u001b[38;5;241m/\u001b[39mstr2\n",
      "\u001b[1;31mTypeError\u001b[0m: unsupported operand type(s) for /: 'str' and 'str'"
     ]
    }
   ],
   "source": [
    "str1/str2"
   ]
  },
  {
   "cell_type": "code",
   "execution_count": 26,
   "id": "60da05da-cc2d-48be-94e7-7980487c6253",
   "metadata": {},
   "outputs": [
    {
     "data": {
      "text/plain": [
       "'hellopython'"
      ]
     },
     "execution_count": 26,
     "metadata": {},
     "output_type": "execute_result"
    }
   ],
   "source": [
    "str1+str2"
   ]
  },
  {
   "cell_type": "code",
   "execution_count": 36,
   "id": "d9f4155e-5bc6-458f-b9b6-7c05446a47d5",
   "metadata": {},
   "outputs": [
    {
     "data": {
      "text/plain": [
       "'python python python '"
      ]
     },
     "execution_count": 36,
     "metadata": {},
     "output_type": "execute_result"
    }
   ],
   "source": [
    "'python ' *3"
   ]
  },
  {
   "cell_type": "code",
   "execution_count": 38,
   "id": "62ad1579-3eaa-4dc7-ab1f-c38a8d3d3aba",
   "metadata": {},
   "outputs": [
    {
     "data": {
      "text/plain": [
       "'hellopython'"
      ]
     },
     "execution_count": 38,
     "metadata": {},
     "output_type": "execute_result"
    }
   ],
   "source": [
    "str1=\"hello\"\n",
    "str2='python'\n",
    "str1+str2"
   ]
  },
  {
   "cell_type": "code",
   "execution_count": 40,
   "id": "1cd5c45f-6f76-4bb9-9c48-43787a8150a9",
   "metadata": {},
   "outputs": [
    {
     "data": {
      "text/plain": [
       "'hello python'"
      ]
     },
     "execution_count": 40,
     "metadata": {},
     "output_type": "execute_result"
    }
   ],
   "source": [
    "str1=\"hello\"\n",
    "str2=' python'\n",
    "str1+str2"
   ]
  },
  {
   "cell_type": "code",
   "execution_count": 42,
   "id": "3a865428-afde-491b-ab0a-f18e7e1f5c4e",
   "metadata": {},
   "outputs": [
    {
     "data": {
      "text/plain": [
       "'hello python'"
      ]
     },
     "execution_count": 42,
     "metadata": {},
     "output_type": "execute_result"
    }
   ],
   "source": [
    "str1=\"hello\"\n",
    "str2='python'\n",
    "str1+' '+str2"
   ]
  },
  {
   "cell_type": "code",
   "execution_count": null,
   "id": "6fab934b-74be-4181-9d5a-cbb3795d02ec",
   "metadata": {},
   "outputs": [],
   "source": [
    "Basic represenations\n",
    "\n",
    "- min max len\n",
    "\n",
    "- sorted  \n",
    "\n",
    "- reveresd\n",
    "\n",
    "- concatenation"
   ]
  },
  {
   "cell_type": "code",
   "execution_count": 21,
   "id": "5b479613-0be0-49a7-bf18-ca984d128159",
   "metadata": {},
   "outputs": [
    {
     "name": "stdout",
     "output_type": "stream",
     "text": [
      "p\n",
      "y\n",
      "t\n",
      "h\n",
      "o\n",
      "n\n"
     ]
    }
   ],
   "source": [
    "str1='python'\n",
    "for i in range(0,6):\n",
    "    print(str1[i])"
   ]
  },
  {
   "cell_type": "code",
   "execution_count": 19,
   "id": "0f82250a-dda5-4a51-8e11-0ff6ddb571c7",
   "metadata": {},
   "outputs": [
    {
     "name": "stdout",
     "output_type": "stream",
     "text": [
      "h\n",
      "e\n",
      "l\n",
      "l\n",
      "o\n",
      " \n",
      "h\n",
      "o\n",
      "w\n",
      " \n",
      "a\n",
      "r\n",
      "e\n",
      " \n",
      "y\n",
      "o\n",
      "u\n"
     ]
    }
   ],
   "source": [
    "str1='hello how are you'\n",
    "n=len(str1)\n",
    "for i in range(0,n):\n",
    "    print(str1[i])"
   ]
  },
  {
   "cell_type": "code",
   "execution_count": 57,
   "id": "68538a3e-c594-4267-92c7-251120764432",
   "metadata": {},
   "outputs": [
    {
     "name": "stdout",
     "output_type": "stream",
     "text": [
      "the postive index of p is 0\n",
      "the postive index of y is 1\n",
      "the postive index of t is 2\n",
      "the postive index of h is 3\n",
      "the postive index of o is 4\n",
      "the postive index of n is 5\n"
     ]
    }
   ],
   "source": [
    "n=len(str1)\n",
    "for i in range(0,n):\n",
    "    print(f'the postive index of {str1[i]} is {i}')"
   ]
  },
  {
   "cell_type": "code",
   "execution_count": 53,
   "id": "9b556191-f46c-4028-846d-5a4bc5c363f9",
   "metadata": {},
   "outputs": [
    {
     "name": "stdout",
     "output_type": "stream",
     "text": [
      "the negative index of p is -6\n",
      "the negative index of y is -5\n",
      "the negative index of t is -4\n",
      "the negative index of h is -3\n",
      "the negative index of o is -2\n",
      "the negative index of n is -1\n"
     ]
    }
   ],
   "source": [
    "n2=len(str1)\n",
    "for i in range(-6,0):\n",
    "    print(f'the negative index of {str1[i]} is {i}')"
   ]
  },
  {
   "cell_type": "code",
   "execution_count": 65,
   "id": "68ed0df6-bcf2-463a-89c6-2732bca65e99",
   "metadata": {},
   "outputs": [
    {
     "name": "stdout",
     "output_type": "stream",
     "text": [
      "the postive index 0 is negative index of p is  -6\n",
      "the postive index 1 is negative index of y is  -5\n",
      "the postive index 2 is negative index of t is  -4\n",
      "the postive index 3 is negative index of h is  -3\n",
      "the postive index 4 is negative index of o is  -2\n",
      "the postive index 5 is negative index of n is  -1\n"
     ]
    }
   ],
   "source": [
    "n2=len(str1)\n",
    "for i in range(0,6):\n",
    "    print(f'the postive index {i} is negative index of {str1[i]} is  {i-6}')"
   ]
  },
  {
   "cell_type": "markdown",
   "id": "132fcdf7-9439-44a7-b457-460f9363a63a",
   "metadata": {},
   "source": [
    "### when to use **in** - when to use range opearter"
   ]
  },
  {
   "cell_type": "markdown",
   "id": "b7133435-22a7-4b50-96c2-926e598ae759",
   "metadata": {},
   "source": [
    "- in opearter directry access the element\n",
    "\n",
    "- **range** opreater access the element using indesx or number\n",
    "\n",
    "- any problem statement if you need number then go for range\n",
    "\n",
    "- otherwise go for in opreator directly"
   ]
  },
  {
   "cell_type": "code",
   "execution_count": 69,
   "id": "8e148989-dd92-46d0-ac7d-629aad65e48d",
   "metadata": {},
   "outputs": [
    {
     "name": "stdout",
     "output_type": "stream",
     "text": [
      "p\n",
      "y\n",
      "t\n",
      "h\n",
      "o\n",
      "n\n"
     ]
    }
   ],
   "source": [
    "str1='python'\n",
    "for i in str1:\n",
    "    print(i)"
   ]
  },
  {
   "cell_type": "code",
   "execution_count": 71,
   "id": "ccca12d3-3497-4482-a3ca-4a381d255447",
   "metadata": {},
   "outputs": [
    {
     "name": "stdout",
     "output_type": "stream",
     "text": [
      "0\n",
      "1\n",
      "2\n",
      "3\n",
      "4\n",
      "5\n"
     ]
    }
   ],
   "source": [
    "for i in range(0,6):\n",
    "    print(i,str1[i])"
   ]
  },
  {
   "cell_type": "code",
   "execution_count": 114,
   "id": "245d216d-3d40-4648-bcb8-357fedb1c6ae",
   "metadata": {},
   "outputs": [
    {
     "name": "stdout",
     "output_type": "stream",
     "text": [
      "2\n",
      "6\n",
      "10\n"
     ]
    }
   ],
   "source": [
    "str1='ola ola ola'\n",
    "for i in range(len(str1)):\n",
    "    if str1[i]=='a':\n",
    "        print(i)\n"
   ]
  },
  {
   "cell_type": "code",
   "execution_count": 98,
   "id": "e9f3dddb-c975-4bdf-9736-a1c95621543b",
   "metadata": {},
   "outputs": [
    {
     "name": "stdout",
     "output_type": "stream",
     "text": [
      "the total summ: 18\n"
     ]
    }
   ],
   "source": [
    "summ=0\n",
    "str1='ola ola ola'\n",
    "for i in range(len(str1)):\n",
    "    if str1[i]=='a':\n",
    "        summ=summ+i\n",
    "\n",
    "print(f'the total summ:',summ)"
   ]
  },
  {
   "cell_type": "code",
   "execution_count": 100,
   "id": "e4972b79-f41e-4f97-9e03-89e3a3230e75",
   "metadata": {},
   "outputs": [
    {
     "name": "stdout",
     "output_type": "stream",
     "text": [
      "the total summ is: 3\n"
     ]
    }
   ],
   "source": [
    "str1='ola ola ola'\n",
    "summ=0\n",
    "for i in range(len(str1)):\n",
    "    if str1[i]=='a':\n",
    "        summ=summ+1\n",
    "        \n",
    "print(\"the total summ is:\",summ)"
   ]
  },
  {
   "cell_type": "code",
   "execution_count": 104,
   "id": "a001e556-89c4-43a2-8c90-fe28a4d10e2a",
   "metadata": {},
   "outputs": [
    {
     "name": "stdout",
     "output_type": "stream",
     "text": [
      "a\n",
      "i\n",
      "o\n",
      "a\n",
      "e\n",
      "o\n",
      "u\n",
      "the number of vowels are: 7\n"
     ]
    }
   ],
   "source": [
    "count=0\n",
    "str1='hai how are you'\n",
    "for i in str1:\n",
    "    if i in 'aeiou':\n",
    "        print(i)\n",
    "        count=count+1\n",
    "\n",
    "print(\"the number of vowels are:\",count)"
   ]
  },
  {
   "cell_type": "code",
   "execution_count": 142,
   "id": "c0511afb-e8d5-4539-9e62-4d832acb5039",
   "metadata": {},
   "outputs": [
    {
     "name": "stdout",
     "output_type": "stream",
     "text": [
      "e\n",
      "i\n",
      "o\n",
      "a\n",
      "u\n",
      "5\n"
     ]
    }
   ],
   "source": [
    "s1=' '\n",
    "s2='aeiou'\n",
    "str1='hei how are you'\n",
    "count=0\n",
    "for i in str1:\n",
    "    if i in s2 and i not in s1:\n",
    "        print(i)\n",
    "        s1=s1+i\n",
    "        count=count+1\n",
    "\n",
    "print(count)"
   ]
  },
  {
   "cell_type": "markdown",
   "id": "e83e923d-7495-4f92-a5de-0d57409c8749",
   "metadata": {},
   "source": [
    "**mutable-inmutable**"
   ]
  },
  {
   "cell_type": "markdown",
   "id": "0c7de707-2e59-45bc-9c26-910964f3d1f0",
   "metadata": {},
   "source": [
    "- mutable means change\n",
    "\n",
    "- inmutable means can not change\n",
    "\n",
    "- we can not change the element using index opreations"
   ]
  },
  {
   "cell_type": "code",
   "execution_count": 147,
   "id": "a8256384-09c3-4749-82e2-9adb0f873a55",
   "metadata": {},
   "outputs": [
    {
     "ename": "TypeError",
     "evalue": "'str' object does not support item assignment",
     "output_type": "error",
     "traceback": [
      "\u001b[1;31m---------------------------------------------------------------------------\u001b[0m",
      "\u001b[1;31mTypeError\u001b[0m                                 Traceback (most recent call last)",
      "Cell \u001b[1;32mIn[147], line 2\u001b[0m\n\u001b[0;32m      1\u001b[0m str1\u001b[38;5;241m=\u001b[39m\u001b[38;5;124m'\u001b[39m\u001b[38;5;124mhello\u001b[39m\u001b[38;5;124m'\u001b[39m\n\u001b[1;32m----> 2\u001b[0m str1[\u001b[38;5;241m2\u001b[39m]\u001b[38;5;241m=\u001b[39m\u001b[38;5;124m'\u001b[39m\u001b[38;5;124mL\u001b[39m\u001b[38;5;124m'\u001b[39m\n",
      "\u001b[1;31mTypeError\u001b[0m: 'str' object does not support item assignment"
     ]
    }
   ],
   "source": [
    "str1='hello'\n",
    "str1[2]='L'"
   ]
  },
  {
   "cell_type": "code",
   "execution_count": 157,
   "id": "7cf3e858-9bbc-4caf-bb00-ccb56762f2a6",
   "metadata": {},
   "outputs": [
    {
     "data": {
      "text/plain": [
       "[10, 200, 30]"
      ]
     },
     "execution_count": 157,
     "metadata": {},
     "output_type": "execute_result"
    }
   ],
   "source": [
    "l=[10,20,30]\n",
    "l[1]=200\n",
    "l"
   ]
  },
  {
   "cell_type": "markdown",
   "id": "0553e230-1261-4a98-913a-336d8f7fcaae",
   "metadata": {},
   "source": [
    "**slice**\n",
    "\n",
    "- slice means cut into pieces\n",
    "\n",
    "- it has same analogy with for loop range\n",
    "\n",
    "- it the for loop range we have start,stop step\n",
    "\n",
    "- range(start,stop,strp) str(start:stop:step:)"
   ]
  },
  {
   "cell_type": "code",
   "execution_count": 46,
   "id": "78a91bea-34c8-42d3-9028-47aa81592ad8",
   "metadata": {},
   "outputs": [
    {
     "ename": "IndentationError",
     "evalue": "unexpected indent (3157955006.py, line 2)",
     "output_type": "error",
     "traceback": [
      "\u001b[1;36m  Cell \u001b[1;32mIn[46], line 2\u001b[1;36m\u001b[0m\n\u001b[1;33m    h   e   l   l   o        h   o  w     a  r  e     y  o  y\u001b[0m\n\u001b[1;37m    ^\u001b[0m\n\u001b[1;31mIndentationError\u001b[0m\u001b[1;31m:\u001b[0m unexpected indent\n"
     ]
    }
   ],
   "source": [
    "# -17 -16 -15 -14 -13 -12 -11 -10 -9 -8 -7 -6 -5 -4 -3 -2 -1 \n",
    "#  h   e   l   l   o        h   o  w     a  r  e     y  o  y\n",
    "#  0   1   2   3   4   5    6   7  8  9 10 11 12 13 14 15 16 \n",
    "\n",
    "str1[10:10]\n",
    "str1[20]"
   ]
  },
  {
   "cell_type": "code",
   "execution_count": 18,
   "id": "79ffe9d2-2ae4-4645-a0c3-759efb70ba99",
   "metadata": {},
   "outputs": [
    {
     "data": {
      "text/plain": [
       "'llo how '"
      ]
     },
     "execution_count": 18,
     "metadata": {},
     "output_type": "execute_result"
    }
   ],
   "source": [
    "str1[-15:10]"
   ]
  },
  {
   "cell_type": "code",
   "execution_count": 20,
   "id": "fa2c0835-bc05-4f4a-b9d4-0b89215463cb",
   "metadata": {},
   "outputs": [
    {
     "data": {
      "text/plain": [
       "''"
      ]
     },
     "execution_count": 20,
     "metadata": {},
     "output_type": "execute_result"
    }
   ],
   "source": [
    "str1[-11:2]"
   ]
  },
  {
   "cell_type": "code",
   "execution_count": 22,
   "id": "d0b2fbd7-9a9c-4aab-858e-552bfab7f40e",
   "metadata": {},
   "outputs": [
    {
     "data": {
      "text/plain": [
       "'llo how are y'"
      ]
     },
     "execution_count": 22,
     "metadata": {},
     "output_type": "execute_result"
    }
   ],
   "source": [
    "str1[2:-2]"
   ]
  },
  {
   "cell_type": "markdown",
   "id": "7a81ce67-b0ce-4fd2-8611-f17af4299e45",
   "metadata": {},
   "source": [
    "$case-1$\n",
    "\n",
    "**str[:stop]**\n",
    "\n",
    "- by default start=0\n",
    "\n",
    "- by default step = postive direction 1\n",
    "\n",
    "- last=stop-1"
   ]
  },
  {
   "cell_type": "code",
   "execution_count": 5,
   "id": "464ef88e-e872-4e51-9361-38deb5d8b8da",
   "metadata": {},
   "outputs": [
    {
     "data": {
      "text/plain": [
       "'hello'"
      ]
     },
     "execution_count": 5,
     "metadata": {},
     "output_type": "execute_result"
    }
   ],
   "source": [
    "str1='hello how are you'\n",
    "str1[:5]"
   ]
  },
  {
   "cell_type": "markdown",
   "id": "2572e805-2907-4f79-b5c1-64d1319aa190",
   "metadata": {},
   "source": [
    "$case-2$\n",
    "\n",
    "**str[:start]**\n",
    "\n",
    "- by default start=start value\n",
    "\n",
    "- by default step = postive direction 1\n",
    "\n",
    "- last=last index"
   ]
  },
  {
   "cell_type": "code",
   "execution_count": 9,
   "id": "63ec62f0-1c49-4b7a-b026-aa36127fd2bb",
   "metadata": {},
   "outputs": [
    {
     "data": {
      "text/plain": [
       "' how are you'"
      ]
     },
     "execution_count": 9,
     "metadata": {},
     "output_type": "execute_result"
    }
   ],
   "source": [
    "str1[5:]"
   ]
  },
  {
   "cell_type": "markdown",
   "id": "b1c36463-9f70-4f13-b6d3-228093f7f86a",
   "metadata": {},
   "source": [
    "$case-3$\n",
    "\n",
    "**str[stop:stop]**\n",
    "\n",
    "- by default start=start value\n",
    "\n",
    "- by default step = postive direction 1\n",
    "\n",
    "- last=stop-1"
   ]
  },
  {
   "cell_type": "code",
   "execution_count": 13,
   "id": "a9a87e7d-b9de-4f65-80be-cfc5a4b79b7e",
   "metadata": {},
   "outputs": [
    {
     "data": {
      "text/plain": [
       "'you'"
      ]
     },
     "execution_count": 13,
     "metadata": {},
     "output_type": "execute_result"
    }
   ],
   "source": [
    "str1[-3:]"
   ]
  },
  {
   "cell_type": "code",
   "execution_count": null,
   "id": "88de7340-f5b4-4936-a0c8-4b264039d9bc",
   "metadata": {},
   "outputs": [],
   "source": [
    "$case-4$\n",
    "\n",
    "**str[start:stop:step]**\n",
    "\n",
    "- by default start=start value\n",
    "\n",
    "    \n",
    "\n",
    "- by default step = postive direction 1\n",
    "\n",
    "- last=stop-1"
   ]
  },
  {
   "cell_type": "code",
   "execution_count": null,
   "id": "0978c275-3e3b-41b7-b7aa-9ea1a9f35604",
   "metadata": {},
   "outputs": [],
   "source": [
    "# -17 -16 -15 -14 -13 -12 -11 -10 -9 -8 -7 -6 -5 -4 -3 -2 -1 \n",
    "#  h   e   l   l   o        h   o  w     a  r  e     y  o  y\n",
    "#  0   1   2   3   4   5    6   7  8  9 10 11 12 13 14 15 16 "
   ]
  },
  {
   "cell_type": "code",
   "execution_count": 28,
   "id": "966fb200-e59f-43c3-b28f-65bbf3f0b1e2",
   "metadata": {},
   "outputs": [
    {
     "data": {
      "text/plain": [
       "'lohwa'"
      ]
     },
     "execution_count": 28,
     "metadata": {},
     "output_type": "execute_result"
    }
   ],
   "source": [
    "str1[2:-5:2]"
   ]
  },
  {
   "cell_type": "code",
   "execution_count": 26,
   "id": "d2eb0ec8-7f27-40eb-a662-6b2562a23b9e",
   "metadata": {},
   "outputs": [
    {
     "data": {
      "text/plain": [
       "''"
      ]
     },
     "execution_count": 26,
     "metadata": {},
     "output_type": "execute_result"
    }
   ],
   "source": [
    "str1[15:2:2]"
   ]
  },
  {
   "cell_type": "code",
   "execution_count": 38,
   "id": "21395c04-a151-4992-a311-e92d4e1e1b06",
   "metadata": {},
   "outputs": [
    {
     "data": {
      "text/plain": [
       "'hello how are you'"
      ]
     },
     "execution_count": 38,
     "metadata": {},
     "output_type": "execute_result"
    }
   ],
   "source": [
    "str1[::]"
   ]
  },
  {
   "cell_type": "code",
   "execution_count": 40,
   "id": "36f53240-e5cb-42fb-8c98-a2143def925d",
   "metadata": {},
   "outputs": [
    {
     "data": {
      "text/plain": [
       "'llo how are you'"
      ]
     },
     "execution_count": 40,
     "metadata": {},
     "output_type": "execute_result"
    }
   ],
   "source": [
    "str1[2:150]"
   ]
  },
  {
   "cell_type": "code",
   "execution_count": 42,
   "id": "188667f3-7410-4cd5-9007-dffac268daaf",
   "metadata": {},
   "outputs": [
    {
     "data": {
      "text/plain": [
       "'hello how are you'"
      ]
     },
     "execution_count": 42,
     "metadata": {},
     "output_type": "execute_result"
    }
   ],
   "source": [
    "str1[:]"
   ]
  },
  {
   "cell_type": "code",
   "execution_count": 44,
   "id": "aeb24b7f-38f1-4ab1-a490-a9a62cf58822",
   "metadata": {},
   "outputs": [
    {
     "data": {
      "text/plain": [
       "'uoy era woh olleh'"
      ]
     },
     "execution_count": 44,
     "metadata": {},
     "output_type": "execute_result"
    }
   ],
   "source": [
    "str1[::-1]"
   ]
  },
  {
   "cell_type": "markdown",
   "id": "70ffae62-cd3d-45b5-b2cd-780106822f69",
   "metadata": {},
   "source": [
    "**Method**"
   ]
  },
  {
   "cell_type": "code",
   "execution_count": 55,
   "id": "6ce07d10-8218-4507-bd90-bfa8a0abcfbe",
   "metadata": {},
   "outputs": [
    {
     "data": {
      "text/plain": [
       "['__add__',\n",
       " '__class__',\n",
       " '__contains__',\n",
       " '__delattr__',\n",
       " '__dir__',\n",
       " '__doc__',\n",
       " '__eq__',\n",
       " '__format__',\n",
       " '__ge__',\n",
       " '__getattribute__',\n",
       " '__getitem__',\n",
       " '__getnewargs__',\n",
       " '__getstate__',\n",
       " '__gt__',\n",
       " '__hash__',\n",
       " '__init__',\n",
       " '__init_subclass__',\n",
       " '__iter__',\n",
       " '__le__',\n",
       " '__len__',\n",
       " '__lt__',\n",
       " '__mod__',\n",
       " '__mul__',\n",
       " '__ne__',\n",
       " '__new__',\n",
       " '__reduce__',\n",
       " '__reduce_ex__',\n",
       " '__repr__',\n",
       " '__rmod__',\n",
       " '__rmul__',\n",
       " '__setattr__',\n",
       " '__sizeof__',\n",
       " '__str__',\n",
       " '__subclasshook__',\n",
       " 'capitalize',\n",
       " 'casefold',\n",
       " 'center',\n",
       " 'count',\n",
       " 'encode',\n",
       " 'endswith',\n",
       " 'expandtabs',\n",
       " 'find',\n",
       " 'format',\n",
       " 'format_map',\n",
       " 'index',\n",
       " 'isalnum',\n",
       " 'isalpha',\n",
       " 'isascii',\n",
       " 'isdecimal',\n",
       " 'isdigit',\n",
       " 'isidentifier',\n",
       " 'islower',\n",
       " 'isnumeric',\n",
       " 'isprintable',\n",
       " 'isspace',\n",
       " 'istitle',\n",
       " 'isupper',\n",
       " 'join',\n",
       " 'ljust',\n",
       " 'lower',\n",
       " 'lstrip',\n",
       " 'maketrans',\n",
       " 'partition',\n",
       " 'removeprefix',\n",
       " 'removesuffix',\n",
       " 'replace',\n",
       " 'rfind',\n",
       " 'rindex',\n",
       " 'rjust',\n",
       " 'rpartition',\n",
       " 'rsplit',\n",
       " 'rstrip',\n",
       " 'split',\n",
       " 'splitlines',\n",
       " 'startswith',\n",
       " 'strip',\n",
       " 'swapcase',\n",
       " 'title',\n",
       " 'translate',\n",
       " 'upper',\n",
       " 'zfill']"
      ]
     },
     "execution_count": 55,
     "metadata": {},
     "output_type": "execute_result"
    }
   ],
   "source": [
    "name='mithun'\n",
    "dir(name)"
   ]
  },
  {
   "cell_type": "markdown",
   "id": "53215f4b-b6c4-4f08-afdf-4ea51f53c6bb",
   "metadata": {},
   "source": [
    "**upper**"
   ]
  },
  {
   "cell_type": "code",
   "execution_count": 58,
   "id": "8bcd7fcf-40f4-4aa9-881d-c71a62790835",
   "metadata": {},
   "outputs": [
    {
     "data": {
      "text/plain": [
       "'WELCOME'"
      ]
     },
     "execution_count": 58,
     "metadata": {},
     "output_type": "execute_result"
    }
   ],
   "source": [
    "str1='welcome' \n",
    "str1.upper()"
   ]
  },
  {
   "cell_type": "code",
   "execution_count": null,
   "id": "eeb93e0b-0e15-4f45-a30f-d659c46fba95",
   "metadata": {},
   "outputs": [],
   "source": [
    "- lower\n",
    "\n",
    "- title\n",
    "\n",
    "- capitalize\n",
    "\n",
    "- casefold"
   ]
  },
  {
   "cell_type": "code",
   "execution_count": 62,
   "id": "db3e3a35-3dc0-4965-bee0-5d2a9b24fcda",
   "metadata": {},
   "outputs": [
    {
     "data": {
      "text/plain": [
       "'mithun'"
      ]
     },
     "execution_count": 62,
     "metadata": {},
     "output_type": "execute_result"
    }
   ],
   "source": [
    "str1='mithun'\n",
    "str1.lower()"
   ]
  },
  {
   "cell_type": "code",
   "execution_count": 66,
   "id": "74ceaade-11a4-4ed3-8a80-b542758b328a",
   "metadata": {},
   "outputs": [
    {
     "data": {
      "text/plain": [
       "'Mithun'"
      ]
     },
     "execution_count": 66,
     "metadata": {},
     "output_type": "execute_result"
    }
   ],
   "source": [
    "str1='mithun'\n",
    "str1.title()"
   ]
  },
  {
   "cell_type": "code",
   "execution_count": 70,
   "id": "da2dbef9-ce97-4e51-a0ba-4b7ef0eebf69",
   "metadata": {},
   "outputs": [
    {
     "data": {
      "text/plain": [
       "'Mithun'"
      ]
     },
     "execution_count": 70,
     "metadata": {},
     "output_type": "execute_result"
    }
   ],
   "source": [
    "str1.capitalize()"
   ]
  },
  {
   "cell_type": "code",
   "execution_count": 74,
   "id": "8b3bff81-f1ee-4e78-9be9-0c409fb7b66c",
   "metadata": {},
   "outputs": [
    {
     "data": {
      "text/plain": [
       "'mithun'"
      ]
     },
     "execution_count": 74,
     "metadata": {},
     "output_type": "execute_result"
    }
   ],
   "source": [
    "str1.casefold()"
   ]
  },
  {
   "cell_type": "code",
   "execution_count": null,
   "id": "799b3d25-8168-4aab-9a93-7053a249f2f1",
   "metadata": {},
   "outputs": [],
   "source": [
    "str1.upper()\n",
    "str1.lower()\n",
    "str1.title()\n",
    "str1.capitalize()\n",
    "str1.casefold()"
   ]
  },
  {
   "cell_type": "markdown",
   "id": "b85114a5-3332-4716-87f5-3bee08dd4272",
   "metadata": {},
   "source": [
    "**difference between method and inbullilt function**"
   ]
  },
  {
   "cell_type": "code",
   "execution_count": null,
   "id": "6ee728de-a160-425a-a120-0ecab7d935b8",
   "metadata": {},
   "outputs": [],
   "source": [
    "###########inbuilt############\n",
    "len('python')\n",
    "max()\n",
    "type()\n",
    "print()\n",
    "sum()\n",
    "\n",
    "###########################\n",
    "str1.upper()\n",
    "str1.lower()\n",
    "str1.title()\n",
    "str1.capitalize()\n",
    "str1.casefold()"
   ]
  },
  {
   "cell_type": "code",
   "execution_count": 81,
   "id": "5353d399-1817-47d4-a0c1-8815572f4794",
   "metadata": {},
   "outputs": [
    {
     "data": {
      "text/plain": [
       "'  mithun  '"
      ]
     },
     "execution_count": 81,
     "metadata": {},
     "output_type": "execute_result"
    }
   ],
   "source": [
    "str1='mithun'\n",
    "str1.center(10)"
   ]
  },
  {
   "cell_type": "code",
   "execution_count": 85,
   "id": "de582981-71d7-4d8f-9b90-0c81e858bda7",
   "metadata": {},
   "outputs": [
    {
     "data": {
      "text/plain": [
       "'****mithun***'"
      ]
     },
     "execution_count": 85,
     "metadata": {},
     "output_type": "execute_result"
    }
   ],
   "source": [
    "str1='mithun'\n",
    "str1.center(\n",
    "    13,'*')"
   ]
  },
  {
   "cell_type": "markdown",
   "id": "e99fd300-74ef-4246-b1a7-841447e9aec7",
   "metadata": {},
   "source": [
    "**strip-lstrip-rstrip**\n",
    "\n",
    "- strip will remove the charcters both left and right side\n",
    "\n",
    "- lstrip will remove the charcters on left side\n",
    "\n",
    "- rstrip will remove the charcters on right side"
   ]
  },
  {
   "cell_type": "code",
   "execution_count": 97,
   "id": "40eae658-6091-4954-b55a-d20aa0ed8deb",
   "metadata": {},
   "outputs": [
    {
     "data": {
      "text/plain": [
       "'python'"
      ]
     },
     "execution_count": 97,
     "metadata": {},
     "output_type": "execute_result"
    }
   ],
   "source": [
    "str1='python'\n",
    "str1.strip()"
   ]
  },
  {
   "cell_type": "code",
   "execution_count": 99,
   "id": "e9b7b277-8cfb-410c-9520-2ed71aa27acb",
   "metadata": {},
   "outputs": [
    {
     "data": {
      "text/plain": [
       "'***python***'"
      ]
     },
     "execution_count": 99,
     "metadata": {},
     "output_type": "execute_result"
    }
   ],
   "source": [
    "str1='***python***'\n",
    "str1.lstrip()"
   ]
  },
  {
   "cell_type": "code",
   "execution_count": 101,
   "id": "aee3338e-01e9-4d1b-acf4-66b018fefa26",
   "metadata": {},
   "outputs": [
    {
     "data": {
      "text/plain": [
       "'   python****'"
      ]
     },
     "execution_count": 101,
     "metadata": {},
     "output_type": "execute_result"
    }
   ],
   "source": [
    "str1='   python****'\n",
    "str1.rstrip()"
   ]
  },
  {
   "cell_type": "code",
   "execution_count": 109,
   "id": "234bd44f-a771-45ca-b952-9fdd149babf1",
   "metadata": {},
   "outputs": [
    {
     "data": {
      "text/plain": [
       "'python'"
      ]
     },
     "execution_count": 109,
     "metadata": {},
     "output_type": "execute_result"
    }
   ],
   "source": [
    "str1='python'\n",
    "str2='***python***'\n",
    "str3='   python****'\n",
    "str1.strip()\n",
    "str1.lstrip()\n",
    "str1.rstrip()"
   ]
  },
  {
   "cell_type": "code",
   "execution_count": 115,
   "id": "3849fb53-d790-41a1-ac22-95e8fcf08e49",
   "metadata": {},
   "outputs": [
    {
     "data": {
      "text/plain": [
       "('***python***', '***python***', '   python****')"
      ]
     },
     "execution_count": 115,
     "metadata": {},
     "output_type": "execute_result"
    }
   ],
   "source": [
    "str2.strip(),str2.lstrip(),str3.rstrip()"
   ]
  },
  {
   "cell_type": "code",
   "execution_count": null,
   "id": "e1ca9c36-cd8b-498a-80b6-7004203e14a6",
   "metadata": {},
   "outputs": [],
   "source": []
  },
  {
   "cell_type": "code",
   "execution_count": null,
   "id": "3b1b570b-a917-43e0-94f7-fd789ed33b26",
   "metadata": {},
   "outputs": [],
   "source": [
    "str3='   python****'\n",
    "str1.strip()"
   ]
  },
  {
   "cell_type": "markdown",
   "id": "c44c25e9-ed75-48da-a00c-463ae0b327c9",
   "metadata": {},
   "source": [
    "**count**"
   ]
  },
  {
   "cell_type": "code",
   "execution_count": null,
   "id": "8de2d3f5-1e68-429f-9071-31f9b2742fb2",
   "metadata": {},
   "outputs": [],
   "source": [
    "str1='ola ola ola'\n",
    "# in the above string how many 'a' are abailable"
   ]
  },
  {
   "cell_type": "code",
   "execution_count": 18,
   "id": "2bf524e5-ca41-485c-96d1-42777ddecda5",
   "metadata": {},
   "outputs": [
    {
     "name": "stdout",
     "output_type": "stream",
     "text": [
      "3\n"
     ]
    }
   ],
   "source": [
    "str1='ola ola ola'\n",
    "count=0\n",
    "for i in str1:\n",
    "    if i=='a':\n",
    "        count=count+1\n",
    "\n",
    "print(count)"
   ]
  },
  {
   "cell_type": "markdown",
   "id": "9b4082fe-a522-420b-8156-fd2b12aeceb3",
   "metadata": {},
   "source": [
    "### $case=1$"
   ]
  },
  {
   "cell_type": "code",
   "execution_count": 20,
   "id": "0dac9b2c-65c5-427b-ab1b-bc29c2bfe827",
   "metadata": {},
   "outputs": [
    {
     "data": {
      "text/plain": [
       "3"
      ]
     },
     "execution_count": 20,
     "metadata": {},
     "output_type": "execute_result"
    }
   ],
   "source": [
    "str='ola ola ola'\n",
    "str1.count('ola')"
   ]
  },
  {
   "cell_type": "code",
   "execution_count": 22,
   "id": "b7b83785-d25e-4810-b2a8-dfe849b86f0f",
   "metadata": {},
   "outputs": [
    {
     "data": {
      "text/plain": [
       "2"
      ]
     },
     "execution_count": 22,
     "metadata": {},
     "output_type": "execute_result"
    }
   ],
   "source": [
    "str='ola ola ola'\n",
    "str1.count('ola ')"
   ]
  },
  {
   "cell_type": "markdown",
   "id": "b6dcf1b2-5a05-42e4-9fc0-72e250da63c3",
   "metadata": {},
   "source": [
    "### $case-2$"
   ]
  },
  {
   "cell_type": "code",
   "execution_count": 26,
   "id": "ad94fad6-709e-40a7-80be-8dd4ef92a47e",
   "metadata": {},
   "outputs": [
    {
     "data": {
      "text/plain": [
       "2"
      ]
     },
     "execution_count": 26,
     "metadata": {},
     "output_type": "execute_result"
    }
   ],
   "source": [
    "#o l a   o l a   o l a\n",
    "#0 1 2 3 4 5 6 7 8 9 10\n",
    "str1.count('a',4)"
   ]
  },
  {
   "cell_type": "code",
   "execution_count": 30,
   "id": "2a4ccf70-1f54-4903-9419-3facf3770ef3",
   "metadata": {},
   "outputs": [
    {
     "data": {
      "text/plain": [
       "0"
      ]
     },
     "execution_count": 30,
     "metadata": {},
     "output_type": "execute_result"
    }
   ],
   "source": [
    "str1.count('a',4,6)\n",
    "# start=4 postive last=stop-1=6-1=5"
   ]
  },
  {
   "cell_type": "code",
   "execution_count": 32,
   "id": "ab43ae2c-aee7-48d1-af52-6711bdc5b184",
   "metadata": {},
   "outputs": [
    {
     "data": {
      "text/plain": [
       "0"
      ]
     },
     "execution_count": 32,
     "metadata": {},
     "output_type": "execute_result"
    }
   ],
   "source": [
    "str1.count(\"a\",10,1)"
   ]
  },
  {
   "cell_type": "code",
   "execution_count": 34,
   "id": "b0ec8d8e-eab6-47da-b950-86ca467032c9",
   "metadata": {},
   "outputs": [
    {
     "data": {
      "text/plain": [
       "0"
      ]
     },
     "execution_count": 34,
     "metadata": {},
     "output_type": "execute_result"
    }
   ],
   "source": [
    "str1.count('a',-10,1)"
   ]
  },
  {
   "cell_type": "code",
   "execution_count": 36,
   "id": "374dcb3f-5402-427c-8b3d-1254ee3d7a5a",
   "metadata": {},
   "outputs": [
    {
     "data": {
      "text/plain": [
       "0"
      ]
     },
     "execution_count": 36,
     "metadata": {},
     "output_type": "execute_result"
    }
   ],
   "source": [
    "str1.count('z')"
   ]
  },
  {
   "cell_type": "code",
   "execution_count": null,
   "id": "bb1ac034-23f6-4b64-9b75-50673004133d",
   "metadata": {},
   "outputs": [],
   "source": [
    "# str1='ola ola ola'\n",
    "# count the number of substring : 'ola'\n",
    "# withe out using count method"
   ]
  },
  {
   "cell_type": "code",
   "execution_count": 4,
   "id": "833985cd-aada-4b17-a356-790f02b15b87",
   "metadata": {},
   "outputs": [
    {
     "name": "stdout",
     "output_type": "stream",
     "text": [
      "0\n"
     ]
    }
   ],
   "source": [
    "str1='ola ola ola'\n",
    "count=0\n",
    "for i in str1:\n",
    "    if i=='ola':\n",
    "        print(i)\n",
    "        count=count+1\n",
    "\n",
    "print(count)"
   ]
  },
  {
   "cell_type": "code",
   "execution_count": 64,
   "id": "1295c5a8-d3f1-4d2f-8a76-39736833e667",
   "metadata": {},
   "outputs": [
    {
     "name": "stdout",
     "output_type": "stream",
     "text": [
      "3\n"
     ]
    }
   ],
   "source": [
    "str1='ola ola ola'\n",
    "count=0\n",
    "for i in range(len(str1)):\n",
    "    if str[i:i+3]=='ola':\n",
    "        count=count+1\n",
    "\n",
    "print(count)"
   ]
  },
  {
   "cell_type": "code",
   "execution_count": null,
   "id": "c4a54b9b-7e42-4216-8039-f239f93e788b",
   "metadata": {},
   "outputs": [],
   "source": [
    "str1[i  : i+3] =='ola'logic\n",
    "i=0 0 : 0 : 0+3 0:3\n",
    "str1[0:3 =]"
   ]
  },
  {
   "cell_type": "markdown",
   "id": "9cc8019a-8594-412c-8fb4-7661a6d2789f",
   "metadata": {},
   "source": [
    "**replace**"
   ]
  },
  {
   "cell_type": "code",
   "execution_count": null,
   "id": "487f5621-48c1-453f-b6bf-37675de7a72b",
   "metadata": {},
   "outputs": [],
   "source": [
    "str1='welcome' # 'welcome'\n",
    "str1[2]==l"
   ]
  },
  {
   "cell_type": "code",
   "execution_count": 77,
   "id": "29a884dd-5d7d-4f12-b8da-62f8739f632c",
   "metadata": {},
   "outputs": [
    {
     "data": {
      "text/plain": [
       "'weLcome'"
      ]
     },
     "execution_count": 77,
     "metadata": {},
     "output_type": "execute_result"
    }
   ],
   "source": [
    "str1='welcome'\n",
    "str1.replace('l','L')"
   ]
  },
  {
   "cell_type": "code",
   "execution_count": 79,
   "id": "d2c0e891-3523-4461-9198-86fedd3c63a3",
   "metadata": {},
   "outputs": [
    {
     "data": {
      "text/plain": [
       "'welcome'"
      ]
     },
     "execution_count": 79,
     "metadata": {},
     "output_type": "execute_result"
    }
   ],
   "source": [
    "str1.replace('z','z')"
   ]
  },
  {
   "cell_type": "code",
   "execution_count": 81,
   "id": "57e3a562-b83d-4743-b9c4-4a23cb83c007",
   "metadata": {},
   "outputs": [
    {
     "data": {
      "text/plain": [
       "'weLLLcome'"
      ]
     },
     "execution_count": 81,
     "metadata": {},
     "output_type": "execute_result"
    }
   ],
   "source": [
    "str1='welllcome'\n",
    "str1.replace('l','L')"
   ]
  },
  {
   "cell_type": "code",
   "execution_count": 83,
   "id": "8fe8ef08-a572-41c7-99fb-802c4c3b10ca",
   "metadata": {},
   "outputs": [
    {
     "data": {
      "text/plain": [
       "'weLllcome'"
      ]
     },
     "execution_count": 83,
     "metadata": {},
     "output_type": "execute_result"
    }
   ],
   "source": [
    "str1='welllcome'\n",
    "str1.replace('l','L',1)"
   ]
  },
  {
   "cell_type": "code",
   "execution_count": 87,
   "id": "ad2301d5-6bdd-4700-b959-192c8c74397c",
   "metadata": {},
   "outputs": [
    {
     "data": {
      "text/plain": [
       "'weLLlcome'"
      ]
     },
     "execution_count": 87,
     "metadata": {},
     "output_type": "execute_result"
    }
   ],
   "source": [
    "str1='welllcome'\n",
    "str1.replace('l','L',2)"
   ]
  },
  {
   "cell_type": "code",
   "execution_count": 91,
   "id": "ab074571-366d-4262-b8f0-323d5936b11e",
   "metadata": {},
   "outputs": [
    {
     "data": {
      "text/plain": [
       "'welllcome'"
      ]
     },
     "execution_count": 91,
     "metadata": {},
     "output_type": "execute_result"
    }
   ],
   "source": [
    "str1='welllcome'\n",
    "str1.replace('l','L',0)"
   ]
  },
  {
   "cell_type": "markdown",
   "id": "be625659-986b-4c66-a1bb-42e2021a7e1b",
   "metadata": {},
   "source": [
    "- by default it will replace all the occurences\n",
    "\n",
    "- the user can provide count which indicares how many letters can replace\n",
    "\n",
    "- if the substring not found it will return the original string itself`m"
   ]
  },
  {
   "cell_type": "code",
   "execution_count": 100,
   "id": "d7bf7ecd-78bd-46db-a12d-5baf5a6bab46",
   "metadata": {},
   "outputs": [
    {
     "data": {
      "text/plain": [
       "'resta$t'"
      ]
     },
     "execution_count": 100,
     "metadata": {},
     "output_type": "execute_result"
    }
   ],
   "source": [
    "str1='restart'\n",
    "str1.replace('rt','$t')"
   ]
  },
  {
   "cell_type": "code",
   "execution_count": 6,
   "id": "49323822-ba3f-470f-bdaf-90a4c4df1cd4",
   "metadata": {},
   "outputs": [
    {
     "data": {
      "text/plain": [
       "'resta$t'"
      ]
     },
     "execution_count": 6,
     "metadata": {},
     "output_type": "execute_result"
    }
   ],
   "source": [
    "str1='restart'\n",
    "s1=str1[0:5]\n",
    "s2=str1[5:]\n",
    "s3=s2.replace('r','$')\n",
    "s1+s3"
   ]
  },
  {
   "cell_type": "code",
   "execution_count": 112,
   "id": "a1d0bf94-ada9-41d7-bc84-071f1de233a6",
   "metadata": {},
   "outputs": [
    {
     "data": {
      "text/plain": [
       "'$esta$t'"
      ]
     },
     "execution_count": 112,
     "metadata": {},
     "output_type": "execute_result"
    }
   ],
   "source": [
    "str1='restart'\n",
    "str1[::-1].replace('r','$')[::-1]"
   ]
  },
  {
   "cell_type": "code",
   "execution_count": 120,
   "id": "65bee674-494f-4443-aad1-52ac39a150af",
   "metadata": {},
   "outputs": [
    {
     "data": {
      "text/plain": [
       "'restart $estart'"
      ]
     },
     "execution_count": 120,
     "metadata": {},
     "output_type": "execute_result"
    }
   ],
   "source": [
    "str1='restart restart'\n",
    "s1=str1[0:8]\n",
    "s2=str1[8:]\n",
    "s3=s2.replace('r','$',1)\n",
    "s1+s3"
   ]
  },
  {
   "cell_type": "markdown",
   "id": "0fa5ea3b-5f22-4caf-adcb-c334da6b85dc",
   "metadata": {},
   "source": [
    "**index**"
   ]
  },
  {
   "cell_type": "code",
   "execution_count": 131,
   "id": "d354609e-6b75-48e7-a6d5-12bd7234fccd",
   "metadata": {},
   "outputs": [
    {
     "data": {
      "text/plain": [
       "(3, 0)"
      ]
     },
     "execution_count": 131,
     "metadata": {},
     "output_type": "execute_result"
    }
   ],
   "source": [
    "str1='restart restart'\n",
    "str1.index('t'),str1.index('r')\n",
    "# by defualt first string index will come"
   ]
  },
  {
   "cell_type": "code",
   "execution_count": 143,
   "id": "adebfbaf-2885-4cbc-9f29-b1d1be3f46f8",
   "metadata": {},
   "outputs": [
    {
     "data": {
      "text/plain": [
       "0"
      ]
     },
     "execution_count": 143,
     "metadata": {},
     "output_type": "execute_result"
    }
   ],
   "source": [
    "str1='restart'\n",
    "str1.index('r')"
   ]
  },
  {
   "cell_type": "code",
   "execution_count": 135,
   "id": "64594874-c063-4869-b135-3aced7a4ccdb",
   "metadata": {},
   "outputs": [
    {
     "data": {
      "text/plain": [
       "5"
      ]
     },
     "execution_count": 135,
     "metadata": {},
     "output_type": "execute_result"
    }
   ],
   "source": [
    "str1='restart'\n",
    "str1.index('r',1)"
   ]
  },
  {
   "cell_type": "code",
   "execution_count": 137,
   "id": "42d67cb0-8d91-4e4f-b12d-e6ac633ca884",
   "metadata": {},
   "outputs": [
    {
     "data": {
      "text/plain": [
       "8"
      ]
     },
     "execution_count": 137,
     "metadata": {},
     "output_type": "execute_result"
    }
   ],
   "source": [
    "str1='restart restart'\n",
    "str1.index('r',6)"
   ]
  },
  {
   "cell_type": "code",
   "execution_count": 139,
   "id": "01798a69-4968-46fb-a720-a9f6c29c0de0",
   "metadata": {},
   "outputs": [
    {
     "data": {
      "text/plain": [
       "13"
      ]
     },
     "execution_count": 139,
     "metadata": {},
     "output_type": "execute_result"
    }
   ],
   "source": [
    "str1='restart restart'\n",
    "str1.index('r',9)"
   ]
  },
  {
   "cell_type": "code",
   "execution_count": 145,
   "id": "4c1a5cf1-dd74-4e06-ba75-ee43ebaee41c",
   "metadata": {},
   "outputs": [
    {
     "data": {
      "text/plain": [
       "13"
      ]
     },
     "execution_count": 145,
     "metadata": {},
     "output_type": "execute_result"
    }
   ],
   "source": [
    "str1='restart restart'\n",
    "str1.index('r',13)"
   ]
  },
  {
   "cell_type": "code",
   "execution_count": 153,
   "id": "d4b7ec9e-c58f-4716-9550-b785e255a378",
   "metadata": {},
   "outputs": [
    {
     "name": "stdout",
     "output_type": "stream",
     "text": [
      "0 5 8 13\n"
     ]
    }
   ],
   "source": [
    "str1='restart restart'\n",
    "i1=str1.index('r')\n",
    "i2=str1.index('r',i1+1)\n",
    "i3=str1.index('r',i2+1)\n",
    "i4=str1.index('r',i3+1)\n",
    "print(i1,i2,i3,i4)"
   ]
  },
  {
   "cell_type": "markdown",
   "id": "041458e0-a987-40c4-9431-fd756ca9151f",
   "metadata": {},
   "source": [
    "**find**\n",
    "\n",
    "- tell me tha difference between index and find"
   ]
  },
  {
   "cell_type": "code",
   "execution_count": null,
   "id": "574f5d45-0197-4577-b04e-f4c8720848cd",
   "metadata": {},
   "outputs": [],
   "source": [
    "str1='restart'\n",
    "str1.count('z')\n",
    "str1."
   ]
  },
  {
   "cell_type": "code",
   "execution_count": null,
   "id": "5ba482ef-5fa2-4297-9f51-b90dab209b81",
   "metadata": {},
   "outputs": [],
   "source": [
    "str1='virat.kohli@rcb.com'\n",
    "str2='rohit.sharma#mi.com'\n",
    "str3='ms.dhoni@csk.com'\n",
    "# extract the firstname from str1: virat\n",
    "# extract second name from str1:kohali\n",
    "# extract compny name from str1:rcb\n",
    "str4='a.b@c.com'\n",
    "\n",
    "\n",
    "# isen : try to go the trigger points\n",
    "str1='hello how'\n",
    "str1[0:5]\n",
    "# step-1: first extract . index\n",
    "# step-2: extract the @ index\n",
    "# step-3: extract the second . dot index\n"
   ]
  },
  {
   "cell_type": "code",
   "execution_count": 16,
   "id": "73723ac1-d0c6-4ef2-a498-41ca2b4d722b",
   "metadata": {},
   "outputs": [
    {
     "name": "stdout",
     "output_type": "stream",
     "text": [
      "virat\n",
      "virat\n"
     ]
    }
   ],
   "source": [
    "str1='virat.kohli@rcb.com'\n",
    "i1=str1.index('.')\n",
    "firstname=str1[0:i1]\n",
    "print(firstname)\n",
    "\n",
    "i2=str1.index('.')\n",
    "secondname=str1[0:i2]\n",
    "print(secondname)"
   ]
  },
  {
   "cell_type": "code",
   "execution_count": 24,
   "id": "f363295f-39f0-421c-8825-7a0bbd422284",
   "metadata": {},
   "outputs": [
    {
     "name": "stdout",
     "output_type": "stream",
     "text": [
      "5 15 11\n",
      "virat kohli rcb\n"
     ]
    }
   ],
   "source": [
    "str1='virat.kohli@rcb.com'\n",
    "first_dot=str1.index('.')\n",
    "second_dot=str1.index('.',first_dot+1)\n",
    "at_the_rate=str1.index('@')\n",
    "print(first_dot,second_dot,at_the_rate)\n",
    "first_name=str1[:first_dot]\n",
    "second_name=str1[first_dot+1:at_the_rate]\n",
    "cname=str1[at_the_rate+1:second_dot]\n",
    "print(first_name,second_name,cname)"
   ]
  },
  {
   "cell_type": "code",
   "execution_count": 26,
   "id": "adba335f-dd42-4dd7-aa52-2a882519c51c",
   "metadata": {},
   "outputs": [
    {
     "data": {
      "text/plain": [
       "['hai', 'how', 'are', 'you']"
      ]
     },
     "execution_count": 26,
     "metadata": {},
     "output_type": "execute_result"
    }
   ],
   "source": [
    "str1='hai how are you'\n",
    "str1.split()"
   ]
  },
  {
   "cell_type": "code",
   "execution_count": 30,
   "id": "76f7a194-5980-4d9e-a903-2ec185950243",
   "metadata": {},
   "outputs": [
    {
     "data": {
      "text/plain": [
       "['hai how are you']"
      ]
     },
     "execution_count": 30,
     "metadata": {},
     "output_type": "execute_result"
    }
   ],
   "source": [
    "str1='hai how are you'\n",
    "str1.split(',')"
   ]
  },
  {
   "cell_type": "code",
   "execution_count": 32,
   "id": "7d055cf7-c70e-424b-a828-d1ca3f561a1b",
   "metadata": {},
   "outputs": [
    {
     "data": {
      "text/plain": [
       "['hai', 'how,are', 'you']"
      ]
     },
     "execution_count": 32,
     "metadata": {},
     "output_type": "execute_result"
    }
   ],
   "source": [
    "str1='hai how,are you'\n",
    "str1.split()"
   ]
  },
  {
   "cell_type": "code",
   "execution_count": 34,
   "id": "165803bd-2994-4944-a62b-68905b3b1237",
   "metadata": {},
   "outputs": [
    {
     "data": {
      "text/plain": [
       "['hell', ' hai h', 'w are y', 'u']"
      ]
     },
     "execution_count": 34,
     "metadata": {},
     "output_type": "execute_result"
    }
   ],
   "source": [
    "str1='hello hai how are you'\n",
    "str1.split('o')"
   ]
  },
  {
   "cell_type": "code",
   "execution_count": 36,
   "id": "d84d31c2-698e-4efa-9c36-9fa0c0590cee",
   "metadata": {},
   "outputs": [
    {
     "data": {
      "text/plain": [
       "['', 'ello ', 'ai ', 'ow are you']"
      ]
     },
     "execution_count": 36,
     "metadata": {},
     "output_type": "execute_result"
    }
   ],
   "source": [
    "str1='hello hai how are you'\n",
    "str1.split('h')"
   ]
  },
  {
   "cell_type": "markdown",
   "id": "1bfb995e-4c62-4682-b8b3-c8253535b6b3",
   "metadata": {},
   "source": [
    "**join**"
   ]
  },
  {
   "cell_type": "code",
   "execution_count": 49,
   "id": "fa782b90-b238-41d0-afc1-4410b1c583b7",
   "metadata": {},
   "outputs": [
    {
     "data": {
      "text/plain": [
       "'hai how are you'"
      ]
     },
     "execution_count": 49,
     "metadata": {},
     "output_type": "execute_result"
    }
   ],
   "source": [
    "str1='hai how are you'\n",
    "l=str1.split()\n",
    "l\n",
    "' '.join(l)"
   ]
  },
  {
   "cell_type": "code",
   "execution_count": 51,
   "id": "41d6f44c-fe4e-4a05-b02f-784180b15e35",
   "metadata": {},
   "outputs": [
    {
     "data": {
      "text/plain": [
       "'hai how are you'"
      ]
     },
     "execution_count": 51,
     "metadata": {},
     "output_type": "execute_result"
    }
   ],
   "source": [
    "str1='hai how are you'\n",
    "l=str1.split(',')\n",
    "l\n",
    "','.join(l)"
   ]
  },
  {
   "cell_type": "code",
   "execution_count": 53,
   "id": "638ddc60-89cd-4eb8-89a9-1560f0a2df1d",
   "metadata": {},
   "outputs": [
    {
     "data": {
      "text/plain": [
       "'hello hai how are you'"
      ]
     },
     "execution_count": 53,
     "metadata": {},
     "output_type": "execute_result"
    }
   ],
   "source": [
    "str1='hello hai how are you'\n",
    "l=str1.split('o')\n",
    "l\n",
    "'o'.join(l)"
   ]
  },
  {
   "cell_type": "code",
   "execution_count": 55,
   "id": "c77c59fb-79e5-4071-b8df-0ff13fdd72ad",
   "metadata": {},
   "outputs": [
    {
     "data": {
      "text/plain": [
       "'hello hai how are you'"
      ]
     },
     "execution_count": 55,
     "metadata": {},
     "output_type": "execute_result"
    }
   ],
   "source": [
    "str1='hello hai how are you'\n",
    "l=str1.split('h')\n",
    "l\n",
    "'h'.join(l)"
   ]
  },
  {
   "cell_type": "code",
   "execution_count": null,
   "id": "b0e2161b-2eb9-4db2-8480-3edd6f3e6f28",
   "metadata": {},
   "outputs": [],
   "source": [
    "- upper/lower/casefold\n",
    "\n",
    "- tital/capitalize\n",
    "\n",
    "- center\n",
    "\n",
    "- lstrip/rstrip/strip\n",
    "\n",
    "- replace\n",
    "\n",
    "- count\n",
    "\n",
    "- index/find\n",
    "\n",
    "- split/join"
   ]
  },
  {
   "cell_type": "code",
   "execution_count": null,
   "id": "169f84c8-3a94-4855-87a4-7812c1685145",
   "metadata": {},
   "outputs": [],
   "source": []
  },
  {
   "cell_type": "code",
   "execution_count": null,
   "id": "f47016fd-8500-4791-be23-35137166bf37",
   "metadata": {},
   "outputs": [],
   "source": []
  }
 ],
 "metadata": {
  "kernelspec": {
   "display_name": "Python 3 (ipykernel)",
   "language": "python",
   "name": "python3"
  },
  "language_info": {
   "codemirror_mode": {
    "name": "ipython",
    "version": 3
   },
   "file_extension": ".py",
   "mimetype": "text/x-python",
   "name": "python",
   "nbconvert_exporter": "python",
   "pygments_lexer": "ipython3",
   "version": "3.12.4"
  }
 },
 "nbformat": 4,
 "nbformat_minor": 5
}
