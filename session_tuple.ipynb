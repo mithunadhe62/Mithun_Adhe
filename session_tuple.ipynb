{
 "cells": [
  {
   "cell_type": "markdown",
   "id": "d4a21761-6b7c-4f0d-8e48-b4ec49a4280d",
   "metadata": {},
   "source": [
    "**basic representations**"
   ]
  },
  {
   "cell_type": "code",
   "execution_count": 2,
   "id": "dc22df11-36ff-47a0-9da5-1e911d34e11a",
   "metadata": {},
   "outputs": [
    {
     "data": {
      "text/plain": [
       "('mithun',)"
      ]
     },
     "execution_count": 2,
     "metadata": {},
     "output_type": "execute_result"
    }
   ],
   "source": [
    "tuple1=(('mithun',))\n",
    "tuple1"
   ]
  },
  {
   "cell_type": "code",
   "execution_count": 24,
   "id": "0901ff94-969c-44d2-a3f8-d926d64ec7c2",
   "metadata": {},
   "outputs": [
    {
     "name": "stdout",
     "output_type": "stream",
     "text": [
      "mithun\n"
     ]
    }
   ],
   "source": [
    "print(tuple1)"
   ]
  },
  {
   "cell_type": "code",
   "execution_count": 8,
   "id": "78bc92be-4a97-4ad6-9f28-7458b7240a6a",
   "metadata": {},
   "outputs": [
    {
     "data": {
      "text/plain": [
       "tuple"
      ]
     },
     "execution_count": 8,
     "metadata": {},
     "output_type": "execute_result"
    }
   ],
   "source": [
    "type(tuple1)"
   ]
  },
  {
   "cell_type": "code",
   "execution_count": 12,
   "id": "5bae0d5f-df6b-481b-980d-5e44c832bc9b",
   "metadata": {},
   "outputs": [
    {
     "data": {
      "text/plain": [
       "tuple"
      ]
     },
     "execution_count": 12,
     "metadata": {},
     "output_type": "execute_result"
    }
   ],
   "source": [
    "tuple2=(('mithun',))\n",
    "tuple"
   ]
  },
  {
   "cell_type": "code",
   "execution_count": 184,
   "id": "6c7b5e1e-3e0c-492a-af2e-cb7f6c538aab",
   "metadata": {},
   "outputs": [
    {
     "data": {
      "text/plain": [
       "tuple"
      ]
     },
     "execution_count": 184,
     "metadata": {},
     "output_type": "execute_result"
    }
   ],
   "source": [
    "tuple3=(('python',))\n",
    "tuple"
   ]
  },
  {
   "cell_type": "code",
   "execution_count": 182,
   "id": "085d01ca-3942-41b1-b3d5-81dbb4897c3e",
   "metadata": {},
   "outputs": [
    {
     "name": "stdout",
     "output_type": "stream",
     "text": [
      "((1, 2, 3, True, 'm', 'i', 't', 'h', 'u', 'n', False),)\n"
     ]
    }
   ],
   "source": [
    "tuple4=((1,2,3,True,'m','i','t','h','u','n',False),)\n",
    "print(tuple4)"
   ]
  },
  {
   "cell_type": "code",
   "execution_count": 12,
   "id": "3f5fa2bb-e199-497a-9ed8-3bcbe8d65d87",
   "metadata": {},
   "outputs": [
    {
     "data": {
      "text/plain": [
       "(('mithun',),\n",
       " ('mithun',),\n",
       " ('python',),\n",
       " (1, 2, 3, True, 'm', 'i', 't', 'h', 'u', 'n', False))"
      ]
     },
     "execution_count": 12,
     "metadata": {},
     "output_type": "execute_result"
    }
   ],
   "source": [
    "tuple1,tuple2,tuple3,tuple4"
   ]
  },
  {
   "cell_type": "code",
   "execution_count": 39,
   "id": "c114a3f6-4827-4c88-a819-f249f9874646",
   "metadata": {},
   "outputs": [
    {
     "data": {
      "text/plain": [
       "10"
      ]
     },
     "execution_count": 39,
     "metadata": {},
     "output_type": "execute_result"
    }
   ],
   "source": [
    "tuple5=((10))\n",
    "tuple5"
   ]
  },
  {
   "cell_type": "code",
   "execution_count": 14,
   "id": "b964f564-e24d-4bef-b243-fffdda09e692",
   "metadata": {},
   "outputs": [
    {
     "data": {
      "text/plain": [
       "((10, 20, 2, 5, 75),\n",
       " ('Apple', 'apple', 'cherry', 'banana'),\n",
       " (10, 20, 2, 5, 75, 'Apple', 'apple', 'cherry', 'banana'))"
      ]
     },
     "execution_count": 14,
     "metadata": {},
     "output_type": "execute_result"
    }
   ],
   "source": [
    "tuple1=((10,20,2,5,75))\n",
    "tuple2=(('Apple','apple','cherry','banana'))\n",
    "tuple3=((10,20,2,5,75,'Apple','apple','cherry','banana'))\n",
    "tuple1,tuple2,tuple3"
   ]
  },
  {
   "cell_type": "code",
   "execution_count": 186,
   "id": "dd034d25-3d36-4803-99f0-d347c4a4e0c4",
   "metadata": {},
   "outputs": [
    {
     "name": "stdout",
     "output_type": "stream",
     "text": [
      "('A', 'B', 'C', 'D') "
     ]
    }
   ],
   "source": [
    "a=reversed((tuple2),)\n",
    "for i in a:\n",
    "    print(i,end=' ')"
   ]
  },
  {
   "cell_type": "code",
   "execution_count": 45,
   "id": "d612007c-2ef4-44bb-ade7-1cb4e1ed8669",
   "metadata": {},
   "outputs": [
    {
     "data": {
      "text/plain": [
       "((10, 20, 2, 5, 75),\n",
       " ('Apple', 'apple', 'cherry', 'banana'),\n",
       " (10, 20, 2, 5, 75, 'Apple', 'apple', 'cherry', 'banana'))"
      ]
     },
     "execution_count": 45,
     "metadata": {},
     "output_type": "execute_result"
    }
   ],
   "source": [
    "tuple1=((10,20,2,5,75))\n",
    "tuple2=(('Apple','apple','cherry','banana'))\n",
    "tuple3=((10,20,2,5,75,'Apple','apple','cherry','banana'))\n",
    "tuple1,tuple2,tuple3"
   ]
  },
  {
   "cell_type": "code",
   "execution_count": 49,
   "id": "0ffd2e07-6466-4c96-bbaf-5d1315739b65",
   "metadata": {},
   "outputs": [
    {
     "data": {
      "text/plain": [
       "(75,\n",
       " ('Apple', 'apple', 'cherry', 'banana'),\n",
       " (10, 20, 2, 5, 75, 'Apple', 'apple', 'cherry', 'banana'))"
      ]
     },
     "execution_count": 49,
     "metadata": {},
     "output_type": "execute_result"
    }
   ],
   "source": [
    "max((tuple1)),(tuple2),(tuple3)"
   ]
  },
  {
   "cell_type": "code",
   "execution_count": 51,
   "id": "70f0a7a6-de55-4318-8ec1-d62171592827",
   "metadata": {},
   "outputs": [
    {
     "data": {
      "text/plain": [
       "(2,\n",
       " ('Apple', 'apple', 'cherry', 'banana'),\n",
       " (10, 20, 2, 5, 75, 'Apple', 'apple', 'cherry', 'banana'))"
      ]
     },
     "execution_count": 51,
     "metadata": {},
     "output_type": "execute_result"
    }
   ],
   "source": [
    "min((tuple1)),(tuple2),(tuple3)"
   ]
  },
  {
   "cell_type": "code",
   "execution_count": 53,
   "id": "f54c1a52-7738-41b4-866f-af27c08439c3",
   "metadata": {},
   "outputs": [
    {
     "data": {
      "text/plain": [
       "(5,\n",
       " ('Apple', 'apple', 'cherry', 'banana'),\n",
       " (10, 20, 2, 5, 75, 'Apple', 'apple', 'cherry', 'banana'))"
      ]
     },
     "execution_count": 53,
     "metadata": {},
     "output_type": "execute_result"
    }
   ],
   "source": [
    "len((tuple1)),(tuple2),(tuple3)"
   ]
  },
  {
   "cell_type": "code",
   "execution_count": 55,
   "id": "ad8ba725-6720-4d9e-8371-67db05d988b3",
   "metadata": {},
   "outputs": [
    {
     "data": {
      "text/plain": [
       "(<reversed at 0x1ffe6bca830>,\n",
       " ('Apple', 'apple', 'cherry', 'banana'),\n",
       " (10, 20, 2, 5, 75, 'Apple', 'apple', 'cherry', 'banana'))"
      ]
     },
     "execution_count": 55,
     "metadata": {},
     "output_type": "execute_result"
    }
   ],
   "source": [
    "reversed((tuple1)),(tuple2),(tuple3)"
   ]
  },
  {
   "cell_type": "code",
   "execution_count": 57,
   "id": "d5048147-b59d-4e89-8497-fe69005a2caa",
   "metadata": {},
   "outputs": [
    {
     "name": "stdout",
     "output_type": "stream",
     "text": [
      "75 5 2 20 10 "
     ]
    }
   ],
   "source": [
    "a=reversed(tuple1)\n",
    "for i in a:\n",
    "    print(i,end=' ')"
   ]
  },
  {
   "cell_type": "code",
   "execution_count": 59,
   "id": "3eeae65a-55f2-4a0e-872c-38227b8efd9f",
   "metadata": {},
   "outputs": [
    {
     "name": "stdout",
     "output_type": "stream",
     "text": [
      "banana cherry apple Apple "
     ]
    }
   ],
   "source": [
    "a=reversed(tuple2)\n",
    "for i in a:\n",
    "    print(i,end=' ')"
   ]
  },
  {
   "cell_type": "code",
   "execution_count": 61,
   "id": "9151eddf-69b1-47dd-8f21-f321b593cef2",
   "metadata": {},
   "outputs": [
    {
     "name": "stdout",
     "output_type": "stream",
     "text": [
      "banana cherry apple Apple 75 5 2 20 10 "
     ]
    }
   ],
   "source": [
    "a=reversed(tuple3)\n",
    "for i in a:\n",
    "    print(i,end=' ')"
   ]
  },
  {
   "cell_type": "markdown",
   "id": "a83aeb97-04d1-43a7-872a-eab822ca3751",
   "metadata": {},
   "source": [
    "**Concatenation**"
   ]
  },
  {
   "cell_type": "code",
   "execution_count": 78,
   "id": "1bd9a1e5-c510-4927-a107-5d35e69a145f",
   "metadata": {},
   "outputs": [
    {
     "data": {
      "text/plain": [
       "((1, 2, 3, 4),)"
      ]
     },
     "execution_count": 78,
     "metadata": {},
     "output_type": "execute_result"
    }
   ],
   "source": [
    "tuple1=((1,2,3,4),)\n",
    "tuple1"
   ]
  },
  {
   "cell_type": "code",
   "execution_count": 76,
   "id": "96ea78e3-46d8-4ead-8556-ab3e82bc4d39",
   "metadata": {},
   "outputs": [
    {
     "data": {
      "text/plain": [
       "(('A', 'B', 'C', 'D'),)"
      ]
     },
     "execution_count": 76,
     "metadata": {},
     "output_type": "execute_result"
    }
   ],
   "source": [
    "tuple2=(('A','B','C','D'),)\n",
    "tuple2"
   ]
  },
  {
   "cell_type": "code",
   "execution_count": 67,
   "id": "fc823e2c-73d8-49f6-adbe-87bf1771cd3e",
   "metadata": {},
   "outputs": [
    {
     "data": {
      "text/plain": [
       "(1, 2, 3, 4, 'A', 'B', 'C', 'D')"
      ]
     },
     "execution_count": 67,
     "metadata": {},
     "output_type": "execute_result"
    }
   ],
   "source": [
    "tuple1+tuple2"
   ]
  },
  {
   "cell_type": "markdown",
   "id": "d679ccb1-4de2-40c7-ab5a-fcc210f68ac7",
   "metadata": {},
   "source": [
    "**index**"
   ]
  },
  {
   "cell_type": "code",
   "execution_count": null,
   "id": "ffe45bec-3b7c-4a1d-aa34-2a3bf405cd1b",
   "metadata": {},
   "outputs": [],
   "source": []
  },
  {
   "cell_type": "code",
   "execution_count": 20,
   "id": "d441e647-22d3-483b-8578-bd345580ac51",
   "metadata": {},
   "outputs": [],
   "source": [
    "tuple=(())\n",
    "for i in range(len(tuple)):\n",
    "    print(f'the postive index of {tuple[i]} is {i}')"
   ]
  },
  {
   "cell_type": "code",
   "execution_count": null,
   "id": "ffa7df41-5896-4f01-992a-2e65840eb88d",
   "metadata": {},
   "outputs": [],
   "source": []
  },
  {
   "cell_type": "code",
   "execution_count": 74,
   "id": "0e23f71e-7551-4e5f-a2bf-fd7acf9f867a",
   "metadata": {},
   "outputs": [
    {
     "data": {
      "text/plain": [
       "(1, 2)"
      ]
     },
     "execution_count": 74,
     "metadata": {},
     "output_type": "execute_result"
    }
   ],
   "source": [
    "tuple1=((10,20),)\n",
    "tuple2=(10,20)\n",
    "len(tuple1),len(tuple2)"
   ]
  },
  {
   "cell_type": "code",
   "execution_count": 72,
   "id": "4d2e8443-e959-401f-bfef-e1931851c16d",
   "metadata": {},
   "outputs": [
    {
     "data": {
      "text/plain": [
       "2"
      ]
     },
     "execution_count": 72,
     "metadata": {},
     "output_type": "execute_result"
    }
   ],
   "source": [
    "tuple1=(10,(20),)\n",
    "len(tuple1)"
   ]
  },
  {
   "cell_type": "code",
   "execution_count": null,
   "id": "f0b5c42a-62d1-430c-aa60-4c4608229266",
   "metadata": {},
   "outputs": [],
   "source": []
  },
  {
   "cell_type": "markdown",
   "id": "ee2d60ac-54d7-418a-815c-7b1ed4f09a6c",
   "metadata": {},
   "source": [
    "**mutable vs immutable**"
   ]
  },
  {
   "cell_type": "code",
   "execution_count": 70,
   "id": "74060181-6815-4f81-9586-c15c8982b8b4",
   "metadata": {},
   "outputs": [
    {
     "name": "stdout",
     "output_type": "stream",
     "text": [
      "([300, 20, 30, 40],)\n"
     ]
    }
   ],
   "source": [
    "tuple1=([10,20,30,40],)\n",
    "tuple1[0][0]=300\n",
    "print(tuple1)"
   ]
  },
  {
   "cell_type": "code",
   "execution_count": 88,
   "id": "91b0b6e5-c0b5-4ea4-9503-f2090e4c0eb4",
   "metadata": {},
   "outputs": [
    {
     "name": "stdout",
     "output_type": "stream",
     "text": [
      "(['m', 'h', 't', 'h', 'u', 'n'],)\n"
     ]
    }
   ],
   "source": [
    "tuple1=(['m','i','t','h','u','n'],)\n",
    "tuple1[0][1]='h'\n",
    "print(tuple1)"
   ]
  },
  {
   "cell_type": "markdown",
   "id": "16d6e70a-0a69-4bc0-a9e2-1be3c0ce5513",
   "metadata": {},
   "source": [
    "**slice**"
   ]
  },
  {
   "cell_type": "code",
   "execution_count": 96,
   "id": "a7c7cb56-6008-4170-90a8-03f3b868d800",
   "metadata": {},
   "outputs": [
    {
     "name": "stdout",
     "output_type": "stream",
     "text": [
      "[10, 20, 30, 40, 50, 'A', 'B', 'C', 'D', 'E', 'apple', 'banana']\n",
      "<class 'tuple'>\n"
     ]
    }
   ],
   "source": [
    "t1=[10,20,30,40,50,'A','B','C','D','E','apple','banana']\n",
    "tuple1= (t1,)\n",
    "print(tuple1[0][:])"
   ]
  },
  {
   "cell_type": "code",
   "execution_count": 116,
   "id": "ffc57c04-5cb9-4aa9-846a-4523f1d3142d",
   "metadata": {},
   "outputs": [
    {
     "name": "stdout",
     "output_type": "stream",
     "text": [
      "([10, 20, 30, 40, 50, 'A', 'B', 'C', 'D', 'E', 'apple', 'banana'],)\n"
     ]
    }
   ],
   "source": [
    "t1=[10,20,30,40,50,'A','B','C','D','E','apple','banana']\n",
    "tuple1=(t1,)\n",
    "print(tuple1[:])"
   ]
  },
  {
   "cell_type": "code",
   "execution_count": 132,
   "id": "86b89dfc-296e-4817-a426-c975313121b1",
   "metadata": {},
   "outputs": [
    {
     "name": "stdout",
     "output_type": "stream",
     "text": [
      "[30, 50, 'B', 'D']\n"
     ]
    }
   ],
   "source": [
    "t1=[10,20,30,40,50,'A','B','C','D','E','apple','banana']\n",
    "tuple1=(t1,)\n",
    "sliced_result = tuple1[0][2:10:2]\n",
    "print(sliced_result)"
   ]
  },
  {
   "cell_type": "code",
   "execution_count": 138,
   "id": "e8feda8f-9e52-460e-82f9-2a4b6ed6b9a1",
   "metadata": {},
   "outputs": [
    {
     "name": "stdout",
     "output_type": "stream",
     "text": [
      "[]\n"
     ]
    }
   ],
   "source": [
    "t1=[10,20,30,40,50,'A','B','C','D','E','apple','banana']\n",
    "tuple1=(t1,)\n",
    "sliced_result = tuple1[0][2:10:-2]\n",
    "print(sliced_result)"
   ]
  },
  {
   "cell_type": "code",
   "execution_count": 141,
   "id": "c3f28550-47f6-4c51-9dfe-836cb8533a84",
   "metadata": {},
   "outputs": [
    {
     "name": "stdout",
     "output_type": "stream",
     "text": [
      "['apple', 'D', 'B', 50]\n"
     ]
    }
   ],
   "source": [
    "tuple1=(t1,)\n",
    "sliced_result = tuple1[0][-2:-10:-2]\n",
    "print(sliced_result)"
   ]
  },
  {
   "cell_type": "code",
   "execution_count": 143,
   "id": "66c91ca8-8067-46d7-996a-ed009632c723",
   "metadata": {},
   "outputs": [
    {
     "name": "stdout",
     "output_type": "stream",
     "text": [
      "[]\n"
     ]
    }
   ],
   "source": [
    "tuple1=(t1,)\n",
    "sliced_result = tuple1[0][2:-10:-2]\n",
    "print(sliced_result)"
   ]
  },
  {
   "cell_type": "code",
   "execution_count": 145,
   "id": "07b3868a-416d-4b65-81c6-da1db6b6af21",
   "metadata": {},
   "outputs": [
    {
     "name": "stdout",
     "output_type": "stream",
     "text": [
      "[]\n"
     ]
    }
   ],
   "source": [
    "tuple1=(t1,)\n",
    "sliced_result = tuple1[0][-2:-10:2]\n",
    "print(sliced_result)"
   ]
  },
  {
   "cell_type": "markdown",
   "id": "d37bc1ff-fdab-4f34-9c32-deecb551b6a0",
   "metadata": {},
   "source": [
    "**method**"
   ]
  },
  {
   "cell_type": "code",
   "execution_count": 148,
   "id": "23040854-6644-4a29-bf03-d5ce0438e405",
   "metadata": {},
   "outputs": [
    {
     "data": {
      "text/plain": [
       "['__add__',\n",
       " '__class__',\n",
       " '__class_getitem__',\n",
       " '__contains__',\n",
       " '__delattr__',\n",
       " '__dir__',\n",
       " '__doc__',\n",
       " '__eq__',\n",
       " '__format__',\n",
       " '__ge__',\n",
       " '__getattribute__',\n",
       " '__getitem__',\n",
       " '__getnewargs__',\n",
       " '__getstate__',\n",
       " '__gt__',\n",
       " '__hash__',\n",
       " '__init__',\n",
       " '__init_subclass__',\n",
       " '__iter__',\n",
       " '__le__',\n",
       " '__len__',\n",
       " '__lt__',\n",
       " '__mul__',\n",
       " '__ne__',\n",
       " '__new__',\n",
       " '__reduce__',\n",
       " '__reduce_ex__',\n",
       " '__repr__',\n",
       " '__rmul__',\n",
       " '__setattr__',\n",
       " '__sizeof__',\n",
       " '__str__',\n",
       " '__subclasshook__',\n",
       " 'count',\n",
       " 'index']"
      ]
     },
     "execution_count": 148,
     "metadata": {},
     "output_type": "execute_result"
    }
   ],
   "source": [
    "dir(())"
   ]
  },
  {
   "cell_type": "code",
   "execution_count": 160,
   "id": "1d2eb591-6a2f-48cb-8b01-172befafe8c2",
   "metadata": {},
   "outputs": [
    {
     "name": "stdout",
     "output_type": "stream",
     "text": [
      "5\n"
     ]
    }
   ],
   "source": [
    "t1=(10,20,30,40,50,'A','B','C','D','E','apple','banana',50,50,50,50)\n",
    "count_50 = t1.count(50)\n",
    "print(count_50)"
   ]
  },
  {
   "cell_type": "code",
   "execution_count": 180,
   "id": "6b1414e6-46bd-46ac-b28e-460e23bd7912",
   "metadata": {},
   "outputs": [
    {
     "name": "stdout",
     "output_type": "stream",
     "text": [
      "8\n"
     ]
    }
   ],
   "source": [
    "t1=(10,20,30,40,50,'Apple','cherry','banana',40,50)\n",
    "i1=t1.index(40)\n",
    "tuple1=t1.index(40,i1+1)\n",
    "print(tuple1)"
   ]
  },
  {
   "cell_type": "code",
   "execution_count": null,
   "id": "f176e0bb-39c0-43e4-92d8-946a3e6617a5",
   "metadata": {},
   "outputs": [],
   "source": []
  }
 ],
 "metadata": {
  "kernelspec": {
   "display_name": "Python 3 (ipykernel)",
   "language": "python",
   "name": "python3"
  },
  "language_info": {
   "codemirror_mode": {
    "name": "ipython",
    "version": 3
   },
   "file_extension": ".py",
   "mimetype": "text/x-python",
   "name": "python",
   "nbconvert_exporter": "python",
   "pygments_lexer": "ipython3",
   "version": "3.12.4"
  }
 },
 "nbformat": 4,
 "nbformat_minor": 5
}
