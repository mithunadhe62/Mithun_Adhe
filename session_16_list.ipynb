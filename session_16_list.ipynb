{
 "cells": [
  {
   "cell_type": "markdown",
   "id": "5a865448-9259-4643-9b33-eb6db6f1b252",
   "metadata": {},
   "source": [
    "# list"
   ]
  },
  {
   "cell_type": "code",
   "execution_count": null,
   "id": "4c7da1e0-a827-4f6f-9aea-3fa40c84bd01",
   "metadata": {},
   "outputs": [],
   "source": [
    "- basic representations\n",
    "\n",
    "- inbuilt functions\n",
    "\n",
    "    - print\n",
    "\n",
    "    - type\n",
    "\n",
    "    - len\n",
    "\n",
    "    - sum\n",
    "\n",
    "\n",
    "    - max\n",
    "     \n",
    "    - min\n",
    "    \n",
    "    - sorted\n",
    "    \n",
    "    - reveresed\n",
    "\n"
   ]
  },
  {
   "cell_type": "markdown",
   "id": "a0bcb2e8-d2b6-4414-adac-8feb7606be02",
   "metadata": {},
   "source": [
    "**basic representations**"
   ]
  },
  {
   "cell_type": "code",
   "execution_count": 11,
   "id": "9d269b9f-65e7-4570-9b5d-a3ed62b4ef24",
   "metadata": {},
   "outputs": [
    {
     "data": {
      "text/plain": [
       "[1, 2, 3, 4]"
      ]
     },
     "execution_count": 11,
     "metadata": {},
     "output_type": "execute_result"
    }
   ],
   "source": [
    "list1=[1,2,3,4]\n",
    "list1"
   ]
  },
  {
   "cell_type": "code",
   "execution_count": 15,
   "id": "e318f65f-940b-4120-9542-c19e14e597ad",
   "metadata": {},
   "outputs": [
    {
     "name": "stdout",
     "output_type": "stream",
     "text": [
      "[1, 2, 3, 4]\n"
     ]
    }
   ],
   "source": [
    "print(list1)"
   ]
  },
  {
   "cell_type": "code",
   "execution_count": 17,
   "id": "7e9fa55a-273e-4467-a1d7-bcddf4951548",
   "metadata": {},
   "outputs": [
    {
     "data": {
      "text/plain": [
       "list"
      ]
     },
     "execution_count": 17,
     "metadata": {},
     "output_type": "execute_result"
    }
   ],
   "source": [
    "type(list1)"
   ]
  },
  {
   "cell_type": "code",
   "execution_count": 25,
   "id": "10144a02-64ca-45db-89ec-dba60b9ec68d",
   "metadata": {},
   "outputs": [
    {
     "data": {
      "text/plain": [
       "['A', 'B', 'C']"
      ]
     },
     "execution_count": 25,
     "metadata": {},
     "output_type": "execute_result"
    }
   ],
   "source": [
    "list2=['A','B','C']\n",
    "list2"
   ]
  },
  {
   "cell_type": "code",
   "execution_count": 51,
   "id": "b003838b-af5b-45dd-8e04-08d75b801283",
   "metadata": {},
   "outputs": [
    {
     "data": {
      "text/plain": [
       "[1, 2, 3, 'A', 'B', 'C']"
      ]
     },
     "execution_count": 51,
     "metadata": {},
     "output_type": "execute_result"
    }
   ],
   "source": [
    "list3=[1,2,3,'A','B','C']\n",
    "list3"
   ]
  },
  {
   "cell_type": "code",
   "execution_count": 49,
   "id": "11205c10-5e5e-43f2-a31b-536093594826",
   "metadata": {},
   "outputs": [
    {
     "data": {
      "text/plain": [
       "[1, 2, 3, True, 'm', 'i', 't', 'h', 'u', 'n', False]"
      ]
     },
     "execution_count": 49,
     "metadata": {},
     "output_type": "execute_result"
    }
   ],
   "source": [
    "list4=[1,2,3,True,'m','i','t','h','u','n',False]\n",
    "list4"
   ]
  },
  {
   "cell_type": "code",
   "execution_count": 61,
   "id": "ad2aacc2-526c-45d6-b081-9f2683276287",
   "metadata": {},
   "outputs": [
    {
     "data": {
      "text/plain": [
       "([1, 2, 3, 4],\n",
       " ['A', 'B', 'C'],\n",
       " [1, 2, 3, 'A', 'B', 'C'],\n",
       " [1, 2, 3, True, 'm', 'i', 't', 'h', 'u', 'n', False])"
      ]
     },
     "execution_count": 61,
     "metadata": {},
     "output_type": "execute_result"
    }
   ],
   "source": [
    "list1,list2,list3,list4"
   ]
  },
  {
   "cell_type": "code",
   "execution_count": 2,
   "id": "758b06ec-1eae-4c69-b6ec-3c289140c913",
   "metadata": {},
   "outputs": [
    {
     "data": {
      "text/plain": [
       "[[10]]"
      ]
     },
     "execution_count": 2,
     "metadata": {},
     "output_type": "execute_result"
    }
   ],
   "source": [
    "list5=[[10]]\n",
    "list5"
   ]
  },
  {
   "cell_type": "code",
   "execution_count": null,
   "id": "93c3c8c8-2d89-4491-bb87-466f35f15159",
   "metadata": {},
   "outputs": [],
   "source": [
    "list1=[10,20,2,5,75]\n",
    "list2=['Apple','apple','cherry','banana']\n",
    "list3[10,20,2,5,75,'Apple','apple','cherry','banana']\n",
    "list1,list2,list3"
   ]
  },
  {
   "cell_type": "code",
   "execution_count": null,
   "id": "12540dd5-eefb-4f8a-9a6a-e9edcc9bbf67",
   "metadata": {},
   "outputs": [],
   "source": []
  },
  {
   "cell_type": "code",
   "execution_count": null,
   "id": "2fc87b71-3df9-4601-af80-459b79e2ef2e",
   "metadata": {},
   "outputs": [],
   "source": []
  },
  {
   "cell_type": "code",
   "execution_count": 86,
   "id": "45b7d29b-ed6c-4ba8-bbd1-9fc60ec716cb",
   "metadata": {},
   "outputs": [
    {
     "data": {
      "text/plain": [
       "[10, 20, 2, 5, 75]"
      ]
     },
     "execution_count": 86,
     "metadata": {},
     "output_type": "execute_result"
    }
   ],
   "source": [
    "list1=[10,20,2,5,75]\n",
    "list1"
   ]
  },
  {
   "cell_type": "code",
   "execution_count": 90,
   "id": "56fe342c-24a9-4db4-aa44-fdce44cb396a",
   "metadata": {},
   "outputs": [
    {
     "name": "stdout",
     "output_type": "stream",
     "text": [
      "banana cherry apple Apple "
     ]
    }
   ],
   "source": [
    "a=reversed(list2)\n",
    "for i in a:\n",
    "    print(i,end=' ')"
   ]
  },
  {
   "cell_type": "code",
   "execution_count": 98,
   "id": "7735d8e3-98db-48bb-ac1c-1dcd7236bd30",
   "metadata": {},
   "outputs": [
    {
     "ename": "TypeError",
     "evalue": "'int' object is not iterable",
     "output_type": "error",
     "traceback": [
      "\u001b[1;31m---------------------------------------------------------------------------\u001b[0m",
      "\u001b[1;31mTypeError\u001b[0m                                 Traceback (most recent call last)",
      "Cell \u001b[1;32mIn[98], line 1\u001b[0m\n\u001b[1;32m----> 1\u001b[0m \u001b[38;5;28;01mfor\u001b[39;00m i \u001b[38;5;129;01min\u001b[39;00m (\u001b[38;5;28mlen\u001b[39m(list1)):\n\u001b[0;32m      2\u001b[0m     \u001b[38;5;28mprint\u001b[39m(i,end\u001b[38;5;241m=\u001b[39m\u001b[38;5;124m'\u001b[39m\u001b[38;5;124m \u001b[39m\u001b[38;5;124m'\u001b[39m)\n",
      "\u001b[1;31mTypeError\u001b[0m: 'int' object is not iterable"
     ]
    }
   ],
   "source": [
    "for i in (len(list1)):\n",
    "    print(i,end=' ')"
   ]
  },
  {
   "cell_type": "code",
   "execution_count": null,
   "id": "b63b94f2-e150-4c7c-b8d2-75265207a39d",
   "metadata": {},
   "outputs": [],
   "source": [
    "    -type\n",
    "\n",
    "    - len\n",
    "\n",
    "    - sum\n",
    "    \n",
    "    - max\n",
    "     \n",
    "    - min\n",
    "    \n",
    "    - sorted\n",
    "    \n",
    "    - reveresed\n"
   ]
  },
  {
   "cell_type": "code",
   "execution_count": 126,
   "id": "cd43728b-0d4b-4593-a422-89164578b10a",
   "metadata": {},
   "outputs": [
    {
     "data": {
      "text/plain": [
       "([10, 20, 2, 5, 75],\n",
       " ['Apple', 'apple', 'cherry', 'banana'],\n",
       " [10, 20, 2, 5, 75, 'Apple', 'apple', 'cherry', 'banana'])"
      ]
     },
     "execution_count": 126,
     "metadata": {},
     "output_type": "execute_result"
    }
   ],
   "source": [
    "list1=[10,20,2,5,75]\n",
    "list2=['Apple','apple','cherry','banana']\n",
    "list3=[10,20,2,5,75,'Apple','apple','cherry','banana']\n",
    "list1,list2,list3"
   ]
  },
  {
   "cell_type": "code",
   "execution_count": 128,
   "id": "436cbbb1-40ec-4ff5-900b-5fed20edff76",
   "metadata": {},
   "outputs": [
    {
     "data": {
      "text/plain": [
       "(75,\n",
       " ['Apple', 'apple', 'cherry', 'banana'],\n",
       " [10, 20, 2, 5, 75, 'Apple', 'apple', 'cherry', 'banana'])"
      ]
     },
     "execution_count": 128,
     "metadata": {},
     "output_type": "execute_result"
    }
   ],
   "source": [
    "max(list1),(list2),(list3)"
   ]
  },
  {
   "cell_type": "code",
   "execution_count": 130,
   "id": "7fa4ff3b-8f46-4cef-bea0-9383993ae006",
   "metadata": {},
   "outputs": [
    {
     "data": {
      "text/plain": [
       "(2,\n",
       " ['Apple', 'apple', 'cherry', 'banana'],\n",
       " [10, 20, 2, 5, 75, 'Apple', 'apple', 'cherry', 'banana'])"
      ]
     },
     "execution_count": 130,
     "metadata": {},
     "output_type": "execute_result"
    }
   ],
   "source": [
    "min(list1),(list2),list3"
   ]
  },
  {
   "cell_type": "code",
   "execution_count": 132,
   "id": "d77362c2-a8a4-4e12-927a-7c028afb823f",
   "metadata": {},
   "outputs": [
    {
     "data": {
      "text/plain": [
       "(5,\n",
       " ['Apple', 'apple', 'cherry', 'banana'],\n",
       " [10, 20, 2, 5, 75, 'Apple', 'apple', 'cherry', 'banana'])"
      ]
     },
     "execution_count": 132,
     "metadata": {},
     "output_type": "execute_result"
    }
   ],
   "source": [
    "len(list1),(list2),list3"
   ]
  },
  {
   "cell_type": "code",
   "execution_count": 134,
   "id": "41b7626d-97d5-4b28-8923-05646fbf1617",
   "metadata": {},
   "outputs": [
    {
     "data": {
      "text/plain": [
       "(<list_reverseiterator at 0x20c97c690f0>,\n",
       " ['Apple', 'apple', 'cherry', 'banana'],\n",
       " [10, 20, 2, 5, 75, 'Apple', 'apple', 'cherry', 'banana'])"
      ]
     },
     "execution_count": 134,
     "metadata": {},
     "output_type": "execute_result"
    }
   ],
   "source": [
    "reversed(list1),(list2),list3"
   ]
  },
  {
   "cell_type": "code",
   "execution_count": 138,
   "id": "3138d119-c4e3-43cf-96dc-9933475d2797",
   "metadata": {},
   "outputs": [
    {
     "name": "stdout",
     "output_type": "stream",
     "text": [
      "75 5 2 20 10 "
     ]
    }
   ],
   "source": [
    "a=reversed(list1)\n",
    "for i in a:\n",
    "    print(i,end=' ')"
   ]
  },
  {
   "cell_type": "code",
   "execution_count": 140,
   "id": "45a5aea9-e97f-4b1a-8efe-e3d5a4b755cc",
   "metadata": {},
   "outputs": [
    {
     "name": "stdout",
     "output_type": "stream",
     "text": [
      "banana cherry apple Apple "
     ]
    }
   ],
   "source": [
    "a=reversed(list2)\n",
    "for i in a:\n",
    "    print(i,end=' ')"
   ]
  },
  {
   "cell_type": "code",
   "execution_count": 142,
   "id": "fba8e22e-43dd-486f-8fa4-3dcc09e05600",
   "metadata": {},
   "outputs": [
    {
     "name": "stdout",
     "output_type": "stream",
     "text": [
      "banana cherry apple Apple 75 5 2 20 10 "
     ]
    }
   ],
   "source": [
    "a=reversed(list3)\n",
    "for i in a:\n",
    "    print(i,end=' ')"
   ]
  },
  {
   "cell_type": "code",
   "execution_count": null,
   "id": "07b90daf-d855-4d78-8b9b-12c451238a11",
   "metadata": {},
   "outputs": [],
   "source": [
    "# in the interview\n",
    "# list1=[10,20,2,5,75]\n",
    "# Q1) sort the list with out sorted function\n",
    "# Q2)find the max value withe out max function\n",
    "# Q3) find the min value with out min function\n",
    "# Q4) reverst the element with out revresd function\n",
    "# Q5) sum the element with out sum function\n",
    "# Q6) find the second max and second min"
   ]
  },
  {
   "cell_type": "markdown",
   "id": "23b6d3eb-055e-4b94-8d86-f428b8844039",
   "metadata": {},
   "source": [
    "**Concatenation**"
   ]
  },
  {
   "cell_type": "code",
   "execution_count": 145,
   "id": "9415dd1c-e5a9-4c61-a69f-0cb3f900e1a0",
   "metadata": {},
   "outputs": [
    {
     "data": {
      "text/plain": [
       "[1, 2, 3, 4]"
      ]
     },
     "execution_count": 145,
     "metadata": {},
     "output_type": "execute_result"
    }
   ],
   "source": [
    "list1=[1,2,3,4]\n",
    "list1"
   ]
  },
  {
   "cell_type": "code",
   "execution_count": 149,
   "id": "7632323f-d353-45d3-906c-c74123b6fa31",
   "metadata": {},
   "outputs": [
    {
     "data": {
      "text/plain": [
       "['A', 'B', 'C', 'D']"
      ]
     },
     "execution_count": 149,
     "metadata": {},
     "output_type": "execute_result"
    }
   ],
   "source": [
    "list2=['A','B','C','D']\n",
    "list2"
   ]
  },
  {
   "cell_type": "code",
   "execution_count": 153,
   "id": "85950f4a-ff9f-4f2d-ba91-83eddaa69b84",
   "metadata": {},
   "outputs": [
    {
     "name": "stdout",
     "output_type": "stream",
     "text": [
      "pythonpython\n"
     ]
    }
   ],
   "source": [
    "print('python'*2)"
   ]
  },
  {
   "cell_type": "code",
   "execution_count": 155,
   "id": "13e23b84-bbb8-4654-84d9-bc259a94fcc4",
   "metadata": {},
   "outputs": [
    {
     "name": "stdout",
     "output_type": "stream",
     "text": [
      "pythonpython\n"
     ]
    }
   ],
   "source": [
    "print('python'+'python')"
   ]
  },
  {
   "cell_type": "code",
   "execution_count": 157,
   "id": "061b67cd-4cd4-439a-8b52-c47d592c4b5a",
   "metadata": {},
   "outputs": [
    {
     "data": {
      "text/plain": [
       "[1, 2, 3, 4, 'A', 'B', 'C', 'D']"
      ]
     },
     "execution_count": 157,
     "metadata": {},
     "output_type": "execute_result"
    }
   ],
   "source": [
    "list1+list2"
   ]
  },
  {
   "cell_type": "markdown",
   "id": "a45d10f5-5e3f-4914-ab12-f0e312a30316",
   "metadata": {},
   "source": [
    "**index**"
   ]
  },
  {
   "cell_type": "code",
   "execution_count": 160,
   "id": "864701f2-cc14-45cc-9e5e-539dae3765da",
   "metadata": {},
   "outputs": [
    {
     "data": {
      "text/plain": [
       "(10, 10)"
      ]
     },
     "execution_count": 160,
     "metadata": {},
     "output_type": "execute_result"
    }
   ],
   "source": [
    "list1=[10,20,30,'A','B','C']\n",
    "list1[0],list1[-6]"
   ]
  },
  {
   "cell_type": "code",
   "execution_count": 164,
   "id": "b9d8e974-3a69-48f9-89db-8b9b5cac965d",
   "metadata": {},
   "outputs": [
    {
     "name": "stdout",
     "output_type": "stream",
     "text": [
      "the postive index of 10 is 0\n",
      "the postive index of 20 is 1\n",
      "the postive index of 30 is 2\n",
      "the postive index of A is 3\n",
      "the postive index of B is 4\n",
      "the postive index of C is 5\n"
     ]
    }
   ],
   "source": [
    "list1=[10,20,30,'A','B','C']\n",
    "for i in range(len(list1)):\n",
    "    print(f'the postive index of {list1[i]} is {i}')"
   ]
  },
  {
   "cell_type": "code",
   "execution_count": 168,
   "id": "3134879d-e3a6-4b06-a2ed-2a76e0838b61",
   "metadata": {},
   "outputs": [
    {
     "name": "stdout",
     "output_type": "stream",
     "text": [
      "the postive index of 10 is 0\n",
      "the postive index of 20 is 1\n",
      "the postive index of 30 is 2\n",
      "the postive index of A is 3\n",
      "the postive index of B is 4\n",
      "the postive index of C is 5\n"
     ]
    }
   ],
   "source": [
    "list1=[10,20,30,'A','B','C']\n",
    "for i in range(len(list1)):\n",
    "    print(f'the postive index of {list1[i]} is {i}')"
   ]
  },
  {
   "cell_type": "code",
   "execution_count": 176,
   "id": "eb4d90ae-15ae-4e31-9836-3e83a5cdb648",
   "metadata": {},
   "outputs": [
    {
     "data": {
      "text/plain": [
       "10"
      ]
     },
     "execution_count": 176,
     "metadata": {},
     "output_type": "execute_result"
    }
   ],
   "source": [
    "list1=[[10]]\n",
    "list1[0][0]"
   ]
  },
  {
   "cell_type": "code",
   "execution_count": 178,
   "id": "2f7d12c7-3e44-43eb-b0ce-0acf062acdbf",
   "metadata": {},
   "outputs": [
    {
     "data": {
      "text/plain": [
       "1"
      ]
     },
     "execution_count": 178,
     "metadata": {},
     "output_type": "execute_result"
    }
   ],
   "source": [
    "list1=[[10,20]]\n",
    "len(list1)"
   ]
  },
  {
   "cell_type": "code",
   "execution_count": 188,
   "id": "2497bf71-71fd-4ecc-bdd8-2e8f4a402d3c",
   "metadata": {},
   "outputs": [
    {
     "ename": "TypeError",
     "evalue": "'tuple' object is not callable",
     "output_type": "error",
     "traceback": [
      "\u001b[1;31m---------------------------------------------------------------------------\u001b[0m",
      "\u001b[1;31mTypeError\u001b[0m                                 Traceback (most recent call last)",
      "Cell \u001b[1;32mIn[188], line 3\u001b[0m\n\u001b[0;32m      1\u001b[0m list1\u001b[38;5;241m=\u001b[39m[[\u001b[38;5;241m10\u001b[39m,\u001b[38;5;241m20\u001b[39m]]\n\u001b[0;32m      2\u001b[0m list2\u001b[38;5;241m=\u001b[39m[\u001b[38;5;241m10\u001b[39m,\u001b[38;5;241m20\u001b[39m]\n\u001b[1;32m----> 3\u001b[0m \u001b[38;5;28mlen\u001b[39m(list1),\u001b[38;5;28mlen\u001b[39m(list2)\n",
      "\u001b[1;31mTypeError\u001b[0m: 'tuple' object is not callable"
     ]
    }
   ],
   "source": [
    "list1=[[10,20]]\n",
    "list2=[10,20]\n",
    "len(list1),len(list2)"
   ]
  },
  {
   "cell_type": "code",
   "execution_count": 190,
   "id": "29f6d46e-541f-4460-87a9-465dbce27b75",
   "metadata": {},
   "outputs": [
    {
     "ename": "TypeError",
     "evalue": "'tuple' object is not callable",
     "output_type": "error",
     "traceback": [
      "\u001b[1;31m---------------------------------------------------------------------------\u001b[0m",
      "\u001b[1;31mTypeError\u001b[0m                                 Traceback (most recent call last)",
      "Cell \u001b[1;32mIn[190], line 2\u001b[0m\n\u001b[0;32m      1\u001b[0m list1\u001b[38;5;241m=\u001b[39m[\u001b[38;5;241m10\u001b[39m,[\u001b[38;5;241m20\u001b[39m]]\n\u001b[1;32m----> 2\u001b[0m \u001b[38;5;28mlen\u001b[39m(list1)\n",
      "\u001b[1;31mTypeError\u001b[0m: 'tuple' object is not callable"
     ]
    }
   ],
   "source": [
    "list1=[10,[20]]\n",
    "len(list1)"
   ]
  },
  {
   "cell_type": "code",
   "execution_count": 192,
   "id": "c632e20a-1dfc-4efd-8ed9-d3c4d4eaf266",
   "metadata": {},
   "outputs": [
    {
     "data": {
      "text/plain": [
       "20"
      ]
     },
     "execution_count": 192,
     "metadata": {},
     "output_type": "execute_result"
    }
   ],
   "source": [
    "list1[1][0]"
   ]
  },
  {
   "cell_type": "code",
   "execution_count": 198,
   "id": "ea4acc74-f941-4db5-80bc-8cb5b9383bef",
   "metadata": {},
   "outputs": [
    {
     "data": {
      "text/plain": [
       "'a'"
      ]
     },
     "execution_count": 198,
     "metadata": {},
     "output_type": "execute_result"
    }
   ],
   "source": [
    "list1=[10,20,30,'A','Banana','Cherry']\n",
    "list1[4][1]"
   ]
  },
  {
   "cell_type": "code",
   "execution_count": 204,
   "id": "7cfd5b3b-0fa4-4c1d-8dcf-f30ffe34962e",
   "metadata": {},
   "outputs": [
    {
     "data": {
      "text/plain": [
       "'cherry'"
      ]
     },
     "execution_count": 204,
     "metadata": {},
     "output_type": "execute_result"
    }
   ],
   "source": [
    "list1=['A',['Apple','B',['banana'],'C',['cherry']]]\n",
    "list1[1][4][0]"
   ]
  },
  {
   "cell_type": "code",
   "execution_count": 218,
   "id": "9b3fc124-6442-4405-9b86-3238847c0295",
   "metadata": {},
   "outputs": [
    {
     "data": {
      "text/plain": [
       "'dregon fruite'"
      ]
     },
     "execution_count": 218,
     "metadata": {},
     "output_type": "execute_result"
    }
   ],
   "source": [
    "list1=['A',['Apple','B',['banana','C',['cherry','D',['dregon fruite']]]]]\n",
    "list1[1][2][2][2][0]"
   ]
  },
  {
   "cell_type": "code",
   "execution_count": 222,
   "id": "129a6e05-dde9-4e28-b9dd-abd05bf02e6d",
   "metadata": {},
   "outputs": [
    {
     "data": {
      "text/plain": [
       "'bat'"
      ]
     },
     "execution_count": 222,
     "metadata": {},
     "output_type": "execute_result"
    }
   ],
   "source": [
    "list1=['Apple',['kasmir',['india',['criket',['bat']]]]]\n",
    "list1[1][1][1][1][0]"
   ]
  },
  {
   "cell_type": "code",
   "execution_count": 2,
   "id": "574b7e70-3a11-4498-8c62-e06c780ec752",
   "metadata": {},
   "outputs": [
    {
     "data": {
      "text/plain": [
       "'viky'"
      ]
     },
     "execution_count": 2,
     "metadata": {},
     "output_type": "execute_result"
    }
   ],
   "source": [
    "list1=['oreange',['nagput',['MH',['shivaji maharaj',['shamabji',['viky']]]]]]\n",
    "list1[1][1][1][1][1][0]"
   ]
  },
  {
   "cell_type": "markdown",
   "id": "08ecd044-ca10-482b-88ea-87f8fb162619",
   "metadata": {},
   "source": [
    "**range vs in**\n",
    "\n",
    "- when we have use with index then go for range\n",
    "\n",
    "- when we have use with only element go for in"
   ]
  },
  {
   "cell_type": "markdown",
   "id": "68045e93-b1df-4293-936f-da8de8b069b0",
   "metadata": {},
   "source": [
    "**mutable vs immutable**"
   ]
  },
  {
   "cell_type": "code",
   "execution_count": 8,
   "id": "1cce646c-80e5-481c-831b-1098f0dbf6a8",
   "metadata": {},
   "outputs": [
    {
     "data": {
      "text/plain": [
       "[300, 20, 30, 40]"
      ]
     },
     "execution_count": 8,
     "metadata": {},
     "output_type": "execute_result"
    }
   ],
   "source": [
    "l1=[10,20,30,40]\n",
    "l1[0]=300\n",
    "l1"
   ]
  },
  {
   "cell_type": "code",
   "execution_count": 12,
   "id": "58195031-8ffe-4d55-89e6-0bace5d9d7b7",
   "metadata": {},
   "outputs": [
    {
     "data": {
      "text/plain": [
       "['m', 'h', 't', 'h', 'u', 'n']"
      ]
     },
     "execution_count": 12,
     "metadata": {},
     "output_type": "execute_result"
    }
   ],
   "source": [
    "l1=['m','i','t','h','u','n']\n",
    "l1[1]='h'\n",
    "l1"
   ]
  },
  {
   "cell_type": "markdown",
   "id": "b23e2b1a-762a-4655-a177-a75a490091a6",
   "metadata": {},
   "source": [
    "**list are mutable**"
   ]
  },
  {
   "cell_type": "markdown",
   "id": "d63e1b24-6b87-4070-9e9c-7be2b76316d3",
   "metadata": {},
   "source": [
    "**slice**"
   ]
  },
  {
   "cell_type": "code",
   "execution_count": 18,
   "id": "8ada4e62-4f9c-4906-9afc-036a20cc7641",
   "metadata": {},
   "outputs": [
    {
     "data": {
      "text/plain": [
       "[10, 20, 30, 40, 50, 'A', 'B', 'C', 'D', 'E', 'apple', 'banana']"
      ]
     },
     "execution_count": 18,
     "metadata": {},
     "output_type": "execute_result"
    }
   ],
   "source": [
    "l1=[10,20,30,40,50,'A','B','C','D','E','apple','banana']\n",
    "l1[:]"
   ]
  },
  {
   "cell_type": "code",
   "execution_count": 20,
   "id": "1e5c910c-9184-41f9-bb7d-1d0bfc567dfc",
   "metadata": {},
   "outputs": [
    {
     "data": {
      "text/plain": [
       "[10, 20, 30, 40, 50, 'A', 'B', 'C', 'D', 'E', 'apple', 'banana']"
      ]
     },
     "execution_count": 20,
     "metadata": {},
     "output_type": "execute_result"
    }
   ],
   "source": [
    "l1=[10,20,30,40,50,'A','B','C','D','E','apple','banana']\n",
    "l1[::]"
   ]
  },
  {
   "cell_type": "code",
   "execution_count": 22,
   "id": "c2f4d86f-1714-4089-af1a-05a316bf2881",
   "metadata": {},
   "outputs": [
    {
     "data": {
      "text/plain": [
       "['banana', 'apple', 'E', 'D', 'C', 'B', 'A', 50, 40, 30, 20, 10]"
      ]
     },
     "execution_count": 22,
     "metadata": {},
     "output_type": "execute_result"
    }
   ],
   "source": [
    "l1=[10,20,30,40,50,'A','B','C','D','E','apple','banana']\n",
    "l1[::-1]"
   ]
  },
  {
   "cell_type": "code",
   "execution_count": 24,
   "id": "2928eeea-82db-473c-a55d-305b2de8bd30",
   "metadata": {},
   "outputs": [
    {
     "data": {
      "text/plain": [
       "[30, 50, 'B', 'D']"
      ]
     },
     "execution_count": 24,
     "metadata": {},
     "output_type": "execute_result"
    }
   ],
   "source": [
    "l1=[10,20,30,40,50,'A','B','C','D','E','apple','banana']\n",
    "l1[2:10:2]"
   ]
  },
  {
   "cell_type": "code",
   "execution_count": 28,
   "id": "baf8a0ef-34ca-4eb4-935c-301708db2470",
   "metadata": {},
   "outputs": [
    {
     "data": {
      "text/plain": [
       "[]"
      ]
     },
     "execution_count": 28,
     "metadata": {},
     "output_type": "execute_result"
    }
   ],
   "source": [
    "l1=[10,20,30,40,50,'A','B','C','D','E','apple','banana']\n",
    "l1[2:10:-2]"
   ]
  },
  {
   "cell_type": "code",
   "execution_count": 30,
   "id": "fb92e76a-68a4-4eb6-8f76-38d4d5ec60d5",
   "metadata": {},
   "outputs": [
    {
     "data": {
      "text/plain": [
       "[30, 50, 'B', 'D']"
      ]
     },
     "execution_count": 30,
     "metadata": {},
     "output_type": "execute_result"
    }
   ],
   "source": [
    "l1[2:10:2]"
   ]
  },
  {
   "cell_type": "code",
   "execution_count": 32,
   "id": "dee26e0f-26b7-4280-9dbd-9422a33757bb",
   "metadata": {},
   "outputs": [
    {
     "data": {
      "text/plain": [
       "[]"
      ]
     },
     "execution_count": 32,
     "metadata": {},
     "output_type": "execute_result"
    }
   ],
   "source": [
    "l1[-2:10:2]"
   ]
  },
  {
   "cell_type": "code",
   "execution_count": 34,
   "id": "ad1a2aec-fd18-4f6b-b798-2d8c554c3f62",
   "metadata": {},
   "outputs": [
    {
     "data": {
      "text/plain": [
       "[]"
      ]
     },
     "execution_count": 34,
     "metadata": {},
     "output_type": "execute_result"
    }
   ],
   "source": [
    "l1[2:-10:-2]"
   ]
  },
  {
   "cell_type": "code",
   "execution_count": 36,
   "id": "75ba2137-2f7e-4b43-9239-abf7fff1bd6f",
   "metadata": {},
   "outputs": [
    {
     "data": {
      "text/plain": [
       "[]"
      ]
     },
     "execution_count": 36,
     "metadata": {},
     "output_type": "execute_result"
    }
   ],
   "source": [
    "l1[-2:10:-2]"
   ]
  },
  {
   "cell_type": "code",
   "execution_count": 38,
   "id": "8f4eed2a-46d2-43d5-ba80-37dde5dcac3d",
   "metadata": {},
   "outputs": [
    {
     "data": {
      "text/plain": [
       "[]"
      ]
     },
     "execution_count": 38,
     "metadata": {},
     "output_type": "execute_result"
    }
   ],
   "source": [
    "l1[-2:-10:2]"
   ]
  },
  {
   "cell_type": "code",
   "execution_count": 40,
   "id": "d8ffec7b-d1ce-4468-86f8-f6cc55a64249",
   "metadata": {},
   "outputs": [
    {
     "data": {
      "text/plain": [
       "['apple', 'D', 'B', 50]"
      ]
     },
     "execution_count": 40,
     "metadata": {},
     "output_type": "execute_result"
    }
   ],
   "source": [
    "l1[-2:-10:-2]"
   ]
  },
  {
   "cell_type": "code",
   "execution_count": 42,
   "id": "7b248837-ff9f-4d06-96a6-9fb8ff1c3920",
   "metadata": {},
   "outputs": [
    {
     "data": {
      "text/plain": [
       "[]"
      ]
     },
     "execution_count": 42,
     "metadata": {},
     "output_type": "execute_result"
    }
   ],
   "source": [
    "l1[10:2:2]"
   ]
  },
  {
   "cell_type": "code",
   "execution_count": 44,
   "id": "1414176f-19cf-4645-a989-21943b4c1d2a",
   "metadata": {},
   "outputs": [
    {
     "data": {
      "text/plain": [
       "['apple', 'D', 'B', 50]"
      ]
     },
     "execution_count": 44,
     "metadata": {},
     "output_type": "execute_result"
    }
   ],
   "source": [
    "l1[10:2:-2]"
   ]
  },
  {
   "cell_type": "code",
   "execution_count": 46,
   "id": "68044318-c2f0-4e6b-b8aa-d65dba3fffa8",
   "metadata": {},
   "outputs": [
    {
     "data": {
      "text/plain": [
       "[]"
      ]
     },
     "execution_count": 46,
     "metadata": {},
     "output_type": "execute_result"
    }
   ],
   "source": [
    "l1[10:-2:2]"
   ]
  },
  {
   "cell_type": "code",
   "execution_count": 54,
   "id": "4134ee1d-c91f-4171-a3cd-9e4670aad1ce",
   "metadata": {},
   "outputs": [
    {
     "data": {
      "text/plain": [
       "[]"
      ]
     },
     "execution_count": 54,
     "metadata": {},
     "output_type": "execute_result"
    }
   ],
   "source": [
    "l1[-10:2:-2]"
   ]
  },
  {
   "cell_type": "code",
   "execution_count": 50,
   "id": "54245911-ca52-4121-aa23-cfc3354143fc",
   "metadata": {},
   "outputs": [
    {
     "data": {
      "text/plain": [
       "[]"
      ]
     },
     "execution_count": 50,
     "metadata": {},
     "output_type": "execute_result"
    }
   ],
   "source": [
    "l1[-10:-2:-2]"
   ]
  },
  {
   "cell_type": "markdown",
   "id": "09ad819d-4f49-45c1-b392-374b2c47007d",
   "metadata": {},
   "source": [
    "**method**"
   ]
  },
  {
   "cell_type": "code",
   "execution_count": null,
   "id": "cbb057f4-0852-452d-a2d9-477a85ba68fb",
   "metadata": {},
   "outputs": [],
   "source": [
    "- if we wants to knaow the string method\n",
    "\n"
   ]
  },
  {
   "cell_type": "code",
   "execution_count": 58,
   "id": "30dbb815-d5ef-4df4-8a06-08daa3ce51e2",
   "metadata": {},
   "outputs": [
    {
     "data": {
      "text/plain": [
       "['__add__',\n",
       " '__class__',\n",
       " '__class_getitem__',\n",
       " '__contains__',\n",
       " '__delattr__',\n",
       " '__delitem__',\n",
       " '__dir__',\n",
       " '__doc__',\n",
       " '__eq__',\n",
       " '__format__',\n",
       " '__ge__',\n",
       " '__getattribute__',\n",
       " '__getitem__',\n",
       " '__getstate__',\n",
       " '__gt__',\n",
       " '__hash__',\n",
       " '__iadd__',\n",
       " '__imul__',\n",
       " '__init__',\n",
       " '__init_subclass__',\n",
       " '__iter__',\n",
       " '__le__',\n",
       " '__len__',\n",
       " '__lt__',\n",
       " '__mul__',\n",
       " '__ne__',\n",
       " '__new__',\n",
       " '__reduce__',\n",
       " '__reduce_ex__',\n",
       " '__repr__',\n",
       " '__reversed__',\n",
       " '__rmul__',\n",
       " '__setattr__',\n",
       " '__setitem__',\n",
       " '__sizeof__',\n",
       " '__str__',\n",
       " '__subclasshook__',\n",
       " 'append',\n",
       " 'clear',\n",
       " 'copy',\n",
       " 'count',\n",
       " 'extend',\n",
       " 'index',\n",
       " 'insert',\n",
       " 'pop',\n",
       " 'remove',\n",
       " 'reverse',\n",
       " 'sort']"
      ]
     },
     "execution_count": 58,
     "metadata": {},
     "output_type": "execute_result"
    }
   ],
   "source": [
    "dir([])"
   ]
  },
  {
   "cell_type": "code",
   "execution_count": null,
   "id": "5a3621c5-5410-4b18-9dfa-0ff5dd5ab35f",
   "metadata": {},
   "outputs": [],
   "source": [
    " 'append',\n",
    " 'clear',\n",
    " 'copy',\n",
    " 'count',\n",
    " 'extend',\n",
    " 'index',\n",
    " 'insert',\n",
    " 'pop',\n",
    " 'remove',\n",
    " 'reverse',\n",
    " 'sort']"
   ]
  },
  {
   "cell_type": "code",
   "execution_count": 75,
   "id": "f9860b55-4561-4f43-8a2a-bba8c93d7b9e",
   "metadata": {},
   "outputs": [
    {
     "ename": "TypeError",
     "evalue": "list.append() takes exactly one argument (0 given)",
     "output_type": "error",
     "traceback": [
      "\u001b[1;31m---------------------------------------------------------------------------\u001b[0m",
      "\u001b[1;31mTypeError\u001b[0m                                 Traceback (most recent call last)",
      "Cell \u001b[1;32mIn[75], line 2\u001b[0m\n\u001b[0;32m      1\u001b[0m list1\u001b[38;5;241m=\u001b[39m[\u001b[38;5;124m'\u001b[39m\u001b[38;5;124mmithun\u001b[39m\u001b[38;5;124m'\u001b[39m]\n\u001b[1;32m----> 2\u001b[0m list1\u001b[38;5;241m.\u001b[39mappend()\n",
      "\u001b[1;31mTypeError\u001b[0m: list.append() takes exactly one argument (0 given)"
     ]
    }
   ],
   "source": [
    "list1=['mithun']\n",
    "list1.append()"
   ]
  },
  {
   "cell_type": "code",
   "execution_count": 90,
   "id": "886ac797-ff5f-4d7f-b415-73e06111e4d4",
   "metadata": {},
   "outputs": [
    {
     "name": "stdout",
     "output_type": "stream",
     "text": [
      "[]\n"
     ]
    }
   ],
   "source": [
    "l1=[10,20,30,40,50,'A','B','C','D','E','apple','banana']\n",
    "l1.clear()\n",
    "print(l1)"
   ]
  },
  {
   "cell_type": "code",
   "execution_count": 80,
   "id": "13373af0-0768-4cdd-9094-060a69722158",
   "metadata": {},
   "outputs": [
    {
     "name": "stdout",
     "output_type": "stream",
     "text": [
      "[]\n"
     ]
    }
   ],
   "source": [
    "l1.copy()\n",
    "print(l1)"
   ]
  },
  {
   "cell_type": "code",
   "execution_count": 98,
   "id": "ec84a921-8c34-49cb-8b0c-0c854d5d1b6c",
   "metadata": {},
   "outputs": [
    {
     "name": "stdout",
     "output_type": "stream",
     "text": [
      "[]\n",
      "[10, 20, 30, 40, 50, 'A', 'B', 'C', 'D', 'E', 50, 'apple', 'banana']\n"
     ]
    }
   ],
   "source": [
    "l1=[10,20,30,40,50,'A','B','C','D','E',50,'apple','banana']\n",
    "l2=l1.copy()\n",
    "l1.clear()\n",
    "print(l1)\n",
    "print(l2)"
   ]
  },
  {
   "cell_type": "code",
   "execution_count": 104,
   "id": "38b4472c-1c48-42a9-ab5f-4016fe872186",
   "metadata": {},
   "outputs": [
    {
     "data": {
      "text/plain": [
       "11"
      ]
     },
     "execution_count": 104,
     "metadata": {},
     "output_type": "execute_result"
    }
   ],
   "source": [
    "l1=[10,20,30,40,50,'A','B','C','D','E','apple','banana',50,50,50,50,50,50,50,50,50,50]\n",
    "l1.count(50)"
   ]
  },
  {
   "cell_type": "markdown",
   "id": "2d71c27d-4e4a-4eb5-af32-384cde73dc97",
   "metadata": {},
   "source": [
    "**append**\n",
    "- append is very very imported method inthe entire lis\n",
    "\n",
    "- i our life we will use thise method very very frequently\n",
    "\n",
    "- append means ading an element as last"
   ]
  },
  {
   "cell_type": "code",
   "execution_count": 117,
   "id": "b9360ad1-1444-4281-ad52-edcc1e986788",
   "metadata": {},
   "outputs": [
    {
     "data": {
      "text/plain": [
       "[10, 20, 30, 'apple']"
      ]
     },
     "execution_count": 117,
     "metadata": {},
     "output_type": "execute_result"
    }
   ],
   "source": [
    "l1=[10,20,30]\n",
    "l1.append('apple')\n",
    "l1"
   ]
  },
  {
   "cell_type": "code",
   "execution_count": 109,
   "id": "55edb587-aa1e-4721-94c9-e6a16392c3bb",
   "metadata": {},
   "outputs": [
    {
     "data": {
      "text/plain": [
       "[10, 20, 30, 'apple', 'banana']"
      ]
     },
     "execution_count": 109,
     "metadata": {},
     "output_type": "execute_result"
    }
   ],
   "source": [
    "l1=[10,20,30]\n",
    "l1.append('apple')\n",
    "l1.append('banana')\n",
    "l1"
   ]
  },
  {
   "cell_type": "code",
   "execution_count": 111,
   "id": "e8790f4e-0c8d-4b14-a42d-b3c4a35c3702",
   "metadata": {},
   "outputs": [
    {
     "ename": "TypeError",
     "evalue": "list.append() takes exactly one argument (2 given)",
     "output_type": "error",
     "traceback": [
      "\u001b[1;31m---------------------------------------------------------------------------\u001b[0m",
      "\u001b[1;31mTypeError\u001b[0m                                 Traceback (most recent call last)",
      "Cell \u001b[1;32mIn[111], line 2\u001b[0m\n\u001b[0;32m      1\u001b[0m l1\u001b[38;5;241m=\u001b[39m[\u001b[38;5;241m10\u001b[39m,\u001b[38;5;241m20\u001b[39m,\u001b[38;5;241m30\u001b[39m]\n\u001b[1;32m----> 2\u001b[0m l1\u001b[38;5;241m.\u001b[39mappend(\u001b[38;5;124m'\u001b[39m\u001b[38;5;124mapple\u001b[39m\u001b[38;5;124m'\u001b[39m,\u001b[38;5;124m'\u001b[39m\u001b[38;5;124mbanana\u001b[39m\u001b[38;5;124m'\u001b[39m)\n\u001b[0;32m      3\u001b[0m l1\n",
      "\u001b[1;31mTypeError\u001b[0m: list.append() takes exactly one argument (2 given)"
     ]
    }
   ],
   "source": [
    "l1=[10,20,30]\n",
    "l1.append('apple','banana')\n",
    "l1"
   ]
  },
  {
   "cell_type": "code",
   "execution_count": 115,
   "id": "29434c3e-32f2-421d-9b65-dfbfc99f4df1",
   "metadata": {},
   "outputs": [
    {
     "data": {
      "text/plain": [
       "[10, 20, 30, ['apple', 'banana']]"
      ]
     },
     "execution_count": 115,
     "metadata": {},
     "output_type": "execute_result"
    }
   ],
   "source": [
    "l1=[10,20,30]\n",
    "l1.append(['apple','banana'])\n",
    "l1"
   ]
  },
  {
   "cell_type": "code",
   "execution_count": null,
   "id": "2ea91c52-e3df-40a4-a7b7-c8aab575c048",
   "metadata": {},
   "outputs": [],
   "source": [
    "** always recall  if you see\n",
    "anywhere multiple value "
   ]
  },
  {
   "cell_type": "markdown",
   "id": "e7bb455d-a8ed-44ff-9310-3dc89989961f",
   "metadata": {},
   "source": [
    "**append method in used to store the outputs**"
   ]
  },
  {
   "cell_type": "code",
   "execution_count": null,
   "id": "cc33f6f4-afe5-4c99-999c-f945b2f53b3b",
   "metadata": {},
   "outputs": [],
   "source": [
    "# for example i want to append a number from 1 to 5\n",
    "# l=[1,2,3,4,5]\n",
    "\n"
   ]
  },
  {
   "cell_type": "code",
   "execution_count": 122,
   "id": "6fd50541-a854-4e36-85fd-93cba06422a0",
   "metadata": {},
   "outputs": [
    {
     "data": {
      "text/plain": [
       "[1, 2, 3, 4, 5]"
      ]
     },
     "execution_count": 122,
     "metadata": {},
     "output_type": "execute_result"
    }
   ],
   "source": [
    "l=[]\n",
    "for i in range(1,6):\n",
    "    l.append(i)\n",
    "\n",
    "l"
   ]
  },
  {
   "cell_type": "code",
   "execution_count": 124,
   "id": "a3093d6e-7926-4f78-9f9a-ecef963ae859",
   "metadata": {},
   "outputs": [
    {
     "data": {
      "text/plain": [
       "[1, 2, 3, 4, 5]"
      ]
     },
     "execution_count": 124,
     "metadata": {},
     "output_type": "execute_result"
    }
   ],
   "source": [
    "l=[]\n",
    "i=1\n",
    "while i<6:\n",
    "    l.append(i)\n",
    "    i=i+1\n",
    "\n",
    "l"
   ]
  },
  {
   "cell_type": "code",
   "execution_count": 130,
   "id": "235fe82d-d589-4d74-8aff-beca5de92d74",
   "metadata": {},
   "outputs": [
    {
     "name": "stdout",
     "output_type": "stream",
     "text": [
      "68\n",
      "85\n",
      "59\n"
     ]
    }
   ],
   "source": [
    "# wap ask the user enter 3 randon number\n",
    "import random\n",
    "for i in range(3):\n",
    "    num=random.randint(1,100)\n",
    "    print(num)"
   ]
  },
  {
   "cell_type": "code",
   "execution_count": 132,
   "id": "cbf21f73-e053-4bd7-947b-cd78d79167c6",
   "metadata": {},
   "outputs": [
    {
     "data": {
      "text/plain": [
       "[6, 16, 61]"
      ]
     },
     "execution_count": 132,
     "metadata": {},
     "output_type": "execute_result"
    }
   ],
   "source": [
    "l=[]\n",
    "import random\n",
    "for i in range(3):\n",
    "    num=random.randint(1,100)\n",
    "    l.append(num)\n",
    "\n",
    "l"
   ]
  },
  {
   "cell_type": "code",
   "execution_count": 134,
   "id": "6b95994c-92bb-4503-a99b-a3847e4987fe",
   "metadata": {},
   "outputs": [
    {
     "name": "stdout",
     "output_type": "stream",
     "text": [
      "93:8649\n",
      "76:5776\n",
      "4:16\n"
     ]
    }
   ],
   "source": [
    "import random\n",
    "for i in range(3):\n",
    "    num=random.randint(1,100)\n",
    "    print(f'{num}:{num*num}')"
   ]
  },
  {
   "cell_type": "code",
   "execution_count": 136,
   "id": "66872c8b-37bb-45d1-bc2f-d95b19bc8d74",
   "metadata": {},
   "outputs": [
    {
     "data": {
      "text/plain": [
       "['13:169', '92:8464', '54:2916']"
      ]
     },
     "execution_count": 136,
     "metadata": {},
     "output_type": "execute_result"
    }
   ],
   "source": [
    "import random\n",
    "l=[]\n",
    "for i in range(3):\n",
    "    num=random.randint(1,100)\n",
    "    l.append(f'{num}:{num*num}')\n",
    "\n",
    "l"
   ]
  },
  {
   "cell_type": "code",
   "execution_count": 167,
   "id": "393e81bb-fd20-4924-9b30-9ccc5db0beb9",
   "metadata": {},
   "outputs": [
    {
     "name": "stdout",
     "output_type": "stream",
     "text": [
      "0\n",
      "0\n"
     ]
    },
    {
     "data": {
      "text/plain": [
       "[10,\n",
       " 47,\n",
       " 53,\n",
       " 12,\n",
       " 27,\n",
       " '0 is an evan',\n",
       " '1 is an odd',\n",
       " '2 is an evan',\n",
       " '3 is an odd',\n",
       " '4 is an evan']"
      ]
     },
     "execution_count": 167,
     "metadata": {},
     "output_type": "execute_result"
    }
   ],
   "source": [
    "# Q2) i alreddy have a list of number\n",
    "l1=[10,47,53,12,27]\n",
    "evan_count=0\n",
    "odd_count=0\n",
    "for i in range(len(l1)):\n",
    "     num1=random.randint(1,100)\n",
    "    if num1%2==0:\n",
    "        l1.append(f\"{num1} is an evan\")\n",
    "        evan_count+i\n",
    "        \n",
    "    else:\n",
    "        l1.append(f\"{num1} is an odd\")\n",
    "        odd_count+i\n",
    "\n",
    "print(evan_count)\n",
    "print(odd_count)\n",
    "l1"
   ]
  },
  {
   "cell_type": "code",
   "execution_count": 55,
   "id": "25c92930-b42c-4543-9661-edd1fed11974",
   "metadata": {},
   "outputs": [
    {
     "name": "stdout",
     "output_type": "stream",
     "text": [
      "['hyd', 'bengaluru', 'pune', 'mumbai']\n"
     ]
    }
   ],
   "source": [
    "l2=['hyd','bengaluru','pune','mumbai']\n",
    "for i in range(len(l2)):\n",
    "    print(l2)  \n",
    "    break"
   ]
  },
  {
   "cell_type": "code",
   "execution_count": 51,
   "id": "f439bc0c-ade9-445b-bb05-d068ebb31f60",
   "metadata": {},
   "outputs": [
    {
     "ename": "AttributeError",
     "evalue": "'list' object has no attribute 'title'",
     "output_type": "error",
     "traceback": [
      "\u001b[1;31m---------------------------------------------------------------------------\u001b[0m",
      "\u001b[1;31mAttributeError\u001b[0m                            Traceback (most recent call last)",
      "Cell \u001b[1;32mIn[51], line 2\u001b[0m\n\u001b[0;32m      1\u001b[0m l1\u001b[38;5;241m=\u001b[39m[\u001b[38;5;124m'\u001b[39m\u001b[38;5;124mhyd\u001b[39m\u001b[38;5;124m'\u001b[39m,\u001b[38;5;124m'\u001b[39m\u001b[38;5;124mbengaluru\u001b[39m\u001b[38;5;124m'\u001b[39m,\u001b[38;5;124m'\u001b[39m\u001b[38;5;124mpune\u001b[39m\u001b[38;5;124m'\u001b[39m,\u001b[38;5;124m'\u001b[39m\u001b[38;5;124mmumbai\u001b[39m\u001b[38;5;124m'\u001b[39m]\n\u001b[1;32m----> 2\u001b[0m l1\u001b[38;5;241m.\u001b[39m title()\n",
      "\u001b[1;31mAttributeError\u001b[0m: 'list' object has no attribute 'title'"
     ]
    }
   ],
   "source": []
  },
  {
   "cell_type": "code",
   "execution_count": null,
   "id": "6343b1a6-3255-4e6a-a609-ed3700763185",
   "metadata": {},
   "outputs": [],
   "source": [
    "a=reversed(list2)\n",
    "for i in a:\n",
    "    print(i,end=' ')"
   ]
  },
  {
   "cell_type": "code",
   "execution_count": 57,
   "id": "95161ed1-0a90-49a6-a7f4-5d55bbba0400",
   "metadata": {},
   "outputs": [
    {
     "data": {
      "text/plain": [
       "['__add__',\n",
       " '__class__',\n",
       " '__class_getitem__',\n",
       " '__contains__',\n",
       " '__delattr__',\n",
       " '__delitem__',\n",
       " '__dir__',\n",
       " '__doc__',\n",
       " '__eq__',\n",
       " '__format__',\n",
       " '__ge__',\n",
       " '__getattribute__',\n",
       " '__getitem__',\n",
       " '__getstate__',\n",
       " '__gt__',\n",
       " '__hash__',\n",
       " '__iadd__',\n",
       " '__imul__',\n",
       " '__init__',\n",
       " '__init_subclass__',\n",
       " '__iter__',\n",
       " '__le__',\n",
       " '__len__',\n",
       " '__lt__',\n",
       " '__mul__',\n",
       " '__ne__',\n",
       " '__new__',\n",
       " '__reduce__',\n",
       " '__reduce_ex__',\n",
       " '__repr__',\n",
       " '__reversed__',\n",
       " '__rmul__',\n",
       " '__setattr__',\n",
       " '__setitem__',\n",
       " '__sizeof__',\n",
       " '__str__',\n",
       " '__subclasshook__',\n",
       " 'append',\n",
       " 'clear',\n",
       " 'copy',\n",
       " 'count',\n",
       " 'extend',\n",
       " 'index',\n",
       " 'insert',\n",
       " 'pop',\n",
       " 'remove',\n",
       " 'reverse',\n",
       " 'sort']"
      ]
     },
     "execution_count": 57,
     "metadata": {},
     "output_type": "execute_result"
    }
   ],
   "source": [
    "\n",
    "\n",
    "\n",
    "list=['mithun']\n",
    "dir(list)"
   ]
  },
  {
   "cell_type": "code",
   "execution_count": 7,
   "id": "2827519b-e63f-45ec-98fa-6cd6b44668e3",
   "metadata": {},
   "outputs": [
    {
     "name": "stdout",
     "output_type": "stream",
     "text": [
      "virat.kohli@rcb.com\n",
      "rohit.sharma@mi.com\n",
      "ms.dhoni@csk.com\n"
     ]
    },
    {
     "data": {
      "text/plain": [
       "(['virat', 'rohit', 'ms'], ['kohli', 'sharma', 'dhoni'])"
      ]
     },
     "execution_count": 7,
     "metadata": {},
     "output_type": "execute_result"
    }
   ],
   "source": [
    "# Q8) input='virat.kohli@rcb.com;rohit.sharma@mi.com;ms.dhoni@csk.com'\n",
    "#     fname=['virat','rohit'.'ms']\n",
    "#     sname=['kohli','sharma','dhoni']\n",
    "#     cname=['rcb','mi','csk']\n",
    "input='virat.kohli@rcb.com;rohit.sharma@mi.com;ms.dhoni@csk.com'\n",
    "l=input.split(';')\n",
    "fname=[]\n",
    "sname=[]\n",
    "cname=[]\n",
    "for i in l:\n",
    "    print(i)\n",
    "    id1=i.find('.')\n",
    "    id2=i.find('@')\n",
    "    id3=i.find('.',id1+1)\n",
    "    fname.append(i[:id1])\n",
    "    sname.append(i[id1+1:id2])\n",
    "    cname.append(i[id2+1:id3])\n",
    "\n",
    "fname,sname,c"
   ]
  },
  {
   "cell_type": "code",
   "execution_count": 14,
   "id": "81bdd8aa-bf9e-4254-974e-f8df51fa8ce3",
   "metadata": {},
   "outputs": [
    {
     "data": {
      "text/plain": [
       "['can:4', 'canner:3', 'you:3', 'not:1', 'with:1', 'but:1', 'the:1']"
      ]
     },
     "execution_count": 14,
     "metadata": {},
     "output_type": "execute_result"
    }
   ],
   "source": [
    "# Q9) input='can canner can you can not canner with you but you can the canner'\n",
    "#     output=['can'-4,'canner'-3,'you'-3,'not'-1,'with'-1,'but'-1,'the'-1]\n",
    "input='can canner can you can not canner with you but you can the canner'\n",
    "l=input.split()\n",
    "l1=[]\n",
    "counter=[]\n",
    "for i in l:\n",
    "    if i not in l1:\n",
    "        counter.append(f'{i}:{l.count(i)}')\n",
    "        l1.append(i)\n",
    "\n",
    "counter"
   ]
  },
  {
   "cell_type": "code",
   "execution_count": 22,
   "id": "c1b081a2-d426-4155-8706-c121639ed676",
   "metadata": {},
   "outputs": [
    {
     "data": {
      "text/plain": [
       "['can', 'canner', 'can', 'can', 'canner', 'can', 'the', 'canner']"
      ]
     },
     "execution_count": 22,
     "metadata": {},
     "output_type": "execute_result"
    }
   ],
   "source": [
    "# Q10) input = 'can canner can you can not canner with you but you can the canner'\n",
    "#      stopwords=['not','you','but','with']\n",
    "#      using stopwords remove those words from input\n",
    "#     output='can canner can can canner can canner'\n",
    "input = 'can canner can you can not canner with you but you can the canner'\n",
    "l=input.split()\n",
    "stopwords=['not','you','but','with']\n",
    "output=[]\n",
    "for i in l:\n",
    "    if i not in stopwords:\n",
    "        output.append(i)\n",
    "\n",
    "output"
   ]
  },
  {
   "cell_type": "code",
   "execution_count": 28,
   "id": "086494b3-e94e-4e6a-b35b-71c70dd88524",
   "metadata": {},
   "outputs": [
    {
     "data": {
      "text/plain": [
       "'can*********canner*********can*********can*********canner*********can*********the*********canner'"
      ]
     },
     "execution_count": 28,
     "metadata": {},
     "output_type": "execute_result"
    }
   ],
   "source": [
    "'*********'.join(output)"
   ]
  },
  {
   "cell_type": "code",
   "execution_count": 54,
   "id": "00d09a4b-383d-4157-9445-6655324467e9",
   "metadata": {},
   "outputs": [
    {
     "data": {
      "text/plain": [
       "['can', 'canner', 'you', 'not', 'with', 'but', 'the']"
      ]
     },
     "execution_count": 54,
     "metadata": {},
     "output_type": "execute_result"
    }
   ],
   "source": [
    "# Q11) take a string find the most repeated word from string\n",
    "input = 'can canner can you can not canner with you but you can the canner'\n",
    "['can:4', 'canner:3', 'you:3', 'not:1', 'with:1', 'but:1', 'the:1']\n",
    "element=['can','canner','you','not','with','but','the']\n",
    "letter=[4,3,3,1,1,1,1]\n",
    "l=input.split()\n",
    "l1=[]\n",
    "counter=[]\n",
    "for i in l:\n",
    "    if i not in l1:\n",
    "        counter.append(f'{i}')\n",
    "        l1.append(i)\n",
    "\n",
    "counter"
   ]
  },
  {
   "cell_type": "code",
   "execution_count": 56,
   "id": "aa3fe0a4-959c-4660-b581-b3004b170b75",
   "metadata": {},
   "outputs": [
    {
     "data": {
      "text/plain": [
       "['__add__',\n",
       " '__class__',\n",
       " '__class_getitem__',\n",
       " '__contains__',\n",
       " '__delattr__',\n",
       " '__delitem__',\n",
       " '__dir__',\n",
       " '__doc__',\n",
       " '__eq__',\n",
       " '__format__',\n",
       " '__ge__',\n",
       " '__getattribute__',\n",
       " '__getitem__',\n",
       " '__getstate__',\n",
       " '__gt__',\n",
       " '__hash__',\n",
       " '__iadd__',\n",
       " '__imul__',\n",
       " '__init__',\n",
       " '__init_subclass__',\n",
       " '__iter__',\n",
       " '__le__',\n",
       " '__len__',\n",
       " '__lt__',\n",
       " '__mul__',\n",
       " '__ne__',\n",
       " '__new__',\n",
       " '__reduce__',\n",
       " '__reduce_ex__',\n",
       " '__repr__',\n",
       " '__reversed__',\n",
       " '__rmul__',\n",
       " '__setattr__',\n",
       " '__setitem__',\n",
       " '__sizeof__',\n",
       " '__str__',\n",
       " '__subclasshook__',\n",
       " 'append',\n",
       " 'clear',\n",
       " 'copy',\n",
       " 'count',\n",
       " 'extend',\n",
       " 'index',\n",
       " 'insert',\n",
       " 'pop',\n",
       " 'remove',\n",
       " 'reverse',\n",
       " 'sort']"
      ]
     },
     "execution_count": 56,
     "metadata": {},
     "output_type": "execute_result"
    }
   ],
   "source": [
    "dir(list)"
   ]
  },
  {
   "cell_type": "markdown",
   "id": "c56486c2-2fab-46a2-b598-f8066a571c08",
   "metadata": {},
   "source": [
    "**extend**"
   ]
  },
  {
   "cell_type": "code",
   "execution_count": 59,
   "id": "303186ed-190c-4510-8638-ad56eb7de377",
   "metadata": {},
   "outputs": [],
   "source": [
    "l1=[1,2,3,4]\n",
    "l2=['A','B','C','D']\n",
    "l1.extend(l2)"
   ]
  },
  {
   "cell_type": "code",
   "execution_count": 65,
   "id": "bce3545a-a4c6-49a1-8afd-7b40ef568f58",
   "metadata": {},
   "outputs": [
    {
     "data": {
      "text/plain": [
       "['A', 'B', 'C', 'D', 1, 2, 3, 4]"
      ]
     },
     "execution_count": 65,
     "metadata": {},
     "output_type": "execute_result"
    }
   ],
   "source": [
    "l1=[1,2,3,4]\n",
    "l2=['A','B','C','D']\n",
    "l2.extend(l1)\n",
    "l2\n",
    "# find the diff between append axtend concatenation"
   ]
  },
  {
   "cell_type": "code",
   "execution_count": 67,
   "id": "9e8c8fa6-b2ea-4537-844a-3a05b8c193be",
   "metadata": {},
   "outputs": [
    {
     "data": {
      "text/plain": [
       "[1, 2, 3, 4, 'A', 'B', 'C', 'D']"
      ]
     },
     "execution_count": 67,
     "metadata": {},
     "output_type": "execute_result"
    }
   ],
   "source": [
    "l1=[1,2,3,4]\n",
    "l2=['A','B','C','D']\n",
    "l1.extend(l2)\n",
    "l1"
   ]
  },
  {
   "cell_type": "code",
   "execution_count": 69,
   "id": "66f9bb44-13f9-4e81-a11e-407bf67caf7b",
   "metadata": {},
   "outputs": [
    {
     "name": "stdout",
     "output_type": "stream",
     "text": [
      "[1, 2, 3, 4, 'A', 'B', 'C', 'D']\n",
      "[1, 2, 3, 4]\n",
      "['A', 'B', 'C', 'D']\n",
      "l1 will be overwrite if we ude extend\n",
      "[1, 2, 3, 4, 'A', 'B', 'C', 'D']\n"
     ]
    }
   ],
   "source": [
    "l1=[1,2,3,4]\n",
    "l2=['A','B','C','D']\n",
    "print(l1+l2)\n",
    "print(l1)\n",
    "print(l2)\n",
    "print('l1 will be overwrite if we ude extend')\n",
    "l1.extend(l2)\n",
    "print(l1)"
   ]
  },
  {
   "cell_type": "markdown",
   "id": "7c916434-228e-4c9f-afe3-8862444144dd",
   "metadata": {},
   "source": [
    "**index**"
   ]
  },
  {
   "cell_type": "code",
   "execution_count": 4,
   "id": "f75e4b81-8391-4f2c-ac82-87f6ae5d96f6",
   "metadata": {},
   "outputs": [
    {
     "name": "stdout",
     "output_type": "stream",
     "text": [
      "8\n"
     ]
    }
   ],
   "source": [
    "l1=[10,20,30,40,50,'Apple','cherry','banana',40,50]\n",
    "i1=l1.index(40)\n",
    "print(l1.index(40,i1+1))"
   ]
  },
  {
   "cell_type": "markdown",
   "id": "a6276bb8-6c24-4276-8c5f-6a3b6be05305",
   "metadata": {},
   "source": [
    "**insert**"
   ]
  },
  {
   "cell_type": "code",
   "execution_count": 102,
   "id": "df3ebfd9-c9aa-414c-b817-5d6152dfdb1a",
   "metadata": {},
   "outputs": [
    {
     "data": {
      "text/plain": [
       "[10, 20, 30, 40, 50, 'Apple', 100, 'cherry', 'banana', 40, 50]"
      ]
     },
     "execution_count": 102,
     "metadata": {},
     "output_type": "execute_result"
    }
   ],
   "source": [
    "l1=[10,20,30,40,50,'Apple','cherry','banana',40,50]\n",
    "id=l1.index('Apple')\n",
    "l1.insert(id+1,100)\n",
    "l1"
   ]
  },
  {
   "cell_type": "code",
   "execution_count": 100,
   "id": "248ac740-03a7-40bd-b4b6-0efbebab5745",
   "metadata": {},
   "outputs": [
    {
     "data": {
      "text/plain": [
       "[10, 20, 30, 40, 50, 'Apple', 'cherry', 'banana', 40, 50, 100]"
      ]
     },
     "execution_count": 100,
     "metadata": {},
     "output_type": "execute_result"
    }
   ],
   "source": [
    "l1=[10,20,30,40,50,'Apple','cherry','banana',40,50]\n",
    "l1.append(100)\n",
    "l1"
   ]
  },
  {
   "cell_type": "markdown",
   "id": "c26fa07f-af49-4fae-ad35-1aceddf24e88",
   "metadata": {},
   "source": [
    "**pop vs remove**"
   ]
  },
  {
   "cell_type": "code",
   "execution_count": 107,
   "id": "689e6b35-49da-4ec7-b586-be70b7a8b95e",
   "metadata": {},
   "outputs": [
    {
     "data": {
      "text/plain": [
       "[10, 20, 30, 50, 'Apple', 'cherry', 'banana', 40, 50]"
      ]
     },
     "execution_count": 107,
     "metadata": {},
     "output_type": "execute_result"
    }
   ],
   "source": [
    "l1=[10,20,30,40,50,'Apple','cherry','banana',40,50]\n",
    "l1.remove(40)\n",
    "l1"
   ]
  },
  {
   "cell_type": "code",
   "execution_count": 113,
   "id": "dcb423e9-d5aa-43f0-a241-ed08d6ce1375",
   "metadata": {},
   "outputs": [
    {
     "data": {
      "text/plain": [
       "50"
      ]
     },
     "execution_count": 113,
     "metadata": {},
     "output_type": "execute_result"
    }
   ],
   "source": [
    "l1=[10,20,30,40,50,'Apple','cherry','banana',40,50]\n",
    "l1.pop()"
   ]
  },
  {
   "cell_type": "code",
   "execution_count": 121,
   "id": "3015136a-ff64-49b0-ada0-8b283b41df44",
   "metadata": {},
   "outputs": [
    {
     "data": {
      "text/plain": [
       "[10, 20, 30, 40, 50, 'cherry', 'banana', 40, 50]"
      ]
     },
     "execution_count": 121,
     "metadata": {},
     "output_type": "execute_result"
    }
   ],
   "source": [
    "l1=[10,20,30,40,50,'Apple','cherry','banana',40,50]\n",
    "l1.pop(5)\n",
    "l1"
   ]
  },
  {
   "cell_type": "code",
   "execution_count": 123,
   "id": "76140a82-c24a-4815-9928-f3a7fb7a41e7",
   "metadata": {},
   "outputs": [
    {
     "data": {
      "text/plain": [
       "[10, 20, 30, 40, 50, 'cherry', 'banana', 40, 50]"
      ]
     },
     "execution_count": 123,
     "metadata": {},
     "output_type": "execute_result"
    }
   ],
   "source": [
    "l1=[10,20,30,40,50,'Apple','cherry','banana',40,50]\n",
    "del(l1[5])\n",
    "l1"
   ]
  },
  {
   "cell_type": "markdown",
   "id": "5ec80e42-1fb4-4a7a-8924-0e5a521dbc71",
   "metadata": {},
   "source": [
    "- if you want delete any element\n",
    "- pop : besed on index\n",
    "- remove : besed in value\n",
    "- del is an inbuilt function"
   ]
  },
  {
   "cell_type": "code",
   "execution_count": 128,
   "id": "461ad61b-0232-44ba-9059-ba5707e00a3d",
   "metadata": {},
   "outputs": [
    {
     "name": "stdout",
     "output_type": "stream",
     "text": [
      "[10, 20, 30, 40, 50, 'Apple', 'cherry', 'banana', 40, 50]\n"
     ]
    },
    {
     "ename": "NameError",
     "evalue": "name 'l1' is not defined",
     "output_type": "error",
     "traceback": [
      "\u001b[1;31m---------------------------------------------------------------------------\u001b[0m",
      "\u001b[1;31mNameError\u001b[0m                                 Traceback (most recent call last)",
      "Cell \u001b[1;32mIn[128], line 4\u001b[0m\n\u001b[0;32m      2\u001b[0m \u001b[38;5;28mprint\u001b[39m(l1)\n\u001b[0;32m      3\u001b[0m \u001b[38;5;28;01mdel\u001b[39;00m(l1)\n\u001b[1;32m----> 4\u001b[0m l1\n",
      "\u001b[1;31mNameError\u001b[0m: name 'l1' is not defined"
     ]
    }
   ],
   "source": [
    "l1=[10,20,30,40,50,'Apple','cherry','banana',40,50]\n",
    "print(l1)\n",
    "del(l1)\n",
    "l1"
   ]
  },
  {
   "cell_type": "code",
   "execution_count": 130,
   "id": "9a4170ae-792a-45e2-9530-90409d93ee9b",
   "metadata": {},
   "outputs": [
    {
     "data": {
      "text/plain": [
       "[10, 20, 30, 40, 50, 'cherry', 'banana', 40, 50]"
      ]
     },
     "execution_count": 130,
     "metadata": {},
     "output_type": "execute_result"
    }
   ],
   "source": [
    "l1=[10,20,30,40,50,'Apple','cherry','banana',40,50]\n",
    "del l1[5] # for delete(l1[5])\n",
    "l1"
   ]
  },
  {
   "cell_type": "markdown",
   "id": "5f032780-a029-4a86-bc11-b4df84379d5f",
   "metadata": {},
   "source": [
    "**reverse-reversed**"
   ]
  },
  {
   "cell_type": "markdown",
   "id": "2b927886-9830-4501-b0e6-b9525c0fc1a5",
   "metadata": {},
   "source": [
    "- reverse is a method\n",
    "\n",
    "- reversed is an inbuilt function"
   ]
  },
  {
   "cell_type": "code",
   "execution_count": 136,
   "id": "8730e5da-b1bd-42f7-a288-47653b4b060d",
   "metadata": {},
   "outputs": [
    {
     "data": {
      "text/plain": [
       "[50, 40, 'banana', 'cherry', 'Apple', 50, 40, 30, 20, 10]"
      ]
     },
     "execution_count": 136,
     "metadata": {},
     "output_type": "execute_result"
    }
   ],
   "source": [
    "l1=[10,20,30,40,50,'Apple','cherry','banana',40,50]\n",
    "l1.reverse()\n",
    "l1"
   ]
  },
  {
   "cell_type": "markdown",
   "id": "ceefbeef-8d83-4c59-8203-cd4e3af41a23",
   "metadata": {},
   "source": [
    "**in place**\n",
    "\n",
    "- when we perform the opreations some times the values will not overrite\n",
    "\n",
    "- if we see **inplace** word or **inplace=True**\n",
    "\n",
    "- this indicates the output will be overrite in correponding variable"
   ]
  },
  {
   "cell_type": "code",
   "execution_count": 142,
   "id": "f51a8491-727b-4ca9-9e25-c0751d4c4970",
   "metadata": {},
   "outputs": [
    {
     "data": {
      "text/plain": [
       "[10, 20, 30, 40, 50]"
      ]
     },
     "execution_count": 142,
     "metadata": {},
     "output_type": "execute_result"
    }
   ],
   "source": [
    "l1=[10,20,30,40,50]\n",
    "reversed(l1)\n",
    "l1"
   ]
  },
  {
   "cell_type": "markdown",
   "id": "c4671017-6edc-4507-a4c2-cc2ea0e774d9",
   "metadata": {},
   "source": [
    "**sort-sorted**"
   ]
  },
  {
   "cell_type": "code",
   "execution_count": 145,
   "id": "c40413b5-df6b-420f-9e71-70b5d4690092",
   "metadata": {},
   "outputs": [
    {
     "data": {
      "text/plain": [
       "[10, 20, 30, 40, 50]"
      ]
     },
     "execution_count": 145,
     "metadata": {},
     "output_type": "execute_result"
    }
   ],
   "source": [
    "l1=[10,20,30,40,50]\n",
    "l1.sort()\n",
    "l1"
   ]
  },
  {
   "cell_type": "code",
   "execution_count": 153,
   "id": "8abab08a-452b-4eda-87d9-c2e2e730f2c1",
   "metadata": {},
   "outputs": [
    {
     "data": {
      "text/plain": [
       "[10, 20, 30, 40, 50]"
      ]
     },
     "execution_count": 153,
     "metadata": {},
     "output_type": "execute_result"
    }
   ],
   "source": [
    "l1=[10,20,30,40,50]\n",
    "sorted(l1)"
   ]
  },
  {
   "cell_type": "markdown",
   "id": "f11db743-b1c8-4a1f-8f0d-2806d0cc8856",
   "metadata": {},
   "source": [
    "- inbuilt function applicable for any data type\n",
    "\n",
    "- but method works wrt datatype"
   ]
  },
  {
   "cell_type": "code",
   "execution_count": null,
   "id": "1feac890-1d51-4809-962b-2f727bca52e3",
   "metadata": {},
   "outputs": [],
   "source": []
  }
 ],
 "metadata": {
  "kernelspec": {
   "display_name": "Python 3 (ipykernel)",
   "language": "python",
   "name": "python3"
  },
  "language_info": {
   "codemirror_mode": {
    "name": "ipython",
    "version": 3
   },
   "file_extension": ".py",
   "mimetype": "text/x-python",
   "name": "python",
   "nbconvert_exporter": "python",
   "pygments_lexer": "ipython3",
   "version": "3.12.4"
  }
 },
 "nbformat": 4,
 "nbformat_minor": 5
}
