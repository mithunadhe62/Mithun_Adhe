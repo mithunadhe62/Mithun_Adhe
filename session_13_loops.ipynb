{
 "cells": [
  {
   "cell_type": "code",
   "execution_count": 1,
   "id": "d183a03a-eb63-4d32-bbf6-def8fac7cbba",
   "metadata": {},
   "outputs": [
    {
     "name": "stdin",
     "output_type": "stream",
     "text": [
      "enter the salary: 1000\n",
      "tax percentage: 200\n"
     ]
    },
    {
     "name": "stdout",
     "output_type": "stream",
     "text": [
      "200\n"
     ]
    }
   ],
   "source": [
    "salary=eval(input(\"enter the salary:\"))\n",
    "tax_per=eval(input(\"tax percentage:\"))\n",
    "tax_pay=salary*tax_per/100\n",
    "print(tax_per)"
   ]
  },
  {
   "cell_type": "markdown",
   "id": "8e3d2a9a-930c-486e-822d-c24a12a4a79f",
   "metadata": {},
   "source": [
    "**Loops**\n",
    "\n",
    "- Loops are used to itearte the code multiple times\n",
    "\n",
    "- functions are used to reuse the code block\n",
    "\n",
    "- that code block can be repeated multiple times\n",
    "\n",
    "- whenever you are doing same task multiple times then think about loop\n",
    "\n",
    "- We have two loops\n",
    "    \n",
    "    - for loop\n",
    "    \n",
    "    - while loop\n",
    "\n",
    "- Any loop we need three things\n",
    "\n",
    "- Intialization (start point)\n",
    "\n",
    "- increment or decrement\n",
    "\n",
    "- Condition to stop"
   ]
  },
  {
   "cell_type": "markdown",
   "id": "96aff11b-4088-4d64-b94e-dc28b0faf669",
   "metadata": {},
   "source": [
    "**For loop**"
   ]
  },
  {
   "cell_type": "code",
   "execution_count": null,
   "id": "66d34de0-0c2b-4eca-a1e7-ad966fb087a2",
   "metadata": {},
   "outputs": [],
   "source": [
    "for <variable>in range(<number>):\n",
    "    <write your code here>"
   ]
  },
  {
   "cell_type": "code",
   "execution_count": 6,
   "id": "65321b6f-6e37-454f-b302-dc4e826f85ca",
   "metadata": {},
   "outputs": [
    {
     "name": "stdout",
     "output_type": "stream",
     "text": [
      "0\n",
      "1\n",
      "2\n",
      "3\n",
      "4\n"
     ]
    }
   ],
   "source": [
    "for i in range(5):\n",
    "    print(i)"
   ]
  },
  {
   "cell_type": "code",
   "execution_count": 8,
   "id": "b13bb99a-1841-486a-b0f1-0aa2594871cd",
   "metadata": {},
   "outputs": [
    {
     "name": "stdout",
     "output_type": "stream",
     "text": [
      "0\n",
      "1\n",
      "2\n"
     ]
    }
   ],
   "source": [
    "# print(0,end=' ')\n",
    "# print(0,end=' ')\n",
    "# print(20)\n",
    "for trump in range(3):\n",
    "    print(trump)"
   ]
  },
  {
   "cell_type": "code",
   "execution_count": 10,
   "id": "b8a41ecc-8ffe-4f14-b906-2c34cc18645e",
   "metadata": {},
   "outputs": [
    {
     "name": "stdout",
     "output_type": "stream",
     "text": [
      "0 1 2 3 4 5 6 7 8 9 "
     ]
    }
   ],
   "source": [
    "for i in range(10):\n",
    "    print(i,end=' ')"
   ]
  },
  {
   "cell_type": "markdown",
   "id": "10bf1c07-c9b5-4601-8ec9-18cad050bff5",
   "metadata": {},
   "source": [
    "**case-1:range(stop)**\n",
    "\n",
    "- start=0 : python index always starts with zero\n",
    "\n",
    "- increment by 1\n",
    "\n",
    "- last=stop-1"
   ]
  },
  {
   "cell_type": "code",
   "execution_count": 2,
   "id": "c7fed8d3-282b-4e6c-9e1a-da68d4538880",
   "metadata": {},
   "outputs": [
    {
     "name": "stdout",
     "output_type": "stream",
     "text": [
      "0 1 2 3 4 5 6 7 8 9 "
     ]
    }
   ],
   "source": [
    "for i in range(10):\n",
    "    print(i,end=' ')"
   ]
  },
  {
   "cell_type": "code",
   "execution_count": 4,
   "id": "442d3afd-a69d-4d09-bf77-c754b362f544",
   "metadata": {},
   "outputs": [
    {
     "name": "stdout",
     "output_type": "stream",
     "text": [
      "good night\n",
      "good night\n",
      "good night\n"
     ]
    }
   ],
   "source": [
    "print('good night')\n",
    "print('good night')\n",
    "print('good night')"
   ]
  },
  {
   "cell_type": "code",
   "execution_count": 6,
   "id": "e97a324e-2528-4705-bfeb-24e5cba443a2",
   "metadata": {},
   "outputs": [
    {
     "name": "stdout",
     "output_type": "stream",
     "text": [
      "good night\n",
      "good night\n",
      "good night\n"
     ]
    }
   ],
   "source": [
    "for i in range(3):\n",
    "    print('good night')"
   ]
  },
  {
   "cell_type": "markdown",
   "id": "42e63152-c958-4174-aced-133c6e84cacb",
   "metadata": {},
   "source": [
    "**Case-2:range(start,stop)**\n",
    "\n",
    "- Suppose I want to start my loop with a particular number\n",
    "\n",
    "- then add start also inside range\n",
    "\n",
    "- start=start\n",
    "\n",
    "- increment by 1\r\n",
    "- \n",
    "last= stop-1\n",
    "- \r\n",
    "range(10,20\n",
    "- )\r\n",
    "start=10,increment by1 , last=20-1=19"
   ]
  },
  {
   "cell_type": "code",
   "execution_count": 10,
   "id": "352c7de6-8561-490d-ad90-60d1039e243e",
   "metadata": {},
   "outputs": [
    {
     "name": "stdout",
     "output_type": "stream",
     "text": [
      "10 11 12 13 14 15 16 17 18 19 "
     ]
    }
   ],
   "source": [
    "for i in range(10,20):\n",
    "    print(i,end=' ')"
   ]
  },
  {
   "cell_type": "code",
   "execution_count": 16,
   "id": "fb1d7ed7-1542-4c09-becb-97d152d1df76",
   "metadata": {},
   "outputs": [
    {
     "name": "stdout",
     "output_type": "stream",
     "text": [
      "the square of 1 is:1\n",
      "the square of 2 is:4\n",
      "the square of 3 is:9\n",
      "the square of 4 is:16\n",
      "the square of 5 is:25\n"
     ]
    }
   ],
   "source": [
    "# wap ask the user print the square first 5 numbers\n",
    "# square of 1 is 1\n",
    "# square of 2 is 4\n",
    "# so on\n",
    "for i in range(1,6):\n",
    "    print(f\"the square of {i} is:{i*i}\")"
   ]
  },
  {
   "cell_type": "code",
   "execution_count": 20,
   "id": "81b638d8-fff4-456f-ad98-74d21e54bff9",
   "metadata": {},
   "outputs": [
    {
     "name": "stdin",
     "output_type": "stream",
     "text": [
      "enter the number: 45\n"
     ]
    },
    {
     "name": "stdout",
     "output_type": "stream",
     "text": [
      "the square of 45 is:2025\n"
     ]
    },
    {
     "name": "stdin",
     "output_type": "stream",
     "text": [
      "enter the number: 6\n"
     ]
    },
    {
     "name": "stdout",
     "output_type": "stream",
     "text": [
      "the square of 6 is:36\n"
     ]
    },
    {
     "name": "stdin",
     "output_type": "stream",
     "text": [
      "enter the number: 3\n"
     ]
    },
    {
     "name": "stdout",
     "output_type": "stream",
     "text": [
      "the square of 3 is:9\n"
     ]
    },
    {
     "name": "stdin",
     "output_type": "stream",
     "text": [
      "enter the number: 1\n"
     ]
    },
    {
     "name": "stdout",
     "output_type": "stream",
     "text": [
      "the square of 1 is:1\n"
     ]
    },
    {
     "name": "stdin",
     "output_type": "stream",
     "text": [
      "enter the number: 2\n"
     ]
    },
    {
     "name": "stdout",
     "output_type": "stream",
     "text": [
      "the square of 2 is:4\n"
     ]
    }
   ],
   "source": [
    "# wap ask the user enter a number the prompt should happen 5 times\n",
    "# and print the square of the number\n",
    "for i in range(5):\n",
    "    num=eval(input('enter the number:'))\n",
    "    print(f\"the square of {num} is:{num*num}\")"
   ]
  },
  {
   "cell_type": "code",
   "execution_count": 22,
   "id": "7d159402-8b5b-4195-ae41-a79b8f0503b7",
   "metadata": {},
   "outputs": [
    {
     "name": "stdin",
     "output_type": "stream",
     "text": [
      "enter the number: 11\n"
     ]
    },
    {
     "name": "stdout",
     "output_type": "stream",
     "text": [
      "the square of 11 is:121\n"
     ]
    },
    {
     "name": "stdin",
     "output_type": "stream",
     "text": [
      "enter the number: 22\n"
     ]
    },
    {
     "name": "stdout",
     "output_type": "stream",
     "text": [
      "the square of 22 is:484\n"
     ]
    }
   ],
   "source": [
    "def square():\n",
    "    num=eval(input(\"enter the number:\"))\n",
    "    print(f'the square of {num} is:{num*num}')\n",
    "\n",
    "for i in range(2):\n",
    "    square()def"
   ]
  },
  {
   "cell_type": "code",
   "execution_count": null,
   "id": "57bd07f0-c0f7-4e38-be70-4d2e7bab3b7e",
   "metadata": {},
   "outputs": [
    {
     "name": "stdin",
     "output_type": "stream",
     "text": [
      "enter the number 153\n"
     ]
    },
    {
     "name": "stdout",
     "output_type": "stream",
     "text": [
      "the square of 153 is:23409\n"
     ]
    }
   ],
   "source": [
    "for i in range(153):\n",
    "    num=eval(input(\"enter the number\"))\n",
    "    print(f'the square of {num} is:{num*num}')"
   ]
  },
  {
   "cell_type": "markdown",
   "id": "45549d4b-2fbe-4c7b-8ff6-be8e2df91d85",
   "metadata": {},
   "source": [
    "Case-3: range(start,stop,step)\n",
    "\n",
    "- start=start only\n",
    "- step:\n",
    "    - look about step sign is it postive or negative sign\n",
    "    - positive means increment\n",
    "        - last:stop-1\n",
    "    - negative means decrement\n",
    "        - last:stop+1"
   ]
  },
  {
   "cell_type": "code",
   "execution_count": 27,
   "id": "e08ef2c6-7ea5-42be-9d92-12178b2380af",
   "metadata": {},
   "outputs": [
    {
     "name": "stdout",
     "output_type": "stream",
     "text": [
      "3 5 7 9 11 13 15 17 "
     ]
    }
   ],
   "source": [
    "# example1: range(3,19,2)\n",
    "# start=3\n",
    "# step=+ postive direction\n",
    "# last = 19-1=18\n",
    "#3,5,7,9,11,13,15,17\n",
    "for i in range(3,19,2):\n",
    "    print(i,end=' ')"
   ]
  },
  {
   "cell_type": "code",
   "execution_count": 29,
   "id": "f04ccd76-f64b-44dc-976f-ef330c6b2fba",
   "metadata": {},
   "outputs": [],
   "source": [
    "# example2: range(3,19,-2)\n",
    "# start=3\n",
    "# step=-2 negative direction\n",
    "# last = 19+1=20\n",
    "for i in range(3,19,-2):\n",
    "    print(i)\n",
    "\n"
   ]
  },
  {
   "cell_type": "code",
   "execution_count": 31,
   "id": "3f49ffb4-dff7-485a-b900-3ba999e2d317",
   "metadata": {},
   "outputs": [
    {
     "name": "stdout",
     "output_type": "stream",
     "text": [
      "3 1 -1 -3 -5 -7 -9 -11 -13 -15 -17 "
     ]
    }
   ],
   "source": [
    "for i in range(3,-19,-2):\n",
    "    print(i,end=' ')"
   ]
  },
  {
   "cell_type": "code",
   "execution_count": null,
   "id": "499e6e4f-3e19-4a3e-ae12-e557ba000483",
   "metadata": {},
   "outputs": [],
   "source": []
  },
  {
   "cell_type": "code",
   "execution_count": 1,
   "id": "b2681c62-22bc-4037-ade7-9b9d9f6b535c",
   "metadata": {},
   "outputs": [
    {
     "name": "stdout",
     "output_type": "stream",
     "text": [
      "20\n",
      "10\n",
      "0\n",
      "-10\n"
     ]
    }
   ],
   "source": [
    "for i in range(20,-20,-10):\n",
    "    print(i)"
   ]
  },
  {
   "cell_type": "code",
   "execution_count": null,
   "id": "1fab5364-c09d-482c-9ad0-1ceb26805f59",
   "metadata": {},
   "outputs": [],
   "source": []
  },
  {
   "cell_type": "code",
   "execution_count": 3,
   "id": "f115c913-27b6-439c-aa13-55cbabe5cf37",
   "metadata": {},
   "outputs": [
    {
     "name": "stdout",
     "output_type": "stream",
     "text": [
      "7*1=7\n",
      "7*2=14\n",
      "7*3=21\n",
      "7*4=28\n",
      "7*5=35\n",
      "7*6=42\n",
      "7*7=49\n",
      "7*8=56\n",
      "7*9=63\n",
      "7*10=70\n"
     ]
    }
   ],
   "source": [
    "for i in range(1,11):\n",
    "    print(f\"7*{i}={7*i}\")"
   ]
  },
  {
   "cell_type": "code",
   "execution_count": 7,
   "id": "0df03ffd-5ff1-4a7e-8125-462826c9b8c0",
   "metadata": {},
   "outputs": [
    {
     "name": "stdin",
     "output_type": "stream",
     "text": [
      "enter tha table number: 7\n"
     ]
    },
    {
     "name": "stdout",
     "output_type": "stream",
     "text": [
      "7*1=7\n",
      "7*2=14\n",
      "7*3=21\n",
      "7*4=28\n",
      "7*5=35\n",
      "7*6=42\n",
      "7*7=49\n",
      "7*8=56\n",
      "7*9=63\n",
      "7*10=70\n"
     ]
    }
   ],
   "source": [
    "num=eval(input(\"enter tha table number:\"))\n",
    "for i in range(1,11):\n",
    "    print(f\"{num}*{i}={num*i}\")"
   ]
  },
  {
   "cell_type": "code",
   "execution_count": 31,
   "id": "8d6302a0-280b-450d-90b1-a907166cd5b3",
   "metadata": {},
   "outputs": [
    {
     "name": "stdin",
     "output_type": "stream",
     "text": [
      "which number division you whant 75\n"
     ]
    },
    {
     "name": "stdout",
     "output_type": "stream",
     "text": [
      "1 is division of 75\n",
      "3 is division of 75\n",
      "5 is division of 75\n",
      "15 is division of 75\n",
      "25 is division of 75\n",
      "75 is division of 75\n"
     ]
    }
   ],
   "source": [
    "num=eval(input(\"which number division you whant\"))\n",
    "for i in range(1,num+1):\n",
    "    if num%i==0:\n",
    "        print(f\"{i} is division of {num}\")"
   ]
  },
  {
   "cell_type": "markdown",
   "id": "917e39c1-9d8d-4390-a46d-95d1b6a63219",
   "metadata": {},
   "source": [
    "**summation wrapper**\n",
    "\n",
    "- startong we intialine the um value: summ=0\n",
    "\n",
    "- inside loop we will add a simple line : summ=summ+i\n",
    "\n",
    "- summ=0\n",
    "\n",
    "- for loop\n",
    "\n",
    "    - summ=summ+i"
   ]
  },
  {
   "cell_type": "code",
   "execution_count": 34,
   "id": "10a8af8b-f289-403c-be5c-1679a7a84d6b",
   "metadata": {},
   "outputs": [
    {
     "name": "stdout",
     "output_type": "stream",
     "text": [
      "1\n",
      "3\n",
      "6\n",
      "10\n",
      "15\n",
      "21\n",
      "28\n",
      "36\n",
      "45\n"
     ]
    }
   ],
   "source": [
    "summ=0\n",
    "for i in range(1,10):\n",
    "    summ=summ+i\n",
    "    print(summ)\n",
    "    "
   ]
  },
  {
   "cell_type": "code",
   "execution_count": 36,
   "id": "22fb7e91-911e-43dd-805f-6031f0facad4",
   "metadata": {},
   "outputs": [
    {
     "name": "stdout",
     "output_type": "stream",
     "text": [
      "45\n"
     ]
    }
   ],
   "source": [
    "summ=0\n",
    "for i in range(1,10):\n",
    "    summ=summ+i\n",
    "print(summ)"
   ]
  },
  {
   "cell_type": "code",
   "execution_count": 38,
   "id": "c292d7fc-ced7-4937-9591-92c5547b852e",
   "metadata": {},
   "outputs": [
    {
     "name": "stdout",
     "output_type": "stream",
     "text": [
      "0\n",
      "1\n",
      "2\n",
      "3\n"
     ]
    }
   ],
   "source": [
    "for val in range(4):\n",
    "    print(val)"
   ]
  },
  {
   "cell_type": "code",
   "execution_count": 40,
   "id": "b2c08edc-0caa-4808-98c3-6a37fb144356",
   "metadata": {},
   "outputs": [
    {
     "data": {
      "text/plain": [
       "3"
      ]
     },
     "execution_count": 40,
     "metadata": {},
     "output_type": "execute_result"
    }
   ],
   "source": [
    "val"
   ]
  },
  {
   "cell_type": "code",
   "execution_count": 50,
   "id": "7af30a66-ce32-437c-a164-7bd3e0c7daba",
   "metadata": {},
   "outputs": [
    {
     "name": "stdin",
     "output_type": "stream",
     "text": [
      "which number division you whant 75\n"
     ]
    },
    {
     "name": "stdout",
     "output_type": "stream",
     "text": [
      "1 is division of 75\n",
      "1\n",
      "3 is division of 75\n",
      "4\n",
      "5 is division of 75\n",
      "9\n",
      "15 is division of 75\n",
      "24\n",
      "25 is division of 75\n",
      "49\n",
      "75 is division of 75\n",
      "124\n"
     ]
    }
   ],
   "source": [
    "summ=0\n",
    "num=eval(input(\"which number division you whant\"))\n",
    "for i in range(1,num+1):\n",
    "    if num%i==0:\n",
    "        print(f\"{i} is division of {num}\")\n",
    "        summ=summ+i\n",
    "        print(summ)"
   ]
  },
  {
   "cell_type": "markdown",
   "id": "8015e238-1580-4c6c-874f-d4b92e1f3348",
   "metadata": {},
   "source": [
    "**counter wrapper**\n",
    "\n",
    "- count means counting the seccess ones\n",
    "\n",
    "- count="
   ]
  },
  {
   "cell_type": "code",
   "execution_count": 59,
   "id": "b487833b-a486-46b3-8213-b174e900b6f0",
   "metadata": {},
   "outputs": [
    {
     "name": "stdin",
     "output_type": "stream",
     "text": [
      "which number division you whant: 75\n"
     ]
    },
    {
     "name": "stdout",
     "output_type": "stream",
     "text": [
      "1\n",
      "3\n",
      "5\n",
      "15\n",
      "25\n",
      "75\n",
      "the number of division are: 6\n"
     ]
    }
   ],
   "source": [
    "count=0\n",
    "num=eval(input(\"which number division you whant:\"))\n",
    "for i in range(1,num+1):\n",
    "    if num%i==0:\n",
    "        print(i)\n",
    "        count=count+1\n",
    "\n",
    "print(\"the number of division are:\",count)"
   ]
  },
  {
   "cell_type": "code",
   "execution_count": 16,
   "id": "1d14207e-3269-4dd3-b119-dfacdb33a23c",
   "metadata": {},
   "outputs": [
    {
     "name": "stdout",
     "output_type": "stream",
     "text": [
      "7 is an odd\n",
      "6 is an evan\n",
      "10 is an evan\n",
      "6 is an evan\n",
      "3 is an odd\n",
      "number of evans are: 0\n",
      "number of odd are: 0\n",
      "summ of evans are: 0\n",
      "sumn of adds are: 0\n"
     ]
    }
   ],
   "source": [
    "import random\n",
    "evan_count=0\n",
    "odd_count=0\n",
    "evan_summ=0\n",
    "odd_summ=0\n",
    "for i in range(5):\n",
    "    num1=random.randint(1,10)\n",
    "    if num1%2==0:\n",
    "        print(f\"{num1} is an evan\")\n",
    "        evan_count+i\n",
    "        evan_summ+i\n",
    "    else:\n",
    "        print(f\"{num1} is an odd\")\n",
    "        odd_count+1\n",
    "        odd_summ+i\n",
    "\n",
    "print(\"number of evans are:\",evan_count)\n",
    "print(\"number of odd are:\",odd_count)\n",
    "print(\"summ of evans are:\",evan_summ)\n",
    "print(\"sumn of adds are:\",odd_summ)"
   ]
  },
  {
   "cell_type": "code",
   "execution_count": 22,
   "id": "aad17945-119f-4113-ad79-9483a033a6e2",
   "metadata": {},
   "outputs": [
    {
     "name": "stdin",
     "output_type": "stream",
     "text": [
      "enter the number 5\n"
     ]
    },
    {
     "name": "stdout",
     "output_type": "stream",
     "text": [
      "fail\n"
     ]
    },
    {
     "name": "stdin",
     "output_type": "stream",
     "text": [
      "enter the number 9\n"
     ]
    },
    {
     "name": "stdout",
     "output_type": "stream",
     "text": [
      "fail\n"
     ]
    },
    {
     "name": "stdin",
     "output_type": "stream",
     "text": [
      "enter the number 3\n"
     ]
    },
    {
     "name": "stdout",
     "output_type": "stream",
     "text": [
      "fail\n"
     ]
    }
   ],
   "source": [
    "for i in range(3):\n",
    "    num1=random.randint(1,10)\n",
    "    num2=eval(input('enter the number'))\n",
    "    if num1==num2:\n",
    "        print('won')\n",
    "        break\n",
    "    else:\n",
    "        print(\"fail\")"
   ]
  },
  {
   "cell_type": "markdown",
   "id": "a8c45fd6-f381-484e-943e-00b4116e00c7",
   "metadata": {},
   "source": [
    "**in** "
   ]
  },
  {
   "cell_type": "code",
   "execution_count": 3,
   "id": "44f62ca5-d954-496e-aacc-ab9458f5cc38",
   "metadata": {},
   "outputs": [
    {
     "name": "stdout",
     "output_type": "stream",
     "text": [
      "0 1 2 3 4 5 6 7 8 9 "
     ]
    }
   ],
   "source": [
    "for i in range(10):\n",
    "    print(i,end=' ')"
   ]
  },
  {
   "cell_type": "code",
   "execution_count": 5,
   "id": "de781c8d-a2a1-4c2f-900f-7db72c2ca387",
   "metadata": {},
   "outputs": [
    {
     "ename": "TypeError",
     "evalue": "'str' object cannot be interpreted as an integer",
     "output_type": "error",
     "traceback": [
      "\u001b[1;31m---------------------------------------------------------------------------\u001b[0m",
      "\u001b[1;31mTypeError\u001b[0m                                 Traceback (most recent call last)",
      "Cell \u001b[1;32mIn[5], line 1\u001b[0m\n\u001b[1;32m----> 1\u001b[0m \u001b[38;5;28;01mfor\u001b[39;00m i \u001b[38;5;129;01min\u001b[39;00m \u001b[38;5;28mrange\u001b[39m(\u001b[38;5;124m\"\u001b[39m\u001b[38;5;124mmithun\u001b[39m\u001b[38;5;124m\"\u001b[39m):\n\u001b[0;32m      2\u001b[0m     \u001b[38;5;28mprint\u001b[39m(i,end\u001b[38;5;241m=\u001b[39m\u001b[38;5;124m'\u001b[39m\u001b[38;5;124m \u001b[39m\u001b[38;5;124m'\u001b[39m)\n",
      "\u001b[1;31mTypeError\u001b[0m: 'str' object cannot be interpreted as an integer"
     ]
    }
   ],
   "source": [
    "for i in range(\"mithun\"):\n",
    "    print(i,end=' ')"
   ]
  },
  {
   "cell_type": "code",
   "execution_count": 7,
   "id": "7cc870e1-2a45-4046-bfab-81d66f92c18a",
   "metadata": {},
   "outputs": [
    {
     "name": "stdout",
     "output_type": "stream",
     "text": [
      "m i t h u n "
     ]
    }
   ],
   "source": [
    "for i in 'mithun':\n",
    "    print(i,end=' ')"
   ]
  },
  {
   "cell_type": "code",
   "execution_count": 11,
   "id": "31032bce-2627-44b4-a500-a1adc92d1f43",
   "metadata": {},
   "outputs": [
    {
     "data": {
      "text/plain": [
       "True"
      ]
     },
     "execution_count": 11,
     "metadata": {},
     "output_type": "execute_result"
    }
   ],
   "source": [
    "'p' in 'python'\n",
    "\n",
    "'y' in 'python'\n",
    "\n",
    "'t' in 'python'\n",
    "\n",
    "'h' in 'python'\n",
    "\n",
    "'o' in 'python'\n",
    "\n",
    "'n' in 'python'\n",
    "\n",
    "i in 'python'"
   ]
  },
  {
   "cell_type": "code",
   "execution_count": null,
   "id": "f2c75cfe-dadb-4ebb-8c5f-7df5aefe3807",
   "metadata": {},
   "outputs": [],
   "source": [
    "'A'=='a'\n",
    "'A'>'a'\n",
    "'A'<'a'"
   ]
  },
  {
   "cell_type": "markdown",
   "id": "b28ec662-bd24-482a-89e9-bf0dcf4df24b",
   "metadata": {},
   "source": [
    "**ASCII**\n",
    "\n",
    "- AMERICAN STANDARD CODE FOR INFORMATION INTERCHANGE"
   ]
  },
  {
   "cell_type": "code",
   "execution_count": 18,
   "id": "65969bdb-efc5-4011-8bbe-43c516c90e03",
   "metadata": {},
   "outputs": [
    {
     "data": {
      "text/plain": [
       "False"
      ]
     },
     "execution_count": 18,
     "metadata": {},
     "output_type": "execute_result"
    }
   ],
   "source": [
    "# 'A'==65\n",
    "# 'a'==97\n",
    "\n",
    "'A'>'a'"
   ]
  },
  {
   "cell_type": "markdown",
   "id": "56c759c2-50b1-48d3-a11e-7b39472309f1",
   "metadata": {},
   "source": [
    "- how to convert char ti number\n",
    "\n",
    "- how to cunvert number to char"
   ]
  },
  {
   "cell_type": "markdown",
   "id": "c8e1ebaf-c7f7-4526-b836-9ec1df5c8526",
   "metadata": {},
   "source": [
    "**char-ord**"
   ]
  },
  {
   "cell_type": "code",
   "execution_count": null,
   "id": "e7ac50de-f052-4298-8df7-377ec8de83f9",
   "metadata": {},
   "outputs": [],
   "source": [
    "char('a') char(97)\n",
    "ord(\"a\") ord(97)"
   ]
  },
  {
   "cell_type": "code",
   "execution_count": 22,
   "id": "3590bfa7-c502-4e5b-91be-b7d70a717da1",
   "metadata": {},
   "outputs": [
    {
     "data": {
      "text/plain": [
       "65"
      ]
     },
     "execution_count": 22,
     "metadata": {},
     "output_type": "execute_result"
    }
   ],
   "source": [
    "ord(\"A\")"
   ]
  },
  {
   "cell_type": "code",
   "execution_count": 24,
   "id": "a4652fe4-e6ee-4400-8b04-1d10c73b652a",
   "metadata": {},
   "outputs": [
    {
     "data": {
      "text/plain": [
       "'A'"
      ]
     },
     "execution_count": 24,
     "metadata": {},
     "output_type": "execute_result"
    }
   ],
   "source": [
    "chr(65)"
   ]
  },
  {
   "cell_type": "markdown",
   "id": "170cabf4-aea6-467f-a322-6119d4e2e2f6",
   "metadata": {},
   "source": [
    "- so **ord** converting char to number\n",
    "\n",
    "- **chr** converting number to char"
   ]
  },
  {
   "cell_type": "code",
   "execution_count": 34,
   "id": "9dc14980-1a7f-4001-804a-cf967b901ce5",
   "metadata": {},
   "outputs": [
    {
     "name": "stdout",
     "output_type": "stream",
     "text": [
      "65 A 66 B 67 C 68 D 69 E 70 F 71 G 72 H 73 I 74 J 75 K 76 L 77 M 78 N 79 O 80 P 81 Q 82 R 83 S 84 T 85 U 86 V 87 W 88 X 89 Y 90 Z "
     ]
    }
   ],
   "source": [
    "for i in range(65,91):\n",
    "    print(i,chr(i),end=' ')"
   ]
  },
  {
   "cell_type": "code",
   "execution_count": 53,
   "id": "14b9731e-d401-41c3-81b6-8ef0a36541f7",
   "metadata": {},
   "outputs": [
    {
     "name": "stdout",
     "output_type": "stream",
     "text": [
      "A 65 B 66 C 67 D 68 E 69 F 70 G 71 H 72 I 73 J 74 K 75 L 76 M 77 N 78 O 79 P 80 Q 81 R 82 S 83 T 84 U 85 V 86 W 87 X 88 Y 89 Z 90 "
     ]
    }
   ],
   "source": [
    "for i in \"ABCDEFGHIJKLMNOPQRSTUVWXYZ\":\n",
    "    print(i,ord(i),end=' ')"
   ]
  },
  {
   "cell_type": "markdown",
   "id": "621857a0-801d-47c3-bd32-3dd57e76e462",
   "metadata": {},
   "source": [
    "**package: string**\n",
    "\n"
   ]
  },
  {
   "cell_type": "code",
   "execution_count": null,
   "id": "4be703e6-f998-410b-9a12-b885b1bbe77f",
   "metadata": {},
   "outputs": [],
   "source": [
    "import <packagename>\n",
    "dir(packagename)"
   ]
  },
  {
   "cell_type": "code",
   "execution_count": 58,
   "id": "b240c590-6a69-431d-ba0d-a7aeb27b43ad",
   "metadata": {},
   "outputs": [
    {
     "data": {
      "text/plain": [
       "['Formatter',\n",
       " 'Template',\n",
       " '_ChainMap',\n",
       " '__all__',\n",
       " '__builtins__',\n",
       " '__cached__',\n",
       " '__doc__',\n",
       " '__file__',\n",
       " '__loader__',\n",
       " '__name__',\n",
       " '__package__',\n",
       " '__spec__',\n",
       " '_re',\n",
       " '_sentinel_dict',\n",
       " '_string',\n",
       " 'ascii_letters',\n",
       " 'ascii_lowercase',\n",
       " 'ascii_uppercase',\n",
       " 'capwords',\n",
       " 'digits',\n",
       " 'hexdigits',\n",
       " 'octdigits',\n",
       " 'printable',\n",
       " 'punctuation',\n",
       " 'whitespace']"
      ]
     },
     "execution_count": 58,
     "metadata": {},
     "output_type": "execute_result"
    }
   ],
   "source": [
    "import string\n",
    "dir(string)"
   ]
  },
  {
   "cell_type": "code",
   "execution_count": 60,
   "id": "b1f31e29-47b4-478c-be97-c032af4e43f7",
   "metadata": {},
   "outputs": [
    {
     "data": {
      "text/plain": [
       "'abcdefghijklmnopqrstuvwxyz'"
      ]
     },
     "execution_count": 60,
     "metadata": {},
     "output_type": "execute_result"
    }
   ],
   "source": [
    "string.ascii_lowercase"
   ]
  },
  {
   "cell_type": "code",
   "execution_count": 62,
   "id": "8ed090c3-b876-4914-8c40-7808577673f4",
   "metadata": {},
   "outputs": [
    {
     "data": {
      "text/plain": [
       "'abcdefghijklmnopqrstuvwxyzABCDEFGHIJKLMNOPQRSTUVWXYZ'"
      ]
     },
     "execution_count": 62,
     "metadata": {},
     "output_type": "execute_result"
    }
   ],
   "source": [
    "string.ascii_letters"
   ]
  },
  {
   "cell_type": "code",
   "execution_count": 64,
   "id": "dbc1c3c6-fc1b-4549-a3df-3c90476ac547",
   "metadata": {},
   "outputs": [
    {
     "data": {
      "text/plain": [
       "'ABCDEFGHIJKLMNOPQRSTUVWXYZ'"
      ]
     },
     "execution_count": 64,
     "metadata": {},
     "output_type": "execute_result"
    }
   ],
   "source": [
    "string.ascii_uppercase"
   ]
  },
  {
   "cell_type": "code",
   "execution_count": 66,
   "id": "ef7f8ff0-bcac-463b-864f-e4edfadc50ac",
   "metadata": {},
   "outputs": [
    {
     "data": {
      "text/plain": [
       "'0123456789'"
      ]
     },
     "execution_count": 66,
     "metadata": {},
     "output_type": "execute_result"
    }
   ],
   "source": [
    "string.digits"
   ]
  },
  {
   "cell_type": "code",
   "execution_count": 68,
   "id": "98cfba1b-860e-43b9-84b7-5e413604c919",
   "metadata": {},
   "outputs": [
    {
     "data": {
      "text/plain": [
       "'!\"#$%&\\'()*+,-./:;<=>?@[\\\\]^_`{|}~'"
      ]
     },
     "execution_count": 68,
     "metadata": {},
     "output_type": "execute_result"
    }
   ],
   "source": [
    "string.punctuation"
   ]
  },
  {
   "cell_type": "code",
   "execution_count": 72,
   "id": "a5a714cf-cb61-4465-b487-31eaa9e7365c",
   "metadata": {},
   "outputs": [
    {
     "name": "stdout",
     "output_type": "stream",
     "text": [
      "A 65 B 66 C 67 D 68 E 69 F 70 G 71 H 72 I 73 J 74 K 75 L 76 M 77 N 78 O 79 P 80 Q 81 R 82 S 83 T 84 U 85 V 86 W 87 X 88 Y 89 Z 90 "
     ]
    }
   ],
   "source": [
    "for i in string.ascii_uppercase:\n",
    "    print(i,ord(i),end=' ')"
   ]
  },
  {
   "cell_type": "code",
   "execution_count": 78,
   "id": "e845fc05-3e25-42da-8667-be31923f0a57",
   "metadata": {},
   "outputs": [
    {
     "name": "stdout",
     "output_type": "stream",
     "text": [
      "a,97 b,98 c,99 d,100 e,101 f,102 g,103 h,104 i,105 j,106 k,107 l,108 m,109 n,110 o,111 p,112 q,113 r,114 s,115 t,116 u,117 v,118 w,119 x,120 y,121 z,122 A,65 B,66 C,67 D,68 E,69 F,70 G,71 H,72 I,73 J,74 K,75 L,76 M,77 N,78 O,79 P,80 Q,81 R,82 S,83 T,84 U,85 V,86 W,87 X,88 Y,89 Z,90 "
     ]
    }
   ],
   "source": [
    "for i in string.ascii_letters:\n",
    "    print(f'{i},{ord(i)}',end=' ')"
   ]
  },
  {
   "cell_type": "code",
   "execution_count": 86,
   "id": "5661e8da-18ce-4827-a5c6-4bdf407dca72",
   "metadata": {},
   "outputs": [
    {
     "name": "stdout",
     "output_type": "stream",
     "text": [
      "33,! 34,\" 35,# 36,$ 37,% 38,& 39,' 40,( 41,) 42,* 43,+ 44,, 45,- 46,. 47,/ 48,0 49,1 50,2 51,3 52,4 53,5 54,6 55,7 56,8 57,9 58,: 59,; 60,< 61,= 62,> 63,? 64,@ 65,A 66,B 67,C 68,D 69,E 70,F 71,G 72,H 73,I 74,J 75,K 76,L 77,M 78,N 79,O 80,P 81,Q 82,R 83,S 84,T 85,U 86,V 87,W 88,X 89,Y 90,Z 91,[ 92,\\ 93,] 94,^ 95,_ 96,` 97,a 98,b 99,c 100,d 101,e 102,f 103,g 104,h 105,i 106,j 107,k 108,l 109,m 110,n 111,o 112,p 113,q 114,r 115,s 116,t 117,u 118,v 119,w 120,x 121,y 122,z 123,{ 124,| 125,} 126,~ "
     ]
    }
   ],
   "source": [
    "for i in range(33,127):\n",
    "    print(f'{i},{chr(i)}',end=' ')"
   ]
  },
  {
   "cell_type": "code",
   "execution_count": 90,
   "id": "da2b1701-7b79-417a-98ca-620e60872872",
   "metadata": {},
   "outputs": [
    {
     "name": "stdout",
     "output_type": "stream",
     "text": [
      "1,\u0001 2,\u0002 3,\u0003 4,\u0004 5,\u0005 6,\u0006 7,\u0007 8 9,\t 10,\n",
      " 14,\u000e 15,\u000f 16,\u0010 17,\u0011 18,\u0012 19,\u0013 20,\u0014 21,\u0015 22,\u0016 23,\u0017 24,\u0018 25,\u0019 26,\u001a 27,\u001b 28,\u001c",
      " 29,\u001d",
      " 30,\u001e",
      " 31,\u001f 32,  "
     ]
    }
   ],
   "source": [
    "for i in range(1,33):\n",
    "    print(f'{i},{chr(i)}',end=' ')"
   ]
  },
  {
   "cell_type": "code",
   "execution_count": 92,
   "id": "f7222192-a238-48d8-a861-4647eb1796a2",
   "metadata": {},
   "outputs": [
    {
     "name": "stdout",
     "output_type": "stream",
     "text": [
      "127, 128, 129, 130, 131, 132, 133,",
      " 134, 135, 136, 137, 138, 139, 140, 141, 142, 143, 144, 145, 146, 147, 148, 149, 150, 151, 152, 153, 154, 155, 156, 157, 158, 159, 160,  161,¡ 162,¢ 163,£ 164,¤ 165,¥ 166,¦ 167,§ 168,¨ 169,© 170,ª 171,« 172,¬ 173,­ 174,® 175,¯ 176,° 177,± 178,² 179,³ 180,´ 181,µ 182,¶ 183,· 184,¸ 185,¹ 186,º 187,» 188,¼ 189,½ 190,¾ 191,¿ 192,À 193,Á 194,Â 195,Ã 196,Ä 197,Å 198,Æ 199,Ç 200,È 201,É 202,Ê 203,Ë 204,Ì 205,Í 206,Î 207,Ï 208,Ð 209,Ñ 210,Ò 211,Ó 212,Ô 213,Õ 214,Ö 215,× 216,Ø 217,Ù 218,Ú 219,Û 220,Ü 221,Ý 222,Þ 223,ß 224,à 225,á 226,â 227,ã 228,ä 229,å 230,æ 231,ç 232,è 233,é 234,ê 235,ë 236,ì 237,í 238,î 239,ï 240,ð 241,ñ 242,ò 243,ó 244,ô 245,õ 246,ö 247,÷ 248,ø 249,ù "
     ]
    }
   ],
   "source": [
    "for i in range(127,250):\n",
    "    print(f'{i},{chr(i)}',end=' ')"
   ]
  },
  {
   "cell_type": "code",
   "execution_count": 98,
   "id": "007e89f8-fa64-4366-8c03-2e02b481e7f8",
   "metadata": {},
   "outputs": [
    {
     "name": "stdout",
     "output_type": "stream",
     "text": [
      "2308,ऄ 2309,अ 2310,आ 2311,इ 2312,ई 2313,उ 2314,ऊ 2315,ऋ 2316,ऌ 2317,ऍ 2318,ऎ 2319,ए 2320,ऐ 2321,ऑ 2322,ऒ 2323,ओ 2324,औ 2325,क 2326,ख 2327,ग 2328,घ 2329,ङ 2330,च 2331,छ 2332,ज 2333,झ 2334,ञ 2335,ट 2336,ठ 2337,ड 2338,ढ 2339,ण 2340,त 2341,थ 2342,द 2343,ध 2344,न 2345,ऩ 2346,प 2347,फ 2348,ब 2349,भ 2350,म 2351,य 2352,र 2353,ऱ 2354,ल 2355,ळ 2356,ऴ 2357,व 2358,श 2359,ष 2360,स 2361,ह 2362,ऺ 2363,ऻ 2364,़ 2365,ऽ 2366,ा 2367,ि 2368,ी 2369,ु 2370,ू 2371,ृ 2372,ॄ 2373,ॅ 2374,ॆ 2375,े 2376,ै 2377,ॉ 2378,ॊ 2379,ो 2380,ौ 2381,् 2382,ॎ 2383,ॏ 2384,ॐ 2385,॑ 2386,॒ 2387,॓ 2388,॔ 2389,ॕ 2390,ॖ 2391,ॗ 2392,क़ 2393,ख़ 2394,ग़ 2395,ज़ 2396,ड़ 2397,ढ़ 2398,फ़ "
     ]
    }
   ],
   "source": [
    "for i in range(2308,2399):\n",
    "    print(f'{i},{chr(i)}',end=' ')"
   ]
  },
  {
   "cell_type": "code",
   "execution_count": 20,
   "id": "a344f162-2748-4cf5-85f9-1848c45f0d99",
   "metadata": {},
   "outputs": [
    {
     "name": "stdout",
     "output_type": "stream",
     "text": [
      "1000,Ϩ 1001,ϩ 1002,Ϫ 1003,ϫ 1004,Ϭ 1005,ϭ 1006,Ϯ 1007,ϯ 1008,ϰ 1009,ϱ 1010,ϲ 1011,ϳ 1012,ϴ 1013,ϵ 1014,϶ 1015,Ϸ 1016,ϸ 1017,Ϲ 1018,Ϻ 1019,ϻ 1020,ϼ 1021,Ͻ 1022,Ͼ 1023,Ͽ 1024,Ѐ 1025,Ё 1026,Ђ 1027,Ѓ 1028,Є 1029,Ѕ 1030,І 1031,Ї 1032,Ј 1033,Љ 1034,Њ 1035,Ћ 1036,Ќ 1037,Ѝ 1038,Ў 1039,Џ 1040,А 1041,Б 1042,В 1043,Г 1044,Д 1045,Е 1046,Ж 1047,З 1048,И 1049,Й 1050,К 1051,Л 1052,М 1053,Н 1054,О 1055,П 1056,Р 1057,С 1058,Т 1059,У 1060,Ф 1061,Х 1062,Ц 1063,Ч 1064,Ш 1065,Щ 1066,Ъ 1067,Ы 1068,Ь 1069,Э 1070,Ю 1071,Я 1072,а 1073,б 1074,в 1075,г 1076,д 1077,е 1078,ж 1079,з 1080,и 1081,й 1082,к 1083,л 1084,м 1085,н 1086,о 1087,п 1088,р 1089,с 1090,т 1091,у 1092,ф 1093,х 1094,ц 1095,ч 1096,ш 1097,щ 1098,ъ 1099,ы 1100,ь 1101,э 1102,ю 1103,я 1104,ѐ 1105,ё 1106,ђ 1107,ѓ 1108,є 1109,ѕ 1110,і 1111,ї 1112,ј 1113,љ 1114,њ 1115,ћ 1116,ќ 1117,ѝ 1118,ў 1119,џ 1120,Ѡ 1121,ѡ 1122,Ѣ 1123,ѣ 1124,Ѥ 1125,ѥ 1126,Ѧ 1127,ѧ 1128,Ѩ 1129,ѩ 1130,Ѫ 1131,ѫ 1132,Ѭ 1133,ѭ 1134,Ѯ 1135,ѯ 1136,Ѱ 1137,ѱ 1138,Ѳ 1139,ѳ 1140,Ѵ 1141,ѵ 1142,Ѷ 1143,ѷ 1144,Ѹ 1145,ѹ 1146,Ѻ 1147,ѻ 1148,Ѽ 1149,ѽ 1150,Ѿ 1151,ѿ 1152,Ҁ 1153,ҁ 1154,҂ 1155,҃ 1156,҄ 1157,҅ 1158,҆ 1159,҇ 1160,҈ 1161,҉ 1162,Ҋ 1163,ҋ 1164,Ҍ 1165,ҍ 1166,Ҏ 1167,ҏ 1168,Ґ 1169,ґ 1170,Ғ 1171,ғ 1172,Ҕ 1173,ҕ 1174,Җ 1175,җ 1176,Ҙ 1177,ҙ 1178,Қ 1179,қ 1180,Ҝ 1181,ҝ 1182,Ҟ 1183,ҟ 1184,Ҡ 1185,ҡ 1186,Ң 1187,ң 1188,Ҥ 1189,ҥ 1190,Ҧ 1191,ҧ 1192,Ҩ 1193,ҩ 1194,Ҫ 1195,ҫ 1196,Ҭ 1197,ҭ 1198,Ү 1199,ү 1200,Ұ 1201,ұ 1202,Ҳ 1203,ҳ 1204,Ҵ 1205,ҵ 1206,Ҷ 1207,ҷ 1208,Ҹ 1209,ҹ 1210,Һ 1211,һ 1212,Ҽ 1213,ҽ 1214,Ҿ 1215,ҿ 1216,Ӏ 1217,Ӂ 1218,ӂ 1219,Ӄ 1220,ӄ 1221,Ӆ 1222,ӆ 1223,Ӈ 1224,ӈ 1225,Ӊ 1226,ӊ 1227,Ӌ 1228,ӌ 1229,Ӎ 1230,ӎ 1231,ӏ 1232,Ӑ 1233,ӑ 1234,Ӓ 1235,ӓ 1236,Ӕ 1237,ӕ 1238,Ӗ 1239,ӗ 1240,Ә 1241,ә 1242,Ӛ 1243,ӛ 1244,Ӝ 1245,ӝ 1246,Ӟ 1247,ӟ 1248,Ӡ 1249,ӡ 1250,Ӣ 1251,ӣ 1252,Ӥ 1253,ӥ 1254,Ӧ 1255,ӧ 1256,Ө 1257,ө 1258,Ӫ 1259,ӫ 1260,Ӭ 1261,ӭ 1262,Ӯ 1263,ӯ 1264,Ӱ 1265,ӱ 1266,Ӳ 1267,ӳ 1268,Ӵ 1269,ӵ 1270,Ӷ 1271,ӷ 1272,Ӹ 1273,ӹ 1274,Ӻ 1275,ӻ 1276,Ӽ 1277,ӽ 1278,Ӿ 1279,ӿ 1280,Ԁ 1281,ԁ 1282,Ԃ 1283,ԃ 1284,Ԅ 1285,ԅ 1286,Ԇ 1287,ԇ 1288,Ԉ 1289,ԉ 1290,Ԋ 1291,ԋ 1292,Ԍ 1293,ԍ 1294,Ԏ 1295,ԏ 1296,Ԑ 1297,ԑ 1298,Ԓ 1299,ԓ 1300,Ԕ 1301,ԕ 1302,Ԗ 1303,ԗ 1304,Ԙ 1305,ԙ 1306,Ԛ 1307,ԛ 1308,Ԝ 1309,ԝ 1310,Ԟ 1311,ԟ 1312,Ԡ 1313,ԡ 1314,Ԣ 1315,ԣ 1316,Ԥ 1317,ԥ 1318,Ԧ 1319,ԧ 1320,Ԩ 1321,ԩ 1322,Ԫ 1323,ԫ 1324,Ԭ 1325,ԭ 1326,Ԯ 1327,ԯ 1328,԰ 1329,Ա 1330,Բ 1331,Գ 1332,Դ 1333,Ե 1334,Զ 1335,Է 1336,Ը 1337,Թ 1338,Ժ 1339,Ի 1340,Լ 1341,Խ 1342,Ծ 1343,Կ 1344,Հ 1345,Ձ 1346,Ղ 1347,Ճ 1348,Մ 1349,Յ 1350,Ն 1351,Շ 1352,Ո 1353,Չ 1354,Պ 1355,Ջ 1356,Ռ 1357,Ս 1358,Վ 1359,Տ 1360,Ր 1361,Ց 1362,Ւ 1363,Փ 1364,Ք 1365,Օ 1366,Ֆ 1367,՗ 1368,՘ 1369,ՙ 1370,՚ 1371,՛ 1372,՜ 1373,՝ 1374,՞ 1375,՟ 1376,ՠ 1377,ա 1378,բ 1379,գ 1380,դ 1381,ե 1382,զ 1383,է 1384,ը 1385,թ 1386,ժ 1387,ի 1388,լ 1389,խ 1390,ծ 1391,կ 1392,հ 1393,ձ 1394,ղ 1395,ճ 1396,մ 1397,յ 1398,ն 1399,շ 1400,ո 1401,չ 1402,պ 1403,ջ 1404,ռ 1405,ս 1406,վ 1407,տ 1408,ր 1409,ց 1410,ւ 1411,փ 1412,ք 1413,օ 1414,ֆ 1415,և 1416,ֈ 1417,։ 1418,֊ 1419,֋ 1420,֌ 1421,֍ 1422,֎ 1423,֏ 1424,֐ 1425,֑ 1426,֒ 1427,֓ 1428,֔ 1429,֕ 1430,֖ 1431,֗ 1432,֘ 1433,֙ 1434,֚ 1435,֛ 1436,֜ 1437,֝ 1438,֞ 1439,֟ 1440,֠ 1441,֡ 1442,֢ 1443,֣ 1444,֤ 1445,֥ 1446,֦ 1447,֧ 1448,֨ 1449,֩ 1450,֪ 1451,֫ 1452,֬ 1453,֭ 1454,֮ 1455,֯ 1456,ְ 1457,ֱ 1458,ֲ 1459,ֳ 1460,ִ 1461,ֵ 1462,ֶ 1463,ַ 1464,ָ 1465,ֹ 1466,ֺ 1467,ֻ 1468,ּ 1469,ֽ 1470,־ 1471,ֿ 1472,׀ 1473,ׁ 1474,ׂ 1475,׃ 1476,ׄ 1477,ׅ 1478,׆ 1479,ׇ 1480,׈ 1481,׉ 1482,׊ 1483,׋ 1484,׌ 1485,׍ 1486,׎ 1487,׏ 1488,א 1489,ב 1490,ג 1491,ד 1492,ה 1493,ו 1494,ז 1495,ח 1496,ט 1497,י 1498,ך 1499,כ 1500,ל 1501,ם 1502,מ 1503,ן 1504,נ 1505,ס 1506,ע 1507,ף 1508,פ 1509,ץ 1510,צ 1511,ק 1512,ר 1513,ש 1514,ת 1515,׫ 1516,׬ 1517,׭ 1518,׮ 1519,ׯ 1520,װ 1521,ױ 1522,ײ 1523,׳ 1524,״ 1525,׵ 1526,׶ 1527,׷ 1528,׸ 1529,׹ 1530,׺ 1531,׻ 1532,׼ 1533,׽ 1534,׾ 1535,׿ 1536,؀ 1537,؁ 1538,؂ 1539,؃ 1540,؄ 1541,؅ 1542,؆ 1543,؇ 1544,؈ 1545,؉ 1546,؊ 1547,؋ 1548,، 1549,؍ 1550,؎ 1551,؏ 1552,ؐ 1553,ؑ 1554,ؒ 1555,ؓ 1556,ؔ 1557,ؕ 1558,ؖ 1559,ؗ 1560,ؘ 1561,ؙ 1562,ؚ 1563,؛ 1564,؜ 1565,؝ 1566,؞ 1567,؟ 1568,ؠ 1569,ء 1570,آ 1571,أ 1572,ؤ 1573,إ 1574,ئ 1575,ا 1576,ب 1577,ة 1578,ت 1579,ث 1580,ج 1581,ح 1582,خ 1583,د 1584,ذ 1585,ر 1586,ز 1587,س 1588,ش 1589,ص 1590,ض 1591,ط 1592,ظ 1593,ع 1594,غ 1595,ػ 1596,ؼ 1597,ؽ 1598,ؾ 1599,ؿ 1600,ـ 1601,ف 1602,ق 1603,ك 1604,ل 1605,م 1606,ن 1607,ه 1608,و 1609,ى 1610,ي 1611,ً 1612,ٌ 1613,ٍ 1614,َ 1615,ُ 1616,ِ 1617,ّ 1618,ْ 1619,ٓ 1620,ٔ 1621,ٕ 1622,ٖ 1623,ٗ 1624,٘ 1625,ٙ 1626,ٚ 1627,ٛ 1628,ٜ 1629,ٝ 1630,ٞ 1631,ٟ 1632,٠ 1633,١ 1634,٢ 1635,٣ 1636,٤ 1637,٥ 1638,٦ 1639,٧ 1640,٨ 1641,٩ 1642,٪ 1643,٫ 1644,٬ 1645,٭ 1646,ٮ 1647,ٯ 1648,ٰ 1649,ٱ 1650,ٲ 1651,ٳ 1652,ٴ 1653,ٵ 1654,ٶ 1655,ٷ 1656,ٸ 1657,ٹ 1658,ٺ 1659,ٻ 1660,ټ 1661,ٽ 1662,پ 1663,ٿ 1664,ڀ 1665,ځ 1666,ڂ 1667,ڃ 1668,ڄ 1669,څ 1670,چ 1671,ڇ 1672,ڈ 1673,ډ 1674,ڊ 1675,ڋ 1676,ڌ 1677,ڍ 1678,ڎ 1679,ڏ 1680,ڐ 1681,ڑ 1682,ڒ 1683,ړ 1684,ڔ 1685,ڕ 1686,ږ 1687,ڗ 1688,ژ 1689,ڙ 1690,ښ 1691,ڛ 1692,ڜ 1693,ڝ 1694,ڞ 1695,ڟ 1696,ڠ 1697,ڡ 1698,ڢ 1699,ڣ 1700,ڤ 1701,ڥ 1702,ڦ 1703,ڧ 1704,ڨ 1705,ک 1706,ڪ 1707,ګ 1708,ڬ 1709,ڭ 1710,ڮ 1711,گ 1712,ڰ 1713,ڱ 1714,ڲ 1715,ڳ 1716,ڴ 1717,ڵ 1718,ڶ 1719,ڷ 1720,ڸ 1721,ڹ 1722,ں 1723,ڻ 1724,ڼ 1725,ڽ 1726,ھ 1727,ڿ 1728,ۀ 1729,ہ 1730,ۂ 1731,ۃ 1732,ۄ 1733,ۅ 1734,ۆ 1735,ۇ 1736,ۈ 1737,ۉ 1738,ۊ 1739,ۋ 1740,ی 1741,ۍ 1742,ێ 1743,ۏ 1744,ې 1745,ۑ 1746,ے 1747,ۓ 1748,۔ 1749,ە 1750,ۖ 1751,ۗ 1752,ۘ 1753,ۙ 1754,ۚ 1755,ۛ 1756,ۜ 1757,۝ 1758,۞ 1759,۟ 1760,۠ 1761,ۡ 1762,ۢ 1763,ۣ 1764,ۤ 1765,ۥ 1766,ۦ 1767,ۧ 1768,ۨ 1769,۩ 1770,۪ 1771,۫ 1772,۬ 1773,ۭ 1774,ۮ 1775,ۯ 1776,۰ 1777,۱ 1778,۲ 1779,۳ 1780,۴ 1781,۵ 1782,۶ 1783,۷ 1784,۸ 1785,۹ 1786,ۺ 1787,ۻ 1788,ۼ 1789,۽ 1790,۾ 1791,ۿ 1792,܀ 1793,܁ 1794,܂ 1795,܃ 1796,܄ 1797,܅ 1798,܆ 1799,܇ 1800,܈ 1801,܉ 1802,܊ 1803,܋ 1804,܌ 1805,܍ 1806,܎ 1807,܏ 1808,ܐ 1809,ܑ 1810,ܒ 1811,ܓ 1812,ܔ 1813,ܕ 1814,ܖ 1815,ܗ 1816,ܘ 1817,ܙ 1818,ܚ 1819,ܛ 1820,ܜ 1821,ܝ 1822,ܞ 1823,ܟ 1824,ܠ 1825,ܡ 1826,ܢ 1827,ܣ 1828,ܤ 1829,ܥ 1830,ܦ 1831,ܧ 1832,ܨ 1833,ܩ 1834,ܪ 1835,ܫ 1836,ܬ 1837,ܭ 1838,ܮ 1839,ܯ 1840,ܰ 1841,ܱ 1842,ܲ 1843,ܳ 1844,ܴ 1845,ܵ 1846,ܶ 1847,ܷ 1848,ܸ 1849,ܹ 1850,ܺ 1851,ܻ 1852,ܼ 1853,ܽ 1854,ܾ 1855,ܿ 1856,݀ 1857,݁ 1858,݂ 1859,݃ 1860,݄ 1861,݅ 1862,݆ 1863,݇ 1864,݈ 1865,݉ 1866,݊ 1867,݋ 1868,݌ 1869,ݍ 1870,ݎ 1871,ݏ 1872,ݐ 1873,ݑ 1874,ݒ 1875,ݓ 1876,ݔ 1877,ݕ 1878,ݖ 1879,ݗ 1880,ݘ 1881,ݙ 1882,ݚ 1883,ݛ 1884,ݜ 1885,ݝ 1886,ݞ 1887,ݟ 1888,ݠ 1889,ݡ 1890,ݢ 1891,ݣ 1892,ݤ 1893,ݥ 1894,ݦ 1895,ݧ 1896,ݨ 1897,ݩ 1898,ݪ 1899,ݫ 1900,ݬ 1901,ݭ 1902,ݮ 1903,ݯ 1904,ݰ 1905,ݱ 1906,ݲ 1907,ݳ 1908,ݴ 1909,ݵ 1910,ݶ 1911,ݷ 1912,ݸ 1913,ݹ 1914,ݺ 1915,ݻ 1916,ݼ 1917,ݽ 1918,ݾ 1919,ݿ 1920,ހ 1921,ށ 1922,ނ 1923,ރ 1924,ބ 1925,ޅ 1926,ކ 1927,އ 1928,ވ 1929,މ 1930,ފ 1931,ދ 1932,ތ 1933,ލ 1934,ގ 1935,ޏ 1936,ސ 1937,ޑ 1938,ޒ 1939,ޓ 1940,ޔ 1941,ޕ 1942,ޖ 1943,ޗ 1944,ޘ 1945,ޙ 1946,ޚ 1947,ޛ 1948,ޜ 1949,ޝ 1950,ޞ 1951,ޟ 1952,ޠ 1953,ޡ 1954,ޢ 1955,ޣ 1956,ޤ 1957,ޥ 1958,ަ 1959,ާ 1960,ި 1961,ީ 1962,ު 1963,ޫ 1964,ެ 1965,ޭ 1966,ޮ 1967,ޯ 1968,ް 1969,ޱ 1970,޲ 1971,޳ 1972,޴ 1973,޵ 1974,޶ 1975,޷ 1976,޸ 1977,޹ 1978,޺ 1979,޻ 1980,޼ 1981,޽ 1982,޾ 1983,޿ 1984,߀ 1985,߁ 1986,߂ 1987,߃ 1988,߄ 1989,߅ 1990,߆ 1991,߇ 1992,߈ 1993,߉ 1994,ߊ 1995,ߋ 1996,ߌ 1997,ߍ 1998,ߎ 1999,ߏ 2000,ߐ 2001,ߑ 2002,ߒ 2003,ߓ 2004,ߔ 2005,ߕ 2006,ߖ 2007,ߗ 2008,ߘ 2009,ߙ 2010,ߚ 2011,ߛ 2012,ߜ 2013,ߝ 2014,ߞ 2015,ߟ 2016,ߠ 2017,ߡ 2018,ߢ 2019,ߣ 2020,ߤ 2021,ߥ 2022,ߦ 2023,ߧ 2024,ߨ 2025,ߩ 2026,ߪ 2027,߫ 2028,߬ 2029,߭ 2030,߮ 2031,߯ 2032,߰ 2033,߱ 2034,߲ 2035,߳ 2036,ߴ 2037,ߵ 2038,߶ 2039,߷ 2040,߸ 2041,߹ 2042,ߺ 2043,߻ 2044,߼ 2045,߽ 2046,߾ 2047,߿ 2048,ࠀ 2049,ࠁ 2050,ࠂ 2051,ࠃ 2052,ࠄ 2053,ࠅ 2054,ࠆ 2055,ࠇ 2056,ࠈ 2057,ࠉ 2058,ࠊ 2059,ࠋ 2060,ࠌ 2061,ࠍ 2062,ࠎ 2063,ࠏ 2064,ࠐ 2065,ࠑ 2066,ࠒ 2067,ࠓ 2068,ࠔ 2069,ࠕ 2070,ࠖ 2071,ࠗ 2072,࠘ 2073,࠙ 2074,ࠚ 2075,ࠛ 2076,ࠜ 2077,ࠝ 2078,ࠞ 2079,ࠟ 2080,ࠠ 2081,ࠡ 2082,ࠢ 2083,ࠣ 2084,ࠤ 2085,ࠥ 2086,ࠦ 2087,ࠧ 2088,ࠨ 2089,ࠩ 2090,ࠪ 2091,ࠫ 2092,ࠬ 2093,࠭ 2094,࠮ 2095,࠯ 2096,࠰ 2097,࠱ 2098,࠲ 2099,࠳ 2100,࠴ 2101,࠵ 2102,࠶ 2103,࠷ 2104,࠸ 2105,࠹ 2106,࠺ 2107,࠻ 2108,࠼ 2109,࠽ 2110,࠾ 2111,࠿ 2112,ࡀ 2113,ࡁ 2114,ࡂ 2115,ࡃ 2116,ࡄ 2117,ࡅ 2118,ࡆ 2119,ࡇ 2120,ࡈ 2121,ࡉ 2122,ࡊ 2123,ࡋ 2124,ࡌ 2125,ࡍ 2126,ࡎ 2127,ࡏ 2128,ࡐ 2129,ࡑ 2130,ࡒ 2131,ࡓ 2132,ࡔ 2133,ࡕ 2134,ࡖ 2135,ࡗ 2136,ࡘ 2137,࡙ 2138,࡚ 2139,࡛ 2140,࡜ 2141,࡝ 2142,࡞ 2143,࡟ 2144,ࡠ 2145,ࡡ 2146,ࡢ 2147,ࡣ 2148,ࡤ 2149,ࡥ 2150,ࡦ 2151,ࡧ 2152,ࡨ 2153,ࡩ 2154,ࡪ 2155,࡫ 2156,࡬ 2157,࡭ 2158,࡮ 2159,࡯ 2160,ࡰ 2161,ࡱ 2162,ࡲ 2163,ࡳ 2164,ࡴ 2165,ࡵ 2166,ࡶ 2167,ࡷ 2168,ࡸ 2169,ࡹ 2170,ࡺ 2171,ࡻ 2172,ࡼ 2173,ࡽ 2174,ࡾ 2175,ࡿ 2176,ࢀ 2177,ࢁ 2178,ࢂ 2179,ࢃ 2180,ࢄ 2181,ࢅ 2182,ࢆ 2183,ࢇ 2184,࢈ 2185,ࢉ 2186,ࢊ 2187,ࢋ 2188,ࢌ 2189,ࢍ 2190,ࢎ 2191,࢏ 2192,࢐ 2193,࢑ 2194,࢒ 2195,࢓ 2196,࢔ 2197,࢕ 2198,࢖ 2199,ࢗ 2200,࢘ 2201,࢙ 2202,࢚ 2203,࢛ 2204,࢜ 2205,࢝ 2206,࢞ 2207,࢟ 2208,ࢠ 2209,ࢡ 2210,ࢢ 2211,ࢣ 2212,ࢤ 2213,ࢥ 2214,ࢦ 2215,ࢧ 2216,ࢨ 2217,ࢩ 2218,ࢪ 2219,ࢫ 2220,ࢬ 2221,ࢭ 2222,ࢮ 2223,ࢯ 2224,ࢰ 2225,ࢱ 2226,ࢲ 2227,ࢳ 2228,ࢴ 2229,ࢵ 2230,ࢶ 2231,ࢷ 2232,ࢸ 2233,ࢹ 2234,ࢺ 2235,ࢻ 2236,ࢼ 2237,ࢽ 2238,ࢾ 2239,ࢿ 2240,ࣀ 2241,ࣁ 2242,ࣂ 2243,ࣃ 2244,ࣄ 2245,ࣅ 2246,ࣆ 2247,ࣇ 2248,ࣈ 2249,ࣉ 2250,࣊ 2251,࣋ 2252,࣌ 2253,࣍ 2254,࣎ 2255,࣏ 2256,࣐ 2257,࣑ 2258,࣒ 2259,࣓ 2260,ࣔ 2261,ࣕ 2262,ࣖ 2263,ࣗ 2264,ࣘ 2265,ࣙ 2266,ࣚ 2267,ࣛ 2268,ࣜ 2269,ࣝ 2270,ࣞ 2271,ࣟ 2272,࣠ 2273,࣡ 2274,࣢ 2275,ࣣ 2276,ࣤ 2277,ࣥ 2278,ࣦ 2279,ࣧ 2280,ࣨ 2281,ࣩ 2282,࣪ 2283,࣫ 2284,࣬ 2285,࣭ 2286,࣮ 2287,࣯ 2288,ࣰ 2289,ࣱ 2290,ࣲ 2291,ࣳ 2292,ࣴ 2293,ࣵ 2294,ࣶ 2295,ࣷ 2296,ࣸ 2297,ࣹ 2298,ࣺ 2299,ࣻ 2300,ࣼ 2301,ࣽ 2302,ࣾ 2303,ࣿ 2304,ऀ 2305,ँ 2306,ं 2307,ः 2308,ऄ 2309,अ 2310,आ 2311,इ 2312,ई 2313,उ 2314,ऊ 2315,ऋ 2316,ऌ 2317,ऍ 2318,ऎ 2319,ए 2320,ऐ 2321,ऑ 2322,ऒ 2323,ओ 2324,औ 2325,क 2326,ख 2327,ग 2328,घ 2329,ङ 2330,च 2331,छ 2332,ज 2333,झ 2334,ञ 2335,ट 2336,ठ 2337,ड 2338,ढ 2339,ण 2340,त 2341,थ 2342,द 2343,ध 2344,न 2345,ऩ 2346,प 2347,फ 2348,ब 2349,भ 2350,म 2351,य 2352,र 2353,ऱ 2354,ल 2355,ळ 2356,ऴ 2357,व 2358,श 2359,ष 2360,स 2361,ह 2362,ऺ 2363,ऻ 2364,़ 2365,ऽ 2366,ा 2367,ि 2368,ी 2369,ु 2370,ू 2371,ृ 2372,ॄ 2373,ॅ 2374,ॆ 2375,े 2376,ै 2377,ॉ 2378,ॊ 2379,ो 2380,ौ 2381,् 2382,ॎ 2383,ॏ 2384,ॐ 2385,॑ 2386,॒ 2387,॓ 2388,॔ 2389,ॕ 2390,ॖ 2391,ॗ 2392,क़ 2393,ख़ 2394,ग़ 2395,ज़ 2396,ड़ 2397,ढ़ 2398,फ़ 2399,य़ 2400,ॠ 2401,ॡ 2402,ॢ 2403,ॣ 2404,। 2405,॥ 2406,० 2407,१ 2408,२ 2409,३ 2410,४ 2411,५ 2412,६ 2413,७ 2414,८ 2415,९ 2416,॰ 2417,ॱ 2418,ॲ 2419,ॳ 2420,ॴ 2421,ॵ 2422,ॶ 2423,ॷ 2424,ॸ 2425,ॹ 2426,ॺ 2427,ॻ 2428,ॼ 2429,ॽ 2430,ॾ 2431,ॿ 2432,ঀ 2433,ঁ 2434,ং 2435,ঃ 2436,঄ 2437,অ 2438,আ 2439,ই 2440,ঈ 2441,উ 2442,ঊ 2443,ঋ 2444,ঌ 2445,঍ 2446,঎ 2447,এ 2448,ঐ 2449,঑ 2450,঒ 2451,ও 2452,ঔ 2453,ক 2454,খ 2455,গ 2456,ঘ 2457,ঙ 2458,চ 2459,ছ 2460,জ 2461,ঝ 2462,ঞ 2463,ট 2464,ঠ 2465,ড 2466,ঢ 2467,ণ 2468,ত 2469,থ 2470,দ 2471,ধ 2472,ন 2473,঩ 2474,প 2475,ফ 2476,ব 2477,ভ 2478,ম 2479,য 2480,র 2481,঱ 2482,ল 2483,঳ 2484,঴ 2485,঵ 2486,শ 2487,ষ 2488,স 2489,হ 2490,঺ 2491,঻ 2492,় 2493,ঽ 2494,া 2495,ি 2496,ী 2497,ু 2498,ূ 2499,ৃ 2500,ৄ 2501,৅ 2502,৆ 2503,ে 2504,ৈ 2505,৉ 2506,৊ 2507,ো 2508,ৌ 2509,্ 2510,ৎ 2511,৏ 2512,৐ 2513,৑ 2514,৒ 2515,৓ 2516,৔ 2517,৕ 2518,৖ 2519,ৗ 2520,৘ 2521,৙ 2522,৚ 2523,৛ 2524,ড় 2525,ঢ় 2526,৞ 2527,য় 2528,ৠ 2529,ৡ 2530,ৢ 2531,ৣ 2532,৤ 2533,৥ 2534,০ 2535,১ 2536,২ 2537,৩ 2538,৪ 2539,৫ 2540,৬ 2541,৭ 2542,৮ 2543,৯ 2544,ৰ 2545,ৱ 2546,৲ 2547,৳ 2548,৴ 2549,৵ 2550,৶ 2551,৷ 2552,৸ 2553,৹ 2554,৺ 2555,৻ 2556,ৼ 2557,৽ 2558,৾ 2559,৿ 2560,਀ 2561,ਁ 2562,ਂ 2563,ਃ 2564,਄ 2565,ਅ 2566,ਆ 2567,ਇ 2568,ਈ 2569,ਉ 2570,ਊ 2571,਋ 2572,਌ 2573,਍ 2574,਎ 2575,ਏ 2576,ਐ 2577,਑ 2578,਒ 2579,ਓ 2580,ਔ 2581,ਕ 2582,ਖ 2583,ਗ 2584,ਘ 2585,ਙ 2586,ਚ 2587,ਛ 2588,ਜ 2589,ਝ 2590,ਞ 2591,ਟ 2592,ਠ 2593,ਡ 2594,ਢ 2595,ਣ 2596,ਤ 2597,ਥ 2598,ਦ 2599,ਧ 2600,ਨ 2601,਩ 2602,ਪ 2603,ਫ 2604,ਬ 2605,ਭ 2606,ਮ 2607,ਯ 2608,ਰ 2609,਱ 2610,ਲ 2611,ਲ਼ 2612,਴ 2613,ਵ 2614,ਸ਼ 2615,਷ 2616,ਸ 2617,ਹ 2618,਺ 2619,਻ 2620,਼ 2621,਽ 2622,ਾ 2623,ਿ 2624,ੀ 2625,ੁ 2626,ੂ 2627,੃ 2628,੄ 2629,੅ 2630,੆ 2631,ੇ 2632,ੈ 2633,੉ 2634,੊ 2635,ੋ 2636,ੌ 2637,੍ 2638,੎ 2639,੏ 2640,੐ 2641,ੑ 2642,੒ 2643,੓ 2644,੔ 2645,੕ 2646,੖ 2647,੗ 2648,੘ 2649,ਖ਼ 2650,ਗ਼ 2651,ਜ਼ 2652,ੜ 2653,੝ 2654,ਫ਼ 2655,੟ 2656,੠ 2657,੡ 2658,੢ 2659,੣ 2660,੤ 2661,੥ 2662,੦ 2663,੧ 2664,੨ 2665,੩ 2666,੪ 2667,੫ 2668,੬ 2669,੭ 2670,੮ 2671,੯ 2672,ੰ 2673,ੱ 2674,ੲ 2675,ੳ 2676,ੴ 2677,ੵ 2678,੶ 2679,੷ 2680,੸ 2681,੹ 2682,੺ 2683,੻ 2684,੼ 2685,੽ 2686,੾ 2687,੿ 2688,઀ 2689,ઁ 2690,ં 2691,ઃ 2692,઄ 2693,અ 2694,આ 2695,ઇ 2696,ઈ 2697,ઉ 2698,ઊ 2699,ઋ 2700,ઌ 2701,ઍ 2702,઎ 2703,એ 2704,ઐ 2705,ઑ 2706,઒ 2707,ઓ 2708,ઔ 2709,ક 2710,ખ 2711,ગ 2712,ઘ 2713,ઙ 2714,ચ 2715,છ 2716,જ 2717,ઝ 2718,ઞ 2719,ટ 2720,ઠ 2721,ડ 2722,ઢ 2723,ણ 2724,ત 2725,થ 2726,દ 2727,ધ 2728,ન 2729,઩ 2730,પ 2731,ફ 2732,બ 2733,ભ 2734,મ 2735,ય 2736,ર 2737,઱ 2738,લ 2739,ળ 2740,઴ 2741,વ 2742,શ 2743,ષ 2744,સ 2745,હ 2746,઺ 2747,઻ 2748,઼ 2749,ઽ 2750,ા 2751,િ 2752,ી 2753,ુ 2754,ૂ 2755,ૃ 2756,ૄ 2757,ૅ 2758,૆ 2759,ે 2760,ૈ 2761,ૉ 2762,૊ 2763,ો 2764,ૌ 2765,્ 2766,૎ 2767,૏ 2768,ૐ 2769,૑ 2770,૒ 2771,૓ 2772,૔ 2773,૕ 2774,૖ 2775,૗ 2776,૘ 2777,૙ 2778,૚ 2779,૛ 2780,૜ 2781,૝ 2782,૞ 2783,૟ 2784,ૠ 2785,ૡ 2786,ૢ 2787,ૣ 2788,૤ 2789,૥ 2790,૦ 2791,૧ 2792,૨ 2793,૩ 2794,૪ 2795,૫ 2796,૬ 2797,૭ 2798,૮ 2799,૯ 2800,૰ 2801,૱ 2802,૲ 2803,૳ 2804,૴ 2805,૵ 2806,૶ 2807,૷ 2808,૸ 2809,ૹ 2810,ૺ 2811,ૻ 2812,ૼ 2813,૽ 2814,૾ 2815,૿ 2816,଀ 2817,ଁ 2818,ଂ 2819,ଃ 2820,଄ 2821,ଅ 2822,ଆ 2823,ଇ 2824,ଈ 2825,ଉ 2826,ଊ 2827,ଋ 2828,ଌ 2829,଍ 2830,଎ 2831,ଏ 2832,ଐ 2833,଑ 2834,଒ 2835,ଓ 2836,ଔ 2837,କ 2838,ଖ 2839,ଗ 2840,ଘ 2841,ଙ 2842,ଚ 2843,ଛ 2844,ଜ 2845,ଝ 2846,ଞ 2847,ଟ 2848,ଠ 2849,ଡ 2850,ଢ 2851,ଣ 2852,ତ 2853,ଥ 2854,ଦ 2855,ଧ 2856,ନ 2857,଩ 2858,ପ 2859,ଫ 2860,ବ 2861,ଭ 2862,ମ 2863,ଯ 2864,ର 2865,଱ 2866,ଲ 2867,ଳ 2868,଴ 2869,ଵ 2870,ଶ 2871,ଷ 2872,ସ 2873,ହ 2874,଺ 2875,଻ 2876,଼ 2877,ଽ 2878,ା 2879,ି 2880,ୀ 2881,ୁ 2882,ୂ 2883,ୃ 2884,ୄ 2885,୅ 2886,୆ 2887,େ 2888,ୈ 2889,୉ 2890,୊ 2891,ୋ 2892,ୌ 2893,୍ 2894,୎ 2895,୏ 2896,୐ 2897,୑ 2898,୒ 2899,୓ 2900,୔ 2901,୕ 2902,ୖ 2903,ୗ 2904,୘ 2905,୙ 2906,୚ 2907,୛ 2908,ଡ଼ 2909,ଢ଼ 2910,୞ 2911,ୟ 2912,ୠ 2913,ୡ 2914,ୢ 2915,ୣ 2916,୤ 2917,୥ 2918,୦ 2919,୧ 2920,୨ 2921,୩ 2922,୪ 2923,୫ 2924,୬ 2925,୭ 2926,୮ 2927,୯ 2928,୰ 2929,ୱ 2930,୲ 2931,୳ 2932,୴ 2933,୵ 2934,୶ 2935,୷ 2936,୸ 2937,୹ 2938,୺ 2939,୻ 2940,୼ 2941,୽ 2942,୾ 2943,୿ 2944,஀ 2945,஁ 2946,ஂ 2947,ஃ 2948,஄ 2949,அ 2950,ஆ 2951,இ 2952,ஈ 2953,உ 2954,ஊ 2955,஋ 2956,஌ 2957,஍ 2958,எ 2959,ஏ 2960,ஐ 2961,஑ 2962,ஒ 2963,ஓ 2964,ஔ 2965,க 2966,஖ 2967,஗ 2968,஘ 2969,ங 2970,ச 2971,஛ 2972,ஜ 2973,஝ 2974,ஞ 2975,ட 2976,஠ 2977,஡ 2978,஢ 2979,ண 2980,த 2981,஥ 2982,஦ 2983,஧ 2984,ந 2985,ன 2986,ப 2987,஫ 2988,஬ 2989,஭ 2990,ம 2991,ய 2992,ர 2993,ற 2994,ல 2995,ள 2996,ழ 2997,வ 2998,ஶ 2999,ஷ 3000,ஸ 3001,ஹ 3002,஺ 3003,஻ 3004,஼ 3005,஽ 3006,ா 3007,ி 3008,ீ 3009,ு 3010,ூ 3011,௃ 3012,௄ 3013,௅ 3014,ெ 3015,ே 3016,ை 3017,௉ 3018,ொ 3019,ோ 3020,ௌ 3021,் 3022,௎ 3023,௏ 3024,ௐ 3025,௑ 3026,௒ 3027,௓ 3028,௔ 3029,௕ 3030,௖ 3031,ௗ 3032,௘ 3033,௙ 3034,௚ 3035,௛ 3036,௜ 3037,௝ 3038,௞ 3039,௟ 3040,௠ 3041,௡ 3042,௢ 3043,௣ 3044,௤ 3045,௥ 3046,௦ 3047,௧ 3048,௨ 3049,௩ 3050,௪ 3051,௫ 3052,௬ 3053,௭ 3054,௮ 3055,௯ 3056,௰ 3057,௱ 3058,௲ 3059,௳ 3060,௴ 3061,௵ 3062,௶ 3063,௷ 3064,௸ 3065,௹ 3066,௺ 3067,௻ 3068,௼ 3069,௽ 3070,௾ 3071,௿ 3072,ఀ 3073,ఁ 3074,ం 3075,ః 3076,ఄ 3077,అ 3078,ఆ 3079,ఇ 3080,ఈ 3081,ఉ 3082,ఊ 3083,ఋ 3084,ఌ 3085,఍ 3086,ఎ 3087,ఏ 3088,ఐ 3089,఑ 3090,ఒ 3091,ఓ 3092,ఔ 3093,క 3094,ఖ 3095,గ 3096,ఘ 3097,ఙ 3098,చ 3099,ఛ 3100,జ 3101,ఝ 3102,ఞ 3103,ట 3104,ఠ 3105,డ 3106,ఢ 3107,ణ 3108,త 3109,థ 3110,ద 3111,ధ 3112,న 3113,఩ 3114,ప 3115,ఫ 3116,బ 3117,భ 3118,మ 3119,య 3120,ర 3121,ఱ 3122,ల 3123,ళ 3124,ఴ 3125,వ 3126,శ 3127,ష 3128,స 3129,హ 3130,఺ 3131,఻ 3132,఼ 3133,ఽ 3134,ా 3135,ి 3136,ీ 3137,ు 3138,ూ 3139,ృ 3140,ౄ 3141,౅ 3142,ె 3143,ే 3144,ై 3145,౉ 3146,ొ 3147,ో 3148,ౌ 3149,్ 3150,౎ 3151,౏ 3152,౐ 3153,౑ 3154,౒ 3155,౓ 3156,౔ 3157,ౕ 3158,ౖ 3159,౗ 3160,ౘ 3161,ౙ 3162,ౚ 3163,౛ 3164,౜ 3165,ౝ 3166,౞ 3167,౟ 3168,ౠ 3169,ౡ 3170,ౢ 3171,ౣ 3172,౤ 3173,౥ 3174,౦ 3175,౧ 3176,౨ 3177,౩ 3178,౪ 3179,౫ 3180,౬ 3181,౭ 3182,౮ 3183,౯ 3184,౰ 3185,౱ 3186,౲ 3187,౳ 3188,౴ 3189,౵ 3190,౶ 3191,౷ 3192,౸ 3193,౹ 3194,౺ 3195,౻ 3196,౼ 3197,౽ 3198,౾ 3199,౿ 3200,ಀ 3201,ಁ 3202,ಂ 3203,ಃ 3204,಄ 3205,ಅ 3206,ಆ 3207,ಇ 3208,ಈ 3209,ಉ 3210,ಊ 3211,ಋ 3212,ಌ 3213,಍ 3214,ಎ 3215,ಏ 3216,ಐ 3217,಑ 3218,ಒ 3219,ಓ 3220,ಔ 3221,ಕ 3222,ಖ 3223,ಗ 3224,ಘ 3225,ಙ 3226,ಚ 3227,ಛ 3228,ಜ 3229,ಝ 3230,ಞ 3231,ಟ 3232,ಠ 3233,ಡ 3234,ಢ 3235,ಣ 3236,ತ 3237,ಥ 3238,ದ 3239,ಧ 3240,ನ 3241,಩ 3242,ಪ 3243,ಫ 3244,ಬ 3245,ಭ 3246,ಮ 3247,ಯ 3248,ರ 3249,ಱ 3250,ಲ 3251,ಳ 3252,಴ 3253,ವ 3254,ಶ 3255,ಷ 3256,ಸ 3257,ಹ 3258,಺ 3259,಻ 3260,಼ 3261,ಽ 3262,ಾ 3263,ಿ 3264,ೀ 3265,ು 3266,ೂ 3267,ೃ 3268,ೄ 3269,೅ 3270,ೆ 3271,ೇ 3272,ೈ 3273,೉ 3274,ೊ 3275,ೋ 3276,ೌ 3277,್ 3278,೎ 3279,೏ 3280,೐ 3281,೑ 3282,೒ 3283,೓ 3284,೔ 3285,ೕ 3286,ೖ 3287,೗ 3288,೘ 3289,೙ 3290,೚ 3291,೛ 3292,೜ 3293,ೝ 3294,ೞ 3295,೟ 3296,ೠ 3297,ೡ 3298,ೢ 3299,ೣ 3300,೤ 3301,೥ 3302,೦ 3303,೧ 3304,೨ 3305,೩ 3306,೪ 3307,೫ 3308,೬ 3309,೭ 3310,೮ 3311,೯ 3312,೰ 3313,ೱ 3314,ೲ 3315,ೳ 3316,೴ 3317,೵ 3318,೶ 3319,೷ 3320,೸ 3321,೹ 3322,೺ 3323,೻ 3324,೼ 3325,೽ 3326,೾ 3327,೿ 3328,ഀ 3329,ഁ 3330,ം 3331,ഃ 3332,ഄ 3333,അ 3334,ആ 3335,ഇ 3336,ഈ 3337,ഉ 3338,ഊ 3339,ഋ 3340,ഌ 3341,഍ 3342,എ 3343,ഏ 3344,ഐ 3345,഑ 3346,ഒ 3347,ഓ 3348,ഔ 3349,ക 3350,ഖ 3351,ഗ 3352,ഘ 3353,ങ 3354,ച 3355,ഛ 3356,ജ 3357,ഝ 3358,ഞ 3359,ട 3360,ഠ 3361,ഡ 3362,ഢ 3363,ണ 3364,ത 3365,ഥ 3366,ദ 3367,ധ 3368,ന 3369,ഩ 3370,പ 3371,ഫ 3372,ബ 3373,ഭ 3374,മ 3375,യ 3376,ര 3377,റ 3378,ല 3379,ള 3380,ഴ 3381,വ 3382,ശ 3383,ഷ 3384,സ 3385,ഹ 3386,ഺ 3387,഻ 3388,഼ 3389,ഽ 3390,ാ 3391,ി 3392,ീ 3393,ു 3394,ൂ 3395,ൃ 3396,ൄ 3397,൅ 3398,െ 3399,േ 3400,ൈ 3401,൉ 3402,ൊ 3403,ോ 3404,ൌ 3405,് 3406,ൎ 3407,൏ 3408,൐ 3409,൑ 3410,൒ 3411,൓ 3412,ൔ 3413,ൕ 3414,ൖ 3415,ൗ 3416,൘ 3417,൙ 3418,൚ 3419,൛ 3420,൜ 3421,൝ 3422,൞ 3423,ൟ 3424,ൠ 3425,ൡ 3426,ൢ 3427,ൣ 3428,൤ 3429,൥ 3430,൦ 3431,൧ 3432,൨ 3433,൩ 3434,൪ 3435,൫ 3436,൬ 3437,൭ 3438,൮ 3439,൯ 3440,൰ 3441,൱ 3442,൲ 3443,൳ 3444,൴ 3445,൵ 3446,൶ 3447,൷ 3448,൸ 3449,൹ 3450,ൺ 3451,ൻ 3452,ർ 3453,ൽ 3454,ൾ 3455,ൿ 3456,඀ 3457,ඁ 3458,ං 3459,ඃ 3460,඄ 3461,අ 3462,ආ 3463,ඇ 3464,ඈ 3465,ඉ 3466,ඊ 3467,උ 3468,ඌ 3469,ඍ 3470,ඎ 3471,ඏ 3472,ඐ 3473,එ 3474,ඒ 3475,ඓ 3476,ඔ 3477,ඕ 3478,ඖ 3479,඗ 3480,඘ 3481,඙ 3482,ක 3483,ඛ 3484,ග 3485,ඝ 3486,ඞ 3487,ඟ 3488,ච 3489,ඡ 3490,ජ 3491,ඣ 3492,ඤ 3493,ඥ 3494,ඦ 3495,ට 3496,ඨ 3497,ඩ 3498,ඪ 3499,ණ 3500,ඬ 3501,ත 3502,ථ 3503,ද 3504,ධ 3505,න 3506,඲ 3507,ඳ 3508,ප 3509,ඵ 3510,බ 3511,භ 3512,ම 3513,ඹ 3514,ය 3515,ර 3516,඼ 3517,ල 3518,඾ 3519,඿ 3520,ව 3521,ශ 3522,ෂ 3523,ස 3524,හ 3525,ළ 3526,ෆ 3527,෇ 3528,෈ 3529,෉ 3530,් 3531,෋ 3532,෌ 3533,෍ 3534,෎ 3535,ා 3536,ැ 3537,ෑ 3538,ි 3539,ී 3540,ු 3541,෕ 3542,ූ 3543,෗ 3544,ෘ 3545,ෙ 3546,ේ 3547,ෛ 3548,ො 3549,ෝ 3550,ෞ 3551,ෟ 3552,෠ 3553,෡ 3554,෢ 3555,෣ 3556,෤ 3557,෥ 3558,෦ 3559,෧ 3560,෨ 3561,෩ 3562,෪ 3563,෫ 3564,෬ 3565,෭ 3566,෮ 3567,෯ 3568,෰ 3569,෱ 3570,ෲ 3571,ෳ 3572,෴ 3573,෵ 3574,෶ 3575,෷ 3576,෸ 3577,෹ 3578,෺ 3579,෻ 3580,෼ 3581,෽ 3582,෾ 3583,෿ 3584,฀ 3585,ก 3586,ข 3587,ฃ 3588,ค 3589,ฅ 3590,ฆ 3591,ง 3592,จ 3593,ฉ 3594,ช 3595,ซ 3596,ฌ 3597,ญ 3598,ฎ 3599,ฏ 3600,ฐ 3601,ฑ 3602,ฒ 3603,ณ 3604,ด 3605,ต 3606,ถ 3607,ท 3608,ธ 3609,น 3610,บ 3611,ป 3612,ผ 3613,ฝ 3614,พ 3615,ฟ 3616,ภ 3617,ม 3618,ย 3619,ร 3620,ฤ 3621,ล 3622,ฦ 3623,ว 3624,ศ 3625,ษ 3626,ส 3627,ห 3628,ฬ 3629,อ 3630,ฮ 3631,ฯ 3632,ะ 3633,ั 3634,า 3635,ำ 3636,ิ 3637,ี 3638,ึ 3639,ื 3640,ุ 3641,ู 3642,ฺ 3643,฻ 3644,฼ 3645,฽ 3646,฾ 3647,฿ 3648,เ 3649,แ 3650,โ 3651,ใ 3652,ไ 3653,ๅ 3654,ๆ 3655,็ 3656,่ 3657,้ 3658,๊ 3659,๋ 3660,์ 3661,ํ 3662,๎ 3663,๏ 3664,๐ 3665,๑ 3666,๒ 3667,๓ 3668,๔ 3669,๕ 3670,๖ 3671,๗ 3672,๘ 3673,๙ 3674,๚ 3675,๛ 3676,๜ 3677,๝ 3678,๞ 3679,๟ 3680,๠ 3681,๡ 3682,๢ 3683,๣ 3684,๤ 3685,๥ 3686,๦ 3687,๧ 3688,๨ 3689,๩ 3690,๪ 3691,๫ 3692,๬ 3693,๭ 3694,๮ 3695,๯ 3696,๰ 3697,๱ 3698,๲ 3699,๳ 3700,๴ 3701,๵ 3702,๶ 3703,๷ 3704,๸ 3705,๹ 3706,๺ 3707,๻ 3708,๼ 3709,๽ 3710,๾ 3711,๿ 3712,຀ 3713,ກ 3714,ຂ 3715,຃ 3716,ຄ 3717,຅ 3718,ຆ 3719,ງ 3720,ຈ 3721,ຉ 3722,ຊ 3723,຋ 3724,ຌ 3725,ຍ 3726,ຎ 3727,ຏ 3728,ຐ 3729,ຑ 3730,ຒ 3731,ຓ 3732,ດ 3733,ຕ 3734,ຖ 3735,ທ 3736,ຘ 3737,ນ 3738,ບ 3739,ປ 3740,ຜ 3741,ຝ 3742,ພ 3743,ຟ 3744,ຠ 3745,ມ 3746,ຢ 3747,ຣ 3748,຤ 3749,ລ 3750,຦ 3751,ວ 3752,ຨ 3753,ຩ 3754,ສ 3755,ຫ 3756,ຬ 3757,ອ 3758,ຮ 3759,ຯ 3760,ະ 3761,ັ 3762,າ 3763,ຳ 3764,ິ 3765,ີ 3766,ຶ 3767,ື 3768,ຸ 3769,ູ 3770,຺ 3771,ົ 3772,ຼ 3773,ຽ 3774,຾ 3775,຿ 3776,ເ 3777,ແ 3778,ໂ 3779,ໃ 3780,ໄ 3781,໅ 3782,ໆ 3783,໇ 3784,່ 3785,້ 3786,໊ 3787,໋ 3788,໌ 3789,ໍ 3790,໎ 3791,໏ 3792,໐ 3793,໑ 3794,໒ 3795,໓ 3796,໔ 3797,໕ 3798,໖ 3799,໗ 3800,໘ 3801,໙ 3802,໚ 3803,໛ 3804,ໜ 3805,ໝ 3806,ໞ 3807,ໟ 3808,໠ 3809,໡ 3810,໢ 3811,໣ 3812,໤ 3813,໥ 3814,໦ 3815,໧ 3816,໨ 3817,໩ 3818,໪ 3819,໫ 3820,໬ 3821,໭ 3822,໮ 3823,໯ 3824,໰ 3825,໱ 3826,໲ 3827,໳ 3828,໴ 3829,໵ 3830,໶ 3831,໷ 3832,໸ 3833,໹ 3834,໺ 3835,໻ 3836,໼ 3837,໽ 3838,໾ 3839,໿ 3840,ༀ 3841,༁ 3842,༂ 3843,༃ 3844,༄ 3845,༅ 3846,༆ 3847,༇ 3848,༈ 3849,༉ 3850,༊ 3851,་ 3852,༌ 3853,། 3854,༎ 3855,༏ 3856,༐ 3857,༑ 3858,༒ 3859,༓ 3860,༔ 3861,༕ 3862,༖ 3863,༗ 3864,༘ 3865,༙ 3866,༚ 3867,༛ 3868,༜ 3869,༝ 3870,༞ 3871,༟ 3872,༠ 3873,༡ 3874,༢ 3875,༣ 3876,༤ 3877,༥ 3878,༦ 3879,༧ 3880,༨ 3881,༩ 3882,༪ 3883,༫ 3884,༬ 3885,༭ 3886,༮ 3887,༯ 3888,༰ 3889,༱ 3890,༲ 3891,༳ 3892,༴ 3893,༵ 3894,༶ 3895,༷ 3896,༸ 3897,༹ 3898,༺ 3899,༻ 3900,༼ 3901,༽ 3902,༾ 3903,༿ 3904,ཀ 3905,ཁ 3906,ག 3907,གྷ 3908,ང 3909,ཅ 3910,ཆ 3911,ཇ 3912,཈ 3913,ཉ 3914,ཊ 3915,ཋ 3916,ཌ 3917,ཌྷ 3918,ཎ 3919,ཏ 3920,ཐ 3921,ད 3922,དྷ 3923,ན 3924,པ 3925,ཕ 3926,བ 3927,བྷ 3928,མ 3929,ཙ 3930,ཚ 3931,ཛ 3932,ཛྷ 3933,ཝ 3934,ཞ 3935,ཟ 3936,འ 3937,ཡ 3938,ར 3939,ལ 3940,ཤ 3941,ཥ 3942,ས 3943,ཧ 3944,ཨ 3945,ཀྵ 3946,ཪ 3947,ཫ 3948,ཬ 3949,཭ 3950,཮ 3951,཯ 3952,཰ 3953,ཱ 3954,ི 3955,ཱི 3956,ུ 3957,ཱུ 3958,ྲྀ 3959,ཷ 3960,ླྀ 3961,ཹ 3962,ེ 3963,ཻ 3964,ོ 3965,ཽ 3966,ཾ 3967,ཿ 3968,ྀ 3969,ཱྀ 3970,ྂ 3971,ྃ 3972,྄ 3973,྅ 3974,྆ 3975,྇ 3976,ྈ 3977,ྉ 3978,ྊ 3979,ྋ 3980,ྌ 3981,ྍ 3982,ྎ 3983,ྏ 3984,ྐ 3985,ྑ 3986,ྒ 3987,ྒྷ 3988,ྔ 3989,ྕ 3990,ྖ 3991,ྗ 3992,྘ 3993,ྙ 3994,ྚ 3995,ྛ 3996,ྜ 3997,ྜྷ 3998,ྞ 3999,ྟ 4000,ྠ 4001,ྡ 4002,ྡྷ 4003,ྣ 4004,ྤ 4005,ྥ 4006,ྦ 4007,ྦྷ 4008,ྨ 4009,ྩ 4010,ྪ 4011,ྫ 4012,ྫྷ 4013,ྭ 4014,ྮ 4015,ྯ 4016,ྰ 4017,ྱ 4018,ྲ 4019,ླ 4020,ྴ 4021,ྵ 4022,ྶ 4023,ྷ 4024,ྸ 4025,ྐྵ 4026,ྺ 4027,ྻ 4028,ྼ 4029,྽ 4030,྾ 4031,྿ 4032,࿀ 4033,࿁ 4034,࿂ 4035,࿃ 4036,࿄ 4037,࿅ 4038,࿆ 4039,࿇ 4040,࿈ 4041,࿉ 4042,࿊ 4043,࿋ 4044,࿌ 4045,࿍ 4046,࿎ 4047,࿏ 4048,࿐ 4049,࿑ 4050,࿒ 4051,࿓ 4052,࿔ 4053,࿕ 4054,࿖ 4055,࿗ 4056,࿘ 4057,࿙ 4058,࿚ 4059,࿛ 4060,࿜ 4061,࿝ 4062,࿞ 4063,࿟ 4064,࿠ 4065,࿡ 4066,࿢ 4067,࿣ 4068,࿤ 4069,࿥ 4070,࿦ 4071,࿧ 4072,࿨ 4073,࿩ 4074,࿪ 4075,࿫ 4076,࿬ 4077,࿭ 4078,࿮ 4079,࿯ 4080,࿰ 4081,࿱ 4082,࿲ 4083,࿳ 4084,࿴ 4085,࿵ 4086,࿶ 4087,࿷ 4088,࿸ 4089,࿹ 4090,࿺ 4091,࿻ 4092,࿼ 4093,࿽ 4094,࿾ 4095,࿿ 4096,က 4097,ခ 4098,ဂ 4099,ဃ 4100,င 4101,စ 4102,ဆ 4103,ဇ 4104,ဈ 4105,ဉ 4106,ည 4107,ဋ 4108,ဌ 4109,ဍ 4110,ဎ 4111,ဏ 4112,တ 4113,ထ 4114,ဒ 4115,ဓ 4116,န 4117,ပ 4118,ဖ 4119,ဗ 4120,ဘ 4121,မ 4122,ယ 4123,ရ 4124,လ 4125,ဝ 4126,သ 4127,ဟ 4128,ဠ 4129,အ 4130,ဢ 4131,ဣ 4132,ဤ 4133,ဥ 4134,ဦ 4135,ဧ 4136,ဨ 4137,ဩ 4138,ဪ 4139,ါ 4140,ာ 4141,ိ 4142,ီ 4143,ု 4144,ူ 4145,ေ 4146,ဲ 4147,ဳ 4148,ဴ 4149,ဵ 4150,ံ 4151,့ 4152,း 4153,္ 4154,် 4155,ျ 4156,ြ 4157,ွ 4158,ှ 4159,ဿ 4160,၀ 4161,၁ 4162,၂ 4163,၃ 4164,၄ 4165,၅ 4166,၆ 4167,၇ 4168,၈ 4169,၉ 4170,၊ 4171,။ 4172,၌ 4173,၍ 4174,၎ 4175,၏ 4176,ၐ 4177,ၑ 4178,ၒ 4179,ၓ 4180,ၔ 4181,ၕ 4182,ၖ 4183,ၗ 4184,ၘ 4185,ၙ 4186,ၚ 4187,ၛ 4188,ၜ 4189,ၝ 4190,ၞ 4191,ၟ 4192,ၠ 4193,ၡ 4194,ၢ 4195,ၣ 4196,ၤ 4197,ၥ 4198,ၦ 4199,ၧ 4200,ၨ 4201,ၩ 4202,ၪ 4203,ၫ 4204,ၬ 4205,ၭ 4206,ၮ 4207,ၯ 4208,ၰ 4209,ၱ 4210,ၲ 4211,ၳ 4212,ၴ 4213,ၵ 4214,ၶ 4215,ၷ 4216,ၸ 4217,ၹ 4218,ၺ 4219,ၻ 4220,ၼ 4221,ၽ 4222,ၾ 4223,ၿ 4224,ႀ 4225,ႁ 4226,ႂ 4227,ႃ 4228,ႄ 4229,ႅ 4230,ႆ 4231,ႇ 4232,ႈ 4233,ႉ 4234,ႊ 4235,ႋ 4236,ႌ 4237,ႍ 4238,ႎ 4239,ႏ 4240,႐ 4241,႑ 4242,႒ 4243,႓ 4244,႔ 4245,႕ 4246,႖ 4247,႗ 4248,႘ 4249,႙ 4250,ႚ 4251,ႛ 4252,ႜ 4253,ႝ 4254,႞ 4255,႟ 4256,Ⴀ 4257,Ⴁ 4258,Ⴂ 4259,Ⴃ 4260,Ⴄ 4261,Ⴅ 4262,Ⴆ 4263,Ⴇ 4264,Ⴈ 4265,Ⴉ 4266,Ⴊ 4267,Ⴋ 4268,Ⴌ 4269,Ⴍ 4270,Ⴎ 4271,Ⴏ 4272,Ⴐ 4273,Ⴑ 4274,Ⴒ 4275,Ⴓ 4276,Ⴔ 4277,Ⴕ 4278,Ⴖ 4279,Ⴗ 4280,Ⴘ 4281,Ⴙ 4282,Ⴚ 4283,Ⴛ 4284,Ⴜ 4285,Ⴝ 4286,Ⴞ 4287,Ⴟ 4288,Ⴠ 4289,Ⴡ 4290,Ⴢ 4291,Ⴣ 4292,Ⴤ 4293,Ⴥ 4294,჆ 4295,Ⴧ 4296,჈ 4297,჉ 4298,჊ 4299,჋ 4300,჌ 4301,Ⴭ 4302,჎ 4303,჏ 4304,ა 4305,ბ 4306,გ 4307,დ 4308,ე 4309,ვ 4310,ზ 4311,თ 4312,ი 4313,კ 4314,ლ 4315,მ 4316,ნ 4317,ო 4318,პ 4319,ჟ 4320,რ 4321,ს 4322,ტ 4323,უ 4324,ფ 4325,ქ 4326,ღ 4327,ყ 4328,შ 4329,ჩ 4330,ც 4331,ძ 4332,წ 4333,ჭ 4334,ხ 4335,ჯ 4336,ჰ 4337,ჱ 4338,ჲ 4339,ჳ 4340,ჴ 4341,ჵ 4342,ჶ 4343,ჷ 4344,ჸ 4345,ჹ 4346,ჺ 4347,჻ 4348,ჼ 4349,ჽ 4350,ჾ 4351,ჿ 4352,ᄀ 4353,ᄁ 4354,ᄂ 4355,ᄃ 4356,ᄄ 4357,ᄅ 4358,ᄆ 4359,ᄇ 4360,ᄈ 4361,ᄉ 4362,ᄊ 4363,ᄋ 4364,ᄌ 4365,ᄍ 4366,ᄎ 4367,ᄏ 4368,ᄐ 4369,ᄑ 4370,ᄒ 4371,ᄓ 4372,ᄔ 4373,ᄕ 4374,ᄖ 4375,ᄗ 4376,ᄘ 4377,ᄙ 4378,ᄚ 4379,ᄛ 4380,ᄜ 4381,ᄝ 4382,ᄞ 4383,ᄟ 4384,ᄠ 4385,ᄡ 4386,ᄢ 4387,ᄣ 4388,ᄤ 4389,ᄥ 4390,ᄦ 4391,ᄧ 4392,ᄨ 4393,ᄩ 4394,ᄪ 4395,ᄫ 4396,ᄬ 4397,ᄭ 4398,ᄮ 4399,ᄯ 4400,ᄰ 4401,ᄱ 4402,ᄲ 4403,ᄳ 4404,ᄴ 4405,ᄵ 4406,ᄶ 4407,ᄷ 4408,ᄸ 4409,ᄹ 4410,ᄺ 4411,ᄻ 4412,ᄼ 4413,ᄽ 4414,ᄾ 4415,ᄿ 4416,ᅀ 4417,ᅁ 4418,ᅂ 4419,ᅃ 4420,ᅄ 4421,ᅅ 4422,ᅆ 4423,ᅇ 4424,ᅈ 4425,ᅉ 4426,ᅊ 4427,ᅋ 4428,ᅌ 4429,ᅍ 4430,ᅎ 4431,ᅏ 4432,ᅐ 4433,ᅑ 4434,ᅒ 4435,ᅓ 4436,ᅔ 4437,ᅕ 4438,ᅖ 4439,ᅗ 4440,ᅘ 4441,ᅙ 4442,ᅚ 4443,ᅛ 4444,ᅜ 4445,ᅝ 4446,ᅞ 4447,ᅟ 4448,ᅠ 4449,ᅡ 4450,ᅢ 4451,ᅣ 4452,ᅤ 4453,ᅥ 4454,ᅦ 4455,ᅧ 4456,ᅨ 4457,ᅩ 4458,ᅪ 4459,ᅫ 4460,ᅬ 4461,ᅭ 4462,ᅮ 4463,ᅯ 4464,ᅰ 4465,ᅱ 4466,ᅲ 4467,ᅳ 4468,ᅴ 4469,ᅵ 4470,ᅶ 4471,ᅷ 4472,ᅸ 4473,ᅹ 4474,ᅺ 4475,ᅻ 4476,ᅼ 4477,ᅽ 4478,ᅾ 4479,ᅿ 4480,ᆀ 4481,ᆁ 4482,ᆂ 4483,ᆃ 4484,ᆄ 4485,ᆅ 4486,ᆆ 4487,ᆇ 4488,ᆈ 4489,ᆉ 4490,ᆊ 4491,ᆋ 4492,ᆌ 4493,ᆍ 4494,ᆎ 4495,ᆏ 4496,ᆐ 4497,ᆑ 4498,ᆒ 4499,ᆓ 4500,ᆔ 4501,ᆕ 4502,ᆖ 4503,ᆗ 4504,ᆘ 4505,ᆙ 4506,ᆚ 4507,ᆛ 4508,ᆜ 4509,ᆝ 4510,ᆞ 4511,ᆟ 4512,ᆠ 4513,ᆡ 4514,ᆢ 4515,ᆣ 4516,ᆤ 4517,ᆥ 4518,ᆦ 4519,ᆧ 4520,ᆨ 4521,ᆩ 4522,ᆪ 4523,ᆫ 4524,ᆬ 4525,ᆭ 4526,ᆮ 4527,ᆯ 4528,ᆰ 4529,ᆱ 4530,ᆲ 4531,ᆳ 4532,ᆴ 4533,ᆵ 4534,ᆶ 4535,ᆷ 4536,ᆸ 4537,ᆹ 4538,ᆺ 4539,ᆻ 4540,ᆼ 4541,ᆽ 4542,ᆾ 4543,ᆿ 4544,ᇀ 4545,ᇁ 4546,ᇂ 4547,ᇃ 4548,ᇄ 4549,ᇅ 4550,ᇆ 4551,ᇇ 4552,ᇈ 4553,ᇉ 4554,ᇊ 4555,ᇋ 4556,ᇌ 4557,ᇍ 4558,ᇎ 4559,ᇏ 4560,ᇐ 4561,ᇑ 4562,ᇒ 4563,ᇓ 4564,ᇔ 4565,ᇕ 4566,ᇖ 4567,ᇗ 4568,ᇘ 4569,ᇙ 4570,ᇚ 4571,ᇛ 4572,ᇜ 4573,ᇝ 4574,ᇞ 4575,ᇟ 4576,ᇠ 4577,ᇡ 4578,ᇢ 4579,ᇣ 4580,ᇤ 4581,ᇥ 4582,ᇦ 4583,ᇧ 4584,ᇨ 4585,ᇩ 4586,ᇪ 4587,ᇫ 4588,ᇬ 4589,ᇭ 4590,ᇮ 4591,ᇯ 4592,ᇰ 4593,ᇱ 4594,ᇲ 4595,ᇳ 4596,ᇴ 4597,ᇵ 4598,ᇶ 4599,ᇷ 4600,ᇸ 4601,ᇹ 4602,ᇺ 4603,ᇻ 4604,ᇼ 4605,ᇽ 4606,ᇾ 4607,ᇿ 4608,ሀ 4609,ሁ 4610,ሂ 4611,ሃ 4612,ሄ 4613,ህ 4614,ሆ 4615,ሇ 4616,ለ 4617,ሉ 4618,ሊ 4619,ላ 4620,ሌ 4621,ል 4622,ሎ 4623,ሏ 4624,ሐ 4625,ሑ 4626,ሒ 4627,ሓ 4628,ሔ 4629,ሕ 4630,ሖ 4631,ሗ 4632,መ 4633,ሙ 4634,ሚ 4635,ማ 4636,ሜ 4637,ም 4638,ሞ 4639,ሟ 4640,ሠ 4641,ሡ 4642,ሢ 4643,ሣ 4644,ሤ 4645,ሥ 4646,ሦ 4647,ሧ 4648,ረ 4649,ሩ 4650,ሪ 4651,ራ 4652,ሬ 4653,ር 4654,ሮ 4655,ሯ 4656,ሰ 4657,ሱ 4658,ሲ 4659,ሳ 4660,ሴ 4661,ስ 4662,ሶ 4663,ሷ 4664,ሸ 4665,ሹ 4666,ሺ 4667,ሻ 4668,ሼ 4669,ሽ 4670,ሾ 4671,ሿ 4672,ቀ 4673,ቁ 4674,ቂ 4675,ቃ 4676,ቄ 4677,ቅ 4678,ቆ 4679,ቇ 4680,ቈ 4681,቉ 4682,ቊ 4683,ቋ 4684,ቌ 4685,ቍ 4686,቎ 4687,቏ 4688,ቐ 4689,ቑ 4690,ቒ 4691,ቓ 4692,ቔ 4693,ቕ 4694,ቖ 4695,቗ 4696,ቘ 4697,቙ 4698,ቚ 4699,ቛ 4700,ቜ 4701,ቝ 4702,቞ 4703,቟ 4704,በ 4705,ቡ 4706,ቢ 4707,ባ 4708,ቤ 4709,ብ 4710,ቦ 4711,ቧ 4712,ቨ 4713,ቩ 4714,ቪ 4715,ቫ 4716,ቬ 4717,ቭ 4718,ቮ 4719,ቯ 4720,ተ 4721,ቱ 4722,ቲ 4723,ታ 4724,ቴ 4725,ት 4726,ቶ 4727,ቷ 4728,ቸ 4729,ቹ 4730,ቺ 4731,ቻ 4732,ቼ 4733,ች 4734,ቾ 4735,ቿ 4736,ኀ 4737,ኁ 4738,ኂ 4739,ኃ 4740,ኄ 4741,ኅ 4742,ኆ 4743,ኇ 4744,ኈ 4745,኉ 4746,ኊ 4747,ኋ 4748,ኌ 4749,ኍ 4750,኎ 4751,኏ 4752,ነ 4753,ኑ 4754,ኒ 4755,ና 4756,ኔ 4757,ን 4758,ኖ 4759,ኗ 4760,ኘ 4761,ኙ 4762,ኚ 4763,ኛ 4764,ኜ 4765,ኝ 4766,ኞ 4767,ኟ 4768,አ 4769,ኡ 4770,ኢ 4771,ኣ 4772,ኤ 4773,እ 4774,ኦ 4775,ኧ 4776,ከ 4777,ኩ 4778,ኪ 4779,ካ 4780,ኬ 4781,ክ 4782,ኮ 4783,ኯ 4784,ኰ 4785,኱ 4786,ኲ 4787,ኳ 4788,ኴ 4789,ኵ 4790,኶ 4791,኷ 4792,ኸ 4793,ኹ 4794,ኺ 4795,ኻ 4796,ኼ 4797,ኽ 4798,ኾ 4799,኿ 4800,ዀ 4801,዁ 4802,ዂ 4803,ዃ 4804,ዄ 4805,ዅ 4806,዆ 4807,዇ 4808,ወ 4809,ዉ 4810,ዊ 4811,ዋ 4812,ዌ 4813,ው 4814,ዎ 4815,ዏ 4816,ዐ 4817,ዑ 4818,ዒ 4819,ዓ 4820,ዔ 4821,ዕ 4822,ዖ 4823,዗ 4824,ዘ 4825,ዙ 4826,ዚ 4827,ዛ 4828,ዜ 4829,ዝ 4830,ዞ 4831,ዟ 4832,ዠ 4833,ዡ 4834,ዢ 4835,ዣ 4836,ዤ 4837,ዥ 4838,ዦ 4839,ዧ 4840,የ 4841,ዩ 4842,ዪ 4843,ያ 4844,ዬ 4845,ይ 4846,ዮ 4847,ዯ 4848,ደ 4849,ዱ 4850,ዲ 4851,ዳ 4852,ዴ 4853,ድ 4854,ዶ 4855,ዷ 4856,ዸ 4857,ዹ 4858,ዺ 4859,ዻ 4860,ዼ 4861,ዽ 4862,ዾ 4863,ዿ 4864,ጀ 4865,ጁ 4866,ጂ 4867,ጃ 4868,ጄ 4869,ጅ 4870,ጆ 4871,ጇ 4872,ገ 4873,ጉ 4874,ጊ 4875,ጋ 4876,ጌ 4877,ግ 4878,ጎ 4879,ጏ 4880,ጐ 4881,጑ 4882,ጒ 4883,ጓ 4884,ጔ 4885,ጕ 4886,጖ 4887,጗ 4888,ጘ 4889,ጙ 4890,ጚ 4891,ጛ 4892,ጜ 4893,ጝ 4894,ጞ 4895,ጟ 4896,ጠ 4897,ጡ 4898,ጢ 4899,ጣ 4900,ጤ 4901,ጥ 4902,ጦ 4903,ጧ 4904,ጨ 4905,ጩ 4906,ጪ 4907,ጫ 4908,ጬ 4909,ጭ 4910,ጮ 4911,ጯ 4912,ጰ 4913,ጱ 4914,ጲ 4915,ጳ 4916,ጴ 4917,ጵ 4918,ጶ 4919,ጷ 4920,ጸ 4921,ጹ 4922,ጺ 4923,ጻ 4924,ጼ 4925,ጽ 4926,ጾ 4927,ጿ 4928,ፀ 4929,ፁ 4930,ፂ 4931,ፃ 4932,ፄ 4933,ፅ 4934,ፆ 4935,ፇ 4936,ፈ 4937,ፉ 4938,ፊ 4939,ፋ 4940,ፌ 4941,ፍ 4942,ፎ 4943,ፏ 4944,ፐ 4945,ፑ 4946,ፒ 4947,ፓ 4948,ፔ 4949,ፕ 4950,ፖ 4951,ፗ 4952,ፘ 4953,ፙ 4954,ፚ 4955,፛ 4956,፜ 4957,፝ 4958,፞ 4959,፟ 4960,፠ 4961,፡ 4962,። 4963,፣ 4964,፤ 4965,፥ 4966,፦ 4967,፧ 4968,፨ 4969,፩ 4970,፪ 4971,፫ 4972,፬ 4973,፭ 4974,፮ 4975,፯ 4976,፰ 4977,፱ 4978,፲ 4979,፳ 4980,፴ 4981,፵ 4982,፶ 4983,፷ 4984,፸ 4985,፹ 4986,፺ 4987,፻ 4988,፼ 4989,፽ 4990,፾ 4991,፿ 4992,ᎀ 4993,ᎁ 4994,ᎂ 4995,ᎃ 4996,ᎄ 4997,ᎅ 4998,ᎆ 4999,ᎇ 5000,ᎈ 5001,ᎉ 5002,ᎊ 5003,ᎋ 5004,ᎌ 5005,ᎍ 5006,ᎎ 5007,ᎏ 5008,᎐ 5009,᎑ 5010,᎒ 5011,᎓ 5012,᎔ 5013,᎕ 5014,᎖ 5015,᎗ 5016,᎘ 5017,᎙ 5018,᎚ 5019,᎛ 5020,᎜ 5021,᎝ 5022,᎞ 5023,᎟ 5024,Ꭰ 5025,Ꭱ 5026,Ꭲ 5027,Ꭳ 5028,Ꭴ 5029,Ꭵ 5030,Ꭶ 5031,Ꭷ 5032,Ꭸ 5033,Ꭹ 5034,Ꭺ 5035,Ꭻ 5036,Ꭼ 5037,Ꭽ 5038,Ꭾ 5039,Ꭿ 5040,Ꮀ 5041,Ꮁ 5042,Ꮂ 5043,Ꮃ 5044,Ꮄ 5045,Ꮅ 5046,Ꮆ 5047,Ꮇ 5048,Ꮈ 5049,Ꮉ 5050,Ꮊ 5051,Ꮋ 5052,Ꮌ 5053,Ꮍ 5054,Ꮎ 5055,Ꮏ 5056,Ꮐ 5057,Ꮑ 5058,Ꮒ 5059,Ꮓ 5060,Ꮔ 5061,Ꮕ 5062,Ꮖ 5063,Ꮗ 5064,Ꮘ 5065,Ꮙ 5066,Ꮚ 5067,Ꮛ 5068,Ꮜ 5069,Ꮝ 5070,Ꮞ 5071,Ꮟ 5072,Ꮠ 5073,Ꮡ 5074,Ꮢ 5075,Ꮣ 5076,Ꮤ 5077,Ꮥ 5078,Ꮦ 5079,Ꮧ 5080,Ꮨ 5081,Ꮩ 5082,Ꮪ 5083,Ꮫ 5084,Ꮬ 5085,Ꮭ 5086,Ꮮ 5087,Ꮯ 5088,Ꮰ 5089,Ꮱ 5090,Ꮲ 5091,Ꮳ 5092,Ꮴ 5093,Ꮵ 5094,Ꮶ 5095,Ꮷ 5096,Ꮸ 5097,Ꮹ 5098,Ꮺ 5099,Ꮻ 5100,Ꮼ 5101,Ꮽ 5102,Ꮾ 5103,Ꮿ 5104,Ᏸ 5105,Ᏹ 5106,Ᏺ 5107,Ᏻ 5108,Ᏼ 5109,Ᏽ 5110,᏶ 5111,᏷ 5112,ᏸ 5113,ᏹ 5114,ᏺ 5115,ᏻ 5116,ᏼ 5117,ᏽ 5118,᏾ 5119,᏿ 5120,᐀ 5121,ᐁ 5122,ᐂ 5123,ᐃ 5124,ᐄ 5125,ᐅ 5126,ᐆ 5127,ᐇ 5128,ᐈ 5129,ᐉ 5130,ᐊ 5131,ᐋ 5132,ᐌ 5133,ᐍ 5134,ᐎ 5135,ᐏ 5136,ᐐ 5137,ᐑ 5138,ᐒ 5139,ᐓ 5140,ᐔ 5141,ᐕ 5142,ᐖ 5143,ᐗ 5144,ᐘ 5145,ᐙ 5146,ᐚ 5147,ᐛ 5148,ᐜ 5149,ᐝ 5150,ᐞ 5151,ᐟ 5152,ᐠ 5153,ᐡ 5154,ᐢ 5155,ᐣ 5156,ᐤ 5157,ᐥ 5158,ᐦ 5159,ᐧ 5160,ᐨ 5161,ᐩ 5162,ᐪ 5163,ᐫ 5164,ᐬ 5165,ᐭ 5166,ᐮ 5167,ᐯ 5168,ᐰ 5169,ᐱ 5170,ᐲ 5171,ᐳ 5172,ᐴ 5173,ᐵ 5174,ᐶ 5175,ᐷ 5176,ᐸ 5177,ᐹ 5178,ᐺ 5179,ᐻ 5180,ᐼ 5181,ᐽ 5182,ᐾ 5183,ᐿ 5184,ᑀ 5185,ᑁ 5186,ᑂ 5187,ᑃ 5188,ᑄ 5189,ᑅ 5190,ᑆ 5191,ᑇ 5192,ᑈ 5193,ᑉ 5194,ᑊ 5195,ᑋ 5196,ᑌ 5197,ᑍ 5198,ᑎ 5199,ᑏ 5200,ᑐ 5201,ᑑ 5202,ᑒ 5203,ᑓ 5204,ᑔ 5205,ᑕ 5206,ᑖ 5207,ᑗ 5208,ᑘ 5209,ᑙ 5210,ᑚ 5211,ᑛ 5212,ᑜ 5213,ᑝ 5214,ᑞ 5215,ᑟ 5216,ᑠ 5217,ᑡ 5218,ᑢ 5219,ᑣ 5220,ᑤ 5221,ᑥ 5222,ᑦ 5223,ᑧ 5224,ᑨ 5225,ᑩ 5226,ᑪ 5227,ᑫ 5228,ᑬ 5229,ᑭ 5230,ᑮ 5231,ᑯ 5232,ᑰ 5233,ᑱ 5234,ᑲ 5235,ᑳ 5236,ᑴ 5237,ᑵ 5238,ᑶ 5239,ᑷ 5240,ᑸ 5241,ᑹ 5242,ᑺ 5243,ᑻ 5244,ᑼ 5245,ᑽ 5246,ᑾ 5247,ᑿ 5248,ᒀ 5249,ᒁ 5250,ᒂ 5251,ᒃ 5252,ᒄ 5253,ᒅ 5254,ᒆ 5255,ᒇ 5256,ᒈ 5257,ᒉ 5258,ᒊ 5259,ᒋ 5260,ᒌ 5261,ᒍ 5262,ᒎ 5263,ᒏ 5264,ᒐ 5265,ᒑ 5266,ᒒ 5267,ᒓ 5268,ᒔ 5269,ᒕ 5270,ᒖ 5271,ᒗ 5272,ᒘ 5273,ᒙ 5274,ᒚ 5275,ᒛ 5276,ᒜ 5277,ᒝ 5278,ᒞ 5279,ᒟ 5280,ᒠ 5281,ᒡ 5282,ᒢ 5283,ᒣ 5284,ᒤ 5285,ᒥ 5286,ᒦ 5287,ᒧ 5288,ᒨ 5289,ᒩ 5290,ᒪ 5291,ᒫ 5292,ᒬ 5293,ᒭ 5294,ᒮ 5295,ᒯ 5296,ᒰ 5297,ᒱ 5298,ᒲ 5299,ᒳ 5300,ᒴ 5301,ᒵ 5302,ᒶ 5303,ᒷ 5304,ᒸ 5305,ᒹ 5306,ᒺ 5307,ᒻ 5308,ᒼ 5309,ᒽ 5310,ᒾ 5311,ᒿ 5312,ᓀ 5313,ᓁ 5314,ᓂ 5315,ᓃ 5316,ᓄ 5317,ᓅ 5318,ᓆ 5319,ᓇ 5320,ᓈ 5321,ᓉ 5322,ᓊ 5323,ᓋ 5324,ᓌ 5325,ᓍ 5326,ᓎ 5327,ᓏ 5328,ᓐ 5329,ᓑ 5330,ᓒ 5331,ᓓ 5332,ᓔ 5333,ᓕ 5334,ᓖ 5335,ᓗ 5336,ᓘ 5337,ᓙ 5338,ᓚ 5339,ᓛ 5340,ᓜ 5341,ᓝ 5342,ᓞ 5343,ᓟ 5344,ᓠ 5345,ᓡ 5346,ᓢ 5347,ᓣ 5348,ᓤ 5349,ᓥ 5350,ᓦ 5351,ᓧ 5352,ᓨ 5353,ᓩ 5354,ᓪ 5355,ᓫ 5356,ᓬ 5357,ᓭ 5358,ᓮ 5359,ᓯ 5360,ᓰ 5361,ᓱ 5362,ᓲ 5363,ᓳ 5364,ᓴ 5365,ᓵ 5366,ᓶ 5367,ᓷ 5368,ᓸ 5369,ᓹ 5370,ᓺ 5371,ᓻ 5372,ᓼ 5373,ᓽ 5374,ᓾ 5375,ᓿ 5376,ᔀ 5377,ᔁ 5378,ᔂ 5379,ᔃ 5380,ᔄ 5381,ᔅ 5382,ᔆ 5383,ᔇ 5384,ᔈ 5385,ᔉ 5386,ᔊ 5387,ᔋ 5388,ᔌ 5389,ᔍ 5390,ᔎ 5391,ᔏ 5392,ᔐ 5393,ᔑ 5394,ᔒ 5395,ᔓ 5396,ᔔ 5397,ᔕ 5398,ᔖ 5399,ᔗ 5400,ᔘ 5401,ᔙ 5402,ᔚ 5403,ᔛ 5404,ᔜ 5405,ᔝ 5406,ᔞ 5407,ᔟ 5408,ᔠ 5409,ᔡ 5410,ᔢ 5411,ᔣ 5412,ᔤ 5413,ᔥ 5414,ᔦ 5415,ᔧ 5416,ᔨ 5417,ᔩ 5418,ᔪ 5419,ᔫ 5420,ᔬ 5421,ᔭ 5422,ᔮ 5423,ᔯ 5424,ᔰ 5425,ᔱ 5426,ᔲ 5427,ᔳ 5428,ᔴ 5429,ᔵ 5430,ᔶ 5431,ᔷ 5432,ᔸ 5433,ᔹ 5434,ᔺ 5435,ᔻ 5436,ᔼ 5437,ᔽ 5438,ᔾ 5439,ᔿ 5440,ᕀ 5441,ᕁ 5442,ᕂ 5443,ᕃ 5444,ᕄ 5445,ᕅ 5446,ᕆ 5447,ᕇ 5448,ᕈ 5449,ᕉ 5450,ᕊ 5451,ᕋ 5452,ᕌ 5453,ᕍ 5454,ᕎ 5455,ᕏ 5456,ᕐ 5457,ᕑ 5458,ᕒ 5459,ᕓ 5460,ᕔ 5461,ᕕ 5462,ᕖ 5463,ᕗ 5464,ᕘ 5465,ᕙ 5466,ᕚ 5467,ᕛ 5468,ᕜ 5469,ᕝ 5470,ᕞ 5471,ᕟ 5472,ᕠ 5473,ᕡ 5474,ᕢ 5475,ᕣ 5476,ᕤ 5477,ᕥ 5478,ᕦ 5479,ᕧ 5480,ᕨ 5481,ᕩ 5482,ᕪ 5483,ᕫ 5484,ᕬ 5485,ᕭ 5486,ᕮ 5487,ᕯ 5488,ᕰ 5489,ᕱ 5490,ᕲ 5491,ᕳ 5492,ᕴ 5493,ᕵ 5494,ᕶ 5495,ᕷ 5496,ᕸ 5497,ᕹ 5498,ᕺ 5499,ᕻ 5500,ᕼ 5501,ᕽ 5502,ᕾ 5503,ᕿ 5504,ᖀ 5505,ᖁ 5506,ᖂ 5507,ᖃ 5508,ᖄ 5509,ᖅ 5510,ᖆ 5511,ᖇ 5512,ᖈ 5513,ᖉ 5514,ᖊ 5515,ᖋ 5516,ᖌ 5517,ᖍ 5518,ᖎ 5519,ᖏ 5520,ᖐ 5521,ᖑ 5522,ᖒ 5523,ᖓ 5524,ᖔ 5525,ᖕ 5526,ᖖ 5527,ᖗ 5528,ᖘ 5529,ᖙ 5530,ᖚ 5531,ᖛ 5532,ᖜ 5533,ᖝ 5534,ᖞ 5535,ᖟ 5536,ᖠ 5537,ᖡ 5538,ᖢ 5539,ᖣ 5540,ᖤ 5541,ᖥ 5542,ᖦ 5543,ᖧ 5544,ᖨ 5545,ᖩ 5546,ᖪ 5547,ᖫ 5548,ᖬ 5549,ᖭ 5550,ᖮ 5551,ᖯ 5552,ᖰ 5553,ᖱ 5554,ᖲ 5555,ᖳ 5556,ᖴ 5557,ᖵ 5558,ᖶ 5559,ᖷ 5560,ᖸ 5561,ᖹ 5562,ᖺ 5563,ᖻ 5564,ᖼ 5565,ᖽ 5566,ᖾ 5567,ᖿ 5568,ᗀ 5569,ᗁ 5570,ᗂ 5571,ᗃ 5572,ᗄ 5573,ᗅ 5574,ᗆ 5575,ᗇ 5576,ᗈ 5577,ᗉ 5578,ᗊ 5579,ᗋ 5580,ᗌ 5581,ᗍ 5582,ᗎ 5583,ᗏ 5584,ᗐ 5585,ᗑ 5586,ᗒ 5587,ᗓ 5588,ᗔ 5589,ᗕ 5590,ᗖ 5591,ᗗ 5592,ᗘ 5593,ᗙ 5594,ᗚ 5595,ᗛ 5596,ᗜ 5597,ᗝ 5598,ᗞ 5599,ᗟ 5600,ᗠ 5601,ᗡ 5602,ᗢ 5603,ᗣ 5604,ᗤ 5605,ᗥ 5606,ᗦ 5607,ᗧ 5608,ᗨ 5609,ᗩ 5610,ᗪ 5611,ᗫ 5612,ᗬ 5613,ᗭ 5614,ᗮ 5615,ᗯ 5616,ᗰ 5617,ᗱ 5618,ᗲ 5619,ᗳ 5620,ᗴ 5621,ᗵ 5622,ᗶ 5623,ᗷ 5624,ᗸ 5625,ᗹ 5626,ᗺ 5627,ᗻ 5628,ᗼ 5629,ᗽ 5630,ᗾ 5631,ᗿ 5632,ᘀ 5633,ᘁ 5634,ᘂ 5635,ᘃ 5636,ᘄ 5637,ᘅ 5638,ᘆ 5639,ᘇ 5640,ᘈ 5641,ᘉ 5642,ᘊ 5643,ᘋ 5644,ᘌ 5645,ᘍ 5646,ᘎ 5647,ᘏ 5648,ᘐ 5649,ᘑ 5650,ᘒ 5651,ᘓ 5652,ᘔ 5653,ᘕ 5654,ᘖ 5655,ᘗ 5656,ᘘ 5657,ᘙ 5658,ᘚ 5659,ᘛ 5660,ᘜ 5661,ᘝ 5662,ᘞ 5663,ᘟ 5664,ᘠ 5665,ᘡ 5666,ᘢ 5667,ᘣ 5668,ᘤ 5669,ᘥ 5670,ᘦ 5671,ᘧ 5672,ᘨ 5673,ᘩ 5674,ᘪ 5675,ᘫ 5676,ᘬ 5677,ᘭ 5678,ᘮ 5679,ᘯ 5680,ᘰ 5681,ᘱ 5682,ᘲ 5683,ᘳ 5684,ᘴ 5685,ᘵ 5686,ᘶ 5687,ᘷ 5688,ᘸ 5689,ᘹ 5690,ᘺ 5691,ᘻ 5692,ᘼ 5693,ᘽ 5694,ᘾ 5695,ᘿ 5696,ᙀ 5697,ᙁ 5698,ᙂ 5699,ᙃ 5700,ᙄ 5701,ᙅ 5702,ᙆ 5703,ᙇ 5704,ᙈ 5705,ᙉ 5706,ᙊ 5707,ᙋ 5708,ᙌ 5709,ᙍ 5710,ᙎ 5711,ᙏ 5712,ᙐ 5713,ᙑ 5714,ᙒ 5715,ᙓ 5716,ᙔ 5717,ᙕ 5718,ᙖ 5719,ᙗ 5720,ᙘ 5721,ᙙ 5722,ᙚ 5723,ᙛ 5724,ᙜ 5725,ᙝ 5726,ᙞ 5727,ᙟ 5728,ᙠ 5729,ᙡ 5730,ᙢ 5731,ᙣ 5732,ᙤ 5733,ᙥ 5734,ᙦ 5735,ᙧ 5736,ᙨ 5737,ᙩ 5738,ᙪ 5739,ᙫ 5740,ᙬ 5741,᙭ 5742,᙮ 5743,ᙯ 5744,ᙰ 5745,ᙱ 5746,ᙲ 5747,ᙳ 5748,ᙴ 5749,ᙵ 5750,ᙶ 5751,ᙷ 5752,ᙸ 5753,ᙹ 5754,ᙺ 5755,ᙻ 5756,ᙼ 5757,ᙽ 5758,ᙾ 5759,ᙿ 5760,  5761,ᚁ 5762,ᚂ 5763,ᚃ 5764,ᚄ 5765,ᚅ 5766,ᚆ 5767,ᚇ 5768,ᚈ 5769,ᚉ 5770,ᚊ 5771,ᚋ 5772,ᚌ 5773,ᚍ 5774,ᚎ 5775,ᚏ 5776,ᚐ 5777,ᚑ 5778,ᚒ 5779,ᚓ 5780,ᚔ 5781,ᚕ 5782,ᚖ 5783,ᚗ 5784,ᚘ 5785,ᚙ 5786,ᚚ 5787,᚛ 5788,᚜ 5789,᚝ 5790,᚞ 5791,᚟ 5792,ᚠ 5793,ᚡ 5794,ᚢ 5795,ᚣ 5796,ᚤ 5797,ᚥ 5798,ᚦ 5799,ᚧ 5800,ᚨ 5801,ᚩ 5802,ᚪ 5803,ᚫ 5804,ᚬ 5805,ᚭ 5806,ᚮ 5807,ᚯ 5808,ᚰ 5809,ᚱ 5810,ᚲ 5811,ᚳ 5812,ᚴ 5813,ᚵ 5814,ᚶ 5815,ᚷ 5816,ᚸ 5817,ᚹ 5818,ᚺ 5819,ᚻ 5820,ᚼ 5821,ᚽ 5822,ᚾ 5823,ᚿ 5824,ᛀ 5825,ᛁ 5826,ᛂ 5827,ᛃ 5828,ᛄ 5829,ᛅ 5830,ᛆ 5831,ᛇ 5832,ᛈ 5833,ᛉ 5834,ᛊ 5835,ᛋ 5836,ᛌ 5837,ᛍ 5838,ᛎ 5839,ᛏ 5840,ᛐ 5841,ᛑ 5842,ᛒ 5843,ᛓ 5844,ᛔ 5845,ᛕ 5846,ᛖ 5847,ᛗ 5848,ᛘ 5849,ᛙ 5850,ᛚ 5851,ᛛ 5852,ᛜ 5853,ᛝ 5854,ᛞ 5855,ᛟ 5856,ᛠ 5857,ᛡ 5858,ᛢ 5859,ᛣ 5860,ᛤ 5861,ᛥ 5862,ᛦ 5863,ᛧ 5864,ᛨ 5865,ᛩ 5866,ᛪ 5867,᛫ 5868,᛬ 5869,᛭ 5870,ᛮ 5871,ᛯ 5872,ᛰ 5873,ᛱ 5874,ᛲ 5875,ᛳ 5876,ᛴ 5877,ᛵ 5878,ᛶ 5879,ᛷ 5880,ᛸ 5881,᛹ 5882,᛺ 5883,᛻ 5884,᛼ 5885,᛽ 5886,᛾ 5887,᛿ 5888,ᜀ 5889,ᜁ 5890,ᜂ 5891,ᜃ 5892,ᜄ 5893,ᜅ 5894,ᜆ 5895,ᜇ 5896,ᜈ 5897,ᜉ 5898,ᜊ 5899,ᜋ 5900,ᜌ 5901,ᜍ 5902,ᜎ 5903,ᜏ 5904,ᜐ 5905,ᜑ 5906,ᜒ 5907,ᜓ 5908,᜔ 5909,᜕ 5910,᜖ 5911,᜗ 5912,᜘ 5913,᜙ 5914,᜚ 5915,᜛ 5916,᜜ 5917,᜝ 5918,᜞ 5919,ᜟ 5920,ᜠ 5921,ᜡ 5922,ᜢ 5923,ᜣ 5924,ᜤ 5925,ᜥ 5926,ᜦ 5927,ᜧ 5928,ᜨ 5929,ᜩ 5930,ᜪ 5931,ᜫ 5932,ᜬ 5933,ᜭ 5934,ᜮ 5935,ᜯ 5936,ᜰ 5937,ᜱ 5938,ᜲ 5939,ᜳ 5940,᜴ 5941,᜵ 5942,᜶ 5943,᜷ 5944,᜸ 5945,᜹ 5946,᜺ 5947,᜻ 5948,᜼ 5949,᜽ 5950,᜾ 5951,᜿ 5952,ᝀ 5953,ᝁ 5954,ᝂ 5955,ᝃ 5956,ᝄ 5957,ᝅ 5958,ᝆ 5959,ᝇ 5960,ᝈ 5961,ᝉ 5962,ᝊ 5963,ᝋ 5964,ᝌ 5965,ᝍ 5966,ᝎ 5967,ᝏ 5968,ᝐ 5969,ᝑ 5970,ᝒ 5971,ᝓ 5972,᝔ 5973,᝕ 5974,᝖ 5975,᝗ 5976,᝘ 5977,᝙ 5978,᝚ 5979,᝛ 5980,᝜ 5981,᝝ 5982,᝞ 5983,᝟ 5984,ᝠ 5985,ᝡ 5986,ᝢ 5987,ᝣ 5988,ᝤ 5989,ᝥ 5990,ᝦ 5991,ᝧ 5992,ᝨ 5993,ᝩ 5994,ᝪ 5995,ᝫ 5996,ᝬ 5997,᝭ 5998,ᝮ 5999,ᝯ 6000,ᝰ 6001,᝱ 6002,ᝲ 6003,ᝳ 6004,᝴ 6005,᝵ 6006,᝶ 6007,᝷ 6008,᝸ 6009,᝹ 6010,᝺ 6011,᝻ 6012,᝼ 6013,᝽ 6014,᝾ 6015,᝿ 6016,ក 6017,ខ 6018,គ 6019,ឃ 6020,ង 6021,ច 6022,ឆ 6023,ជ 6024,ឈ 6025,ញ 6026,ដ 6027,ឋ 6028,ឌ 6029,ឍ 6030,ណ 6031,ត 6032,ថ 6033,ទ 6034,ធ 6035,ន 6036,ប 6037,ផ 6038,ព 6039,ភ 6040,ម 6041,យ 6042,រ 6043,ល 6044,វ 6045,ឝ 6046,ឞ 6047,ស 6048,ហ 6049,ឡ 6050,អ 6051,ឣ 6052,ឤ 6053,ឥ 6054,ឦ 6055,ឧ 6056,ឨ 6057,ឩ 6058,ឪ 6059,ឫ 6060,ឬ 6061,ឭ 6062,ឮ 6063,ឯ 6064,ឰ 6065,ឱ 6066,ឲ 6067,ឳ 6068,឴ 6069,឵ 6070,ា 6071,ិ 6072,ី 6073,ឹ 6074,ឺ 6075,ុ 6076,ូ 6077,ួ 6078,ើ 6079,ឿ 6080,ៀ 6081,េ 6082,ែ 6083,ៃ 6084,ោ 6085,ៅ 6086,ំ 6087,ះ 6088,ៈ 6089,៉ 6090,៊ 6091,់ 6092,៌ 6093,៍ 6094,៎ 6095,៏ 6096,័ 6097,៑ 6098,្ 6099,៓ 6100,។ 6101,៕ 6102,៖ 6103,ៗ 6104,៘ 6105,៙ 6106,៚ 6107,៛ 6108,ៜ 6109,៝ 6110,៞ 6111,៟ 6112,០ 6113,១ 6114,២ 6115,៣ 6116,៤ 6117,៥ 6118,៦ 6119,៧ 6120,៨ 6121,៩ 6122,៪ 6123,៫ 6124,៬ 6125,៭ 6126,៮ 6127,៯ 6128,៰ 6129,៱ 6130,៲ 6131,៳ 6132,៴ 6133,៵ 6134,៶ 6135,៷ 6136,៸ 6137,៹ 6138,៺ 6139,៻ 6140,៼ 6141,៽ 6142,៾ 6143,៿ 6144,᠀ 6145,᠁ 6146,᠂ 6147,᠃ 6148,᠄ 6149,᠅ 6150,᠆ 6151,᠇ 6152,᠈ 6153,᠉ 6154,᠊ 6155,᠋ 6156,᠌ 6157,᠍ 6158,᠎ 6159,᠏ 6160,᠐ 6161,᠑ 6162,᠒ 6163,᠓ 6164,᠔ 6165,᠕ 6166,᠖ 6167,᠗ 6168,᠘ 6169,᠙ 6170,᠚ 6171,᠛ 6172,᠜ 6173,᠝ 6174,᠞ 6175,᠟ 6176,ᠠ 6177,ᠡ 6178,ᠢ 6179,ᠣ 6180,ᠤ 6181,ᠥ 6182,ᠦ 6183,ᠧ 6184,ᠨ 6185,ᠩ 6186,ᠪ 6187,ᠫ 6188,ᠬ 6189,ᠭ 6190,ᠮ 6191,ᠯ 6192,ᠰ 6193,ᠱ 6194,ᠲ 6195,ᠳ 6196,ᠴ 6197,ᠵ 6198,ᠶ 6199,ᠷ 6200,ᠸ 6201,ᠹ 6202,ᠺ 6203,ᠻ 6204,ᠼ 6205,ᠽ 6206,ᠾ 6207,ᠿ 6208,ᡀ 6209,ᡁ 6210,ᡂ 6211,ᡃ 6212,ᡄ 6213,ᡅ 6214,ᡆ 6215,ᡇ 6216,ᡈ 6217,ᡉ 6218,ᡊ 6219,ᡋ 6220,ᡌ 6221,ᡍ 6222,ᡎ 6223,ᡏ 6224,ᡐ 6225,ᡑ 6226,ᡒ 6227,ᡓ 6228,ᡔ 6229,ᡕ 6230,ᡖ 6231,ᡗ 6232,ᡘ 6233,ᡙ 6234,ᡚ 6235,ᡛ 6236,ᡜ 6237,ᡝ 6238,ᡞ 6239,ᡟ 6240,ᡠ 6241,ᡡ 6242,ᡢ 6243,ᡣ 6244,ᡤ 6245,ᡥ 6246,ᡦ 6247,ᡧ 6248,ᡨ 6249,ᡩ 6250,ᡪ 6251,ᡫ 6252,ᡬ 6253,ᡭ 6254,ᡮ 6255,ᡯ 6256,ᡰ 6257,ᡱ 6258,ᡲ 6259,ᡳ 6260,ᡴ 6261,ᡵ 6262,ᡶ 6263,ᡷ 6264,ᡸ 6265,᡹ 6266,᡺ 6267,᡻ 6268,᡼ 6269,᡽ 6270,᡾ 6271,᡿ 6272,ᢀ 6273,ᢁ 6274,ᢂ 6275,ᢃ 6276,ᢄ 6277,ᢅ 6278,ᢆ 6279,ᢇ 6280,ᢈ 6281,ᢉ 6282,ᢊ 6283,ᢋ 6284,ᢌ 6285,ᢍ 6286,ᢎ 6287,ᢏ 6288,ᢐ 6289,ᢑ 6290,ᢒ 6291,ᢓ 6292,ᢔ 6293,ᢕ 6294,ᢖ 6295,ᢗ 6296,ᢘ 6297,ᢙ 6298,ᢚ 6299,ᢛ 6300,ᢜ 6301,ᢝ 6302,ᢞ 6303,ᢟ 6304,ᢠ 6305,ᢡ 6306,ᢢ 6307,ᢣ 6308,ᢤ 6309,ᢥ 6310,ᢦ 6311,ᢧ 6312,ᢨ 6313,ᢩ 6314,ᢪ 6315,᢫ 6316,᢬ 6317,᢭ 6318,᢮ 6319,᢯ 6320,ᢰ 6321,ᢱ 6322,ᢲ 6323,ᢳ 6324,ᢴ 6325,ᢵ 6326,ᢶ 6327,ᢷ 6328,ᢸ 6329,ᢹ 6330,ᢺ 6331,ᢻ 6332,ᢼ 6333,ᢽ 6334,ᢾ 6335,ᢿ 6336,ᣀ 6337,ᣁ 6338,ᣂ 6339,ᣃ 6340,ᣄ 6341,ᣅ 6342,ᣆ 6343,ᣇ 6344,ᣈ 6345,ᣉ 6346,ᣊ 6347,ᣋ 6348,ᣌ 6349,ᣍ 6350,ᣎ 6351,ᣏ 6352,ᣐ 6353,ᣑ 6354,ᣒ 6355,ᣓ 6356,ᣔ 6357,ᣕ 6358,ᣖ 6359,ᣗ 6360,ᣘ 6361,ᣙ 6362,ᣚ 6363,ᣛ 6364,ᣜ 6365,ᣝ 6366,ᣞ 6367,ᣟ 6368,ᣠ 6369,ᣡ 6370,ᣢ 6371,ᣣ 6372,ᣤ 6373,ᣥ 6374,ᣦ 6375,ᣧ 6376,ᣨ 6377,ᣩ 6378,ᣪ 6379,ᣫ 6380,ᣬ 6381,ᣭ 6382,ᣮ 6383,ᣯ 6384,ᣰ 6385,ᣱ 6386,ᣲ 6387,ᣳ 6388,ᣴ 6389,ᣵ 6390,᣶ 6391,᣷ 6392,᣸ 6393,᣹ 6394,᣺ 6395,᣻ 6396,᣼ 6397,᣽ 6398,᣾ 6399,᣿ 6400,ᤀ 6401,ᤁ 6402,ᤂ 6403,ᤃ 6404,ᤄ 6405,ᤅ 6406,ᤆ 6407,ᤇ 6408,ᤈ 6409,ᤉ 6410,ᤊ 6411,ᤋ 6412,ᤌ 6413,ᤍ 6414,ᤎ 6415,ᤏ 6416,ᤐ 6417,ᤑ 6418,ᤒ 6419,ᤓ 6420,ᤔ 6421,ᤕ 6422,ᤖ 6423,ᤗ 6424,ᤘ 6425,ᤙ 6426,ᤚ 6427,ᤛ 6428,ᤜ 6429,ᤝ 6430,ᤞ 6431,᤟ 6432,ᤠ 6433,ᤡ 6434,ᤢ 6435,ᤣ 6436,ᤤ 6437,ᤥ 6438,ᤦ 6439,ᤧ 6440,ᤨ 6441,ᤩ 6442,ᤪ 6443,ᤫ 6444,᤬ 6445,᤭ 6446,᤮ 6447,᤯ 6448,ᤰ 6449,ᤱ 6450,ᤲ 6451,ᤳ 6452,ᤴ 6453,ᤵ 6454,ᤶ 6455,ᤷ 6456,ᤸ 6457,᤹ 6458,᤺ 6459,᤻ 6460,᤼ 6461,᤽ 6462,᤾ 6463,᤿ 6464,᥀ 6465,᥁ 6466,᥂ 6467,᥃ 6468,᥄ 6469,᥅ 6470,᥆ 6471,᥇ 6472,᥈ 6473,᥉ 6474,᥊ 6475,᥋ 6476,᥌ 6477,᥍ 6478,᥎ 6479,᥏ 6480,ᥐ 6481,ᥑ 6482,ᥒ 6483,ᥓ 6484,ᥔ 6485,ᥕ 6486,ᥖ 6487,ᥗ 6488,ᥘ 6489,ᥙ 6490,ᥚ 6491,ᥛ 6492,ᥜ 6493,ᥝ 6494,ᥞ 6495,ᥟ 6496,ᥠ 6497,ᥡ 6498,ᥢ 6499,ᥣ 6500,ᥤ 6501,ᥥ 6502,ᥦ 6503,ᥧ 6504,ᥨ 6505,ᥩ 6506,ᥪ 6507,ᥫ 6508,ᥬ 6509,ᥭ 6510,᥮ 6511,᥯ 6512,ᥰ 6513,ᥱ 6514,ᥲ 6515,ᥳ 6516,ᥴ 6517,᥵ 6518,᥶ 6519,᥷ 6520,᥸ 6521,᥹ 6522,᥺ 6523,᥻ 6524,᥼ 6525,᥽ 6526,᥾ 6527,᥿ 6528,ᦀ 6529,ᦁ 6530,ᦂ 6531,ᦃ 6532,ᦄ 6533,ᦅ 6534,ᦆ 6535,ᦇ 6536,ᦈ 6537,ᦉ 6538,ᦊ 6539,ᦋ 6540,ᦌ 6541,ᦍ 6542,ᦎ 6543,ᦏ 6544,ᦐ 6545,ᦑ 6546,ᦒ 6547,ᦓ 6548,ᦔ 6549,ᦕ 6550,ᦖ 6551,ᦗ 6552,ᦘ 6553,ᦙ 6554,ᦚ 6555,ᦛ 6556,ᦜ 6557,ᦝ 6558,ᦞ 6559,ᦟ 6560,ᦠ 6561,ᦡ 6562,ᦢ 6563,ᦣ 6564,ᦤ 6565,ᦥ 6566,ᦦ 6567,ᦧ 6568,ᦨ 6569,ᦩ 6570,ᦪ 6571,ᦫ 6572,᦬ 6573,᦭ 6574,᦮ 6575,᦯ 6576,ᦰ 6577,ᦱ 6578,ᦲ 6579,ᦳ 6580,ᦴ 6581,ᦵ 6582,ᦶ 6583,ᦷ 6584,ᦸ 6585,ᦹ 6586,ᦺ 6587,ᦻ 6588,ᦼ 6589,ᦽ 6590,ᦾ 6591,ᦿ 6592,ᧀ 6593,ᧁ 6594,ᧂ 6595,ᧃ 6596,ᧄ 6597,ᧅ 6598,ᧆ 6599,ᧇ 6600,ᧈ 6601,ᧉ 6602,᧊ 6603,᧋ 6604,᧌ 6605,᧍ 6606,᧎ 6607,᧏ 6608,᧐ 6609,᧑ 6610,᧒ 6611,᧓ 6612,᧔ 6613,᧕ 6614,᧖ 6615,᧗ 6616,᧘ 6617,᧙ 6618,᧚ 6619,᧛ 6620,᧜ 6621,᧝ 6622,᧞ 6623,᧟ 6624,᧠ 6625,᧡ 6626,᧢ 6627,᧣ 6628,᧤ 6629,᧥ 6630,᧦ 6631,᧧ 6632,᧨ 6633,᧩ 6634,᧪ 6635,᧫ 6636,᧬ 6637,᧭ 6638,᧮ 6639,᧯ 6640,᧰ 6641,᧱ 6642,᧲ 6643,᧳ 6644,᧴ 6645,᧵ 6646,᧶ 6647,᧷ 6648,᧸ 6649,᧹ 6650,᧺ 6651,᧻ 6652,᧼ 6653,᧽ 6654,᧾ 6655,᧿ 6656,ᨀ 6657,ᨁ 6658,ᨂ 6659,ᨃ 6660,ᨄ 6661,ᨅ 6662,ᨆ 6663,ᨇ 6664,ᨈ 6665,ᨉ 6666,ᨊ 6667,ᨋ 6668,ᨌ 6669,ᨍ 6670,ᨎ 6671,ᨏ 6672,ᨐ 6673,ᨑ 6674,ᨒ 6675,ᨓ 6676,ᨔ 6677,ᨕ 6678,ᨖ 6679,ᨗ 6680,ᨘ 6681,ᨙ 6682,ᨚ 6683,ᨛ 6684,᨜ 6685,᨝ 6686,᨞ 6687,᨟ 6688,ᨠ 6689,ᨡ 6690,ᨢ 6691,ᨣ 6692,ᨤ 6693,ᨥ 6694,ᨦ 6695,ᨧ 6696,ᨨ 6697,ᨩ 6698,ᨪ 6699,ᨫ 6700,ᨬ 6701,ᨭ 6702,ᨮ 6703,ᨯ 6704,ᨰ 6705,ᨱ 6706,ᨲ 6707,ᨳ 6708,ᨴ 6709,ᨵ 6710,ᨶ 6711,ᨷ 6712,ᨸ 6713,ᨹ 6714,ᨺ 6715,ᨻ 6716,ᨼ 6717,ᨽ 6718,ᨾ 6719,ᨿ 6720,ᩀ 6721,ᩁ 6722,ᩂ 6723,ᩃ 6724,ᩄ 6725,ᩅ 6726,ᩆ 6727,ᩇ 6728,ᩈ 6729,ᩉ 6730,ᩊ 6731,ᩋ 6732,ᩌ 6733,ᩍ 6734,ᩎ 6735,ᩏ 6736,ᩐ 6737,ᩑ 6738,ᩒ 6739,ᩓ 6740,ᩔ 6741,ᩕ 6742,ᩖ 6743,ᩗ 6744,ᩘ 6745,ᩙ 6746,ᩚ 6747,ᩛ 6748,ᩜ 6749,ᩝ 6750,ᩞ 6751,᩟ 6752,᩠ 6753,ᩡ 6754,ᩢ 6755,ᩣ 6756,ᩤ 6757,ᩥ 6758,ᩦ 6759,ᩧ 6760,ᩨ 6761,ᩩ 6762,ᩪ 6763,ᩫ 6764,ᩬ 6765,ᩭ 6766,ᩮ 6767,ᩯ 6768,ᩰ 6769,ᩱ 6770,ᩲ 6771,ᩳ 6772,ᩴ 6773,᩵ 6774,᩶ 6775,᩷ 6776,᩸ 6777,᩹ 6778,᩺ 6779,᩻ 6780,᩼ 6781,᩽ 6782,᩾ 6783,᩿ 6784,᪀ 6785,᪁ 6786,᪂ 6787,᪃ 6788,᪄ 6789,᪅ 6790,᪆ 6791,᪇ 6792,᪈ 6793,᪉ 6794,᪊ 6795,᪋ 6796,᪌ 6797,᪍ 6798,᪎ 6799,᪏ 6800,᪐ 6801,᪑ 6802,᪒ 6803,᪓ 6804,᪔ 6805,᪕ 6806,᪖ 6807,᪗ 6808,᪘ 6809,᪙ 6810,᪚ 6811,᪛ 6812,᪜ 6813,᪝ 6814,᪞ 6815,᪟ 6816,᪠ 6817,᪡ 6818,᪢ 6819,᪣ 6820,᪤ 6821,᪥ 6822,᪦ 6823,ᪧ 6824,᪨ 6825,᪩ 6826,᪪ 6827,᪫ 6828,᪬ 6829,᪭ 6830,᪮ 6831,᪯ 6832,᪰ 6833,᪱ 6834,᪲ 6835,᪳ 6836,᪴ 6837,᪵ 6838,᪶ 6839,᪷ 6840,᪸ 6841,᪹ 6842,᪺ 6843,᪻ 6844,᪼ 6845,᪽ 6846,᪾ 6847,ᪿ 6848,ᫀ 6849,᫁ 6850,᫂ 6851,᫃ 6852,᫄ 6853,᫅ 6854,᫆ 6855,᫇ 6856,᫈ 6857,᫉ 6858,᫊ 6859,᫋ 6860,ᫌ 6861,ᫍ 6862,ᫎ 6863,᫏ 6864,᫐ 6865,᫑ 6866,᫒ 6867,᫓ 6868,᫔ 6869,᫕ 6870,᫖ 6871,᫗ 6872,᫘ 6873,᫙ 6874,᫚ 6875,᫛ 6876,᫜ 6877,᫝ 6878,᫞ 6879,᫟ 6880,᫠ 6881,᫡ 6882,᫢ 6883,᫣ 6884,᫤ 6885,᫥ 6886,᫦ 6887,᫧ 6888,᫨ 6889,᫩ 6890,᫪ 6891,᫫ 6892,᫬ 6893,᫭ 6894,᫮ 6895,᫯ 6896,᫰ 6897,᫱ 6898,᫲ 6899,᫳ 6900,᫴ 6901,᫵ 6902,᫶ 6903,᫷ 6904,᫸ 6905,᫹ 6906,᫺ 6907,᫻ 6908,᫼ 6909,᫽ 6910,᫾ 6911,᫿ 6912,ᬀ 6913,ᬁ 6914,ᬂ 6915,ᬃ 6916,ᬄ 6917,ᬅ 6918,ᬆ 6919,ᬇ 6920,ᬈ 6921,ᬉ 6922,ᬊ 6923,ᬋ 6924,ᬌ 6925,ᬍ 6926,ᬎ 6927,ᬏ 6928,ᬐ 6929,ᬑ 6930,ᬒ 6931,ᬓ 6932,ᬔ 6933,ᬕ 6934,ᬖ 6935,ᬗ 6936,ᬘ 6937,ᬙ 6938,ᬚ 6939,ᬛ 6940,ᬜ 6941,ᬝ 6942,ᬞ 6943,ᬟ 6944,ᬠ 6945,ᬡ 6946,ᬢ 6947,ᬣ 6948,ᬤ 6949,ᬥ 6950,ᬦ 6951,ᬧ 6952,ᬨ 6953,ᬩ 6954,ᬪ 6955,ᬫ 6956,ᬬ 6957,ᬭ 6958,ᬮ 6959,ᬯ 6960,ᬰ 6961,ᬱ 6962,ᬲ 6963,ᬳ 6964,᬴ 6965,ᬵ 6966,ᬶ 6967,ᬷ 6968,ᬸ 6969,ᬹ 6970,ᬺ 6971,ᬻ 6972,ᬼ 6973,ᬽ 6974,ᬾ 6975,ᬿ 6976,ᭀ 6977,ᭁ 6978,ᭂ 6979,ᭃ 6980,᭄ 6981,ᭅ 6982,ᭆ 6983,ᭇ 6984,ᭈ 6985,ᭉ 6986,ᭊ 6987,ᭋ 6988,ᭌ 6989,᭍ 6990,᭎ 6991,᭏ 6992,᭐ 6993,᭑ 6994,᭒ 6995,᭓ 6996,᭔ 6997,᭕ 6998,᭖ 6999,᭗ 7000,᭘ 7001,᭙ 7002,᭚ 7003,᭛ 7004,᭜ 7005,᭝ 7006,᭞ 7007,᭟ 7008,᭠ 7009,᭡ 7010,᭢ 7011,᭣ 7012,᭤ 7013,᭥ 7014,᭦ 7015,᭧ 7016,᭨ 7017,᭩ 7018,᭪ 7019,᭫ 7020,᭬ 7021,᭭ 7022,᭮ 7023,᭯ 7024,᭰ 7025,᭱ 7026,᭲ 7027,᭳ 7028,᭴ 7029,᭵ 7030,᭶ 7031,᭷ 7032,᭸ 7033,᭹ 7034,᭺ 7035,᭻ 7036,᭼ 7037,᭽ 7038,᭾ 7039,᭿ 7040,ᮀ 7041,ᮁ 7042,ᮂ 7043,ᮃ 7044,ᮄ 7045,ᮅ 7046,ᮆ 7047,ᮇ 7048,ᮈ 7049,ᮉ 7050,ᮊ 7051,ᮋ 7052,ᮌ 7053,ᮍ 7054,ᮎ 7055,ᮏ 7056,ᮐ 7057,ᮑ 7058,ᮒ 7059,ᮓ 7060,ᮔ 7061,ᮕ 7062,ᮖ 7063,ᮗ 7064,ᮘ 7065,ᮙ 7066,ᮚ 7067,ᮛ 7068,ᮜ 7069,ᮝ 7070,ᮞ 7071,ᮟ 7072,ᮠ 7073,ᮡ 7074,ᮢ 7075,ᮣ 7076,ᮤ 7077,ᮥ 7078,ᮦ 7079,ᮧ 7080,ᮨ 7081,ᮩ 7082,᮪ 7083,᮫ 7084,ᮬ 7085,ᮭ 7086,ᮮ 7087,ᮯ 7088,᮰ 7089,᮱ 7090,᮲ 7091,᮳ 7092,᮴ 7093,᮵ 7094,᮶ 7095,᮷ 7096,᮸ 7097,᮹ 7098,ᮺ 7099,ᮻ 7100,ᮼ 7101,ᮽ 7102,ᮾ 7103,ᮿ 7104,ᯀ 7105,ᯁ 7106,ᯂ 7107,ᯃ 7108,ᯄ 7109,ᯅ 7110,ᯆ 7111,ᯇ 7112,ᯈ 7113,ᯉ 7114,ᯊ 7115,ᯋ 7116,ᯌ 7117,ᯍ 7118,ᯎ 7119,ᯏ 7120,ᯐ 7121,ᯑ 7122,ᯒ 7123,ᯓ 7124,ᯔ 7125,ᯕ 7126,ᯖ 7127,ᯗ 7128,ᯘ 7129,ᯙ 7130,ᯚ 7131,ᯛ 7132,ᯜ 7133,ᯝ 7134,ᯞ 7135,ᯟ 7136,ᯠ 7137,ᯡ 7138,ᯢ 7139,ᯣ 7140,ᯤ 7141,ᯥ 7142,᯦ 7143,ᯧ 7144,ᯨ 7145,ᯩ 7146,ᯪ 7147,ᯫ 7148,ᯬ 7149,ᯭ 7150,ᯮ 7151,ᯯ 7152,ᯰ 7153,ᯱ 7154,᯲ 7155,᯳ 7156,᯴ 7157,᯵ 7158,᯶ 7159,᯷ 7160,᯸ 7161,᯹ 7162,᯺ 7163,᯻ 7164,᯼ 7165,᯽ 7166,᯾ 7167,᯿ 7168,ᰀ 7169,ᰁ 7170,ᰂ 7171,ᰃ 7172,ᰄ 7173,ᰅ 7174,ᰆ 7175,ᰇ 7176,ᰈ 7177,ᰉ 7178,ᰊ 7179,ᰋ 7180,ᰌ 7181,ᰍ 7182,ᰎ 7183,ᰏ 7184,ᰐ 7185,ᰑ 7186,ᰒ 7187,ᰓ 7188,ᰔ 7189,ᰕ 7190,ᰖ 7191,ᰗ 7192,ᰘ 7193,ᰙ 7194,ᰚ 7195,ᰛ 7196,ᰜ 7197,ᰝ 7198,ᰞ 7199,ᰟ 7200,ᰠ 7201,ᰡ 7202,ᰢ 7203,ᰣ 7204,ᰤ 7205,ᰥ 7206,ᰦ 7207,ᰧ 7208,ᰨ 7209,ᰩ 7210,ᰪ 7211,ᰫ 7212,ᰬ 7213,ᰭ 7214,ᰮ 7215,ᰯ 7216,ᰰ 7217,ᰱ 7218,ᰲ 7219,ᰳ 7220,ᰴ 7221,ᰵ 7222,ᰶ 7223,᰷ 7224,᰸ 7225,᰹ 7226,᰺ 7227,᰻ 7228,᰼ 7229,᰽ 7230,᰾ 7231,᰿ 7232,᱀ 7233,᱁ 7234,᱂ 7235,᱃ 7236,᱄ 7237,᱅ 7238,᱆ 7239,᱇ 7240,᱈ 7241,᱉ 7242,᱊ 7243,᱋ 7244,᱌ 7245,ᱍ 7246,ᱎ 7247,ᱏ 7248,᱐ 7249,᱑ 7250,᱒ 7251,᱓ 7252,᱔ 7253,᱕ 7254,᱖ 7255,᱗ 7256,᱘ 7257,᱙ 7258,ᱚ 7259,ᱛ 7260,ᱜ 7261,ᱝ 7262,ᱞ 7263,ᱟ 7264,ᱠ 7265,ᱡ 7266,ᱢ 7267,ᱣ 7268,ᱤ 7269,ᱥ 7270,ᱦ 7271,ᱧ 7272,ᱨ 7273,ᱩ 7274,ᱪ 7275,ᱫ 7276,ᱬ 7277,ᱭ 7278,ᱮ 7279,ᱯ 7280,ᱰ 7281,ᱱ 7282,ᱲ 7283,ᱳ 7284,ᱴ 7285,ᱵ 7286,ᱶ 7287,ᱷ 7288,ᱸ 7289,ᱹ 7290,ᱺ 7291,ᱻ 7292,ᱼ 7293,ᱽ 7294,᱾ 7295,᱿ 7296,ᲀ 7297,ᲁ 7298,ᲂ 7299,ᲃ 7300,ᲄ 7301,ᲅ 7302,ᲆ 7303,ᲇ 7304,ᲈ 7305,Ᲊ 7306,ᲊ 7307,᲋ 7308,᲌ 7309,᲍ 7310,᲎ 7311,᲏ 7312,Ა 7313,Ბ 7314,Გ 7315,Დ 7316,Ე 7317,Ვ 7318,Ზ 7319,Თ 7320,Ი 7321,Კ 7322,Ლ 7323,Მ 7324,Ნ 7325,Ო 7326,Პ 7327,Ჟ 7328,Რ 7329,Ს 7330,Ტ 7331,Უ 7332,Ფ 7333,Ქ 7334,Ღ 7335,Ყ 7336,Შ 7337,Ჩ 7338,Ც 7339,Ძ 7340,Წ 7341,Ჭ 7342,Ხ 7343,Ჯ 7344,Ჰ 7345,Ჱ 7346,Ჲ 7347,Ჳ 7348,Ჴ 7349,Ჵ 7350,Ჶ 7351,Ჷ 7352,Ჸ 7353,Ჹ 7354,Ჺ 7355,᲻ 7356,᲼ 7357,Ჽ 7358,Ჾ 7359,Ჿ 7360,᳀ 7361,᳁ 7362,᳂ 7363,᳃ 7364,᳄ 7365,᳅ 7366,᳆ 7367,᳇ 7368,᳈ 7369,᳉ 7370,᳊ 7371,᳋ 7372,᳌ 7373,᳍ 7374,᳎ 7375,᳏ 7376,᳐ 7377,᳑ 7378,᳒ 7379,᳓ 7380,᳔ 7381,᳕ 7382,᳖ 7383,᳗ 7384,᳘ 7385,᳙ 7386,᳚ 7387,᳛ 7388,᳜ 7389,᳝ 7390,᳞ 7391,᳟ 7392,᳠ 7393,᳡ 7394,᳢ 7395,᳣ 7396,᳤ 7397,᳥ 7398,᳦ 7399,᳧ 7400,᳨ 7401,ᳩ 7402,ᳪ 7403,ᳫ 7404,ᳬ 7405,᳭ 7406,ᳮ 7407,ᳯ 7408,ᳰ 7409,ᳱ 7410,ᳲ 7411,ᳳ 7412,᳴ 7413,ᳵ 7414,ᳶ 7415,᳷ 7416,᳸ 7417,᳹ 7418,ᳺ 7419,᳻ 7420,᳼ 7421,᳽ 7422,᳾ 7423,᳿ 7424,ᴀ 7425,ᴁ 7426,ᴂ 7427,ᴃ 7428,ᴄ 7429,ᴅ 7430,ᴆ 7431,ᴇ 7432,ᴈ 7433,ᴉ 7434,ᴊ 7435,ᴋ 7436,ᴌ 7437,ᴍ 7438,ᴎ 7439,ᴏ 7440,ᴐ 7441,ᴑ 7442,ᴒ 7443,ᴓ 7444,ᴔ 7445,ᴕ 7446,ᴖ 7447,ᴗ 7448,ᴘ 7449,ᴙ 7450,ᴚ 7451,ᴛ 7452,ᴜ 7453,ᴝ 7454,ᴞ 7455,ᴟ 7456,ᴠ 7457,ᴡ 7458,ᴢ 7459,ᴣ 7460,ᴤ 7461,ᴥ 7462,ᴦ 7463,ᴧ 7464,ᴨ 7465,ᴩ 7466,ᴪ 7467,ᴫ 7468,ᴬ 7469,ᴭ 7470,ᴮ 7471,ᴯ 7472,ᴰ 7473,ᴱ 7474,ᴲ 7475,ᴳ 7476,ᴴ 7477,ᴵ 7478,ᴶ 7479,ᴷ 7480,ᴸ 7481,ᴹ 7482,ᴺ 7483,ᴻ 7484,ᴼ 7485,ᴽ 7486,ᴾ 7487,ᴿ 7488,ᵀ 7489,ᵁ 7490,ᵂ 7491,ᵃ 7492,ᵄ 7493,ᵅ 7494,ᵆ 7495,ᵇ 7496,ᵈ 7497,ᵉ 7498,ᵊ 7499,ᵋ 7500,ᵌ 7501,ᵍ 7502,ᵎ 7503,ᵏ 7504,ᵐ 7505,ᵑ 7506,ᵒ 7507,ᵓ 7508,ᵔ 7509,ᵕ 7510,ᵖ 7511,ᵗ 7512,ᵘ 7513,ᵙ 7514,ᵚ 7515,ᵛ 7516,ᵜ 7517,ᵝ 7518,ᵞ 7519,ᵟ 7520,ᵠ 7521,ᵡ 7522,ᵢ 7523,ᵣ 7524,ᵤ 7525,ᵥ 7526,ᵦ 7527,ᵧ 7528,ᵨ 7529,ᵩ 7530,ᵪ 7531,ᵫ 7532,ᵬ 7533,ᵭ 7534,ᵮ 7535,ᵯ 7536,ᵰ 7537,ᵱ 7538,ᵲ 7539,ᵳ 7540,ᵴ 7541,ᵵ 7542,ᵶ 7543,ᵷ 7544,ᵸ 7545,ᵹ 7546,ᵺ 7547,ᵻ 7548,ᵼ 7549,ᵽ 7550,ᵾ 7551,ᵿ 7552,ᶀ 7553,ᶁ 7554,ᶂ 7555,ᶃ 7556,ᶄ 7557,ᶅ 7558,ᶆ 7559,ᶇ 7560,ᶈ 7561,ᶉ 7562,ᶊ 7563,ᶋ 7564,ᶌ 7565,ᶍ 7566,ᶎ 7567,ᶏ 7568,ᶐ 7569,ᶑ 7570,ᶒ 7571,ᶓ 7572,ᶔ 7573,ᶕ 7574,ᶖ 7575,ᶗ 7576,ᶘ 7577,ᶙ 7578,ᶚ 7579,ᶛ 7580,ᶜ 7581,ᶝ 7582,ᶞ 7583,ᶟ 7584,ᶠ 7585,ᶡ 7586,ᶢ 7587,ᶣ 7588,ᶤ 7589,ᶥ 7590,ᶦ 7591,ᶧ 7592,ᶨ 7593,ᶩ 7594,ᶪ 7595,ᶫ 7596,ᶬ 7597,ᶭ 7598,ᶮ 7599,ᶯ 7600,ᶰ 7601,ᶱ 7602,ᶲ 7603,ᶳ 7604,ᶴ 7605,ᶵ 7606,ᶶ 7607,ᶷ 7608,ᶸ 7609,ᶹ 7610,ᶺ 7611,ᶻ 7612,ᶼ 7613,ᶽ 7614,ᶾ 7615,ᶿ 7616,᷀ 7617,᷁ 7618,᷂ 7619,᷃ 7620,᷄ 7621,᷅ 7622,᷆ 7623,᷇ 7624,᷈ 7625,᷉ 7626,᷊ 7627,᷋ 7628,᷌ 7629,᷍ 7630,᷎ 7631,᷏ 7632,᷐ 7633,᷑ 7634,᷒ 7635,ᷓ 7636,ᷔ 7637,ᷕ 7638,ᷖ 7639,ᷗ 7640,ᷘ 7641,ᷙ 7642,ᷚ 7643,ᷛ 7644,ᷜ 7645,ᷝ 7646,ᷞ 7647,ᷟ 7648,ᷠ 7649,ᷡ 7650,ᷢ 7651,ᷣ 7652,ᷤ 7653,ᷥ 7654,ᷦ 7655,ᷧ 7656,ᷨ 7657,ᷩ 7658,ᷪ 7659,ᷫ 7660,ᷬ 7661,ᷭ 7662,ᷮ 7663,ᷯ 7664,ᷰ 7665,ᷱ 7666,ᷲ 7667,ᷳ 7668,ᷴ 7669,᷵ 7670,᷶ 7671,᷷ 7672,᷸ 7673,᷹ 7674,᷺ 7675,᷻ 7676,᷼ 7677,᷽ 7678,᷾ 7679,᷿ 7680,Ḁ 7681,ḁ 7682,Ḃ 7683,ḃ 7684,Ḅ 7685,ḅ 7686,Ḇ 7687,ḇ 7688,Ḉ 7689,ḉ 7690,Ḋ 7691,ḋ 7692,Ḍ 7693,ḍ 7694,Ḏ 7695,ḏ 7696,Ḑ 7697,ḑ 7698,Ḓ 7699,ḓ 7700,Ḕ 7701,ḕ 7702,Ḗ 7703,ḗ 7704,Ḙ 7705,ḙ 7706,Ḛ 7707,ḛ 7708,Ḝ 7709,ḝ 7710,Ḟ 7711,ḟ 7712,Ḡ 7713,ḡ 7714,Ḣ 7715,ḣ 7716,Ḥ 7717,ḥ 7718,Ḧ 7719,ḧ 7720,Ḩ 7721,ḩ 7722,Ḫ 7723,ḫ 7724,Ḭ 7725,ḭ 7726,Ḯ 7727,ḯ 7728,Ḱ 7729,ḱ 7730,Ḳ 7731,ḳ 7732,Ḵ 7733,ḵ 7734,Ḷ 7735,ḷ 7736,Ḹ 7737,ḹ 7738,Ḻ 7739,ḻ 7740,Ḽ 7741,ḽ 7742,Ḿ 7743,ḿ 7744,Ṁ 7745,ṁ 7746,Ṃ 7747,ṃ 7748,Ṅ 7749,ṅ 7750,Ṇ 7751,ṇ 7752,Ṉ 7753,ṉ 7754,Ṋ 7755,ṋ 7756,Ṍ 7757,ṍ 7758,Ṏ 7759,ṏ 7760,Ṑ 7761,ṑ 7762,Ṓ 7763,ṓ 7764,Ṕ 7765,ṕ 7766,Ṗ 7767,ṗ 7768,Ṙ 7769,ṙ 7770,Ṛ 7771,ṛ 7772,Ṝ 7773,ṝ 7774,Ṟ 7775,ṟ 7776,Ṡ 7777,ṡ 7778,Ṣ 7779,ṣ 7780,Ṥ 7781,ṥ 7782,Ṧ 7783,ṧ 7784,Ṩ 7785,ṩ 7786,Ṫ 7787,ṫ 7788,Ṭ 7789,ṭ 7790,Ṯ 7791,ṯ 7792,Ṱ 7793,ṱ 7794,Ṳ 7795,ṳ 7796,Ṵ 7797,ṵ 7798,Ṷ 7799,ṷ 7800,Ṹ 7801,ṹ 7802,Ṻ 7803,ṻ 7804,Ṽ 7805,ṽ 7806,Ṿ 7807,ṿ 7808,Ẁ 7809,ẁ 7810,Ẃ 7811,ẃ 7812,Ẅ 7813,ẅ 7814,Ẇ 7815,ẇ 7816,Ẉ 7817,ẉ 7818,Ẋ 7819,ẋ 7820,Ẍ 7821,ẍ 7822,Ẏ 7823,ẏ 7824,Ẑ 7825,ẑ 7826,Ẓ 7827,ẓ 7828,Ẕ 7829,ẕ 7830,ẖ 7831,ẗ 7832,ẘ 7833,ẙ 7834,ẚ 7835,ẛ 7836,ẜ 7837,ẝ 7838,ẞ 7839,ẟ 7840,Ạ 7841,ạ 7842,Ả 7843,ả 7844,Ấ 7845,ấ 7846,Ầ 7847,ầ 7848,Ẩ 7849,ẩ 7850,Ẫ 7851,ẫ 7852,Ậ 7853,ậ 7854,Ắ 7855,ắ 7856,Ằ 7857,ằ 7858,Ẳ 7859,ẳ 7860,Ẵ 7861,ẵ 7862,Ặ 7863,ặ 7864,Ẹ 7865,ẹ 7866,Ẻ 7867,ẻ 7868,Ẽ 7869,ẽ 7870,Ế 7871,ế 7872,Ề 7873,ề 7874,Ể 7875,ể 7876,Ễ 7877,ễ 7878,Ệ 7879,ệ 7880,Ỉ 7881,ỉ 7882,Ị 7883,ị 7884,Ọ 7885,ọ 7886,Ỏ 7887,ỏ 7888,Ố 7889,ố 7890,Ồ 7891,ồ 7892,Ổ 7893,ổ 7894,Ỗ 7895,ỗ 7896,Ộ 7897,ộ 7898,Ớ 7899,ớ 7900,Ờ 7901,ờ 7902,Ở 7903,ở 7904,Ỡ 7905,ỡ 7906,Ợ 7907,ợ 7908,Ụ 7909,ụ 7910,Ủ 7911,ủ 7912,Ứ 7913,ứ 7914,Ừ 7915,ừ 7916,Ử 7917,ử 7918,Ữ 7919,ữ 7920,Ự 7921,ự 7922,Ỳ 7923,ỳ 7924,Ỵ 7925,ỵ 7926,Ỷ 7927,ỷ 7928,Ỹ 7929,ỹ 7930,Ỻ 7931,ỻ 7932,Ỽ 7933,ỽ 7934,Ỿ 7935,ỿ 7936,ἀ 7937,ἁ 7938,ἂ 7939,ἃ 7940,ἄ 7941,ἅ 7942,ἆ 7943,ἇ 7944,Ἀ 7945,Ἁ 7946,Ἂ 7947,Ἃ 7948,Ἄ 7949,Ἅ 7950,Ἆ 7951,Ἇ 7952,ἐ 7953,ἑ 7954,ἒ 7955,ἓ 7956,ἔ 7957,ἕ 7958,἖ 7959,἗ 7960,Ἐ 7961,Ἑ 7962,Ἒ 7963,Ἓ 7964,Ἔ 7965,Ἕ 7966,἞ 7967,἟ 7968,ἠ 7969,ἡ 7970,ἢ 7971,ἣ 7972,ἤ 7973,ἥ 7974,ἦ 7975,ἧ 7976,Ἠ 7977,Ἡ 7978,Ἢ 7979,Ἣ 7980,Ἤ 7981,Ἥ 7982,Ἦ 7983,Ἧ 7984,ἰ 7985,ἱ 7986,ἲ 7987,ἳ 7988,ἴ 7989,ἵ 7990,ἶ 7991,ἷ 7992,Ἰ 7993,Ἱ 7994,Ἲ 7995,Ἳ 7996,Ἴ 7997,Ἵ 7998,Ἶ 7999,Ἷ 8000,ὀ 8001,ὁ 8002,ὂ 8003,ὃ 8004,ὄ 8005,ὅ 8006,὆ 8007,὇ 8008,Ὀ 8009,Ὁ 8010,Ὂ 8011,Ὃ 8012,Ὄ 8013,Ὅ 8014,὎ 8015,὏ 8016,ὐ 8017,ὑ 8018,ὒ 8019,ὓ 8020,ὔ 8021,ὕ 8022,ὖ 8023,ὗ 8024,὘ 8025,Ὑ 8026,὚ 8027,Ὓ 8028,὜ 8029,Ὕ 8030,὞ 8031,Ὗ 8032,ὠ 8033,ὡ 8034,ὢ 8035,ὣ 8036,ὤ 8037,ὥ 8038,ὦ 8039,ὧ 8040,Ὠ 8041,Ὡ 8042,Ὢ 8043,Ὣ 8044,Ὤ 8045,Ὥ 8046,Ὦ 8047,Ὧ 8048,ὰ 8049,ά 8050,ὲ 8051,έ 8052,ὴ 8053,ή 8054,ὶ 8055,ί 8056,ὸ 8057,ό 8058,ὺ 8059,ύ 8060,ὼ 8061,ώ 8062,὾ 8063,὿ 8064,ᾀ 8065,ᾁ 8066,ᾂ 8067,ᾃ 8068,ᾄ 8069,ᾅ 8070,ᾆ 8071,ᾇ 8072,ᾈ 8073,ᾉ 8074,ᾊ 8075,ᾋ 8076,ᾌ 8077,ᾍ 8078,ᾎ 8079,ᾏ 8080,ᾐ 8081,ᾑ 8082,ᾒ 8083,ᾓ 8084,ᾔ 8085,ᾕ 8086,ᾖ 8087,ᾗ 8088,ᾘ 8089,ᾙ 8090,ᾚ 8091,ᾛ 8092,ᾜ 8093,ᾝ 8094,ᾞ 8095,ᾟ 8096,ᾠ 8097,ᾡ 8098,ᾢ 8099,ᾣ 8100,ᾤ 8101,ᾥ 8102,ᾦ 8103,ᾧ 8104,ᾨ 8105,ᾩ 8106,ᾪ 8107,ᾫ 8108,ᾬ 8109,ᾭ 8110,ᾮ 8111,ᾯ 8112,ᾰ 8113,ᾱ 8114,ᾲ 8115,ᾳ 8116,ᾴ 8117,᾵ 8118,ᾶ 8119,ᾷ 8120,Ᾰ 8121,Ᾱ 8122,Ὰ 8123,Ά 8124,ᾼ 8125,᾽ 8126,ι 8127,᾿ 8128,῀ 8129,῁ 8130,ῂ 8131,ῃ 8132,ῄ 8133,῅ 8134,ῆ 8135,ῇ 8136,Ὲ 8137,Έ 8138,Ὴ 8139,Ή 8140,ῌ 8141,῍ 8142,῎ 8143,῏ 8144,ῐ 8145,ῑ 8146,ῒ 8147,ΐ 8148,῔ 8149,῕ 8150,ῖ 8151,ῗ 8152,Ῐ 8153,Ῑ 8154,Ὶ 8155,Ί 8156,῜ 8157,῝ 8158,῞ 8159,῟ 8160,ῠ 8161,ῡ 8162,ῢ 8163,ΰ 8164,ῤ 8165,ῥ 8166,ῦ 8167,ῧ 8168,Ῠ 8169,Ῡ 8170,Ὺ 8171,Ύ 8172,Ῥ 8173,῭ 8174,΅ 8175,` 8176,῰ 8177,῱ 8178,ῲ 8179,ῳ 8180,ῴ 8181,῵ 8182,ῶ 8183,ῷ 8184,Ὸ 8185,Ό 8186,Ὼ 8187,Ώ 8188,ῼ 8189,´ 8190,῾ 8191,῿ 8192,  8193,  8194,  8195,  8196,  8197,  8198,  8199,  8200,  8201,  8202,  8203,​ 8204,‌ 8205,‍ 8206,‎ 8207,‏ 8208,‐ 8209,‑ 8210,‒ 8211,– 8212,— 8213,― 8214,‖ 8215,‗ 8216,‘ 8217,’ 8218,‚ 8219,‛ 8220,“ 8221,” 8222,„ 8223,‟ 8224,† 8225,‡ 8226,• 8227,‣ 8228,․ 8229,‥ 8230,… 8231,‧ 8232, ",
      " 8233, ",
      " 8234,‪ 8235,‫ 8236,‬ 8237,‭ 8238,‮ 8239,  8240,‰ 8241,‱ 8242,′ 8243,″ 8244,‴ 8245,‵ 8246,‶ 8247,‷ 8248,‸ 8249,‹ 8250,› 8251,※ 8252,‼ 8253,‽ 8254,‾ 8255,‿ 8256,⁀ 8257,⁁ 8258,⁂ 8259,⁃ 8260,⁄ 8261,⁅ 8262,⁆ 8263,⁇ 8264,⁈ 8265,⁉ 8266,⁊ 8267,⁋ 8268,⁌ 8269,⁍ 8270,⁎ 8271,⁏ 8272,⁐ 8273,⁑ 8274,⁒ 8275,⁓ 8276,⁔ 8277,⁕ 8278,⁖ 8279,⁗ 8280,⁘ 8281,⁙ 8282,⁚ 8283,⁛ 8284,⁜ 8285,⁝ 8286,⁞ 8287,  8288,⁠ 8289,⁡ 8290,⁢ 8291,⁣ 8292,⁤ 8293,⁥ 8294,⁦ 8295,⁧ 8296,⁨ 8297,⁩ 8298,⁪ 8299,⁫ 8300,⁬ 8301,⁭ 8302,⁮ 8303,⁯ 8304,⁰ 8305,ⁱ 8306,⁲ 8307,⁳ 8308,⁴ 8309,⁵ 8310,⁶ 8311,⁷ 8312,⁸ 8313,⁹ 8314,⁺ 8315,⁻ 8316,⁼ 8317,⁽ 8318,⁾ 8319,ⁿ 8320,₀ 8321,₁ 8322,₂ 8323,₃ 8324,₄ 8325,₅ 8326,₆ 8327,₇ 8328,₈ 8329,₉ 8330,₊ 8331,₋ 8332,₌ 8333,₍ 8334,₎ 8335,₏ 8336,ₐ 8337,ₑ 8338,ₒ 8339,ₓ 8340,ₔ 8341,ₕ 8342,ₖ 8343,ₗ 8344,ₘ 8345,ₙ 8346,ₚ 8347,ₛ 8348,ₜ 8349,₝ 8350,₞ 8351,₟ 8352,₠ 8353,₡ 8354,₢ 8355,₣ 8356,₤ 8357,₥ 8358,₦ 8359,₧ 8360,₨ 8361,₩ 8362,₪ 8363,₫ 8364,€ 8365,₭ 8366,₮ 8367,₯ 8368,₰ 8369,₱ 8370,₲ 8371,₳ 8372,₴ 8373,₵ 8374,₶ 8375,₷ 8376,₸ 8377,₹ 8378,₺ 8379,₻ 8380,₼ 8381,₽ 8382,₾ 8383,₿ 8384,⃀ 8385,⃁ 8386,⃂ 8387,⃃ 8388,⃄ 8389,⃅ 8390,⃆ 8391,⃇ 8392,⃈ 8393,⃉ 8394,⃊ 8395,⃋ 8396,⃌ 8397,⃍ 8398,⃎ 8399,⃏ 8400,⃐ 8401,⃑ 8402,⃒ 8403,⃓ 8404,⃔ 8405,⃕ 8406,⃖ 8407,⃗ 8408,⃘ 8409,⃙ 8410,⃚ 8411,⃛ 8412,⃜ 8413,⃝ 8414,⃞ 8415,⃟ 8416,⃠ 8417,⃡ 8418,⃢ 8419,⃣ 8420,⃤ 8421,⃥ 8422,⃦ 8423,⃧ 8424,⃨ 8425,⃩ 8426,⃪ 8427,⃫ 8428,⃬ 8429,⃭ 8430,⃮ 8431,⃯ 8432,⃰ 8433,⃱ 8434,⃲ 8435,⃳ 8436,⃴ 8437,⃵ 8438,⃶ 8439,⃷ 8440,⃸ 8441,⃹ 8442,⃺ 8443,⃻ 8444,⃼ 8445,⃽ 8446,⃾ 8447,⃿ 8448,℀ 8449,℁ 8450,ℂ 8451,℃ 8452,℄ 8453,℅ 8454,℆ 8455,ℇ 8456,℈ 8457,℉ 8458,ℊ 8459,ℋ 8460,ℌ 8461,ℍ 8462,ℎ 8463,ℏ 8464,ℐ 8465,ℑ 8466,ℒ 8467,ℓ 8468,℔ 8469,ℕ 8470,№ 8471,℗ 8472,℘ 8473,ℙ 8474,ℚ 8475,ℛ 8476,ℜ 8477,ℝ 8478,℞ 8479,℟ 8480,℠ 8481,℡ 8482,™ 8483,℣ 8484,ℤ 8485,℥ 8486,Ω 8487,℧ 8488,ℨ 8489,℩ 8490,K 8491,Å 8492,ℬ 8493,ℭ 8494,℮ 8495,ℯ 8496,ℰ 8497,ℱ 8498,Ⅎ 8499,ℳ 8500,ℴ 8501,ℵ 8502,ℶ 8503,ℷ 8504,ℸ 8505,ℹ 8506,℺ 8507,℻ 8508,ℼ 8509,ℽ 8510,ℾ 8511,ℿ 8512,⅀ 8513,⅁ 8514,⅂ 8515,⅃ 8516,⅄ 8517,ⅅ 8518,ⅆ 8519,ⅇ 8520,ⅈ 8521,ⅉ 8522,⅊ 8523,⅋ 8524,⅌ 8525,⅍ 8526,ⅎ 8527,⅏ 8528,⅐ 8529,⅑ 8530,⅒ 8531,⅓ 8532,⅔ 8533,⅕ 8534,⅖ 8535,⅗ 8536,⅘ 8537,⅙ 8538,⅚ 8539,⅛ 8540,⅜ 8541,⅝ 8542,⅞ 8543,⅟ 8544,Ⅰ 8545,Ⅱ 8546,Ⅲ 8547,Ⅳ 8548,Ⅴ 8549,Ⅵ 8550,Ⅶ 8551,Ⅷ 8552,Ⅸ 8553,Ⅹ 8554,Ⅺ 8555,Ⅻ 8556,Ⅼ 8557,Ⅽ 8558,Ⅾ 8559,Ⅿ 8560,ⅰ 8561,ⅱ 8562,ⅲ 8563,ⅳ 8564,ⅴ 8565,ⅵ 8566,ⅶ 8567,ⅷ 8568,ⅸ 8569,ⅹ 8570,ⅺ 8571,ⅻ 8572,ⅼ 8573,ⅽ 8574,ⅾ 8575,ⅿ 8576,ↀ 8577,ↁ 8578,ↂ 8579,Ↄ 8580,ↄ 8581,ↅ 8582,ↆ 8583,ↇ 8584,ↈ 8585,↉ 8586,↊ 8587,↋ 8588,↌ 8589,↍ 8590,↎ 8591,↏ 8592,← 8593,↑ 8594,→ 8595,↓ 8596,↔ 8597,↕ 8598,↖ 8599,↗ 8600,↘ 8601,↙ 8602,↚ 8603,↛ 8604,↜ 8605,↝ 8606,↞ 8607,↟ 8608,↠ 8609,↡ 8610,↢ 8611,↣ 8612,↤ 8613,↥ 8614,↦ 8615,↧ 8616,↨ 8617,↩ 8618,↪ 8619,↫ 8620,↬ 8621,↭ 8622,↮ 8623,↯ 8624,↰ 8625,↱ 8626,↲ 8627,↳ 8628,↴ 8629,↵ 8630,↶ 8631,↷ 8632,↸ 8633,↹ 8634,↺ 8635,↻ 8636,↼ 8637,↽ 8638,↾ 8639,↿ 8640,⇀ 8641,⇁ 8642,⇂ 8643,⇃ 8644,⇄ 8645,⇅ 8646,⇆ 8647,⇇ 8648,⇈ 8649,⇉ 8650,⇊ 8651,⇋ 8652,⇌ 8653,⇍ 8654,⇎ 8655,⇏ 8656,⇐ 8657,⇑ 8658,⇒ 8659,⇓ 8660,⇔ 8661,⇕ 8662,⇖ 8663,⇗ 8664,⇘ 8665,⇙ 8666,⇚ 8667,⇛ 8668,⇜ 8669,⇝ 8670,⇞ 8671,⇟ 8672,⇠ 8673,⇡ 8674,⇢ 8675,⇣ 8676,⇤ 8677,⇥ 8678,⇦ 8679,⇧ 8680,⇨ 8681,⇩ 8682,⇪ 8683,⇫ 8684,⇬ 8685,⇭ 8686,⇮ 8687,⇯ 8688,⇰ 8689,⇱ 8690,⇲ 8691,⇳ 8692,⇴ 8693,⇵ 8694,⇶ 8695,⇷ 8696,⇸ 8697,⇹ 8698,⇺ 8699,⇻ 8700,⇼ 8701,⇽ 8702,⇾ 8703,⇿ 8704,∀ 8705,∁ 8706,∂ 8707,∃ 8708,∄ 8709,∅ 8710,∆ 8711,∇ 8712,∈ 8713,∉ 8714,∊ 8715,∋ 8716,∌ 8717,∍ 8718,∎ 8719,∏ 8720,∐ 8721,∑ 8722,− 8723,∓ 8724,∔ 8725,∕ 8726,∖ 8727,∗ 8728,∘ 8729,∙ 8730,√ 8731,∛ 8732,∜ 8733,∝ 8734,∞ 8735,∟ 8736,∠ 8737,∡ 8738,∢ 8739,∣ 8740,∤ 8741,∥ 8742,∦ 8743,∧ 8744,∨ 8745,∩ 8746,∪ 8747,∫ 8748,∬ 8749,∭ 8750,∮ 8751,∯ 8752,∰ 8753,∱ 8754,∲ 8755,∳ 8756,∴ 8757,∵ 8758,∶ 8759,∷ 8760,∸ 8761,∹ 8762,∺ 8763,∻ 8764,∼ 8765,∽ 8766,∾ 8767,∿ 8768,≀ 8769,≁ 8770,≂ 8771,≃ 8772,≄ 8773,≅ 8774,≆ 8775,≇ 8776,≈ 8777,≉ 8778,≊ 8779,≋ 8780,≌ 8781,≍ 8782,≎ 8783,≏ 8784,≐ 8785,≑ 8786,≒ 8787,≓ 8788,≔ 8789,≕ 8790,≖ 8791,≗ 8792,≘ 8793,≙ 8794,≚ 8795,≛ 8796,≜ 8797,≝ 8798,≞ 8799,≟ 8800,≠ 8801,≡ 8802,≢ 8803,≣ 8804,≤ 8805,≥ 8806,≦ 8807,≧ 8808,≨ 8809,≩ 8810,≪ 8811,≫ 8812,≬ 8813,≭ 8814,≮ 8815,≯ 8816,≰ 8817,≱ 8818,≲ 8819,≳ 8820,≴ 8821,≵ 8822,≶ 8823,≷ 8824,≸ 8825,≹ 8826,≺ 8827,≻ 8828,≼ 8829,≽ 8830,≾ 8831,≿ 8832,⊀ 8833,⊁ 8834,⊂ 8835,⊃ 8836,⊄ 8837,⊅ 8838,⊆ 8839,⊇ 8840,⊈ 8841,⊉ 8842,⊊ 8843,⊋ 8844,⊌ 8845,⊍ 8846,⊎ 8847,⊏ 8848,⊐ 8849,⊑ 8850,⊒ 8851,⊓ 8852,⊔ 8853,⊕ 8854,⊖ 8855,⊗ 8856,⊘ 8857,⊙ 8858,⊚ 8859,⊛ 8860,⊜ 8861,⊝ 8862,⊞ 8863,⊟ 8864,⊠ 8865,⊡ 8866,⊢ 8867,⊣ 8868,⊤ 8869,⊥ 8870,⊦ 8871,⊧ 8872,⊨ 8873,⊩ 8874,⊪ 8875,⊫ 8876,⊬ 8877,⊭ 8878,⊮ 8879,⊯ 8880,⊰ 8881,⊱ 8882,⊲ 8883,⊳ 8884,⊴ 8885,⊵ 8886,⊶ 8887,⊷ 8888,⊸ 8889,⊹ 8890,⊺ 8891,⊻ 8892,⊼ 8893,⊽ 8894,⊾ 8895,⊿ 8896,⋀ 8897,⋁ 8898,⋂ 8899,⋃ 8900,⋄ 8901,⋅ 8902,⋆ 8903,⋇ 8904,⋈ 8905,⋉ 8906,⋊ 8907,⋋ 8908,⋌ 8909,⋍ 8910,⋎ 8911,⋏ 8912,⋐ 8913,⋑ 8914,⋒ 8915,⋓ 8916,⋔ 8917,⋕ 8918,⋖ 8919,⋗ 8920,⋘ 8921,⋙ 8922,⋚ 8923,⋛ 8924,⋜ 8925,⋝ 8926,⋞ 8927,⋟ 8928,⋠ 8929,⋡ 8930,⋢ 8931,⋣ 8932,⋤ 8933,⋥ 8934,⋦ 8935,⋧ 8936,⋨ 8937,⋩ 8938,⋪ 8939,⋫ 8940,⋬ 8941,⋭ 8942,⋮ 8943,⋯ 8944,⋰ 8945,⋱ 8946,⋲ 8947,⋳ 8948,⋴ 8949,⋵ 8950,⋶ 8951,⋷ 8952,⋸ 8953,⋹ 8954,⋺ 8955,⋻ 8956,⋼ 8957,⋽ 8958,⋾ 8959,⋿ 8960,⌀ 8961,⌁ 8962,⌂ 8963,⌃ 8964,⌄ 8965,⌅ 8966,⌆ 8967,⌇ 8968,⌈ 8969,⌉ 8970,⌊ 8971,⌋ 8972,⌌ 8973,⌍ 8974,⌎ 8975,⌏ 8976,⌐ 8977,⌑ 8978,⌒ 8979,⌓ 8980,⌔ 8981,⌕ 8982,⌖ 8983,⌗ 8984,⌘ 8985,⌙ 8986,⌚ 8987,⌛ 8988,⌜ 8989,⌝ 8990,⌞ 8991,⌟ 8992,⌠ 8993,⌡ 8994,⌢ 8995,⌣ 8996,⌤ 8997,⌥ 8998,⌦ 8999,⌧ 9000,⌨ 9001,〈 9002,〉 9003,⌫ 9004,⌬ 9005,⌭ 9006,⌮ 9007,⌯ 9008,⌰ 9009,⌱ 9010,⌲ 9011,⌳ 9012,⌴ 9013,⌵ 9014,⌶ 9015,⌷ 9016,⌸ 9017,⌹ 9018,⌺ 9019,⌻ 9020,⌼ 9021,⌽ 9022,⌾ 9023,⌿ 9024,⍀ 9025,⍁ 9026,⍂ 9027,⍃ 9028,⍄ 9029,⍅ 9030,⍆ 9031,⍇ 9032,⍈ 9033,⍉ 9034,⍊ 9035,⍋ 9036,⍌ 9037,⍍ 9038,⍎ 9039,⍏ 9040,⍐ 9041,⍑ 9042,⍒ 9043,⍓ 9044,⍔ 9045,⍕ 9046,⍖ 9047,⍗ 9048,⍘ 9049,⍙ 9050,⍚ 9051,⍛ 9052,⍜ 9053,⍝ 9054,⍞ 9055,⍟ 9056,⍠ 9057,⍡ 9058,⍢ 9059,⍣ 9060,⍤ 9061,⍥ 9062,⍦ 9063,⍧ 9064,⍨ 9065,⍩ 9066,⍪ 9067,⍫ 9068,⍬ 9069,⍭ 9070,⍮ 9071,⍯ 9072,⍰ 9073,⍱ 9074,⍲ 9075,⍳ 9076,⍴ 9077,⍵ 9078,⍶ 9079,⍷ 9080,⍸ 9081,⍹ 9082,⍺ 9083,⍻ 9084,⍼ 9085,⍽ 9086,⍾ 9087,⍿ 9088,⎀ 9089,⎁ 9090,⎂ 9091,⎃ 9092,⎄ 9093,⎅ 9094,⎆ 9095,⎇ 9096,⎈ 9097,⎉ 9098,⎊ 9099,⎋ 9100,⎌ 9101,⎍ 9102,⎎ 9103,⎏ 9104,⎐ 9105,⎑ 9106,⎒ 9107,⎓ 9108,⎔ 9109,⎕ 9110,⎖ 9111,⎗ 9112,⎘ 9113,⎙ 9114,⎚ 9115,⎛ 9116,⎜ 9117,⎝ 9118,⎞ 9119,⎟ 9120,⎠ 9121,⎡ 9122,⎢ 9123,⎣ 9124,⎤ 9125,⎥ 9126,⎦ 9127,⎧ 9128,⎨ 9129,⎩ 9130,⎪ 9131,⎫ 9132,⎬ 9133,⎭ 9134,⎮ 9135,⎯ 9136,⎰ 9137,⎱ 9138,⎲ 9139,⎳ 9140,⎴ 9141,⎵ 9142,⎶ 9143,⎷ 9144,⎸ 9145,⎹ 9146,⎺ 9147,⎻ 9148,⎼ 9149,⎽ 9150,⎾ 9151,⎿ 9152,⏀ 9153,⏁ 9154,⏂ 9155,⏃ 9156,⏄ 9157,⏅ 9158,⏆ 9159,⏇ 9160,⏈ 9161,⏉ 9162,⏊ 9163,⏋ 9164,⏌ 9165,⏍ 9166,⏎ 9167,⏏ 9168,⏐ 9169,⏑ 9170,⏒ 9171,⏓ 9172,⏔ 9173,⏕ 9174,⏖ 9175,⏗ 9176,⏘ 9177,⏙ 9178,⏚ 9179,⏛ 9180,⏜ 9181,⏝ 9182,⏞ 9183,⏟ 9184,⏠ 9185,⏡ 9186,⏢ 9187,⏣ 9188,⏤ 9189,⏥ 9190,⏦ 9191,⏧ 9192,⏨ 9193,⏩ 9194,⏪ 9195,⏫ 9196,⏬ 9197,⏭ 9198,⏮ 9199,⏯ 9200,⏰ 9201,⏱ 9202,⏲ 9203,⏳ 9204,⏴ 9205,⏵ 9206,⏶ 9207,⏷ 9208,⏸ 9209,⏹ 9210,⏺ 9211,⏻ 9212,⏼ 9213,⏽ 9214,⏾ 9215,⏿ 9216,␀ 9217,␁ 9218,␂ 9219,␃ 9220,␄ 9221,␅ 9222,␆ 9223,␇ 9224,␈ 9225,␉ 9226,␊ 9227,␋ 9228,␌ 9229,␍ 9230,␎ 9231,␏ 9232,␐ 9233,␑ 9234,␒ 9235,␓ 9236,␔ 9237,␕ 9238,␖ 9239,␗ 9240,␘ 9241,␙ 9242,␚ 9243,␛ 9244,␜ 9245,␝ 9246,␞ 9247,␟ 9248,␠ 9249,␡ 9250,␢ 9251,␣ 9252,␤ 9253,␥ 9254,␦ 9255,␧ 9256,␨ 9257,␩ 9258,␪ 9259,␫ 9260,␬ 9261,␭ 9262,␮ 9263,␯ 9264,␰ 9265,␱ 9266,␲ 9267,␳ 9268,␴ 9269,␵ 9270,␶ 9271,␷ 9272,␸ 9273,␹ 9274,␺ 9275,␻ 9276,␼ 9277,␽ 9278,␾ 9279,␿ 9280,⑀ 9281,⑁ 9282,⑂ 9283,⑃ 9284,⑄ 9285,⑅ 9286,⑆ 9287,⑇ 9288,⑈ 9289,⑉ 9290,⑊ 9291,⑋ 9292,⑌ 9293,⑍ 9294,⑎ 9295,⑏ 9296,⑐ 9297,⑑ 9298,⑒ 9299,⑓ 9300,⑔ 9301,⑕ 9302,⑖ 9303,⑗ 9304,⑘ 9305,⑙ 9306,⑚ 9307,⑛ 9308,⑜ 9309,⑝ 9310,⑞ 9311,⑟ 9312,① 9313,② 9314,③ 9315,④ 9316,⑤ 9317,⑥ 9318,⑦ 9319,⑧ 9320,⑨ 9321,⑩ 9322,⑪ 9323,⑫ 9324,⑬ 9325,⑭ 9326,⑮ 9327,⑯ 9328,⑰ 9329,⑱ 9330,⑲ 9331,⑳ 9332,⑴ 9333,⑵ 9334,⑶ 9335,⑷ 9336,⑸ 9337,⑹ 9338,⑺ 9339,⑻ 9340,⑼ 9341,⑽ 9342,⑾ 9343,⑿ 9344,⒀ 9345,⒁ 9346,⒂ 9347,⒃ 9348,⒄ 9349,⒅ 9350,⒆ 9351,⒇ 9352,⒈ 9353,⒉ 9354,⒊ 9355,⒋ 9356,⒌ 9357,⒍ 9358,⒎ 9359,⒏ 9360,⒐ 9361,⒑ 9362,⒒ 9363,⒓ 9364,⒔ 9365,⒕ 9366,⒖ 9367,⒗ 9368,⒘ 9369,⒙ 9370,⒚ 9371,⒛ 9372,⒜ 9373,⒝ 9374,⒞ 9375,⒟ 9376,⒠ 9377,⒡ 9378,⒢ 9379,⒣ 9380,⒤ 9381,⒥ 9382,⒦ 9383,⒧ 9384,⒨ 9385,⒩ 9386,⒪ 9387,⒫ 9388,⒬ 9389,⒭ 9390,⒮ 9391,⒯ 9392,⒰ 9393,⒱ 9394,⒲ 9395,⒳ 9396,⒴ 9397,⒵ 9398,Ⓐ 9399,Ⓑ 9400,Ⓒ 9401,Ⓓ 9402,Ⓔ 9403,Ⓕ 9404,Ⓖ 9405,Ⓗ 9406,Ⓘ 9407,Ⓙ 9408,Ⓚ 9409,Ⓛ 9410,Ⓜ 9411,Ⓝ 9412,Ⓞ 9413,Ⓟ 9414,Ⓠ 9415,Ⓡ 9416,Ⓢ 9417,Ⓣ 9418,Ⓤ 9419,Ⓥ 9420,Ⓦ 9421,Ⓧ 9422,Ⓨ 9423,Ⓩ 9424,ⓐ 9425,ⓑ 9426,ⓒ 9427,ⓓ 9428,ⓔ 9429,ⓕ 9430,ⓖ 9431,ⓗ 9432,ⓘ 9433,ⓙ 9434,ⓚ 9435,ⓛ 9436,ⓜ 9437,ⓝ 9438,ⓞ 9439,ⓟ 9440,ⓠ 9441,ⓡ 9442,ⓢ 9443,ⓣ 9444,ⓤ 9445,ⓥ 9446,ⓦ 9447,ⓧ 9448,ⓨ 9449,ⓩ 9450,⓪ 9451,⓫ 9452,⓬ 9453,⓭ 9454,⓮ 9455,⓯ 9456,⓰ 9457,⓱ 9458,⓲ 9459,⓳ 9460,⓴ 9461,⓵ 9462,⓶ 9463,⓷ 9464,⓸ 9465,⓹ 9466,⓺ 9467,⓻ 9468,⓼ 9469,⓽ 9470,⓾ 9471,⓿ 9472,─ 9473,━ 9474,│ 9475,┃ 9476,┄ 9477,┅ 9478,┆ 9479,┇ 9480,┈ 9481,┉ 9482,┊ 9483,┋ 9484,┌ 9485,┍ 9486,┎ 9487,┏ 9488,┐ 9489,┑ 9490,┒ 9491,┓ 9492,└ 9493,┕ 9494,┖ 9495,┗ 9496,┘ 9497,┙ 9498,┚ 9499,┛ 9500,├ 9501,┝ 9502,┞ 9503,┟ 9504,┠ 9505,┡ 9506,┢ 9507,┣ 9508,┤ 9509,┥ 9510,┦ 9511,┧ 9512,┨ 9513,┩ 9514,┪ 9515,┫ 9516,┬ 9517,┭ 9518,┮ 9519,┯ 9520,┰ 9521,┱ 9522,┲ 9523,┳ 9524,┴ 9525,┵ 9526,┶ 9527,┷ 9528,┸ 9529,┹ 9530,┺ 9531,┻ 9532,┼ 9533,┽ 9534,┾ 9535,┿ 9536,╀ 9537,╁ 9538,╂ 9539,╃ 9540,╄ 9541,╅ 9542,╆ 9543,╇ 9544,╈ 9545,╉ 9546,╊ 9547,╋ 9548,╌ 9549,╍ 9550,╎ 9551,╏ 9552,═ 9553,║ 9554,╒ 9555,╓ 9556,╔ 9557,╕ 9558,╖ 9559,╗ 9560,╘ 9561,╙ 9562,╚ 9563,╛ 9564,╜ 9565,╝ 9566,╞ 9567,╟ 9568,╠ 9569,╡ 9570,╢ 9571,╣ 9572,╤ 9573,╥ 9574,╦ 9575,╧ 9576,╨ 9577,╩ 9578,╪ 9579,╫ 9580,╬ 9581,╭ 9582,╮ 9583,╯ 9584,╰ 9585,╱ 9586,╲ 9587,╳ 9588,╴ 9589,╵ 9590,╶ 9591,╷ 9592,╸ 9593,╹ 9594,╺ 9595,╻ 9596,╼ 9597,╽ 9598,╾ 9599,╿ 9600,▀ 9601,▁ 9602,▂ 9603,▃ 9604,▄ 9605,▅ 9606,▆ 9607,▇ 9608,█ 9609,▉ 9610,▊ 9611,▋ 9612,▌ 9613,▍ 9614,▎ 9615,▏ 9616,▐ 9617,░ 9618,▒ 9619,▓ 9620,▔ 9621,▕ 9622,▖ 9623,▗ 9624,▘ 9625,▙ 9626,▚ 9627,▛ 9628,▜ 9629,▝ 9630,▞ 9631,▟ 9632,■ 9633,□ 9634,▢ 9635,▣ 9636,▤ 9637,▥ 9638,▦ 9639,▧ 9640,▨ 9641,▩ 9642,▪ 9643,▫ 9644,▬ 9645,▭ 9646,▮ 9647,▯ 9648,▰ 9649,▱ 9650,▲ 9651,△ 9652,▴ 9653,▵ 9654,▶ 9655,▷ 9656,▸ 9657,▹ 9658,► 9659,▻ 9660,▼ 9661,▽ 9662,▾ 9663,▿ 9664,◀ 9665,◁ 9666,◂ 9667,◃ 9668,◄ 9669,◅ 9670,◆ 9671,◇ 9672,◈ 9673,◉ 9674,◊ 9675,○ 9676,◌ 9677,◍ 9678,◎ 9679,● 9680,◐ 9681,◑ 9682,◒ 9683,◓ 9684,◔ 9685,◕ 9686,◖ 9687,◗ 9688,◘ 9689,◙ 9690,◚ 9691,◛ 9692,◜ 9693,◝ 9694,◞ 9695,◟ 9696,◠ 9697,◡ 9698,◢ 9699,◣ 9700,◤ 9701,◥ 9702,◦ 9703,◧ 9704,◨ 9705,◩ 9706,◪ 9707,◫ 9708,◬ 9709,◭ 9710,◮ 9711,◯ 9712,◰ 9713,◱ 9714,◲ 9715,◳ 9716,◴ 9717,◵ 9718,◶ 9719,◷ 9720,◸ 9721,◹ 9722,◺ 9723,◻ 9724,◼ 9725,◽ 9726,◾ 9727,◿ 9728,☀ 9729,☁ 9730,☂ 9731,☃ 9732,☄ 9733,★ 9734,☆ 9735,☇ 9736,☈ 9737,☉ 9738,☊ 9739,☋ 9740,☌ 9741,☍ 9742,☎ 9743,☏ 9744,☐ 9745,☑ 9746,☒ 9747,☓ 9748,☔ 9749,☕ 9750,☖ 9751,☗ 9752,☘ 9753,☙ 9754,☚ 9755,☛ 9756,☜ 9757,☝ 9758,☞ 9759,☟ 9760,☠ 9761,☡ 9762,☢ 9763,☣ 9764,☤ 9765,☥ 9766,☦ 9767,☧ 9768,☨ 9769,☩ 9770,☪ 9771,☫ 9772,☬ 9773,☭ 9774,☮ 9775,☯ 9776,☰ 9777,☱ 9778,☲ 9779,☳ 9780,☴ 9781,☵ 9782,☶ 9783,☷ 9784,☸ 9785,☹ 9786,☺ 9787,☻ 9788,☼ 9789,☽ 9790,☾ 9791,☿ 9792,♀ 9793,♁ 9794,♂ 9795,♃ 9796,♄ 9797,♅ 9798,♆ 9799,♇ 9800,♈ 9801,♉ 9802,♊ 9803,♋ 9804,♌ 9805,♍ 9806,♎ 9807,♏ 9808,♐ 9809,♑ 9810,♒ 9811,♓ 9812,♔ 9813,♕ 9814,♖ 9815,♗ 9816,♘ 9817,♙ 9818,♚ 9819,♛ 9820,♜ 9821,♝ 9822,♞ 9823,♟ 9824,♠ 9825,♡ 9826,♢ 9827,♣ 9828,♤ 9829,♥ 9830,♦ 9831,♧ 9832,♨ 9833,♩ 9834,♪ 9835,♫ 9836,♬ 9837,♭ 9838,♮ 9839,♯ 9840,♰ 9841,♱ 9842,♲ 9843,♳ 9844,♴ 9845,♵ 9846,♶ 9847,♷ 9848,♸ 9849,♹ 9850,♺ 9851,♻ 9852,♼ 9853,♽ 9854,♾ 9855,♿ 9856,⚀ 9857,⚁ 9858,⚂ 9859,⚃ 9860,⚄ 9861,⚅ 9862,⚆ 9863,⚇ 9864,⚈ 9865,⚉ 9866,⚊ 9867,⚋ 9868,⚌ 9869,⚍ 9870,⚎ 9871,⚏ 9872,⚐ 9873,⚑ 9874,⚒ 9875,⚓ 9876,⚔ 9877,⚕ 9878,⚖ 9879,⚗ 9880,⚘ 9881,⚙ 9882,⚚ 9883,⚛ 9884,⚜ 9885,⚝ 9886,⚞ 9887,⚟ 9888,⚠ 9889,⚡ 9890,⚢ 9891,⚣ 9892,⚤ 9893,⚥ 9894,⚦ 9895,⚧ 9896,⚨ 9897,⚩ 9898,⚪ 9899,⚫ 9900,⚬ 9901,⚭ 9902,⚮ 9903,⚯ 9904,⚰ 9905,⚱ 9906,⚲ 9907,⚳ 9908,⚴ 9909,⚵ 9910,⚶ 9911,⚷ 9912,⚸ 9913,⚹ 9914,⚺ 9915,⚻ 9916,⚼ 9917,⚽ 9918,⚾ 9919,⚿ 9920,⛀ 9921,⛁ 9922,⛂ 9923,⛃ 9924,⛄ 9925,⛅ 9926,⛆ 9927,⛇ 9928,⛈ 9929,⛉ 9930,⛊ 9931,⛋ 9932,⛌ 9933,⛍ 9934,⛎ 9935,⛏ 9936,⛐ 9937,⛑ 9938,⛒ 9939,⛓ 9940,⛔ 9941,⛕ 9942,⛖ 9943,⛗ 9944,⛘ 9945,⛙ 9946,⛚ 9947,⛛ 9948,⛜ 9949,⛝ 9950,⛞ 9951,⛟ 9952,⛠ 9953,⛡ 9954,⛢ 9955,⛣ 9956,⛤ 9957,⛥ 9958,⛦ 9959,⛧ 9960,⛨ 9961,⛩ 9962,⛪ 9963,⛫ 9964,⛬ 9965,⛭ 9966,⛮ 9967,⛯ 9968,⛰ 9969,⛱ 9970,⛲ 9971,⛳ 9972,⛴ 9973,⛵ 9974,⛶ 9975,⛷ 9976,⛸ 9977,⛹ 9978,⛺ 9979,⛻ 9980,⛼ 9981,⛽ 9982,⛾ 9983,⛿ 9984,✀ 9985,✁ 9986,✂ 9987,✃ 9988,✄ 9989,✅ 9990,✆ 9991,✇ 9992,✈ 9993,✉ 9994,✊ 9995,✋ 9996,✌ 9997,✍ 9998,✎ 9999,✏ 10000,✐ 10001,✑ 10002,✒ 10003,✓ 10004,✔ 10005,✕ 10006,✖ 10007,✗ 10008,✘ 10009,✙ 10010,✚ 10011,✛ 10012,✜ 10013,✝ 10014,✞ 10015,✟ 10016,✠ 10017,✡ 10018,✢ 10019,✣ 10020,✤ 10021,✥ 10022,✦ 10023,✧ 10024,✨ 10025,✩ 10026,✪ 10027,✫ 10028,✬ 10029,✭ 10030,✮ 10031,✯ 10032,✰ 10033,✱ 10034,✲ 10035,✳ 10036,✴ 10037,✵ 10038,✶ 10039,✷ 10040,✸ 10041,✹ 10042,✺ 10043,✻ 10044,✼ 10045,✽ 10046,✾ 10047,✿ 10048,❀ 10049,❁ 10050,❂ 10051,❃ 10052,❄ 10053,❅ 10054,❆ 10055,❇ 10056,❈ 10057,❉ 10058,❊ 10059,❋ 10060,❌ 10061,❍ 10062,❎ 10063,❏ 10064,❐ 10065,❑ 10066,❒ 10067,❓ 10068,❔ 10069,❕ 10070,❖ 10071,❗ 10072,❘ 10073,❙ 10074,❚ 10075,❛ 10076,❜ 10077,❝ 10078,❞ 10079,❟ 10080,❠ 10081,❡ 10082,❢ 10083,❣ 10084,❤ 10085,❥ 10086,❦ 10087,❧ 10088,❨ 10089,❩ 10090,❪ 10091,❫ 10092,❬ 10093,❭ 10094,❮ 10095,❯ 10096,❰ 10097,❱ 10098,❲ 10099,❳ 10100,❴ 10101,❵ 10102,❶ 10103,❷ 10104,❸ 10105,❹ 10106,❺ 10107,❻ 10108,❼ 10109,❽ 10110,❾ 10111,❿ 10112,➀ 10113,➁ 10114,➂ 10115,➃ 10116,➄ 10117,➅ 10118,➆ 10119,➇ 10120,➈ 10121,➉ 10122,➊ 10123,➋ 10124,➌ 10125,➍ 10126,➎ 10127,➏ 10128,➐ 10129,➑ 10130,➒ 10131,➓ 10132,➔ 10133,➕ 10134,➖ 10135,➗ 10136,➘ 10137,➙ 10138,➚ 10139,➛ 10140,➜ 10141,➝ 10142,➞ 10143,➟ 10144,➠ 10145,➡ 10146,➢ 10147,➣ 10148,➤ 10149,➥ 10150,➦ 10151,➧ 10152,➨ 10153,➩ 10154,➪ 10155,➫ 10156,➬ 10157,➭ 10158,➮ 10159,➯ 10160,➰ 10161,➱ 10162,➲ 10163,➳ 10164,➴ 10165,➵ 10166,➶ 10167,➷ 10168,➸ 10169,➹ 10170,➺ 10171,➻ 10172,➼ 10173,➽ 10174,➾ 10175,➿ 10176,⟀ 10177,⟁ 10178,⟂ 10179,⟃ 10180,⟄ 10181,⟅ 10182,⟆ 10183,⟇ 10184,⟈ 10185,⟉ 10186,⟊ 10187,⟋ 10188,⟌ 10189,⟍ 10190,⟎ 10191,⟏ 10192,⟐ 10193,⟑ 10194,⟒ 10195,⟓ 10196,⟔ 10197,⟕ 10198,⟖ 10199,⟗ 10200,⟘ 10201,⟙ 10202,⟚ 10203,⟛ 10204,⟜ 10205,⟝ 10206,⟞ 10207,⟟ 10208,⟠ 10209,⟡ 10210,⟢ 10211,⟣ 10212,⟤ 10213,⟥ 10214,⟦ 10215,⟧ 10216,⟨ 10217,⟩ 10218,⟪ 10219,⟫ 10220,⟬ 10221,⟭ 10222,⟮ 10223,⟯ 10224,⟰ 10225,⟱ 10226,⟲ 10227,⟳ 10228,⟴ 10229,⟵ 10230,⟶ 10231,⟷ 10232,⟸ 10233,⟹ 10234,⟺ 10235,⟻ 10236,⟼ 10237,⟽ 10238,⟾ 10239,⟿ 10240,⠀ 10241,⠁ 10242,⠂ 10243,⠃ 10244,⠄ 10245,⠅ 10246,⠆ 10247,⠇ 10248,⠈ 10249,⠉ 10250,⠊ 10251,⠋ 10252,⠌ 10253,⠍ 10254,⠎ 10255,⠏ 10256,⠐ 10257,⠑ 10258,⠒ 10259,⠓ 10260,⠔ 10261,⠕ 10262,⠖ 10263,⠗ 10264,⠘ 10265,⠙ 10266,⠚ 10267,⠛ 10268,⠜ 10269,⠝ 10270,⠞ 10271,⠟ 10272,⠠ 10273,⠡ 10274,⠢ 10275,⠣ 10276,⠤ 10277,⠥ 10278,⠦ 10279,⠧ 10280,⠨ 10281,⠩ 10282,⠪ 10283,⠫ 10284,⠬ 10285,⠭ 10286,⠮ 10287,⠯ 10288,⠰ 10289,⠱ 10290,⠲ 10291,⠳ 10292,⠴ 10293,⠵ 10294,⠶ 10295,⠷ 10296,⠸ 10297,⠹ 10298,⠺ 10299,⠻ 10300,⠼ 10301,⠽ 10302,⠾ 10303,⠿ 10304,⡀ 10305,⡁ 10306,⡂ 10307,⡃ 10308,⡄ 10309,⡅ 10310,⡆ 10311,⡇ 10312,⡈ 10313,⡉ 10314,⡊ 10315,⡋ 10316,⡌ 10317,⡍ 10318,⡎ 10319,⡏ 10320,⡐ 10321,⡑ 10322,⡒ 10323,⡓ 10324,⡔ 10325,⡕ 10326,⡖ 10327,⡗ 10328,⡘ 10329,⡙ 10330,⡚ 10331,⡛ 10332,⡜ 10333,⡝ 10334,⡞ 10335,⡟ 10336,⡠ 10337,⡡ 10338,⡢ 10339,⡣ 10340,⡤ 10341,⡥ 10342,⡦ 10343,⡧ 10344,⡨ 10345,⡩ 10346,⡪ 10347,⡫ 10348,⡬ 10349,⡭ 10350,⡮ 10351,⡯ 10352,⡰ 10353,⡱ 10354,⡲ 10355,⡳ 10356,⡴ 10357,⡵ 10358,⡶ 10359,⡷ 10360,⡸ 10361,⡹ 10362,⡺ 10363,⡻ 10364,⡼ 10365,⡽ 10366,⡾ 10367,⡿ 10368,⢀ 10369,⢁ 10370,⢂ 10371,⢃ 10372,⢄ 10373,⢅ 10374,⢆ 10375,⢇ 10376,⢈ 10377,⢉ 10378,⢊ 10379,⢋ 10380,⢌ 10381,⢍ 10382,⢎ 10383,⢏ 10384,⢐ 10385,⢑ 10386,⢒ 10387,⢓ 10388,⢔ 10389,⢕ 10390,⢖ 10391,⢗ 10392,⢘ 10393,⢙ 10394,⢚ 10395,⢛ 10396,⢜ 10397,⢝ 10398,⢞ 10399,⢟ 10400,⢠ 10401,⢡ 10402,⢢ 10403,⢣ 10404,⢤ 10405,⢥ 10406,⢦ 10407,⢧ 10408,⢨ 10409,⢩ 10410,⢪ 10411,⢫ 10412,⢬ 10413,⢭ 10414,⢮ 10415,⢯ 10416,⢰ 10417,⢱ 10418,⢲ 10419,⢳ 10420,⢴ 10421,⢵ 10422,⢶ 10423,⢷ 10424,⢸ 10425,⢹ 10426,⢺ 10427,⢻ 10428,⢼ 10429,⢽ 10430,⢾ 10431,⢿ 10432,⣀ 10433,⣁ 10434,⣂ 10435,⣃ 10436,⣄ 10437,⣅ 10438,⣆ 10439,⣇ 10440,⣈ 10441,⣉ 10442,⣊ 10443,⣋ 10444,⣌ 10445,⣍ 10446,⣎ 10447,⣏ 10448,⣐ 10449,⣑ 10450,⣒ 10451,⣓ 10452,⣔ 10453,⣕ 10454,⣖ 10455,⣗ 10456,⣘ 10457,⣙ 10458,⣚ 10459,⣛ 10460,⣜ 10461,⣝ 10462,⣞ 10463,⣟ 10464,⣠ 10465,⣡ 10466,⣢ 10467,⣣ 10468,⣤ 10469,⣥ 10470,⣦ 10471,⣧ 10472,⣨ 10473,⣩ 10474,⣪ 10475,⣫ 10476,⣬ 10477,⣭ 10478,⣮ 10479,⣯ 10480,⣰ 10481,⣱ 10482,⣲ 10483,⣳ 10484,⣴ 10485,⣵ 10486,⣶ 10487,⣷ 10488,⣸ 10489,⣹ 10490,⣺ 10491,⣻ 10492,⣼ 10493,⣽ 10494,⣾ 10495,⣿ 10496,⤀ 10497,⤁ 10498,⤂ 10499,⤃ 10500,⤄ 10501,⤅ 10502,⤆ 10503,⤇ 10504,⤈ 10505,⤉ 10506,⤊ 10507,⤋ 10508,⤌ 10509,⤍ 10510,⤎ 10511,⤏ 10512,⤐ 10513,⤑ 10514,⤒ 10515,⤓ 10516,⤔ 10517,⤕ 10518,⤖ 10519,⤗ 10520,⤘ 10521,⤙ 10522,⤚ 10523,⤛ 10524,⤜ 10525,⤝ 10526,⤞ 10527,⤟ 10528,⤠ 10529,⤡ 10530,⤢ 10531,⤣ 10532,⤤ 10533,⤥ 10534,⤦ 10535,⤧ 10536,⤨ 10537,⤩ 10538,⤪ 10539,⤫ 10540,⤬ 10541,⤭ 10542,⤮ 10543,⤯ 10544,⤰ 10545,⤱ 10546,⤲ 10547,⤳ 10548,⤴ 10549,⤵ 10550,⤶ 10551,⤷ 10552,⤸ 10553,⤹ 10554,⤺ 10555,⤻ 10556,⤼ 10557,⤽ 10558,⤾ 10559,⤿ 10560,⥀ 10561,⥁ 10562,⥂ 10563,⥃ 10564,⥄ 10565,⥅ 10566,⥆ 10567,⥇ 10568,⥈ 10569,⥉ 10570,⥊ 10571,⥋ 10572,⥌ 10573,⥍ 10574,⥎ 10575,⥏ 10576,⥐ 10577,⥑ 10578,⥒ 10579,⥓ 10580,⥔ 10581,⥕ 10582,⥖ 10583,⥗ 10584,⥘ 10585,⥙ 10586,⥚ 10587,⥛ 10588,⥜ 10589,⥝ 10590,⥞ 10591,⥟ 10592,⥠ 10593,⥡ 10594,⥢ 10595,⥣ 10596,⥤ 10597,⥥ 10598,⥦ 10599,⥧ 10600,⥨ 10601,⥩ 10602,⥪ 10603,⥫ 10604,⥬ 10605,⥭ 10606,⥮ 10607,⥯ 10608,⥰ 10609,⥱ 10610,⥲ 10611,⥳ 10612,⥴ 10613,⥵ 10614,⥶ 10615,⥷ 10616,⥸ 10617,⥹ 10618,⥺ 10619,⥻ 10620,⥼ 10621,⥽ 10622,⥾ 10623,⥿ 10624,⦀ 10625,⦁ 10626,⦂ 10627,⦃ 10628,⦄ 10629,⦅ 10630,⦆ 10631,⦇ 10632,⦈ 10633,⦉ 10634,⦊ 10635,⦋ 10636,⦌ 10637,⦍ 10638,⦎ 10639,⦏ 10640,⦐ 10641,⦑ 10642,⦒ 10643,⦓ 10644,⦔ 10645,⦕ 10646,⦖ 10647,⦗ 10648,⦘ 10649,⦙ 10650,⦚ 10651,⦛ 10652,⦜ 10653,⦝ 10654,⦞ 10655,⦟ 10656,⦠ 10657,⦡ 10658,⦢ 10659,⦣ 10660,⦤ 10661,⦥ 10662,⦦ 10663,⦧ 10664,⦨ 10665,⦩ 10666,⦪ 10667,⦫ 10668,⦬ 10669,⦭ 10670,⦮ 10671,⦯ 10672,⦰ 10673,⦱ 10674,⦲ 10675,⦳ 10676,⦴ 10677,⦵ 10678,⦶ 10679,⦷ 10680,⦸ 10681,⦹ 10682,⦺ 10683,⦻ 10684,⦼ 10685,⦽ 10686,⦾ 10687,⦿ 10688,⧀ 10689,⧁ 10690,⧂ 10691,⧃ 10692,⧄ 10693,⧅ 10694,⧆ 10695,⧇ 10696,⧈ 10697,⧉ 10698,⧊ 10699,⧋ 10700,⧌ 10701,⧍ 10702,⧎ 10703,⧏ 10704,⧐ 10705,⧑ 10706,⧒ 10707,⧓ 10708,⧔ 10709,⧕ 10710,⧖ 10711,⧗ 10712,⧘ 10713,⧙ 10714,⧚ 10715,⧛ 10716,⧜ 10717,⧝ 10718,⧞ 10719,⧟ 10720,⧠ 10721,⧡ 10722,⧢ 10723,⧣ 10724,⧤ 10725,⧥ 10726,⧦ 10727,⧧ 10728,⧨ 10729,⧩ 10730,⧪ 10731,⧫ 10732,⧬ 10733,⧭ 10734,⧮ 10735,⧯ 10736,⧰ 10737,⧱ 10738,⧲ 10739,⧳ 10740,⧴ 10741,⧵ 10742,⧶ 10743,⧷ 10744,⧸ 10745,⧹ 10746,⧺ 10747,⧻ 10748,⧼ 10749,⧽ 10750,⧾ 10751,⧿ 10752,⨀ 10753,⨁ 10754,⨂ 10755,⨃ 10756,⨄ 10757,⨅ 10758,⨆ 10759,⨇ 10760,⨈ 10761,⨉ 10762,⨊ 10763,⨋ 10764,⨌ 10765,⨍ 10766,⨎ 10767,⨏ 10768,⨐ 10769,⨑ 10770,⨒ 10771,⨓ 10772,⨔ 10773,⨕ 10774,⨖ 10775,⨗ 10776,⨘ 10777,⨙ 10778,⨚ 10779,⨛ 10780,⨜ 10781,⨝ 10782,⨞ 10783,⨟ 10784,⨠ 10785,⨡ 10786,⨢ 10787,⨣ 10788,⨤ 10789,⨥ 10790,⨦ 10791,⨧ 10792,⨨ 10793,⨩ 10794,⨪ 10795,⨫ 10796,⨬ 10797,⨭ 10798,⨮ 10799,⨯ 10800,⨰ 10801,⨱ 10802,⨲ 10803,⨳ 10804,⨴ 10805,⨵ 10806,⨶ 10807,⨷ 10808,⨸ 10809,⨹ 10810,⨺ 10811,⨻ 10812,⨼ 10813,⨽ 10814,⨾ 10815,⨿ 10816,⩀ 10817,⩁ 10818,⩂ 10819,⩃ 10820,⩄ 10821,⩅ 10822,⩆ 10823,⩇ 10824,⩈ 10825,⩉ 10826,⩊ 10827,⩋ 10828,⩌ 10829,⩍ 10830,⩎ 10831,⩏ 10832,⩐ 10833,⩑ 10834,⩒ 10835,⩓ 10836,⩔ 10837,⩕ 10838,⩖ 10839,⩗ 10840,⩘ 10841,⩙ 10842,⩚ 10843,⩛ 10844,⩜ 10845,⩝ 10846,⩞ 10847,⩟ 10848,⩠ 10849,⩡ 10850,⩢ 10851,⩣ 10852,⩤ 10853,⩥ 10854,⩦ 10855,⩧ 10856,⩨ 10857,⩩ 10858,⩪ 10859,⩫ 10860,⩬ 10861,⩭ 10862,⩮ 10863,⩯ 10864,⩰ 10865,⩱ 10866,⩲ 10867,⩳ 10868,⩴ 10869,⩵ 10870,⩶ 10871,⩷ 10872,⩸ 10873,⩹ 10874,⩺ 10875,⩻ 10876,⩼ 10877,⩽ 10878,⩾ 10879,⩿ 10880,⪀ 10881,⪁ 10882,⪂ 10883,⪃ 10884,⪄ 10885,⪅ 10886,⪆ 10887,⪇ 10888,⪈ 10889,⪉ 10890,⪊ 10891,⪋ 10892,⪌ 10893,⪍ 10894,⪎ 10895,⪏ 10896,⪐ 10897,⪑ 10898,⪒ 10899,⪓ 10900,⪔ 10901,⪕ 10902,⪖ 10903,⪗ 10904,⪘ 10905,⪙ 10906,⪚ 10907,⪛ 10908,⪜ 10909,⪝ 10910,⪞ 10911,⪟ 10912,⪠ 10913,⪡ 10914,⪢ 10915,⪣ 10916,⪤ 10917,⪥ 10918,⪦ 10919,⪧ 10920,⪨ 10921,⪩ 10922,⪪ 10923,⪫ 10924,⪬ 10925,⪭ 10926,⪮ 10927,⪯ 10928,⪰ 10929,⪱ 10930,⪲ 10931,⪳ 10932,⪴ 10933,⪵ 10934,⪶ 10935,⪷ 10936,⪸ 10937,⪹ 10938,⪺ 10939,⪻ 10940,⪼ 10941,⪽ 10942,⪾ 10943,⪿ 10944,⫀ 10945,⫁ 10946,⫂ 10947,⫃ 10948,⫄ 10949,⫅ 10950,⫆ 10951,⫇ 10952,⫈ 10953,⫉ 10954,⫊ 10955,⫋ 10956,⫌ 10957,⫍ 10958,⫎ 10959,⫏ 10960,⫐ 10961,⫑ 10962,⫒ 10963,⫓ 10964,⫔ 10965,⫕ 10966,⫖ 10967,⫗ 10968,⫘ 10969,⫙ 10970,⫚ 10971,⫛ 10972,⫝̸ 10973,⫝ 10974,⫞ 10975,⫟ 10976,⫠ 10977,⫡ 10978,⫢ 10979,⫣ 10980,⫤ 10981,⫥ 10982,⫦ 10983,⫧ 10984,⫨ 10985,⫩ 10986,⫪ 10987,⫫ 10988,⫬ 10989,⫭ 10990,⫮ 10991,⫯ 10992,⫰ 10993,⫱ 10994,⫲ 10995,⫳ 10996,⫴ 10997,⫵ 10998,⫶ 10999,⫷ 11000,⫸ 11001,⫹ 11002,⫺ 11003,⫻ 11004,⫼ 11005,⫽ 11006,⫾ 11007,⫿ 11008,⬀ 11009,⬁ 11010,⬂ 11011,⬃ 11012,⬄ 11013,⬅ 11014,⬆ 11015,⬇ 11016,⬈ 11017,⬉ 11018,⬊ 11019,⬋ 11020,⬌ 11021,⬍ 11022,⬎ 11023,⬏ 11024,⬐ 11025,⬑ 11026,⬒ 11027,⬓ 11028,⬔ 11029,⬕ 11030,⬖ 11031,⬗ 11032,⬘ 11033,⬙ 11034,⬚ 11035,⬛ 11036,⬜ 11037,⬝ 11038,⬞ 11039,⬟ 11040,⬠ 11041,⬡ 11042,⬢ 11043,⬣ 11044,⬤ 11045,⬥ 11046,⬦ 11047,⬧ 11048,⬨ 11049,⬩ 11050,⬪ 11051,⬫ 11052,⬬ 11053,⬭ 11054,⬮ 11055,⬯ 11056,⬰ 11057,⬱ 11058,⬲ 11059,⬳ 11060,⬴ 11061,⬵ 11062,⬶ 11063,⬷ 11064,⬸ 11065,⬹ 11066,⬺ 11067,⬻ 11068,⬼ 11069,⬽ 11070,⬾ 11071,⬿ 11072,⭀ 11073,⭁ 11074,⭂ 11075,⭃ 11076,⭄ 11077,⭅ 11078,⭆ 11079,⭇ 11080,⭈ 11081,⭉ 11082,⭊ 11083,⭋ 11084,⭌ 11085,⭍ 11086,⭎ 11087,⭏ 11088,⭐ 11089,⭑ 11090,⭒ 11091,⭓ 11092,⭔ 11093,⭕ 11094,⭖ 11095,⭗ 11096,⭘ 11097,⭙ 11098,⭚ 11099,⭛ 11100,⭜ 11101,⭝ 11102,⭞ 11103,⭟ 11104,⭠ 11105,⭡ 11106,⭢ 11107,⭣ 11108,⭤ 11109,⭥ 11110,⭦ 11111,⭧ 11112,⭨ 11113,⭩ 11114,⭪ 11115,⭫ 11116,⭬ 11117,⭭ 11118,⭮ 11119,⭯ 11120,⭰ 11121,⭱ 11122,⭲ 11123,⭳ 11124,⭴ 11125,⭵ 11126,⭶ 11127,⭷ 11128,⭸ 11129,⭹ 11130,⭺ 11131,⭻ 11132,⭼ 11133,⭽ 11134,⭾ 11135,⭿ 11136,⮀ 11137,⮁ 11138,⮂ 11139,⮃ 11140,⮄ 11141,⮅ 11142,⮆ 11143,⮇ 11144,⮈ 11145,⮉ 11146,⮊ 11147,⮋ 11148,⮌ 11149,⮍ 11150,⮎ 11151,⮏ 11152,⮐ 11153,⮑ 11154,⮒ 11155,⮓ 11156,⮔ 11157,⮕ 11158,⮖ 11159,⮗ 11160,⮘ 11161,⮙ 11162,⮚ 11163,⮛ 11164,⮜ 11165,⮝ 11166,⮞ 11167,⮟ 11168,⮠ 11169,⮡ 11170,⮢ 11171,⮣ 11172,⮤ 11173,⮥ 11174,⮦ 11175,⮧ 11176,⮨ 11177,⮩ 11178,⮪ 11179,⮫ 11180,⮬ 11181,⮭ 11182,⮮ 11183,⮯ 11184,⮰ 11185,⮱ 11186,⮲ 11187,⮳ 11188,⮴ 11189,⮵ 11190,⮶ 11191,⮷ 11192,⮸ 11193,⮹ 11194,⮺ 11195,⮻ 11196,⮼ 11197,⮽ 11198,⮾ 11199,⮿ 11200,⯀ 11201,⯁ 11202,⯂ 11203,⯃ 11204,⯄ 11205,⯅ 11206,⯆ 11207,⯇ 11208,⯈ 11209,⯉ 11210,⯊ 11211,⯋ 11212,⯌ 11213,⯍ 11214,⯎ 11215,⯏ 11216,⯐ 11217,⯑ 11218,⯒ 11219,⯓ 11220,⯔ 11221,⯕ 11222,⯖ 11223,⯗ 11224,⯘ 11225,⯙ 11226,⯚ 11227,⯛ 11228,⯜ 11229,⯝ 11230,⯞ 11231,⯟ 11232,⯠ 11233,⯡ 11234,⯢ 11235,⯣ 11236,⯤ 11237,⯥ 11238,⯦ 11239,⯧ 11240,⯨ 11241,⯩ 11242,⯪ 11243,⯫ 11244,⯬ 11245,⯭ 11246,⯮ 11247,⯯ 11248,⯰ 11249,⯱ 11250,⯲ 11251,⯳ 11252,⯴ 11253,⯵ 11254,⯶ 11255,⯷ 11256,⯸ 11257,⯹ 11258,⯺ 11259,⯻ 11260,⯼ 11261,⯽ 11262,⯾ 11263,⯿ 11264,Ⰰ 11265,Ⰱ 11266,Ⰲ 11267,Ⰳ 11268,Ⰴ 11269,Ⰵ 11270,Ⰶ 11271,Ⰷ 11272,Ⰸ 11273,Ⰹ 11274,Ⰺ 11275,Ⰻ 11276,Ⰼ 11277,Ⰽ 11278,Ⰾ 11279,Ⰿ 11280,Ⱀ 11281,Ⱁ 11282,Ⱂ 11283,Ⱃ 11284,Ⱄ 11285,Ⱅ 11286,Ⱆ 11287,Ⱇ 11288,Ⱈ 11289,Ⱉ 11290,Ⱊ 11291,Ⱋ 11292,Ⱌ 11293,Ⱍ 11294,Ⱎ 11295,Ⱏ 11296,Ⱐ 11297,Ⱑ 11298,Ⱒ 11299,Ⱓ 11300,Ⱔ 11301,Ⱕ 11302,Ⱖ 11303,Ⱗ 11304,Ⱘ 11305,Ⱙ 11306,Ⱚ 11307,Ⱛ 11308,Ⱜ 11309,Ⱝ 11310,Ⱞ 11311,Ⱟ 11312,ⰰ 11313,ⰱ 11314,ⰲ 11315,ⰳ 11316,ⰴ 11317,ⰵ 11318,ⰶ 11319,ⰷ 11320,ⰸ 11321,ⰹ 11322,ⰺ 11323,ⰻ 11324,ⰼ 11325,ⰽ 11326,ⰾ 11327,ⰿ 11328,ⱀ 11329,ⱁ 11330,ⱂ 11331,ⱃ 11332,ⱄ 11333,ⱅ 11334,ⱆ 11335,ⱇ 11336,ⱈ 11337,ⱉ 11338,ⱊ 11339,ⱋ 11340,ⱌ 11341,ⱍ 11342,ⱎ 11343,ⱏ 11344,ⱐ 11345,ⱑ 11346,ⱒ 11347,ⱓ 11348,ⱔ 11349,ⱕ 11350,ⱖ 11351,ⱗ 11352,ⱘ 11353,ⱙ 11354,ⱚ 11355,ⱛ 11356,ⱜ 11357,ⱝ 11358,ⱞ 11359,ⱟ 11360,Ⱡ 11361,ⱡ 11362,Ɫ 11363,Ᵽ 11364,Ɽ 11365,ⱥ 11366,ⱦ 11367,Ⱨ 11368,ⱨ 11369,Ⱪ 11370,ⱪ 11371,Ⱬ 11372,ⱬ 11373,Ɑ 11374,Ɱ 11375,Ɐ 11376,Ɒ 11377,ⱱ 11378,Ⱳ 11379,ⱳ 11380,ⱴ 11381,Ⱶ 11382,ⱶ 11383,ⱷ 11384,ⱸ 11385,ⱹ 11386,ⱺ 11387,ⱻ 11388,ⱼ 11389,ⱽ 11390,Ȿ 11391,Ɀ 11392,Ⲁ 11393,ⲁ 11394,Ⲃ 11395,ⲃ 11396,Ⲅ 11397,ⲅ 11398,Ⲇ 11399,ⲇ 11400,Ⲉ 11401,ⲉ 11402,Ⲋ 11403,ⲋ 11404,Ⲍ 11405,ⲍ 11406,Ⲏ 11407,ⲏ 11408,Ⲑ 11409,ⲑ 11410,Ⲓ 11411,ⲓ 11412,Ⲕ 11413,ⲕ 11414,Ⲗ 11415,ⲗ 11416,Ⲙ 11417,ⲙ 11418,Ⲛ 11419,ⲛ 11420,Ⲝ 11421,ⲝ 11422,Ⲟ 11423,ⲟ 11424,Ⲡ 11425,ⲡ 11426,Ⲣ 11427,ⲣ 11428,Ⲥ 11429,ⲥ 11430,Ⲧ 11431,ⲧ 11432,Ⲩ 11433,ⲩ 11434,Ⲫ 11435,ⲫ 11436,Ⲭ 11437,ⲭ 11438,Ⲯ 11439,ⲯ 11440,Ⲱ 11441,ⲱ 11442,Ⲳ 11443,ⲳ 11444,Ⲵ 11445,ⲵ 11446,Ⲷ 11447,ⲷ 11448,Ⲹ 11449,ⲹ 11450,Ⲻ 11451,ⲻ 11452,Ⲽ 11453,ⲽ 11454,Ⲿ 11455,ⲿ 11456,Ⳁ 11457,ⳁ 11458,Ⳃ 11459,ⳃ 11460,Ⳅ 11461,ⳅ 11462,Ⳇ 11463,ⳇ 11464,Ⳉ 11465,ⳉ 11466,Ⳋ 11467,ⳋ 11468,Ⳍ 11469,ⳍ 11470,Ⳏ 11471,ⳏ 11472,Ⳑ 11473,ⳑ 11474,Ⳓ 11475,ⳓ 11476,Ⳕ 11477,ⳕ 11478,Ⳗ 11479,ⳗ 11480,Ⳙ 11481,ⳙ 11482,Ⳛ 11483,ⳛ 11484,Ⳝ 11485,ⳝ 11486,Ⳟ 11487,ⳟ 11488,Ⳡ 11489,ⳡ 11490,Ⳣ 11491,ⳣ 11492,ⳤ 11493,⳥ 11494,⳦ 11495,⳧ 11496,⳨ 11497,⳩ 11498,⳪ 11499,Ⳬ 11500,ⳬ 11501,Ⳮ 11502,ⳮ 11503,⳯ 11504,⳰ 11505,⳱ 11506,Ⳳ 11507,ⳳ 11508,⳴ 11509,⳵ 11510,⳶ 11511,⳷ 11512,⳸ 11513,⳹ 11514,⳺ 11515,⳻ 11516,⳼ 11517,⳽ 11518,⳾ 11519,⳿ 11520,ⴀ 11521,ⴁ 11522,ⴂ 11523,ⴃ 11524,ⴄ 11525,ⴅ 11526,ⴆ 11527,ⴇ 11528,ⴈ 11529,ⴉ 11530,ⴊ 11531,ⴋ 11532,ⴌ 11533,ⴍ 11534,ⴎ 11535,ⴏ 11536,ⴐ 11537,ⴑ 11538,ⴒ 11539,ⴓ 11540,ⴔ 11541,ⴕ 11542,ⴖ 11543,ⴗ 11544,ⴘ 11545,ⴙ 11546,ⴚ 11547,ⴛ 11548,ⴜ 11549,ⴝ 11550,ⴞ 11551,ⴟ 11552,ⴠ 11553,ⴡ 11554,ⴢ 11555,ⴣ 11556,ⴤ 11557,ⴥ 11558,⴦ 11559,ⴧ 11560,⴨ 11561,⴩ 11562,⴪ 11563,⴫ 11564,⴬ 11565,ⴭ 11566,⴮ 11567,⴯ 11568,ⴰ 11569,ⴱ 11570,ⴲ 11571,ⴳ 11572,ⴴ 11573,ⴵ 11574,ⴶ 11575,ⴷ 11576,ⴸ 11577,ⴹ 11578,ⴺ 11579,ⴻ 11580,ⴼ 11581,ⴽ 11582,ⴾ 11583,ⴿ 11584,ⵀ 11585,ⵁ 11586,ⵂ 11587,ⵃ 11588,ⵄ 11589,ⵅ 11590,ⵆ 11591,ⵇ 11592,ⵈ 11593,ⵉ 11594,ⵊ 11595,ⵋ 11596,ⵌ 11597,ⵍ 11598,ⵎ 11599,ⵏ 11600,ⵐ 11601,ⵑ 11602,ⵒ 11603,ⵓ 11604,ⵔ 11605,ⵕ 11606,ⵖ 11607,ⵗ 11608,ⵘ 11609,ⵙ 11610,ⵚ 11611,ⵛ 11612,ⵜ 11613,ⵝ 11614,ⵞ 11615,ⵟ 11616,ⵠ 11617,ⵡ 11618,ⵢ 11619,ⵣ 11620,ⵤ 11621,ⵥ 11622,ⵦ 11623,ⵧ 11624,⵨ 11625,⵩ 11626,⵪ 11627,⵫ 11628,⵬ 11629,⵭ 11630,⵮ 11631,ⵯ 11632,⵰ 11633,⵱ 11634,⵲ 11635,⵳ 11636,⵴ 11637,⵵ 11638,⵶ 11639,⵷ 11640,⵸ 11641,⵹ 11642,⵺ 11643,⵻ 11644,⵼ 11645,⵽ 11646,⵾ 11647,⵿ 11648,ⶀ 11649,ⶁ 11650,ⶂ 11651,ⶃ 11652,ⶄ 11653,ⶅ 11654,ⶆ 11655,ⶇ 11656,ⶈ 11657,ⶉ 11658,ⶊ 11659,ⶋ 11660,ⶌ 11661,ⶍ 11662,ⶎ 11663,ⶏ 11664,ⶐ 11665,ⶑ 11666,ⶒ 11667,ⶓ 11668,ⶔ 11669,ⶕ 11670,ⶖ 11671,⶗ 11672,⶘ 11673,⶙ 11674,⶚ 11675,⶛ 11676,⶜ 11677,⶝ 11678,⶞ 11679,⶟ 11680,ⶠ 11681,ⶡ 11682,ⶢ 11683,ⶣ 11684,ⶤ 11685,ⶥ 11686,ⶦ 11687,⶧ 11688,ⶨ 11689,ⶩ 11690,ⶪ 11691,ⶫ 11692,ⶬ 11693,ⶭ 11694,ⶮ 11695,⶯ 11696,ⶰ 11697,ⶱ 11698,ⶲ 11699,ⶳ 11700,ⶴ 11701,ⶵ 11702,ⶶ 11703,⶷ 11704,ⶸ 11705,ⶹ 11706,ⶺ 11707,ⶻ 11708,ⶼ 11709,ⶽ 11710,ⶾ 11711,⶿ 11712,ⷀ 11713,ⷁ 11714,ⷂ 11715,ⷃ 11716,ⷄ 11717,ⷅ 11718,ⷆ 11719,⷇ 11720,ⷈ 11721,ⷉ 11722,ⷊ 11723,ⷋ 11724,ⷌ 11725,ⷍ 11726,ⷎ 11727,⷏ 11728,ⷐ 11729,ⷑ 11730,ⷒ 11731,ⷓ 11732,ⷔ 11733,ⷕ 11734,ⷖ 11735,⷗ 11736,ⷘ 11737,ⷙ 11738,ⷚ 11739,ⷛ 11740,ⷜ 11741,ⷝ 11742,ⷞ 11743,⷟ 11744,ⷠ 11745,ⷡ 11746,ⷢ 11747,ⷣ 11748,ⷤ 11749,ⷥ 11750,ⷦ 11751,ⷧ 11752,ⷨ 11753,ⷩ 11754,ⷪ 11755,ⷫ 11756,ⷬ 11757,ⷭ 11758,ⷮ 11759,ⷯ 11760,ⷰ 11761,ⷱ 11762,ⷲ 11763,ⷳ 11764,ⷴ 11765,ⷵ 11766,ⷶ 11767,ⷷ 11768,ⷸ 11769,ⷹ 11770,ⷺ 11771,ⷻ 11772,ⷼ 11773,ⷽ 11774,ⷾ 11775,ⷿ 11776,⸀ 11777,⸁ 11778,⸂ 11779,⸃ 11780,⸄ 11781,⸅ 11782,⸆ 11783,⸇ 11784,⸈ 11785,⸉ 11786,⸊ 11787,⸋ 11788,⸌ 11789,⸍ 11790,⸎ 11791,⸏ 11792,⸐ 11793,⸑ 11794,⸒ 11795,⸓ 11796,⸔ 11797,⸕ 11798,⸖ 11799,⸗ 11800,⸘ 11801,⸙ 11802,⸚ 11803,⸛ 11804,⸜ 11805,⸝ 11806,⸞ 11807,⸟ 11808,⸠ 11809,⸡ 11810,⸢ 11811,⸣ 11812,⸤ 11813,⸥ 11814,⸦ 11815,⸧ 11816,⸨ 11817,⸩ 11818,⸪ 11819,⸫ 11820,⸬ 11821,⸭ 11822,⸮ 11823,ⸯ 11824,⸰ 11825,⸱ 11826,⸲ 11827,⸳ 11828,⸴ 11829,⸵ 11830,⸶ 11831,⸷ 11832,⸸ 11833,⸹ 11834,⸺ 11835,⸻ 11836,⸼ 11837,⸽ 11838,⸾ 11839,⸿ 11840,⹀ 11841,⹁ 11842,⹂ 11843,⹃ 11844,⹄ 11845,⹅ 11846,⹆ 11847,⹇ 11848,⹈ 11849,⹉ 11850,⹊ 11851,⹋ 11852,⹌ 11853,⹍ 11854,⹎ 11855,⹏ 11856,⹐ 11857,⹑ 11858,⹒ 11859,⹓ 11860,⹔ 11861,⹕ 11862,⹖ 11863,⹗ 11864,⹘ 11865,⹙ 11866,⹚ 11867,⹛ 11868,⹜ 11869,⹝ 11870,⹞ 11871,⹟ 11872,⹠ 11873,⹡ 11874,⹢ 11875,⹣ 11876,⹤ 11877,⹥ 11878,⹦ 11879,⹧ 11880,⹨ 11881,⹩ 11882,⹪ 11883,⹫ 11884,⹬ 11885,⹭ 11886,⹮ 11887,⹯ 11888,⹰ 11889,⹱ 11890,⹲ 11891,⹳ 11892,⹴ 11893,⹵ 11894,⹶ 11895,⹷ 11896,⹸ 11897,⹹ 11898,⹺ 11899,⹻ 11900,⹼ 11901,⹽ 11902,⹾ 11903,⹿ 11904,⺀ 11905,⺁ 11906,⺂ 11907,⺃ 11908,⺄ 11909,⺅ 11910,⺆ 11911,⺇ 11912,⺈ 11913,⺉ 11914,⺊ 11915,⺋ 11916,⺌ 11917,⺍ 11918,⺎ 11919,⺏ 11920,⺐ 11921,⺑ 11922,⺒ 11923,⺓ 11924,⺔ 11925,⺕ 11926,⺖ 11927,⺗ 11928,⺘ 11929,⺙ 11930,⺚ 11931,⺛ 11932,⺜ 11933,⺝ 11934,⺞ 11935,⺟ 11936,⺠ 11937,⺡ 11938,⺢ 11939,⺣ 11940,⺤ 11941,⺥ 11942,⺦ 11943,⺧ 11944,⺨ 11945,⺩ 11946,⺪ 11947,⺫ 11948,⺬ 11949,⺭ 11950,⺮ 11951,⺯ 11952,⺰ 11953,⺱ 11954,⺲ 11955,⺳ 11956,⺴ 11957,⺵ 11958,⺶ 11959,⺷ 11960,⺸ 11961,⺹ 11962,⺺ 11963,⺻ 11964,⺼ 11965,⺽ 11966,⺾ 11967,⺿ 11968,⻀ 11969,⻁ 11970,⻂ 11971,⻃ 11972,⻄ 11973,⻅ 11974,⻆ 11975,⻇ 11976,⻈ 11977,⻉ 11978,⻊ 11979,⻋ 11980,⻌ 11981,⻍ 11982,⻎ 11983,⻏ 11984,⻐ 11985,⻑ 11986,⻒ 11987,⻓ 11988,⻔ 11989,⻕ 11990,⻖ 11991,⻗ 11992,⻘ 11993,⻙ 11994,⻚ 11995,⻛ 11996,⻜ 11997,⻝ 11998,⻞ 11999,⻟ 12000,⻠ 12001,⻡ 12002,⻢ 12003,⻣ 12004,⻤ 12005,⻥ 12006,⻦ 12007,⻧ 12008,⻨ 12009,⻩ 12010,⻪ 12011,⻫ 12012,⻬ 12013,⻭ 12014,⻮ 12015,⻯ 12016,⻰ 12017,⻱ 12018,⻲ 12019,⻳ 12020,⻴ 12021,⻵ 12022,⻶ 12023,⻷ 12024,⻸ 12025,⻹ 12026,⻺ 12027,⻻ 12028,⻼ 12029,⻽ 12030,⻾ 12031,⻿ 12032,⼀ 12033,⼁ 12034,⼂ 12035,⼃ 12036,⼄ 12037,⼅ 12038,⼆ 12039,⼇ 12040,⼈ 12041,⼉ 12042,⼊ 12043,⼋ 12044,⼌ 12045,⼍ 12046,⼎ 12047,⼏ 12048,⼐ 12049,⼑ 12050,⼒ 12051,⼓ 12052,⼔ 12053,⼕ 12054,⼖ 12055,⼗ 12056,⼘ 12057,⼙ 12058,⼚ 12059,⼛ 12060,⼜ 12061,⼝ 12062,⼞ 12063,⼟ 12064,⼠ 12065,⼡ 12066,⼢ 12067,⼣ 12068,⼤ 12069,⼥ 12070,⼦ 12071,⼧ 12072,⼨ 12073,⼩ 12074,⼪ 12075,⼫ 12076,⼬ 12077,⼭ 12078,⼮ 12079,⼯ 12080,⼰ 12081,⼱ 12082,⼲ 12083,⼳ 12084,⼴ 12085,⼵ 12086,⼶ 12087,⼷ 12088,⼸ 12089,⼹ 12090,⼺ 12091,⼻ 12092,⼼ 12093,⼽ 12094,⼾ 12095,⼿ 12096,⽀ 12097,⽁ 12098,⽂ 12099,⽃ 12100,⽄ 12101,⽅ 12102,⽆ 12103,⽇ 12104,⽈ 12105,⽉ 12106,⽊ 12107,⽋ 12108,⽌ 12109,⽍ 12110,⽎ 12111,⽏ 12112,⽐ 12113,⽑ 12114,⽒ 12115,⽓ 12116,⽔ 12117,⽕ 12118,⽖ 12119,⽗ 12120,⽘ 12121,⽙ 12122,⽚ 12123,⽛ 12124,⽜ 12125,⽝ 12126,⽞ 12127,⽟ 12128,⽠ 12129,⽡ 12130,⽢ 12131,⽣ 12132,⽤ 12133,⽥ 12134,⽦ 12135,⽧ 12136,⽨ 12137,⽩ 12138,⽪ 12139,⽫ 12140,⽬ 12141,⽭ 12142,⽮ 12143,⽯ 12144,⽰ 12145,⽱ 12146,⽲ 12147,⽳ 12148,⽴ 12149,⽵ 12150,⽶ 12151,⽷ 12152,⽸ 12153,⽹ 12154,⽺ 12155,⽻ 12156,⽼ 12157,⽽ 12158,⽾ 12159,⽿ 12160,⾀ 12161,⾁ 12162,⾂ 12163,⾃ 12164,⾄ 12165,⾅ 12166,⾆ 12167,⾇ 12168,⾈ 12169,⾉ 12170,⾊ 12171,⾋ 12172,⾌ 12173,⾍ 12174,⾎ 12175,⾏ 12176,⾐ 12177,⾑ 12178,⾒ 12179,⾓ 12180,⾔ 12181,⾕ 12182,⾖ 12183,⾗ 12184,⾘ 12185,⾙ 12186,⾚ 12187,⾛ 12188,⾜ 12189,⾝ 12190,⾞ 12191,⾟ 12192,⾠ 12193,⾡ 12194,⾢ 12195,⾣ 12196,⾤ 12197,⾥ 12198,⾦ 12199,⾧ 12200,⾨ 12201,⾩ 12202,⾪ 12203,⾫ 12204,⾬ 12205,⾭ 12206,⾮ 12207,⾯ 12208,⾰ 12209,⾱ 12210,⾲ 12211,⾳ 12212,⾴ 12213,⾵ 12214,⾶ 12215,⾷ 12216,⾸ 12217,⾹ 12218,⾺ 12219,⾻ 12220,⾼ 12221,⾽ 12222,⾾ 12223,⾿ 12224,⿀ 12225,⿁ 12226,⿂ 12227,⿃ 12228,⿄ 12229,⿅ 12230,⿆ 12231,⿇ 12232,⿈ 12233,⿉ 12234,⿊ 12235,⿋ 12236,⿌ 12237,⿍ 12238,⿎ 12239,⿏ 12240,⿐ 12241,⿑ 12242,⿒ 12243,⿓ 12244,⿔ 12245,⿕ 12246,⿖ 12247,⿗ 12248,⿘ 12249,⿙ 12250,⿚ 12251,⿛ 12252,⿜ 12253,⿝ 12254,⿞ 12255,⿟ 12256,⿠ 12257,⿡ 12258,⿢ 12259,⿣ 12260,⿤ 12261,⿥ 12262,⿦ 12263,⿧ 12264,⿨ 12265,⿩ 12266,⿪ 12267,⿫ 12268,⿬ 12269,⿭ 12270,⿮ 12271,⿯ 12272,⿰ 12273,⿱ 12274,⿲ 12275,⿳ 12276,⿴ 12277,⿵ 12278,⿶ 12279,⿷ 12280,⿸ 12281,⿹ 12282,⿺ 12283,⿻ 12284,⿼ 12285,⿽ 12286,⿾ 12287,⿿ 12288,　 12289,、 12290,。 12291,〃 12292,〄 12293,々 12294,〆 12295,〇 12296,〈 12297,〉 12298,《 12299,》 12300,「 12301,」 12302,『 12303,』 12304,【 12305,】 12306,〒 12307,〓 12308,〔 12309,〕 12310,〖 12311,〗 12312,〘 12313,〙 12314,〚 12315,〛 12316,〜 12317,〝 12318,〞 12319,〟 12320,〠 12321,〡 12322,〢 12323,〣 12324,〤 12325,〥 12326,〦 12327,〧 12328,〨 12329,〩 12330,〪 12331,〫 12332,〬 12333,〭 12334,〮 12335,〯 12336,〰 12337,〱 12338,〲 12339,〳 12340,〴 12341,〵 12342,〶 12343,〷 12344,〸 12345,〹 12346,〺 12347,〻 12348,〼 12349,〽 12350,〾 12351,〿 12352,぀ 12353,ぁ 12354,あ 12355,ぃ 12356,い 12357,ぅ 12358,う 12359,ぇ 12360,え 12361,ぉ 12362,お 12363,か 12364,が 12365,き 12366,ぎ 12367,く 12368,ぐ 12369,け 12370,げ 12371,こ 12372,ご 12373,さ 12374,ざ 12375,し 12376,じ 12377,す 12378,ず 12379,せ 12380,ぜ 12381,そ 12382,ぞ 12383,た 12384,だ 12385,ち 12386,ぢ 12387,っ 12388,つ 12389,づ 12390,て 12391,で 12392,と 12393,ど 12394,な 12395,に 12396,ぬ 12397,ね 12398,の 12399,は 12400,ば 12401,ぱ 12402,ひ 12403,び 12404,ぴ 12405,ふ 12406,ぶ 12407,ぷ 12408,へ 12409,べ 12410,ぺ 12411,ほ 12412,ぼ 12413,ぽ 12414,ま 12415,み 12416,む 12417,め 12418,も 12419,ゃ 12420,や 12421,ゅ 12422,ゆ 12423,ょ 12424,よ 12425,ら 12426,り 12427,る 12428,れ 12429,ろ 12430,ゎ 12431,わ 12432,ゐ 12433,ゑ 12434,を 12435,ん 12436,ゔ 12437,ゕ 12438,ゖ 12439,゗ 12440,゘ 12441,゙ 12442,゚ 12443,゛ 12444,゜ 12445,ゝ 12446,ゞ 12447,ゟ 12448,゠ 12449,ァ 12450,ア 12451,ィ 12452,イ 12453,ゥ 12454,ウ 12455,ェ 12456,エ 12457,ォ 12458,オ 12459,カ 12460,ガ 12461,キ 12462,ギ 12463,ク 12464,グ 12465,ケ 12466,ゲ 12467,コ 12468,ゴ 12469,サ 12470,ザ 12471,シ 12472,ジ 12473,ス 12474,ズ 12475,セ 12476,ゼ 12477,ソ 12478,ゾ 12479,タ 12480,ダ 12481,チ 12482,ヂ 12483,ッ 12484,ツ 12485,ヅ 12486,テ 12487,デ 12488,ト 12489,ド 12490,ナ 12491,ニ 12492,ヌ 12493,ネ 12494,ノ 12495,ハ 12496,バ 12497,パ 12498,ヒ 12499,ビ 12500,ピ 12501,フ 12502,ブ 12503,プ 12504,ヘ 12505,ベ 12506,ペ 12507,ホ 12508,ボ 12509,ポ 12510,マ 12511,ミ 12512,ム 12513,メ 12514,モ 12515,ャ 12516,ヤ 12517,ュ 12518,ユ 12519,ョ 12520,ヨ 12521,ラ 12522,リ 12523,ル 12524,レ 12525,ロ 12526,ヮ 12527,ワ 12528,ヰ 12529,ヱ 12530,ヲ 12531,ン 12532,ヴ 12533,ヵ 12534,ヶ 12535,ヷ 12536,ヸ 12537,ヹ 12538,ヺ 12539,・ 12540,ー 12541,ヽ 12542,ヾ 12543,ヿ 12544,㄀ 12545,㄁ 12546,㄂ 12547,㄃ 12548,㄄ 12549,ㄅ 12550,ㄆ 12551,ㄇ 12552,ㄈ 12553,ㄉ 12554,ㄊ 12555,ㄋ 12556,ㄌ 12557,ㄍ 12558,ㄎ 12559,ㄏ 12560,ㄐ 12561,ㄑ 12562,ㄒ 12563,ㄓ 12564,ㄔ 12565,ㄕ 12566,ㄖ 12567,ㄗ 12568,ㄘ 12569,ㄙ 12570,ㄚ 12571,ㄛ 12572,ㄜ 12573,ㄝ 12574,ㄞ 12575,ㄟ 12576,ㄠ 12577,ㄡ 12578,ㄢ 12579,ㄣ 12580,ㄤ 12581,ㄥ 12582,ㄦ 12583,ㄧ 12584,ㄨ 12585,ㄩ 12586,ㄪ 12587,ㄫ 12588,ㄬ 12589,ㄭ 12590,ㄮ 12591,ㄯ 12592,㄰ 12593,ㄱ 12594,ㄲ 12595,ㄳ 12596,ㄴ 12597,ㄵ 12598,ㄶ 12599,ㄷ 12600,ㄸ 12601,ㄹ 12602,ㄺ 12603,ㄻ 12604,ㄼ 12605,ㄽ 12606,ㄾ 12607,ㄿ 12608,ㅀ 12609,ㅁ 12610,ㅂ 12611,ㅃ 12612,ㅄ 12613,ㅅ 12614,ㅆ 12615,ㅇ 12616,ㅈ 12617,ㅉ 12618,ㅊ 12619,ㅋ 12620,ㅌ 12621,ㅍ 12622,ㅎ 12623,ㅏ 12624,ㅐ 12625,ㅑ 12626,ㅒ 12627,ㅓ 12628,ㅔ 12629,ㅕ 12630,ㅖ 12631,ㅗ 12632,ㅘ 12633,ㅙ 12634,ㅚ 12635,ㅛ 12636,ㅜ 12637,ㅝ 12638,ㅞ 12639,ㅟ 12640,ㅠ 12641,ㅡ 12642,ㅢ 12643,ㅣ 12644,ㅤ 12645,ㅥ 12646,ㅦ 12647,ㅧ 12648,ㅨ 12649,ㅩ 12650,ㅪ 12651,ㅫ 12652,ㅬ 12653,ㅭ 12654,ㅮ 12655,ㅯ 12656,ㅰ 12657,ㅱ 12658,ㅲ 12659,ㅳ 12660,ㅴ 12661,ㅵ 12662,ㅶ 12663,ㅷ 12664,ㅸ 12665,ㅹ 12666,ㅺ 12667,ㅻ 12668,ㅼ 12669,ㅽ 12670,ㅾ 12671,ㅿ 12672,ㆀ 12673,ㆁ 12674,ㆂ 12675,ㆃ 12676,ㆄ 12677,ㆅ 12678,ㆆ 12679,ㆇ 12680,ㆈ 12681,ㆉ 12682,ㆊ 12683,ㆋ 12684,ㆌ 12685,ㆍ 12686,ㆎ 12687,㆏ 12688,㆐ 12689,㆑ 12690,㆒ 12691,㆓ 12692,㆔ 12693,㆕ 12694,㆖ 12695,㆗ 12696,㆘ 12697,㆙ 12698,㆚ 12699,㆛ 12700,㆜ 12701,㆝ 12702,㆞ 12703,㆟ 12704,ㆠ 12705,ㆡ 12706,ㆢ 12707,ㆣ 12708,ㆤ 12709,ㆥ 12710,ㆦ 12711,ㆧ 12712,ㆨ 12713,ㆩ 12714,ㆪ 12715,ㆫ 12716,ㆬ 12717,ㆭ 12718,ㆮ 12719,ㆯ 12720,ㆰ 12721,ㆱ 12722,ㆲ 12723,ㆳ 12724,ㆴ 12725,ㆵ 12726,ㆶ 12727,ㆷ 12728,ㆸ 12729,ㆹ 12730,ㆺ 12731,ㆻ 12732,ㆼ 12733,ㆽ 12734,ㆾ 12735,ㆿ 12736,㇀ 12737,㇁ 12738,㇂ 12739,㇃ 12740,㇄ 12741,㇅ 12742,㇆ 12743,㇇ 12744,㇈ 12745,㇉ 12746,㇊ 12747,㇋ 12748,㇌ 12749,㇍ 12750,㇎ 12751,㇏ 12752,㇐ 12753,㇑ 12754,㇒ 12755,㇓ 12756,㇔ 12757,㇕ 12758,㇖ 12759,㇗ 12760,㇘ 12761,㇙ 12762,㇚ 12763,㇛ 12764,㇜ 12765,㇝ 12766,㇞ 12767,㇟ 12768,㇠ 12769,㇡ 12770,㇢ 12771,㇣ 12772,㇤ 12773,㇥ 12774,㇦ 12775,㇧ 12776,㇨ 12777,㇩ 12778,㇪ 12779,㇫ 12780,㇬ 12781,㇭ 12782,㇮ 12783,㇯ 12784,ㇰ 12785,ㇱ 12786,ㇲ 12787,ㇳ 12788,ㇴ 12789,ㇵ 12790,ㇶ 12791,ㇷ 12792,ㇸ 12793,ㇹ 12794,ㇺ 12795,ㇻ 12796,ㇼ 12797,ㇽ 12798,ㇾ 12799,ㇿ 12800,㈀ 12801,㈁ 12802,㈂ 12803,㈃ 12804,㈄ 12805,㈅ 12806,㈆ 12807,㈇ 12808,㈈ 12809,㈉ 12810,㈊ 12811,㈋ 12812,㈌ 12813,㈍ 12814,㈎ 12815,㈏ 12816,㈐ 12817,㈑ 12818,㈒ 12819,㈓ 12820,㈔ 12821,㈕ 12822,㈖ 12823,㈗ 12824,㈘ 12825,㈙ 12826,㈚ 12827,㈛ 12828,㈜ 12829,㈝ 12830,㈞ 12831,㈟ 12832,㈠ 12833,㈡ 12834,㈢ 12835,㈣ 12836,㈤ 12837,㈥ 12838,㈦ 12839,㈧ 12840,㈨ 12841,㈩ 12842,㈪ 12843,㈫ 12844,㈬ 12845,㈭ 12846,㈮ 12847,㈯ 12848,㈰ 12849,㈱ 12850,㈲ 12851,㈳ 12852,㈴ 12853,㈵ 12854,㈶ 12855,㈷ 12856,㈸ 12857,㈹ 12858,㈺ 12859,㈻ 12860,㈼ 12861,㈽ 12862,㈾ 12863,㈿ 12864,㉀ 12865,㉁ 12866,㉂ 12867,㉃ 12868,㉄ 12869,㉅ 12870,㉆ 12871,㉇ 12872,㉈ 12873,㉉ 12874,㉊ 12875,㉋ 12876,㉌ 12877,㉍ 12878,㉎ 12879,㉏ 12880,㉐ 12881,㉑ 12882,㉒ 12883,㉓ 12884,㉔ 12885,㉕ 12886,㉖ 12887,㉗ 12888,㉘ 12889,㉙ 12890,㉚ 12891,㉛ 12892,㉜ 12893,㉝ 12894,㉞ 12895,㉟ 12896,㉠ 12897,㉡ 12898,㉢ 12899,㉣ 12900,㉤ 12901,㉥ 12902,㉦ 12903,㉧ 12904,㉨ 12905,㉩ 12906,㉪ 12907,㉫ 12908,㉬ 12909,㉭ 12910,㉮ 12911,㉯ 12912,㉰ 12913,㉱ 12914,㉲ 12915,㉳ 12916,㉴ 12917,㉵ 12918,㉶ 12919,㉷ 12920,㉸ 12921,㉹ 12922,㉺ 12923,㉻ 12924,㉼ 12925,㉽ 12926,㉾ 12927,㉿ 12928,㊀ 12929,㊁ 12930,㊂ 12931,㊃ 12932,㊄ 12933,㊅ 12934,㊆ 12935,㊇ 12936,㊈ 12937,㊉ 12938,㊊ 12939,㊋ 12940,㊌ 12941,㊍ 12942,㊎ 12943,㊏ 12944,㊐ 12945,㊑ 12946,㊒ 12947,㊓ 12948,㊔ 12949,㊕ 12950,㊖ 12951,㊗ 12952,㊘ 12953,㊙ 12954,㊚ 12955,㊛ 12956,㊜ 12957,㊝ 12958,㊞ 12959,㊟ 12960,㊠ 12961,㊡ 12962,㊢ 12963,㊣ 12964,㊤ 12965,㊥ 12966,㊦ 12967,㊧ 12968,㊨ 12969,㊩ 12970,㊪ 12971,㊫ 12972,㊬ 12973,㊭ 12974,㊮ 12975,㊯ 12976,㊰ 12977,㊱ 12978,㊲ 12979,㊳ 12980,㊴ 12981,㊵ 12982,㊶ 12983,㊷ 12984,㊸ 12985,㊹ 12986,㊺ 12987,㊻ 12988,㊼ 12989,㊽ 12990,㊾ 12991,㊿ 12992,㋀ 12993,㋁ 12994,㋂ 12995,㋃ 12996,㋄ 12997,㋅ 12998,㋆ 12999,㋇ 13000,㋈ 13001,㋉ 13002,㋊ 13003,㋋ 13004,㋌ 13005,㋍ 13006,㋎ 13007,㋏ 13008,㋐ 13009,㋑ 13010,㋒ 13011,㋓ 13012,㋔ 13013,㋕ 13014,㋖ 13015,㋗ 13016,㋘ 13017,㋙ 13018,㋚ 13019,㋛ 13020,㋜ 13021,㋝ 13022,㋞ 13023,㋟ 13024,㋠ 13025,㋡ 13026,㋢ 13027,㋣ 13028,㋤ 13029,㋥ 13030,㋦ 13031,㋧ 13032,㋨ 13033,㋩ 13034,㋪ 13035,㋫ 13036,㋬ 13037,㋭ 13038,㋮ 13039,㋯ 13040,㋰ 13041,㋱ 13042,㋲ 13043,㋳ 13044,㋴ 13045,㋵ 13046,㋶ 13047,㋷ 13048,㋸ 13049,㋹ 13050,㋺ 13051,㋻ 13052,㋼ 13053,㋽ 13054,㋾ 13055,㋿ 13056,㌀ 13057,㌁ 13058,㌂ 13059,㌃ 13060,㌄ 13061,㌅ 13062,㌆ 13063,㌇ 13064,㌈ 13065,㌉ 13066,㌊ 13067,㌋ 13068,㌌ 13069,㌍ 13070,㌎ 13071,㌏ 13072,㌐ 13073,㌑ 13074,㌒ 13075,㌓ 13076,㌔ 13077,㌕ 13078,㌖ 13079,㌗ 13080,㌘ 13081,㌙ 13082,㌚ 13083,㌛ 13084,㌜ 13085,㌝ 13086,㌞ 13087,㌟ 13088,㌠ 13089,㌡ 13090,㌢ 13091,㌣ 13092,㌤ 13093,㌥ 13094,㌦ 13095,㌧ 13096,㌨ 13097,㌩ 13098,㌪ 13099,㌫ 13100,㌬ 13101,㌭ 13102,㌮ 13103,㌯ 13104,㌰ 13105,㌱ 13106,㌲ 13107,㌳ 13108,㌴ 13109,㌵ 13110,㌶ 13111,㌷ 13112,㌸ 13113,㌹ 13114,㌺ 13115,㌻ 13116,㌼ 13117,㌽ 13118,㌾ 13119,㌿ 13120,㍀ 13121,㍁ 13122,㍂ 13123,㍃ 13124,㍄ 13125,㍅ 13126,㍆ 13127,㍇ 13128,㍈ 13129,㍉ 13130,㍊ 13131,㍋ 13132,㍌ 13133,㍍ 13134,㍎ 13135,㍏ 13136,㍐ 13137,㍑ 13138,㍒ 13139,㍓ 13140,㍔ 13141,㍕ 13142,㍖ 13143,㍗ 13144,㍘ 13145,㍙ 13146,㍚ 13147,㍛ 13148,㍜ 13149,㍝ 13150,㍞ 13151,㍟ 13152,㍠ 13153,㍡ 13154,㍢ 13155,㍣ 13156,㍤ 13157,㍥ 13158,㍦ 13159,㍧ 13160,㍨ 13161,㍩ 13162,㍪ 13163,㍫ 13164,㍬ 13165,㍭ 13166,㍮ 13167,㍯ 13168,㍰ 13169,㍱ 13170,㍲ 13171,㍳ 13172,㍴ 13173,㍵ 13174,㍶ 13175,㍷ 13176,㍸ 13177,㍹ 13178,㍺ 13179,㍻ 13180,㍼ 13181,㍽ 13182,㍾ 13183,㍿ 13184,㎀ 13185,㎁ 13186,㎂ 13187,㎃ 13188,㎄ 13189,㎅ 13190,㎆ 13191,㎇ 13192,㎈ 13193,㎉ 13194,㎊ 13195,㎋ 13196,㎌ 13197,㎍ 13198,㎎ 13199,㎏ 13200,㎐ 13201,㎑ 13202,㎒ 13203,㎓ 13204,㎔ 13205,㎕ 13206,㎖ 13207,㎗ 13208,㎘ 13209,㎙ 13210,㎚ 13211,㎛ 13212,㎜ 13213,㎝ 13214,㎞ 13215,㎟ 13216,㎠ 13217,㎡ 13218,㎢ 13219,㎣ 13220,㎤ 13221,㎥ 13222,㎦ 13223,㎧ 13224,㎨ 13225,㎩ 13226,㎪ 13227,㎫ 13228,㎬ 13229,㎭ 13230,㎮ 13231,㎯ 13232,㎰ 13233,㎱ 13234,㎲ 13235,㎳ 13236,㎴ 13237,㎵ 13238,㎶ 13239,㎷ 13240,㎸ 13241,㎹ 13242,㎺ 13243,㎻ 13244,㎼ 13245,㎽ 13246,㎾ 13247,㎿ 13248,㏀ 13249,㏁ 13250,㏂ 13251,㏃ 13252,㏄ 13253,㏅ 13254,㏆ 13255,㏇ 13256,㏈ 13257,㏉ 13258,㏊ 13259,㏋ 13260,㏌ 13261,㏍ 13262,㏎ 13263,㏏ 13264,㏐ 13265,㏑ 13266,㏒ 13267,㏓ 13268,㏔ 13269,㏕ 13270,㏖ 13271,㏗ 13272,㏘ 13273,㏙ 13274,㏚ 13275,㏛ 13276,㏜ 13277,㏝ 13278,㏞ 13279,㏟ 13280,㏠ 13281,㏡ 13282,㏢ 13283,㏣ 13284,㏤ 13285,㏥ 13286,㏦ 13287,㏧ 13288,㏨ 13289,㏩ 13290,㏪ 13291,㏫ 13292,㏬ 13293,㏭ 13294,㏮ 13295,㏯ 13296,㏰ 13297,㏱ 13298,㏲ 13299,㏳ 13300,㏴ 13301,㏵ 13302,㏶ 13303,㏷ 13304,㏸ 13305,㏹ 13306,㏺ 13307,㏻ 13308,㏼ 13309,㏽ 13310,㏾ 13311,㏿ 13312,㐀 13313,㐁 13314,㐂 13315,㐃 13316,㐄 13317,㐅 13318,㐆 13319,㐇 13320,㐈 13321,㐉 13322,㐊 13323,㐋 13324,㐌 13325,㐍 13326,㐎 13327,㐏 13328,㐐 13329,㐑 13330,㐒 13331,㐓 13332,㐔 13333,㐕 13334,㐖 13335,㐗 13336,㐘 13337,㐙 13338,㐚 13339,㐛 13340,㐜 13341,㐝 13342,㐞 13343,㐟 13344,㐠 13345,㐡 13346,㐢 13347,㐣 13348,㐤 13349,㐥 13350,㐦 13351,㐧 13352,㐨 13353,㐩 13354,㐪 13355,㐫 13356,㐬 13357,㐭 13358,㐮 13359,㐯 13360,㐰 13361,㐱 13362,㐲 13363,㐳 13364,㐴 13365,㐵 13366,㐶 13367,㐷 13368,㐸 13369,㐹 13370,㐺 13371,㐻 13372,㐼 13373,㐽 13374,㐾 13375,㐿 13376,㑀 13377,㑁 13378,㑂 13379,㑃 13380,㑄 13381,㑅 13382,㑆 13383,㑇 13384,㑈 13385,㑉 13386,㑊 13387,㑋 13388,㑌 13389,㑍 13390,㑎 13391,㑏 13392,㑐 13393,㑑 13394,㑒 13395,㑓 13396,㑔 13397,㑕 13398,㑖 13399,㑗 13400,㑘 13401,㑙 13402,㑚 13403,㑛 13404,㑜 13405,㑝 13406,㑞 13407,㑟 13408,㑠 13409,㑡 13410,㑢 13411,㑣 13412,㑤 13413,㑥 13414,㑦 13415,㑧 13416,㑨 13417,㑩 13418,㑪 13419,㑫 13420,㑬 13421,㑭 13422,㑮 13423,㑯 13424,㑰 13425,㑱 13426,㑲 13427,㑳 13428,㑴 13429,㑵 13430,㑶 13431,㑷 13432,㑸 13433,㑹 13434,㑺 13435,㑻 13436,㑼 13437,㑽 13438,㑾 13439,㑿 13440,㒀 13441,㒁 13442,㒂 13443,㒃 13444,㒄 13445,㒅 13446,㒆 13447,㒇 13448,㒈 13449,㒉 13450,㒊 13451,㒋 13452,㒌 13453,㒍 13454,㒎 13455,㒏 13456,㒐 13457,㒑 13458,㒒 13459,㒓 13460,㒔 13461,㒕 13462,㒖 13463,㒗 13464,㒘 13465,㒙 13466,㒚 13467,㒛 13468,㒜 13469,㒝 13470,㒞 13471,㒟 13472,㒠 13473,㒡 13474,㒢 13475,㒣 13476,㒤 13477,㒥 13478,㒦 13479,㒧 13480,㒨 13481,㒩 13482,㒪 13483,㒫 13484,㒬 13485,㒭 13486,㒮 13487,㒯 13488,㒰 13489,㒱 13490,㒲 13491,㒳 13492,㒴 13493,㒵 13494,㒶 13495,㒷 13496,㒸 13497,㒹 13498,㒺 13499,㒻 13500,㒼 13501,㒽 13502,㒾 13503,㒿 13504,㓀 13505,㓁 13506,㓂 13507,㓃 13508,㓄 13509,㓅 13510,㓆 13511,㓇 13512,㓈 13513,㓉 13514,㓊 13515,㓋 13516,㓌 13517,㓍 13518,㓎 13519,㓏 13520,㓐 13521,㓑 13522,㓒 13523,㓓 13524,㓔 13525,㓕 13526,㓖 13527,㓗 13528,㓘 13529,㓙 13530,㓚 13531,㓛 13532,㓜 13533,㓝 13534,㓞 13535,㓟 13536,㓠 13537,㓡 13538,㓢 13539,㓣 13540,㓤 13541,㓥 13542,㓦 13543,㓧 13544,㓨 13545,㓩 13546,㓪 13547,㓫 13548,㓬 13549,㓭 13550,㓮 13551,㓯 13552,㓰 13553,㓱 13554,㓲 13555,㓳 13556,㓴 13557,㓵 13558,㓶 13559,㓷 13560,㓸 13561,㓹 13562,㓺 13563,㓻 13564,㓼 13565,㓽 13566,㓾 13567,㓿 13568,㔀 13569,㔁 13570,㔂 13571,㔃 13572,㔄 13573,㔅 13574,㔆 13575,㔇 13576,㔈 13577,㔉 13578,㔊 13579,㔋 13580,㔌 13581,㔍 13582,㔎 13583,㔏 13584,㔐 13585,㔑 13586,㔒 13587,㔓 13588,㔔 13589,㔕 13590,㔖 13591,㔗 13592,㔘 13593,㔙 13594,㔚 13595,㔛 13596,㔜 13597,㔝 13598,㔞 13599,㔟 13600,㔠 13601,㔡 13602,㔢 13603,㔣 13604,㔤 13605,㔥 13606,㔦 13607,㔧 13608,㔨 13609,㔩 13610,㔪 13611,㔫 13612,㔬 13613,㔭 13614,㔮 13615,㔯 13616,㔰 13617,㔱 13618,㔲 13619,㔳 13620,㔴 13621,㔵 13622,㔶 13623,㔷 13624,㔸 13625,㔹 13626,㔺 13627,㔻 13628,㔼 13629,㔽 13630,㔾 13631,㔿 13632,㕀 13633,㕁 13634,㕂 13635,㕃 13636,㕄 13637,㕅 13638,㕆 13639,㕇 13640,㕈 13641,㕉 13642,㕊 13643,㕋 13644,㕌 13645,㕍 13646,㕎 13647,㕏 13648,㕐 13649,㕑 13650,㕒 13651,㕓 13652,㕔 13653,㕕 13654,㕖 13655,㕗 13656,㕘 13657,㕙 13658,㕚 13659,㕛 13660,㕜 13661,㕝 13662,㕞 13663,㕟 13664,㕠 13665,㕡 13666,㕢 13667,㕣 13668,㕤 13669,㕥 13670,㕦 13671,㕧 13672,㕨 13673,㕩 13674,㕪 13675,㕫 13676,㕬 13677,㕭 13678,㕮 13679,㕯 13680,㕰 13681,㕱 13682,㕲 13683,㕳 13684,㕴 13685,㕵 13686,㕶 13687,㕷 13688,㕸 13689,㕹 13690,㕺 13691,㕻 13692,㕼 13693,㕽 13694,㕾 13695,㕿 13696,㖀 13697,㖁 13698,㖂 13699,㖃 13700,㖄 13701,㖅 13702,㖆 13703,㖇 13704,㖈 13705,㖉 13706,㖊 13707,㖋 13708,㖌 13709,㖍 13710,㖎 13711,㖏 13712,㖐 13713,㖑 13714,㖒 13715,㖓 13716,㖔 13717,㖕 13718,㖖 13719,㖗 13720,㖘 13721,㖙 13722,㖚 13723,㖛 13724,㖜 13725,㖝 13726,㖞 13727,㖟 13728,㖠 13729,㖡 13730,㖢 13731,㖣 13732,㖤 13733,㖥 13734,㖦 13735,㖧 13736,㖨 13737,㖩 13738,㖪 13739,㖫 13740,㖬 13741,㖭 13742,㖮 13743,㖯 13744,㖰 13745,㖱 13746,㖲 13747,㖳 13748,㖴 13749,㖵 13750,㖶 13751,㖷 13752,㖸 13753,㖹 13754,㖺 13755,㖻 13756,㖼 13757,㖽 13758,㖾 13759,㖿 13760,㗀 13761,㗁 13762,㗂 13763,㗃 13764,㗄 13765,㗅 13766,㗆 13767,㗇 13768,㗈 13769,㗉 13770,㗊 13771,㗋 13772,㗌 13773,㗍 13774,㗎 13775,㗏 13776,㗐 13777,㗑 13778,㗒 13779,㗓 13780,㗔 13781,㗕 13782,㗖 13783,㗗 13784,㗘 13785,㗙 13786,㗚 13787,㗛 13788,㗜 13789,㗝 13790,㗞 13791,㗟 13792,㗠 13793,㗡 13794,㗢 13795,㗣 13796,㗤 13797,㗥 13798,㗦 13799,㗧 13800,㗨 13801,㗩 13802,㗪 13803,㗫 13804,㗬 13805,㗭 13806,㗮 13807,㗯 13808,㗰 13809,㗱 13810,㗲 13811,㗳 13812,㗴 13813,㗵 13814,㗶 13815,㗷 13816,㗸 13817,㗹 13818,㗺 13819,㗻 13820,㗼 13821,㗽 13822,㗾 13823,㗿 13824,㘀 13825,㘁 13826,㘂 13827,㘃 13828,㘄 13829,㘅 13830,㘆 13831,㘇 13832,㘈 13833,㘉 13834,㘊 13835,㘋 13836,㘌 13837,㘍 13838,㘎 13839,㘏 13840,㘐 13841,㘑 13842,㘒 13843,㘓 13844,㘔 13845,㘕 13846,㘖 13847,㘗 13848,㘘 13849,㘙 13850,㘚 13851,㘛 13852,㘜 13853,㘝 13854,㘞 13855,㘟 13856,㘠 13857,㘡 13858,㘢 13859,㘣 13860,㘤 13861,㘥 13862,㘦 13863,㘧 13864,㘨 13865,㘩 13866,㘪 13867,㘫 13868,㘬 13869,㘭 13870,㘮 13871,㘯 13872,㘰 13873,㘱 13874,㘲 13875,㘳 13876,㘴 13877,㘵 13878,㘶 13879,㘷 13880,㘸 13881,㘹 13882,㘺 13883,㘻 13884,㘼 13885,㘽 13886,㘾 13887,㘿 13888,㙀 13889,㙁 13890,㙂 13891,㙃 13892,㙄 13893,㙅 13894,㙆 13895,㙇 13896,㙈 13897,㙉 13898,㙊 13899,㙋 13900,㙌 13901,㙍 13902,㙎 13903,㙏 13904,㙐 13905,㙑 13906,㙒 13907,㙓 13908,㙔 13909,㙕 13910,㙖 13911,㙗 13912,㙘 13913,㙙 13914,㙚 13915,㙛 13916,㙜 13917,㙝 13918,㙞 13919,㙟 13920,㙠 13921,㙡 13922,㙢 13923,㙣 13924,㙤 13925,㙥 13926,㙦 13927,㙧 13928,㙨 13929,㙩 13930,㙪 13931,㙫 13932,㙬 13933,㙭 13934,㙮 13935,㙯 13936,㙰 13937,㙱 13938,㙲 13939,㙳 13940,㙴 13941,㙵 13942,㙶 13943,㙷 13944,㙸 13945,㙹 13946,㙺 13947,㙻 13948,㙼 13949,㙽 13950,㙾 13951,㙿 13952,㚀 13953,㚁 13954,㚂 13955,㚃 13956,㚄 13957,㚅 13958,㚆 13959,㚇 13960,㚈 13961,㚉 13962,㚊 13963,㚋 13964,㚌 13965,㚍 13966,㚎 13967,㚏 13968,㚐 13969,㚑 13970,㚒 13971,㚓 13972,㚔 13973,㚕 13974,㚖 13975,㚗 13976,㚘 13977,㚙 13978,㚚 13979,㚛 13980,㚜 13981,㚝 13982,㚞 13983,㚟 13984,㚠 13985,㚡 13986,㚢 13987,㚣 13988,㚤 13989,㚥 13990,㚦 13991,㚧 13992,㚨 13993,㚩 13994,㚪 13995,㚫 13996,㚬 13997,㚭 13998,㚮 13999,㚯 14000,㚰 14001,㚱 14002,㚲 14003,㚳 14004,㚴 14005,㚵 14006,㚶 14007,㚷 14008,㚸 14009,㚹 14010,㚺 14011,㚻 14012,㚼 14013,㚽 14014,㚾 14015,㚿 14016,㛀 14017,㛁 14018,㛂 14019,㛃 14020,㛄 14021,㛅 14022,㛆 14023,㛇 14024,㛈 14025,㛉 14026,㛊 14027,㛋 14028,㛌 14029,㛍 14030,㛎 14031,㛏 14032,㛐 14033,㛑 14034,㛒 14035,㛓 14036,㛔 14037,㛕 14038,㛖 14039,㛗 14040,㛘 14041,㛙 14042,㛚 14043,㛛 14044,㛜 14045,㛝 14046,㛞 14047,㛟 14048,㛠 14049,㛡 14050,㛢 14051,㛣 14052,㛤 14053,㛥 14054,㛦 14055,㛧 14056,㛨 14057,㛩 14058,㛪 14059,㛫 14060,㛬 14061,㛭 14062,㛮 14063,㛯 14064,㛰 14065,㛱 14066,㛲 14067,㛳 14068,㛴 14069,㛵 14070,㛶 14071,㛷 14072,㛸 14073,㛹 14074,㛺 14075,㛻 14076,㛼 14077,㛽 14078,㛾 14079,㛿 14080,㜀 14081,㜁 14082,㜂 14083,㜃 14084,㜄 14085,㜅 14086,㜆 14087,㜇 14088,㜈 14089,㜉 14090,㜊 14091,㜋 14092,㜌 14093,㜍 14094,㜎 14095,㜏 14096,㜐 14097,㜑 14098,㜒 14099,㜓 14100,㜔 14101,㜕 14102,㜖 14103,㜗 14104,㜘 14105,㜙 14106,㜚 14107,㜛 14108,㜜 14109,㜝 14110,㜞 14111,㜟 14112,㜠 14113,㜡 14114,㜢 14115,㜣 14116,㜤 14117,㜥 14118,㜦 14119,㜧 14120,㜨 14121,㜩 14122,㜪 14123,㜫 14124,㜬 14125,㜭 14126,㜮 14127,㜯 14128,㜰 14129,㜱 14130,㜲 14131,㜳 14132,㜴 14133,㜵 14134,㜶 14135,㜷 14136,㜸 14137,㜹 14138,㜺 14139,㜻 14140,㜼 14141,㜽 14142,㜾 14143,㜿 14144,㝀 14145,㝁 14146,㝂 14147,㝃 14148,㝄 14149,㝅 14150,㝆 14151,㝇 14152,㝈 14153,㝉 14154,㝊 14155,㝋 14156,㝌 14157,㝍 14158,㝎 14159,㝏 14160,㝐 14161,㝑 14162,㝒 14163,㝓 14164,㝔 14165,㝕 14166,㝖 14167,㝗 14168,㝘 14169,㝙 14170,㝚 14171,㝛 14172,㝜 14173,㝝 14174,㝞 14175,㝟 14176,㝠 14177,㝡 14178,㝢 14179,㝣 14180,㝤 14181,㝥 14182,㝦 14183,㝧 14184,㝨 14185,㝩 14186,㝪 14187,㝫 14188,㝬 14189,㝭 14190,㝮 14191,㝯 14192,㝰 14193,㝱 14194,㝲 14195,㝳 14196,㝴 14197,㝵 14198,㝶 14199,㝷 14200,㝸 14201,㝹 14202,㝺 14203,㝻 14204,㝼 14205,㝽 14206,㝾 14207,㝿 14208,㞀 14209,㞁 14210,㞂 14211,㞃 14212,㞄 14213,㞅 14214,㞆 14215,㞇 14216,㞈 14217,㞉 14218,㞊 14219,㞋 14220,㞌 14221,㞍 14222,㞎 14223,㞏 14224,㞐 14225,㞑 14226,㞒 14227,㞓 14228,㞔 14229,㞕 14230,㞖 14231,㞗 14232,㞘 14233,㞙 14234,㞚 14235,㞛 14236,㞜 14237,㞝 14238,㞞 14239,㞟 14240,㞠 14241,㞡 14242,㞢 14243,㞣 14244,㞤 14245,㞥 14246,㞦 14247,㞧 14248,㞨 14249,㞩 14250,㞪 14251,㞫 14252,㞬 14253,㞭 14254,㞮 14255,㞯 14256,㞰 14257,㞱 14258,㞲 14259,㞳 14260,㞴 14261,㞵 14262,㞶 14263,㞷 14264,㞸 14265,㞹 14266,㞺 14267,㞻 14268,㞼 14269,㞽 14270,㞾 14271,㞿 14272,㟀 14273,㟁 14274,㟂 14275,㟃 14276,㟄 14277,㟅 14278,㟆 14279,㟇 14280,㟈 14281,㟉 14282,㟊 14283,㟋 14284,㟌 14285,㟍 14286,㟎 14287,㟏 14288,㟐 14289,㟑 14290,㟒 14291,㟓 14292,㟔 14293,㟕 14294,㟖 14295,㟗 14296,㟘 14297,㟙 14298,㟚 14299,㟛 14300,㟜 14301,㟝 14302,㟞 14303,㟟 14304,㟠 14305,㟡 14306,㟢 14307,㟣 14308,㟤 14309,㟥 14310,㟦 14311,㟧 14312,㟨 14313,㟩 14314,㟪 14315,㟫 14316,㟬 14317,㟭 14318,㟮 14319,㟯 14320,㟰 14321,㟱 14322,㟲 14323,㟳 14324,㟴 14325,㟵 14326,㟶 14327,㟷 14328,㟸 14329,㟹 14330,㟺 14331,㟻 14332,㟼 14333,㟽 14334,㟾 14335,㟿 14336,㠀 14337,㠁 14338,㠂 14339,㠃 14340,㠄 14341,㠅 14342,㠆 14343,㠇 14344,㠈 14345,㠉 14346,㠊 14347,㠋 14348,㠌 14349,㠍 14350,㠎 14351,㠏 14352,㠐 14353,㠑 14354,㠒 14355,㠓 14356,㠔 14357,㠕 14358,㠖 14359,㠗 14360,㠘 14361,㠙 14362,㠚 14363,㠛 14364,㠜 14365,㠝 14366,㠞 14367,㠟 14368,㠠 14369,㠡 14370,㠢 14371,㠣 14372,㠤 14373,㠥 14374,㠦 14375,㠧 14376,㠨 14377,㠩 14378,㠪 14379,㠫 14380,㠬 14381,㠭 14382,㠮 14383,㠯 14384,㠰 14385,㠱 14386,㠲 14387,㠳 14388,㠴 14389,㠵 14390,㠶 14391,㠷 14392,㠸 14393,㠹 14394,㠺 14395,㠻 14396,㠼 14397,㠽 14398,㠾 14399,㠿 14400,㡀 14401,㡁 14402,㡂 14403,㡃 14404,㡄 14405,㡅 14406,㡆 14407,㡇 14408,㡈 14409,㡉 14410,㡊 14411,㡋 14412,㡌 14413,㡍 14414,㡎 14415,㡏 14416,㡐 14417,㡑 14418,㡒 14419,㡓 14420,㡔 14421,㡕 14422,㡖 14423,㡗 14424,㡘 14425,㡙 14426,㡚 14427,㡛 14428,㡜 14429,㡝 14430,㡞 14431,㡟 14432,㡠 14433,㡡 14434,㡢 14435,㡣 14436,㡤 14437,㡥 14438,㡦 14439,㡧 14440,㡨 14441,㡩 14442,㡪 14443,㡫 14444,㡬 14445,㡭 14446,㡮 14447,㡯 14448,㡰 14449,㡱 14450,㡲 14451,㡳 14452,㡴 14453,㡵 14454,㡶 14455,㡷 14456,㡸 14457,㡹 14458,㡺 14459,㡻 14460,㡼 14461,㡽 14462,㡾 14463,㡿 14464,㢀 14465,㢁 14466,㢂 14467,㢃 14468,㢄 14469,㢅 14470,㢆 14471,㢇 14472,㢈 14473,㢉 14474,㢊 14475,㢋 14476,㢌 14477,㢍 14478,㢎 14479,㢏 14480,㢐 14481,㢑 14482,㢒 14483,㢓 14484,㢔 14485,㢕 14486,㢖 14487,㢗 14488,㢘 14489,㢙 14490,㢚 14491,㢛 14492,㢜 14493,㢝 14494,㢞 14495,㢟 14496,㢠 14497,㢡 14498,㢢 14499,㢣 14500,㢤 14501,㢥 14502,㢦 14503,㢧 14504,㢨 14505,㢩 14506,㢪 14507,㢫 14508,㢬 14509,㢭 14510,㢮 14511,㢯 14512,㢰 14513,㢱 14514,㢲 14515,㢳 14516,㢴 14517,㢵 14518,㢶 14519,㢷 14520,㢸 14521,㢹 14522,㢺 14523,㢻 14524,㢼 14525,㢽 14526,㢾 14527,㢿 14528,㣀 14529,㣁 14530,㣂 14531,㣃 14532,㣄 14533,㣅 14534,㣆 14535,㣇 14536,㣈 14537,㣉 14538,㣊 14539,㣋 14540,㣌 14541,㣍 14542,㣎 14543,㣏 14544,㣐 14545,㣑 14546,㣒 14547,㣓 14548,㣔 14549,㣕 14550,㣖 14551,㣗 14552,㣘 14553,㣙 14554,㣚 14555,㣛 14556,㣜 14557,㣝 14558,㣞 14559,㣟 14560,㣠 14561,㣡 14562,㣢 14563,㣣 14564,㣤 14565,㣥 14566,㣦 14567,㣧 14568,㣨 14569,㣩 14570,㣪 14571,㣫 14572,㣬 14573,㣭 14574,㣮 14575,㣯 14576,㣰 14577,㣱 14578,㣲 14579,㣳 14580,㣴 14581,㣵 14582,㣶 14583,㣷 14584,㣸 14585,㣹 14586,㣺 14587,㣻 14588,㣼 14589,㣽 14590,㣾 14591,㣿 14592,㤀 14593,㤁 14594,㤂 14595,㤃 14596,㤄 14597,㤅 14598,㤆 14599,㤇 14600,㤈 14601,㤉 14602,㤊 14603,㤋 14604,㤌 14605,㤍 14606,㤎 14607,㤏 14608,㤐 14609,㤑 14610,㤒 14611,㤓 14612,㤔 14613,㤕 14614,㤖 14615,㤗 14616,㤘 14617,㤙 14618,㤚 14619,㤛 14620,㤜 14621,㤝 14622,㤞 14623,㤟 14624,㤠 14625,㤡 14626,㤢 14627,㤣 14628,㤤 14629,㤥 14630,㤦 14631,㤧 14632,㤨 14633,㤩 14634,㤪 14635,㤫 14636,㤬 14637,㤭 14638,㤮 14639,㤯 14640,㤰 14641,㤱 14642,㤲 14643,㤳 14644,㤴 14645,㤵 14646,㤶 14647,㤷 14648,㤸 14649,㤹 14650,㤺 14651,㤻 14652,㤼 14653,㤽 14654,㤾 14655,㤿 14656,㥀 14657,㥁 14658,㥂 14659,㥃 14660,㥄 14661,㥅 14662,㥆 14663,㥇 14664,㥈 14665,㥉 14666,㥊 14667,㥋 14668,㥌 14669,㥍 14670,㥎 14671,㥏 14672,㥐 14673,㥑 14674,㥒 14675,㥓 14676,㥔 14677,㥕 14678,㥖 14679,㥗 14680,㥘 14681,㥙 14682,㥚 14683,㥛 14684,㥜 14685,㥝 14686,㥞 14687,㥟 14688,㥠 14689,㥡 14690,㥢 14691,㥣 14692,㥤 14693,㥥 14694,㥦 14695,㥧 14696,㥨 14697,㥩 14698,㥪 14699,㥫 14700,㥬 14701,㥭 14702,㥮 14703,㥯 14704,㥰 14705,㥱 14706,㥲 14707,㥳 14708,㥴 14709,㥵 14710,㥶 14711,㥷 14712,㥸 14713,㥹 14714,㥺 14715,㥻 14716,㥼 14717,㥽 14718,㥾 14719,㥿 14720,㦀 14721,㦁 14722,㦂 14723,㦃 14724,㦄 14725,㦅 14726,㦆 14727,㦇 14728,㦈 14729,㦉 14730,㦊 14731,㦋 14732,㦌 14733,㦍 14734,㦎 14735,㦏 14736,㦐 14737,㦑 14738,㦒 14739,㦓 14740,㦔 14741,㦕 14742,㦖 14743,㦗 14744,㦘 14745,㦙 14746,㦚 14747,㦛 14748,㦜 14749,㦝 14750,㦞 14751,㦟 14752,㦠 14753,㦡 14754,㦢 14755,㦣 14756,㦤 14757,㦥 14758,㦦 14759,㦧 14760,㦨 14761,㦩 14762,㦪 14763,㦫 14764,㦬 14765,㦭 14766,㦮 14767,㦯 14768,㦰 14769,㦱 14770,㦲 14771,㦳 14772,㦴 14773,㦵 14774,㦶 14775,㦷 14776,㦸 14777,㦹 14778,㦺 14779,㦻 14780,㦼 14781,㦽 14782,㦾 14783,㦿 14784,㧀 14785,㧁 14786,㧂 14787,㧃 14788,㧄 14789,㧅 14790,㧆 14791,㧇 14792,㧈 14793,㧉 14794,㧊 14795,㧋 14796,㧌 14797,㧍 14798,㧎 14799,㧏 14800,㧐 14801,㧑 14802,㧒 14803,㧓 14804,㧔 14805,㧕 14806,㧖 14807,㧗 14808,㧘 14809,㧙 14810,㧚 14811,㧛 14812,㧜 14813,㧝 14814,㧞 14815,㧟 14816,㧠 14817,㧡 14818,㧢 14819,㧣 14820,㧤 14821,㧥 14822,㧦 14823,㧧 14824,㧨 14825,㧩 14826,㧪 14827,㧫 14828,㧬 14829,㧭 14830,㧮 14831,㧯 14832,㧰 14833,㧱 14834,㧲 14835,㧳 14836,㧴 14837,㧵 14838,㧶 14839,㧷 14840,㧸 14841,㧹 14842,㧺 14843,㧻 14844,㧼 14845,㧽 14846,㧾 14847,㧿 14848,㨀 14849,㨁 14850,㨂 14851,㨃 14852,㨄 14853,㨅 14854,㨆 14855,㨇 14856,㨈 14857,㨉 14858,㨊 14859,㨋 14860,㨌 14861,㨍 14862,㨎 14863,㨏 14864,㨐 14865,㨑 14866,㨒 14867,㨓 14868,㨔 14869,㨕 14870,㨖 14871,㨗 14872,㨘 14873,㨙 14874,㨚 14875,㨛 14876,㨜 14877,㨝 14878,㨞 14879,㨟 14880,㨠 14881,㨡 14882,㨢 14883,㨣 14884,㨤 14885,㨥 14886,㨦 14887,㨧 14888,㨨 14889,㨩 14890,㨪 14891,㨫 14892,㨬 14893,㨭 14894,㨮 14895,㨯 14896,㨰 14897,㨱 14898,㨲 14899,㨳 14900,㨴 14901,㨵 14902,㨶 14903,㨷 14904,㨸 14905,㨹 14906,㨺 14907,㨻 14908,㨼 14909,㨽 14910,㨾 14911,㨿 14912,㩀 14913,㩁 14914,㩂 14915,㩃 14916,㩄 14917,㩅 14918,㩆 14919,㩇 14920,㩈 14921,㩉 14922,㩊 14923,㩋 14924,㩌 14925,㩍 14926,㩎 14927,㩏 14928,㩐 14929,㩑 14930,㩒 14931,㩓 14932,㩔 14933,㩕 14934,㩖 14935,㩗 14936,㩘 14937,㩙 14938,㩚 14939,㩛 14940,㩜 14941,㩝 14942,㩞 14943,㩟 14944,㩠 14945,㩡 14946,㩢 14947,㩣 14948,㩤 14949,㩥 14950,㩦 14951,㩧 14952,㩨 14953,㩩 14954,㩪 14955,㩫 14956,㩬 14957,㩭 14958,㩮 14959,㩯 14960,㩰 14961,㩱 14962,㩲 14963,㩳 14964,㩴 14965,㩵 14966,㩶 14967,㩷 14968,㩸 14969,㩹 14970,㩺 14971,㩻 14972,㩼 14973,㩽 14974,㩾 14975,㩿 14976,㪀 14977,㪁 14978,㪂 14979,㪃 14980,㪄 14981,㪅 14982,㪆 14983,㪇 14984,㪈 14985,㪉 14986,㪊 14987,㪋 14988,㪌 14989,㪍 14990,㪎 14991,㪏 14992,㪐 14993,㪑 14994,㪒 14995,㪓 14996,㪔 14997,㪕 14998,㪖 14999,㪗 15000,㪘 15001,㪙 15002,㪚 15003,㪛 15004,㪜 15005,㪝 15006,㪞 15007,㪟 15008,㪠 15009,㪡 15010,㪢 15011,㪣 15012,㪤 15013,㪥 15014,㪦 15015,㪧 15016,㪨 15017,㪩 15018,㪪 15019,㪫 15020,㪬 15021,㪭 15022,㪮 15023,㪯 15024,㪰 15025,㪱 15026,㪲 15027,㪳 15028,㪴 15029,㪵 15030,㪶 15031,㪷 15032,㪸 15033,㪹 15034,㪺 15035,㪻 15036,㪼 15037,㪽 15038,㪾 15039,㪿 15040,㫀 15041,㫁 15042,㫂 15043,㫃 15044,㫄 15045,㫅 15046,㫆 15047,㫇 15048,㫈 15049,㫉 15050,㫊 15051,㫋 15052,㫌 15053,㫍 15054,㫎 15055,㫏 15056,㫐 15057,㫑 15058,㫒 15059,㫓 15060,㫔 15061,㫕 15062,㫖 15063,㫗 15064,㫘 15065,㫙 15066,㫚 15067,㫛 15068,㫜 15069,㫝 15070,㫞 15071,㫟 15072,㫠 15073,㫡 15074,㫢 15075,㫣 15076,㫤 15077,㫥 15078,㫦 15079,㫧 15080,㫨 15081,㫩 15082,㫪 15083,㫫 15084,㫬 15085,㫭 15086,㫮 15087,㫯 15088,㫰 15089,㫱 15090,㫲 15091,㫳 15092,㫴 15093,㫵 15094,㫶 15095,㫷 15096,㫸 15097,㫹 15098,㫺 15099,㫻 15100,㫼 15101,㫽 15102,㫾 15103,㫿 15104,㬀 15105,㬁 15106,㬂 15107,㬃 15108,㬄 15109,㬅 15110,㬆 15111,㬇 15112,㬈 15113,㬉 15114,㬊 15115,㬋 15116,㬌 15117,㬍 15118,㬎 15119,㬏 15120,㬐 15121,㬑 15122,㬒 15123,㬓 15124,㬔 15125,㬕 15126,㬖 15127,㬗 15128,㬘 15129,㬙 15130,㬚 15131,㬛 15132,㬜 15133,㬝 15134,㬞 15135,㬟 15136,㬠 15137,㬡 15138,㬢 15139,㬣 15140,㬤 15141,㬥 15142,㬦 15143,㬧 15144,㬨 15145,㬩 15146,㬪 15147,㬫 15148,㬬 15149,㬭 15150,㬮 15151,㬯 15152,㬰 15153,㬱 15154,㬲 15155,㬳 15156,㬴 15157,㬵 15158,㬶 15159,㬷 15160,㬸 15161,㬹 15162,㬺 15163,㬻 15164,㬼 15165,㬽 15166,㬾 15167,㬿 15168,㭀 15169,㭁 15170,㭂 15171,㭃 15172,㭄 15173,㭅 15174,㭆 15175,㭇 15176,㭈 15177,㭉 15178,㭊 15179,㭋 15180,㭌 15181,㭍 15182,㭎 15183,㭏 15184,㭐 15185,㭑 15186,㭒 15187,㭓 15188,㭔 15189,㭕 15190,㭖 15191,㭗 15192,㭘 15193,㭙 15194,㭚 15195,㭛 15196,㭜 15197,㭝 15198,㭞 15199,㭟 15200,㭠 15201,㭡 15202,㭢 15203,㭣 15204,㭤 15205,㭥 15206,㭦 15207,㭧 15208,㭨 15209,㭩 15210,㭪 15211,㭫 15212,㭬 15213,㭭 15214,㭮 15215,㭯 15216,㭰 15217,㭱 15218,㭲 15219,㭳 15220,㭴 15221,㭵 15222,㭶 15223,㭷 15224,㭸 15225,㭹 15226,㭺 15227,㭻 15228,㭼 15229,㭽 15230,㭾 15231,㭿 15232,㮀 15233,㮁 15234,㮂 15235,㮃 15236,㮄 15237,㮅 15238,㮆 15239,㮇 15240,㮈 15241,㮉 15242,㮊 15243,㮋 15244,㮌 15245,㮍 15246,㮎 15247,㮏 15248,㮐 15249,㮑 15250,㮒 15251,㮓 15252,㮔 15253,㮕 15254,㮖 15255,㮗 15256,㮘 15257,㮙 15258,㮚 15259,㮛 15260,㮜 15261,㮝 15262,㮞 15263,㮟 15264,㮠 15265,㮡 15266,㮢 15267,㮣 15268,㮤 15269,㮥 15270,㮦 15271,㮧 15272,㮨 15273,㮩 15274,㮪 15275,㮫 15276,㮬 15277,㮭 15278,㮮 15279,㮯 15280,㮰 15281,㮱 15282,㮲 15283,㮳 15284,㮴 15285,㮵 15286,㮶 15287,㮷 15288,㮸 15289,㮹 15290,㮺 15291,㮻 15292,㮼 15293,㮽 15294,㮾 15295,㮿 15296,㯀 15297,㯁 15298,㯂 15299,㯃 15300,㯄 15301,㯅 15302,㯆 15303,㯇 15304,㯈 15305,㯉 15306,㯊 15307,㯋 15308,㯌 15309,㯍 15310,㯎 15311,㯏 15312,㯐 15313,㯑 15314,㯒 15315,㯓 15316,㯔 15317,㯕 15318,㯖 15319,㯗 15320,㯘 15321,㯙 15322,㯚 15323,㯛 15324,㯜 15325,㯝 15326,㯞 15327,㯟 15328,㯠 15329,㯡 15330,㯢 15331,㯣 15332,㯤 15333,㯥 15334,㯦 15335,㯧 15336,㯨 15337,㯩 15338,㯪 15339,㯫 15340,㯬 15341,㯭 15342,㯮 15343,㯯 15344,㯰 15345,㯱 15346,㯲 15347,㯳 15348,㯴 15349,㯵 15350,㯶 15351,㯷 15352,㯸 15353,㯹 15354,㯺 15355,㯻 15356,㯼 15357,㯽 15358,㯾 15359,㯿 15360,㰀 15361,㰁 15362,㰂 15363,㰃 15364,㰄 15365,㰅 15366,㰆 15367,㰇 15368,㰈 15369,㰉 15370,㰊 15371,㰋 15372,㰌 15373,㰍 15374,㰎 15375,㰏 15376,㰐 15377,㰑 15378,㰒 15379,㰓 15380,㰔 15381,㰕 15382,㰖 15383,㰗 15384,㰘 15385,㰙 15386,㰚 15387,㰛 15388,㰜 15389,㰝 15390,㰞 15391,㰟 15392,㰠 15393,㰡 15394,㰢 15395,㰣 15396,㰤 15397,㰥 15398,㰦 15399,㰧 15400,㰨 15401,㰩 15402,㰪 15403,㰫 15404,㰬 15405,㰭 15406,㰮 15407,㰯 15408,㰰 15409,㰱 15410,㰲 15411,㰳 15412,㰴 15413,㰵 15414,㰶 15415,㰷 15416,㰸 15417,㰹 15418,㰺 15419,㰻 15420,㰼 15421,㰽 15422,㰾 15423,㰿 15424,㱀 15425,㱁 15426,㱂 15427,㱃 15428,㱄 15429,㱅 15430,㱆 15431,㱇 15432,㱈 15433,㱉 15434,㱊 15435,㱋 15436,㱌 15437,㱍 15438,㱎 15439,㱏 15440,㱐 15441,㱑 15442,㱒 15443,㱓 15444,㱔 15445,㱕 15446,㱖 15447,㱗 15448,㱘 15449,㱙 15450,㱚 15451,㱛 15452,㱜 15453,㱝 15454,㱞 15455,㱟 15456,㱠 15457,㱡 15458,㱢 15459,㱣 15460,㱤 15461,㱥 15462,㱦 15463,㱧 15464,㱨 15465,㱩 15466,㱪 15467,㱫 15468,㱬 15469,㱭 15470,㱮 15471,㱯 15472,㱰 15473,㱱 15474,㱲 15475,㱳 15476,㱴 15477,㱵 15478,㱶 15479,㱷 15480,㱸 15481,㱹 15482,㱺 15483,㱻 15484,㱼 15485,㱽 15486,㱾 15487,㱿 15488,㲀 15489,㲁 15490,㲂 15491,㲃 15492,㲄 15493,㲅 15494,㲆 15495,㲇 15496,㲈 15497,㲉 15498,㲊 15499,㲋 15500,㲌 15501,㲍 15502,㲎 15503,㲏 15504,㲐 15505,㲑 15506,㲒 15507,㲓 15508,㲔 15509,㲕 15510,㲖 15511,㲗 15512,㲘 15513,㲙 15514,㲚 15515,㲛 15516,㲜 15517,㲝 15518,㲞 15519,㲟 15520,㲠 15521,㲡 15522,㲢 15523,㲣 15524,㲤 15525,㲥 15526,㲦 15527,㲧 15528,㲨 15529,㲩 15530,㲪 15531,㲫 15532,㲬 15533,㲭 15534,㲮 15535,㲯 15536,㲰 15537,㲱 15538,㲲 15539,㲳 15540,㲴 15541,㲵 15542,㲶 15543,㲷 15544,㲸 15545,㲹 15546,㲺 15547,㲻 15548,㲼 15549,㲽 15550,㲾 15551,㲿 15552,㳀 15553,㳁 15554,㳂 15555,㳃 15556,㳄 15557,㳅 15558,㳆 15559,㳇 15560,㳈 15561,㳉 15562,㳊 15563,㳋 15564,㳌 15565,㳍 15566,㳎 15567,㳏 15568,㳐 15569,㳑 15570,㳒 15571,㳓 15572,㳔 15573,㳕 15574,㳖 15575,㳗 15576,㳘 15577,㳙 15578,㳚 15579,㳛 15580,㳜 15581,㳝 15582,㳞 15583,㳟 15584,㳠 15585,㳡 15586,㳢 15587,㳣 15588,㳤 15589,㳥 15590,㳦 15591,㳧 15592,㳨 15593,㳩 15594,㳪 15595,㳫 15596,㳬 15597,㳭 15598,㳮 15599,㳯 15600,㳰 15601,㳱 15602,㳲 15603,㳳 15604,㳴 15605,㳵 15606,㳶 15607,㳷 15608,㳸 15609,㳹 15610,㳺 15611,㳻 15612,㳼 15613,㳽 15614,㳾 15615,㳿 15616,㴀 15617,㴁 15618,㴂 15619,㴃 15620,㴄 15621,㴅 15622,㴆 15623,㴇 15624,㴈 15625,㴉 15626,㴊 15627,㴋 15628,㴌 15629,㴍 15630,㴎 15631,㴏 15632,㴐 15633,㴑 15634,㴒 15635,㴓 15636,㴔 15637,㴕 15638,㴖 15639,㴗 15640,㴘 15641,㴙 15642,㴚 15643,㴛 15644,㴜 15645,㴝 15646,㴞 15647,㴟 15648,㴠 15649,㴡 15650,㴢 15651,㴣 15652,㴤 15653,㴥 15654,㴦 15655,㴧 15656,㴨 15657,㴩 15658,㴪 15659,㴫 15660,㴬 15661,㴭 15662,㴮 15663,㴯 15664,㴰 15665,㴱 15666,㴲 15667,㴳 15668,㴴 15669,㴵 15670,㴶 15671,㴷 15672,㴸 15673,㴹 15674,㴺 15675,㴻 15676,㴼 15677,㴽 15678,㴾 15679,㴿 15680,㵀 15681,㵁 15682,㵂 15683,㵃 15684,㵄 15685,㵅 15686,㵆 15687,㵇 15688,㵈 15689,㵉 15690,㵊 15691,㵋 15692,㵌 15693,㵍 15694,㵎 15695,㵏 15696,㵐 15697,㵑 15698,㵒 15699,㵓 15700,㵔 15701,㵕 15702,㵖 15703,㵗 15704,㵘 15705,㵙 15706,㵚 15707,㵛 15708,㵜 15709,㵝 15710,㵞 15711,㵟 15712,㵠 15713,㵡 15714,㵢 15715,㵣 15716,㵤 15717,㵥 15718,㵦 15719,㵧 15720,㵨 15721,㵩 15722,㵪 15723,㵫 15724,㵬 15725,㵭 15726,㵮 15727,㵯 15728,㵰 15729,㵱 15730,㵲 15731,㵳 15732,㵴 15733,㵵 15734,㵶 15735,㵷 15736,㵸 15737,㵹 15738,㵺 15739,㵻 15740,㵼 15741,㵽 15742,㵾 15743,㵿 15744,㶀 15745,㶁 15746,㶂 15747,㶃 15748,㶄 15749,㶅 15750,㶆 15751,㶇 15752,㶈 15753,㶉 15754,㶊 15755,㶋 15756,㶌 15757,㶍 15758,㶎 15759,㶏 15760,㶐 15761,㶑 15762,㶒 15763,㶓 15764,㶔 15765,㶕 15766,㶖 15767,㶗 15768,㶘 15769,㶙 15770,㶚 15771,㶛 15772,㶜 15773,㶝 15774,㶞 15775,㶟 15776,㶠 15777,㶡 15778,㶢 15779,㶣 15780,㶤 15781,㶥 15782,㶦 15783,㶧 15784,㶨 15785,㶩 15786,㶪 15787,㶫 15788,㶬 15789,㶭 15790,㶮 15791,㶯 15792,㶰 15793,㶱 15794,㶲 15795,㶳 15796,㶴 15797,㶵 15798,㶶 15799,㶷 15800,㶸 15801,㶹 15802,㶺 15803,㶻 15804,㶼 15805,㶽 15806,㶾 15807,㶿 15808,㷀 15809,㷁 15810,㷂 15811,㷃 15812,㷄 15813,㷅 15814,㷆 15815,㷇 15816,㷈 15817,㷉 15818,㷊 15819,㷋 15820,㷌 15821,㷍 15822,㷎 15823,㷏 15824,㷐 15825,㷑 15826,㷒 15827,㷓 15828,㷔 15829,㷕 15830,㷖 15831,㷗 15832,㷘 15833,㷙 15834,㷚 15835,㷛 15836,㷜 15837,㷝 15838,㷞 15839,㷟 15840,㷠 15841,㷡 15842,㷢 15843,㷣 15844,㷤 15845,㷥 15846,㷦 15847,㷧 15848,㷨 15849,㷩 15850,㷪 15851,㷫 15852,㷬 15853,㷭 15854,㷮 15855,㷯 15856,㷰 15857,㷱 15858,㷲 15859,㷳 15860,㷴 15861,㷵 15862,㷶 15863,㷷 15864,㷸 15865,㷹 15866,㷺 15867,㷻 15868,㷼 15869,㷽 15870,㷾 15871,㷿 15872,㸀 15873,㸁 15874,㸂 15875,㸃 15876,㸄 15877,㸅 15878,㸆 15879,㸇 15880,㸈 15881,㸉 15882,㸊 15883,㸋 15884,㸌 15885,㸍 15886,㸎 15887,㸏 15888,㸐 15889,㸑 15890,㸒 15891,㸓 15892,㸔 15893,㸕 15894,㸖 15895,㸗 15896,㸘 15897,㸙 15898,㸚 15899,㸛 15900,㸜 15901,㸝 15902,㸞 15903,㸟 15904,㸠 15905,㸡 15906,㸢 15907,㸣 15908,㸤 15909,㸥 15910,㸦 15911,㸧 15912,㸨 15913,㸩 15914,㸪 15915,㸫 15916,㸬 15917,㸭 15918,㸮 15919,㸯 15920,㸰 15921,㸱 15922,㸲 15923,㸳 15924,㸴 15925,㸵 15926,㸶 15927,㸷 15928,㸸 15929,㸹 15930,㸺 15931,㸻 15932,㸼 15933,㸽 15934,㸾 15935,㸿 15936,㹀 15937,㹁 15938,㹂 15939,㹃 15940,㹄 15941,㹅 15942,㹆 15943,㹇 15944,㹈 15945,㹉 15946,㹊 15947,㹋 15948,㹌 15949,㹍 15950,㹎 15951,㹏 15952,㹐 15953,㹑 15954,㹒 15955,㹓 15956,㹔 15957,㹕 15958,㹖 15959,㹗 15960,㹘 15961,㹙 15962,㹚 15963,㹛 15964,㹜 15965,㹝 15966,㹞 15967,㹟 15968,㹠 15969,㹡 15970,㹢 15971,㹣 15972,㹤 15973,㹥 15974,㹦 15975,㹧 15976,㹨 15977,㹩 15978,㹪 15979,㹫 15980,㹬 15981,㹭 15982,㹮 15983,㹯 15984,㹰 15985,㹱 15986,㹲 15987,㹳 15988,㹴 15989,㹵 15990,㹶 15991,㹷 15992,㹸 15993,㹹 15994,㹺 15995,㹻 15996,㹼 15997,㹽 15998,㹾 15999,㹿 16000,㺀 16001,㺁 16002,㺂 16003,㺃 16004,㺄 16005,㺅 16006,㺆 16007,㺇 16008,㺈 16009,㺉 16010,㺊 16011,㺋 16012,㺌 16013,㺍 16014,㺎 16015,㺏 16016,㺐 16017,㺑 16018,㺒 16019,㺓 16020,㺔 16021,㺕 16022,㺖 16023,㺗 16024,㺘 16025,㺙 16026,㺚 16027,㺛 16028,㺜 16029,㺝 16030,㺞 16031,㺟 16032,㺠 16033,㺡 16034,㺢 16035,㺣 16036,㺤 16037,㺥 16038,㺦 16039,㺧 16040,㺨 16041,㺩 16042,㺪 16043,㺫 16044,㺬 16045,㺭 16046,㺮 16047,㺯 16048,㺰 16049,㺱 16050,㺲 16051,㺳 16052,㺴 16053,㺵 16054,㺶 16055,㺷 16056,㺸 16057,㺹 16058,㺺 16059,㺻 16060,㺼 16061,㺽 16062,㺾 16063,㺿 16064,㻀 16065,㻁 16066,㻂 16067,㻃 16068,㻄 16069,㻅 16070,㻆 16071,㻇 16072,㻈 16073,㻉 16074,㻊 16075,㻋 16076,㻌 16077,㻍 16078,㻎 16079,㻏 16080,㻐 16081,㻑 16082,㻒 16083,㻓 16084,㻔 16085,㻕 16086,㻖 16087,㻗 16088,㻘 16089,㻙 16090,㻚 16091,㻛 16092,㻜 16093,㻝 16094,㻞 16095,㻟 16096,㻠 16097,㻡 16098,㻢 16099,㻣 16100,㻤 16101,㻥 16102,㻦 16103,㻧 16104,㻨 16105,㻩 16106,㻪 16107,㻫 16108,㻬 16109,㻭 16110,㻮 16111,㻯 16112,㻰 16113,㻱 16114,㻲 16115,㻳 16116,㻴 16117,㻵 16118,㻶 16119,㻷 16120,㻸 16121,㻹 16122,㻺 16123,㻻 16124,㻼 16125,㻽 16126,㻾 16127,㻿 16128,㼀 16129,㼁 16130,㼂 16131,㼃 16132,㼄 16133,㼅 16134,㼆 16135,㼇 16136,㼈 16137,㼉 16138,㼊 16139,㼋 16140,㼌 16141,㼍 16142,㼎 16143,㼏 16144,㼐 16145,㼑 16146,㼒 16147,㼓 16148,㼔 16149,㼕 16150,㼖 16151,㼗 16152,㼘 16153,㼙 16154,㼚 16155,㼛 16156,㼜 16157,㼝 16158,㼞 16159,㼟 16160,㼠 16161,㼡 16162,㼢 16163,㼣 16164,㼤 16165,㼥 16166,㼦 16167,㼧 16168,㼨 16169,㼩 16170,㼪 16171,㼫 16172,㼬 16173,㼭 16174,㼮 16175,㼯 16176,㼰 16177,㼱 16178,㼲 16179,㼳 16180,㼴 16181,㼵 16182,㼶 16183,㼷 16184,㼸 16185,㼹 16186,㼺 16187,㼻 16188,㼼 16189,㼽 16190,㼾 16191,㼿 16192,㽀 16193,㽁 16194,㽂 16195,㽃 16196,㽄 16197,㽅 16198,㽆 16199,㽇 16200,㽈 16201,㽉 16202,㽊 16203,㽋 16204,㽌 16205,㽍 16206,㽎 16207,㽏 16208,㽐 16209,㽑 16210,㽒 16211,㽓 16212,㽔 16213,㽕 16214,㽖 16215,㽗 16216,㽘 16217,㽙 16218,㽚 16219,㽛 16220,㽜 16221,㽝 16222,㽞 16223,㽟 16224,㽠 16225,㽡 16226,㽢 16227,㽣 16228,㽤 16229,㽥 16230,㽦 16231,㽧 16232,㽨 16233,㽩 16234,㽪 16235,㽫 16236,㽬 16237,㽭 16238,㽮 16239,㽯 16240,㽰 16241,㽱 16242,㽲 16243,㽳 16244,㽴 16245,㽵 16246,㽶 16247,㽷 16248,㽸 16249,㽹 16250,㽺 16251,㽻 16252,㽼 16253,㽽 16254,㽾 16255,㽿 16256,㾀 16257,㾁 16258,㾂 16259,㾃 16260,㾄 16261,㾅 16262,㾆 16263,㾇 16264,㾈 16265,㾉 16266,㾊 16267,㾋 16268,㾌 16269,㾍 16270,㾎 16271,㾏 16272,㾐 16273,㾑 16274,㾒 16275,㾓 16276,㾔 16277,㾕 16278,㾖 16279,㾗 16280,㾘 16281,㾙 16282,㾚 16283,㾛 16284,㾜 16285,㾝 16286,㾞 16287,㾟 16288,㾠 16289,㾡 16290,㾢 16291,㾣 16292,㾤 16293,㾥 16294,㾦 16295,㾧 16296,㾨 16297,㾩 16298,㾪 16299,㾫 16300,㾬 16301,㾭 16302,㾮 16303,㾯 16304,㾰 16305,㾱 16306,㾲 16307,㾳 16308,㾴 16309,㾵 16310,㾶 16311,㾷 16312,㾸 16313,㾹 16314,㾺 16315,㾻 16316,㾼 16317,㾽 16318,㾾 16319,㾿 16320,㿀 16321,㿁 16322,㿂 16323,㿃 16324,㿄 16325,㿅 16326,㿆 16327,㿇 16328,㿈 16329,㿉 16330,㿊 16331,㿋 16332,㿌 16333,㿍 16334,㿎 16335,㿏 16336,㿐 16337,㿑 16338,㿒 16339,㿓 16340,㿔 16341,㿕 16342,㿖 16343,㿗 16344,㿘 16345,㿙 16346,㿚 16347,㿛 16348,㿜 16349,㿝 16350,㿞 16351,㿟 16352,㿠 16353,㿡 16354,㿢 16355,㿣 16356,㿤 16357,㿥 16358,㿦 16359,㿧 16360,㿨 16361,㿩 16362,㿪 16363,㿫 16364,㿬 16365,㿭 16366,㿮 16367,㿯 16368,㿰 16369,㿱 16370,㿲 16371,㿳 16372,㿴 16373,㿵 16374,㿶 16375,㿷 16376,㿸 16377,㿹 16378,㿺 16379,㿻 16380,㿼 16381,㿽 16382,㿾 16383,㿿 16384,䀀 16385,䀁 16386,䀂 16387,䀃 16388,䀄 16389,䀅 16390,䀆 16391,䀇 16392,䀈 16393,䀉 16394,䀊 16395,䀋 16396,䀌 16397,䀍 16398,䀎 16399,䀏 16400,䀐 16401,䀑 16402,䀒 16403,䀓 16404,䀔 16405,䀕 16406,䀖 16407,䀗 16408,䀘 16409,䀙 16410,䀚 16411,䀛 16412,䀜 16413,䀝 16414,䀞 16415,䀟 16416,䀠 16417,䀡 16418,䀢 16419,䀣 16420,䀤 16421,䀥 16422,䀦 16423,䀧 16424,䀨 16425,䀩 16426,䀪 16427,䀫 16428,䀬 16429,䀭 16430,䀮 16431,䀯 16432,䀰 16433,䀱 16434,䀲 16435,䀳 16436,䀴 16437,䀵 16438,䀶 16439,䀷 16440,䀸 16441,䀹 16442,䀺 16443,䀻 16444,䀼 16445,䀽 16446,䀾 16447,䀿 16448,䁀 16449,䁁 16450,䁂 16451,䁃 16452,䁄 16453,䁅 16454,䁆 16455,䁇 16456,䁈 16457,䁉 16458,䁊 16459,䁋 16460,䁌 16461,䁍 16462,䁎 16463,䁏 16464,䁐 16465,䁑 16466,䁒 16467,䁓 16468,䁔 16469,䁕 16470,䁖 16471,䁗 16472,䁘 16473,䁙 16474,䁚 16475,䁛 16476,䁜 16477,䁝 16478,䁞 16479,䁟 16480,䁠 16481,䁡 16482,䁢 16483,䁣 16484,䁤 16485,䁥 16486,䁦 16487,䁧 16488,䁨 16489,䁩 16490,䁪 16491,䁫 16492,䁬 16493,䁭 16494,䁮 16495,䁯 16496,䁰 16497,䁱 16498,䁲 16499,䁳 16500,䁴 16501,䁵 16502,䁶 16503,䁷 16504,䁸 16505,䁹 16506,䁺 16507,䁻 16508,䁼 16509,䁽 16510,䁾 16511,䁿 16512,䂀 16513,䂁 16514,䂂 16515,䂃 16516,䂄 16517,䂅 16518,䂆 16519,䂇 16520,䂈 16521,䂉 16522,䂊 16523,䂋 16524,䂌 16525,䂍 16526,䂎 16527,䂏 16528,䂐 16529,䂑 16530,䂒 16531,䂓 16532,䂔 16533,䂕 16534,䂖 16535,䂗 16536,䂘 16537,䂙 16538,䂚 16539,䂛 16540,䂜 16541,䂝 16542,䂞 16543,䂟 16544,䂠 16545,䂡 16546,䂢 16547,䂣 16548,䂤 16549,䂥 16550,䂦 16551,䂧 16552,䂨 16553,䂩 16554,䂪 16555,䂫 16556,䂬 16557,䂭 16558,䂮 16559,䂯 16560,䂰 16561,䂱 16562,䂲 16563,䂳 16564,䂴 16565,䂵 16566,䂶 16567,䂷 16568,䂸 16569,䂹 16570,䂺 16571,䂻 16572,䂼 16573,䂽 16574,䂾 16575,䂿 16576,䃀 16577,䃁 16578,䃂 16579,䃃 16580,䃄 16581,䃅 16582,䃆 16583,䃇 16584,䃈 16585,䃉 16586,䃊 16587,䃋 16588,䃌 16589,䃍 16590,䃎 16591,䃏 16592,䃐 16593,䃑 16594,䃒 16595,䃓 16596,䃔 16597,䃕 16598,䃖 16599,䃗 16600,䃘 16601,䃙 16602,䃚 16603,䃛 16604,䃜 16605,䃝 16606,䃞 16607,䃟 16608,䃠 16609,䃡 16610,䃢 16611,䃣 16612,䃤 16613,䃥 16614,䃦 16615,䃧 16616,䃨 16617,䃩 16618,䃪 16619,䃫 16620,䃬 16621,䃭 16622,䃮 16623,䃯 16624,䃰 16625,䃱 16626,䃲 16627,䃳 16628,䃴 16629,䃵 16630,䃶 16631,䃷 16632,䃸 16633,䃹 16634,䃺 16635,䃻 16636,䃼 16637,䃽 16638,䃾 16639,䃿 16640,䄀 16641,䄁 16642,䄂 16643,䄃 16644,䄄 16645,䄅 16646,䄆 16647,䄇 16648,䄈 16649,䄉 16650,䄊 16651,䄋 16652,䄌 16653,䄍 16654,䄎 16655,䄏 16656,䄐 16657,䄑 16658,䄒 16659,䄓 16660,䄔 16661,䄕 16662,䄖 16663,䄗 16664,䄘 16665,䄙 16666,䄚 16667,䄛 16668,䄜 16669,䄝 16670,䄞 16671,䄟 16672,䄠 16673,䄡 16674,䄢 16675,䄣 16676,䄤 16677,䄥 16678,䄦 16679,䄧 16680,䄨 16681,䄩 16682,䄪 16683,䄫 16684,䄬 16685,䄭 16686,䄮 16687,䄯 16688,䄰 16689,䄱 16690,䄲 16691,䄳 16692,䄴 16693,䄵 16694,䄶 16695,䄷 16696,䄸 16697,䄹 16698,䄺 16699,䄻 16700,䄼 16701,䄽 16702,䄾 16703,䄿 16704,䅀 16705,䅁 16706,䅂 16707,䅃 16708,䅄 16709,䅅 16710,䅆 16711,䅇 16712,䅈 16713,䅉 16714,䅊 16715,䅋 16716,䅌 16717,䅍 16718,䅎 16719,䅏 16720,䅐 16721,䅑 16722,䅒 16723,䅓 16724,䅔 16725,䅕 16726,䅖 16727,䅗 16728,䅘 16729,䅙 16730,䅚 16731,䅛 16732,䅜 16733,䅝 16734,䅞 16735,䅟 16736,䅠 16737,䅡 16738,䅢 16739,䅣 16740,䅤 16741,䅥 16742,䅦 16743,䅧 16744,䅨 16745,䅩 16746,䅪 16747,䅫 16748,䅬 16749,䅭 16750,䅮 16751,䅯 16752,䅰 16753,䅱 16754,䅲 16755,䅳 16756,䅴 16757,䅵 16758,䅶 16759,䅷 16760,䅸 16761,䅹 16762,䅺 16763,䅻 16764,䅼 16765,䅽 16766,䅾 16767,䅿 16768,䆀 16769,䆁 16770,䆂 16771,䆃 16772,䆄 16773,䆅 16774,䆆 16775,䆇 16776,䆈 16777,䆉 16778,䆊 16779,䆋 16780,䆌 16781,䆍 16782,䆎 16783,䆏 16784,䆐 16785,䆑 16786,䆒 16787,䆓 16788,䆔 16789,䆕 16790,䆖 16791,䆗 16792,䆘 16793,䆙 16794,䆚 16795,䆛 16796,䆜 16797,䆝 16798,䆞 16799,䆟 16800,䆠 16801,䆡 16802,䆢 16803,䆣 16804,䆤 16805,䆥 16806,䆦 16807,䆧 16808,䆨 16809,䆩 16810,䆪 16811,䆫 16812,䆬 16813,䆭 16814,䆮 16815,䆯 16816,䆰 16817,䆱 16818,䆲 16819,䆳 16820,䆴 16821,䆵 16822,䆶 16823,䆷 16824,䆸 16825,䆹 16826,䆺 16827,䆻 16828,䆼 16829,䆽 16830,䆾 16831,䆿 16832,䇀 16833,䇁 16834,䇂 16835,䇃 16836,䇄 16837,䇅 16838,䇆 16839,䇇 16840,䇈 16841,䇉 16842,䇊 16843,䇋 16844,䇌 16845,䇍 16846,䇎 16847,䇏 16848,䇐 16849,䇑 16850,䇒 16851,䇓 16852,䇔 16853,䇕 16854,䇖 16855,䇗 16856,䇘 16857,䇙 16858,䇚 16859,䇛 16860,䇜 16861,䇝 16862,䇞 16863,䇟 16864,䇠 16865,䇡 16866,䇢 16867,䇣 16868,䇤 16869,䇥 16870,䇦 16871,䇧 16872,䇨 16873,䇩 16874,䇪 16875,䇫 16876,䇬 16877,䇭 16878,䇮 16879,䇯 16880,䇰 16881,䇱 16882,䇲 16883,䇳 16884,䇴 16885,䇵 16886,䇶 16887,䇷 16888,䇸 16889,䇹 16890,䇺 16891,䇻 16892,䇼 16893,䇽 16894,䇾 16895,䇿 16896,䈀 16897,䈁 16898,䈂 16899,䈃 16900,䈄 16901,䈅 16902,䈆 16903,䈇 16904,䈈 16905,䈉 16906,䈊 16907,䈋 16908,䈌 16909,䈍 16910,䈎 16911,䈏 16912,䈐 16913,䈑 16914,䈒 16915,䈓 16916,䈔 16917,䈕 16918,䈖 16919,䈗 16920,䈘 16921,䈙 16922,䈚 16923,䈛 16924,䈜 16925,䈝 16926,䈞 16927,䈟 16928,䈠 16929,䈡 16930,䈢 16931,䈣 16932,䈤 16933,䈥 16934,䈦 16935,䈧 16936,䈨 16937,䈩 16938,䈪 16939,䈫 16940,䈬 16941,䈭 16942,䈮 16943,䈯 16944,䈰 16945,䈱 16946,䈲 16947,䈳 16948,䈴 16949,䈵 16950,䈶 16951,䈷 16952,䈸 16953,䈹 16954,䈺 16955,䈻 16956,䈼 16957,䈽 16958,䈾 16959,䈿 16960,䉀 16961,䉁 16962,䉂 16963,䉃 16964,䉄 16965,䉅 16966,䉆 16967,䉇 16968,䉈 16969,䉉 16970,䉊 16971,䉋 16972,䉌 16973,䉍 16974,䉎 16975,䉏 16976,䉐 16977,䉑 16978,䉒 16979,䉓 16980,䉔 16981,䉕 16982,䉖 16983,䉗 16984,䉘 16985,䉙 16986,䉚 16987,䉛 16988,䉜 16989,䉝 16990,䉞 16991,䉟 16992,䉠 16993,䉡 16994,䉢 16995,䉣 16996,䉤 16997,䉥 16998,䉦 16999,䉧 17000,䉨 17001,䉩 17002,䉪 17003,䉫 17004,䉬 17005,䉭 17006,䉮 17007,䉯 17008,䉰 17009,䉱 17010,䉲 17011,䉳 17012,䉴 17013,䉵 17014,䉶 17015,䉷 17016,䉸 17017,䉹 17018,䉺 17019,䉻 17020,䉼 17021,䉽 17022,䉾 17023,䉿 17024,䊀 17025,䊁 17026,䊂 17027,䊃 17028,䊄 17029,䊅 17030,䊆 17031,䊇 17032,䊈 17033,䊉 17034,䊊 17035,䊋 17036,䊌 17037,䊍 17038,䊎 17039,䊏 17040,䊐 17041,䊑 17042,䊒 17043,䊓 17044,䊔 17045,䊕 17046,䊖 17047,䊗 17048,䊘 17049,䊙 17050,䊚 17051,䊛 17052,䊜 17053,䊝 17054,䊞 17055,䊟 17056,䊠 17057,䊡 17058,䊢 17059,䊣 17060,䊤 17061,䊥 17062,䊦 17063,䊧 17064,䊨 17065,䊩 17066,䊪 17067,䊫 17068,䊬 17069,䊭 17070,䊮 17071,䊯 17072,䊰 17073,䊱 17074,䊲 17075,䊳 17076,䊴 17077,䊵 17078,䊶 17079,䊷 17080,䊸 17081,䊹 17082,䊺 17083,䊻 17084,䊼 17085,䊽 17086,䊾 17087,䊿 17088,䋀 17089,䋁 17090,䋂 17091,䋃 17092,䋄 17093,䋅 17094,䋆 17095,䋇 17096,䋈 17097,䋉 17098,䋊 17099,䋋 17100,䋌 17101,䋍 17102,䋎 17103,䋏 17104,䋐 17105,䋑 17106,䋒 17107,䋓 17108,䋔 17109,䋕 17110,䋖 17111,䋗 17112,䋘 17113,䋙 17114,䋚 17115,䋛 17116,䋜 17117,䋝 17118,䋞 17119,䋟 17120,䋠 17121,䋡 17122,䋢 17123,䋣 17124,䋤 17125,䋥 17126,䋦 17127,䋧 17128,䋨 17129,䋩 17130,䋪 17131,䋫 17132,䋬 17133,䋭 17134,䋮 17135,䋯 17136,䋰 17137,䋱 17138,䋲 17139,䋳 17140,䋴 17141,䋵 17142,䋶 17143,䋷 17144,䋸 17145,䋹 17146,䋺 17147,䋻 17148,䋼 17149,䋽 17150,䋾 17151,䋿 17152,䌀 17153,䌁 17154,䌂 17155,䌃 17156,䌄 17157,䌅 17158,䌆 17159,䌇 17160,䌈 17161,䌉 17162,䌊 17163,䌋 17164,䌌 17165,䌍 17166,䌎 17167,䌏 17168,䌐 17169,䌑 17170,䌒 17171,䌓 17172,䌔 17173,䌕 17174,䌖 17175,䌗 17176,䌘 17177,䌙 17178,䌚 17179,䌛 17180,䌜 17181,䌝 17182,䌞 17183,䌟 17184,䌠 17185,䌡 17186,䌢 17187,䌣 17188,䌤 17189,䌥 17190,䌦 17191,䌧 17192,䌨 17193,䌩 17194,䌪 17195,䌫 17196,䌬 17197,䌭 17198,䌮 17199,䌯 17200,䌰 17201,䌱 17202,䌲 17203,䌳 17204,䌴 17205,䌵 17206,䌶 17207,䌷 17208,䌸 17209,䌹 17210,䌺 17211,䌻 17212,䌼 17213,䌽 17214,䌾 17215,䌿 17216,䍀 17217,䍁 17218,䍂 17219,䍃 17220,䍄 17221,䍅 17222,䍆 17223,䍇 17224,䍈 17225,䍉 17226,䍊 17227,䍋 17228,䍌 17229,䍍 17230,䍎 17231,䍏 17232,䍐 17233,䍑 17234,䍒 17235,䍓 17236,䍔 17237,䍕 17238,䍖 17239,䍗 17240,䍘 17241,䍙 17242,䍚 17243,䍛 17244,䍜 17245,䍝 17246,䍞 17247,䍟 17248,䍠 17249,䍡 17250,䍢 17251,䍣 17252,䍤 17253,䍥 17254,䍦 17255,䍧 17256,䍨 17257,䍩 17258,䍪 17259,䍫 17260,䍬 17261,䍭 17262,䍮 17263,䍯 17264,䍰 17265,䍱 17266,䍲 17267,䍳 17268,䍴 17269,䍵 17270,䍶 17271,䍷 17272,䍸 17273,䍹 17274,䍺 17275,䍻 17276,䍼 17277,䍽 17278,䍾 17279,䍿 17280,䎀 17281,䎁 17282,䎂 17283,䎃 17284,䎄 17285,䎅 17286,䎆 17287,䎇 17288,䎈 17289,䎉 17290,䎊 17291,䎋 17292,䎌 17293,䎍 17294,䎎 17295,䎏 17296,䎐 17297,䎑 17298,䎒 17299,䎓 17300,䎔 17301,䎕 17302,䎖 17303,䎗 17304,䎘 17305,䎙 17306,䎚 17307,䎛 17308,䎜 17309,䎝 17310,䎞 17311,䎟 17312,䎠 17313,䎡 17314,䎢 17315,䎣 17316,䎤 17317,䎥 17318,䎦 17319,䎧 17320,䎨 17321,䎩 17322,䎪 17323,䎫 17324,䎬 17325,䎭 17326,䎮 17327,䎯 17328,䎰 17329,䎱 17330,䎲 17331,䎳 17332,䎴 17333,䎵 17334,䎶 17335,䎷 17336,䎸 17337,䎹 17338,䎺 17339,䎻 17340,䎼 17341,䎽 17342,䎾 17343,䎿 17344,䏀 17345,䏁 17346,䏂 17347,䏃 17348,䏄 17349,䏅 17350,䏆 17351,䏇 17352,䏈 17353,䏉 17354,䏊 17355,䏋 17356,䏌 17357,䏍 17358,䏎 17359,䏏 17360,䏐 17361,䏑 17362,䏒 17363,䏓 17364,䏔 17365,䏕 17366,䏖 17367,䏗 17368,䏘 17369,䏙 17370,䏚 17371,䏛 17372,䏜 17373,䏝 17374,䏞 17375,䏟 17376,䏠 17377,䏡 17378,䏢 17379,䏣 17380,䏤 17381,䏥 17382,䏦 17383,䏧 17384,䏨 17385,䏩 17386,䏪 17387,䏫 17388,䏬 17389,䏭 17390,䏮 17391,䏯 17392,䏰 17393,䏱 17394,䏲 17395,䏳 17396,䏴 17397,䏵 17398,䏶 17399,䏷 17400,䏸 17401,䏹 17402,䏺 17403,䏻 17404,䏼 17405,䏽 17406,䏾 17407,䏿 17408,䐀 17409,䐁 17410,䐂 17411,䐃 17412,䐄 17413,䐅 17414,䐆 17415,䐇 17416,䐈 17417,䐉 17418,䐊 17419,䐋 17420,䐌 17421,䐍 17422,䐎 17423,䐏 17424,䐐 17425,䐑 17426,䐒 17427,䐓 17428,䐔 17429,䐕 17430,䐖 17431,䐗 17432,䐘 17433,䐙 17434,䐚 17435,䐛 17436,䐜 17437,䐝 17438,䐞 17439,䐟 17440,䐠 17441,䐡 17442,䐢 17443,䐣 17444,䐤 17445,䐥 17446,䐦 17447,䐧 17448,䐨 17449,䐩 17450,䐪 17451,䐫 17452,䐬 17453,䐭 17454,䐮 17455,䐯 17456,䐰 17457,䐱 17458,䐲 17459,䐳 17460,䐴 17461,䐵 17462,䐶 17463,䐷 17464,䐸 17465,䐹 17466,䐺 17467,䐻 17468,䐼 17469,䐽 17470,䐾 17471,䐿 17472,䑀 17473,䑁 17474,䑂 17475,䑃 17476,䑄 17477,䑅 17478,䑆 17479,䑇 17480,䑈 17481,䑉 17482,䑊 17483,䑋 17484,䑌 17485,䑍 17486,䑎 17487,䑏 17488,䑐 17489,䑑 17490,䑒 17491,䑓 17492,䑔 17493,䑕 17494,䑖 17495,䑗 17496,䑘 17497,䑙 17498,䑚 17499,䑛 17500,䑜 17501,䑝 17502,䑞 17503,䑟 17504,䑠 17505,䑡 17506,䑢 17507,䑣 17508,䑤 17509,䑥 17510,䑦 17511,䑧 17512,䑨 17513,䑩 17514,䑪 17515,䑫 17516,䑬 17517,䑭 17518,䑮 17519,䑯 17520,䑰 17521,䑱 17522,䑲 17523,䑳 17524,䑴 17525,䑵 17526,䑶 17527,䑷 17528,䑸 17529,䑹 17530,䑺 17531,䑻 17532,䑼 17533,䑽 17534,䑾 17535,䑿 17536,䒀 17537,䒁 17538,䒂 17539,䒃 17540,䒄 17541,䒅 17542,䒆 17543,䒇 17544,䒈 17545,䒉 17546,䒊 17547,䒋 17548,䒌 17549,䒍 17550,䒎 17551,䒏 17552,䒐 17553,䒑 17554,䒒 17555,䒓 17556,䒔 17557,䒕 17558,䒖 17559,䒗 17560,䒘 17561,䒙 17562,䒚 17563,䒛 17564,䒜 17565,䒝 17566,䒞 17567,䒟 17568,䒠 17569,䒡 17570,䒢 17571,䒣 17572,䒤 17573,䒥 17574,䒦 17575,䒧 17576,䒨 17577,䒩 17578,䒪 17579,䒫 17580,䒬 17581,䒭 17582,䒮 17583,䒯 17584,䒰 17585,䒱 17586,䒲 17587,䒳 17588,䒴 17589,䒵 17590,䒶 17591,䒷 17592,䒸 17593,䒹 17594,䒺 17595,䒻 17596,䒼 17597,䒽 17598,䒾 17599,䒿 17600,䓀 17601,䓁 17602,䓂 17603,䓃 17604,䓄 17605,䓅 17606,䓆 17607,䓇 17608,䓈 17609,䓉 17610,䓊 17611,䓋 17612,䓌 17613,䓍 17614,䓎 17615,䓏 17616,䓐 17617,䓑 17618,䓒 17619,䓓 17620,䓔 17621,䓕 17622,䓖 17623,䓗 17624,䓘 17625,䓙 17626,䓚 17627,䓛 17628,䓜 17629,䓝 17630,䓞 17631,䓟 17632,䓠 17633,䓡 17634,䓢 17635,䓣 17636,䓤 17637,䓥 17638,䓦 17639,䓧 17640,䓨 17641,䓩 17642,䓪 17643,䓫 17644,䓬 17645,䓭 17646,䓮 17647,䓯 17648,䓰 17649,䓱 17650,䓲 17651,䓳 17652,䓴 17653,䓵 17654,䓶 17655,䓷 17656,䓸 17657,䓹 17658,䓺 17659,䓻 17660,䓼 17661,䓽 17662,䓾 17663,䓿 17664,䔀 17665,䔁 17666,䔂 17667,䔃 17668,䔄 17669,䔅 17670,䔆 17671,䔇 17672,䔈 17673,䔉 17674,䔊 17675,䔋 17676,䔌 17677,䔍 17678,䔎 17679,䔏 17680,䔐 17681,䔑 17682,䔒 17683,䔓 17684,䔔 17685,䔕 17686,䔖 17687,䔗 17688,䔘 17689,䔙 17690,䔚 17691,䔛 17692,䔜 17693,䔝 17694,䔞 17695,䔟 17696,䔠 17697,䔡 17698,䔢 17699,䔣 17700,䔤 17701,䔥 17702,䔦 17703,䔧 17704,䔨 17705,䔩 17706,䔪 17707,䔫 17708,䔬 17709,䔭 17710,䔮 17711,䔯 17712,䔰 17713,䔱 17714,䔲 17715,䔳 17716,䔴 17717,䔵 17718,䔶 17719,䔷 17720,䔸 17721,䔹 17722,䔺 17723,䔻 17724,䔼 17725,䔽 17726,䔾 17727,䔿 17728,䕀 17729,䕁 17730,䕂 17731,䕃 17732,䕄 17733,䕅 17734,䕆 17735,䕇 17736,䕈 17737,䕉 17738,䕊 17739,䕋 17740,䕌 17741,䕍 17742,䕎 17743,䕏 17744,䕐 17745,䕑 17746,䕒 17747,䕓 17748,䕔 17749,䕕 17750,䕖 17751,䕗 17752,䕘 17753,䕙 17754,䕚 17755,䕛 17756,䕜 17757,䕝 17758,䕞 17759,䕟 17760,䕠 17761,䕡 17762,䕢 17763,䕣 17764,䕤 17765,䕥 17766,䕦 17767,䕧 17768,䕨 17769,䕩 17770,䕪 17771,䕫 17772,䕬 17773,䕭 17774,䕮 17775,䕯 17776,䕰 17777,䕱 17778,䕲 17779,䕳 17780,䕴 17781,䕵 17782,䕶 17783,䕷 17784,䕸 17785,䕹 17786,䕺 17787,䕻 17788,䕼 17789,䕽 17790,䕾 17791,䕿 17792,䖀 17793,䖁 17794,䖂 17795,䖃 17796,䖄 17797,䖅 17798,䖆 17799,䖇 17800,䖈 17801,䖉 17802,䖊 17803,䖋 17804,䖌 17805,䖍 17806,䖎 17807,䖏 17808,䖐 17809,䖑 17810,䖒 17811,䖓 17812,䖔 17813,䖕 17814,䖖 17815,䖗 17816,䖘 17817,䖙 17818,䖚 17819,䖛 17820,䖜 17821,䖝 17822,䖞 17823,䖟 17824,䖠 17825,䖡 17826,䖢 17827,䖣 17828,䖤 17829,䖥 17830,䖦 17831,䖧 17832,䖨 17833,䖩 17834,䖪 17835,䖫 17836,䖬 17837,䖭 17838,䖮 17839,䖯 17840,䖰 17841,䖱 17842,䖲 17843,䖳 17844,䖴 17845,䖵 17846,䖶 17847,䖷 17848,䖸 17849,䖹 17850,䖺 17851,䖻 17852,䖼 17853,䖽 17854,䖾 17855,䖿 17856,䗀 17857,䗁 17858,䗂 17859,䗃 17860,䗄 17861,䗅 17862,䗆 17863,䗇 17864,䗈 17865,䗉 17866,䗊 17867,䗋 17868,䗌 17869,䗍 17870,䗎 17871,䗏 17872,䗐 17873,䗑 17874,䗒 17875,䗓 17876,䗔 17877,䗕 17878,䗖 17879,䗗 17880,䗘 17881,䗙 17882,䗚 17883,䗛 17884,䗜 17885,䗝 17886,䗞 17887,䗟 17888,䗠 17889,䗡 17890,䗢 17891,䗣 17892,䗤 17893,䗥 17894,䗦 17895,䗧 17896,䗨 17897,䗩 17898,䗪 17899,䗫 17900,䗬 17901,䗭 17902,䗮 17903,䗯 17904,䗰 17905,䗱 17906,䗲 17907,䗳 17908,䗴 17909,䗵 17910,䗶 17911,䗷 17912,䗸 17913,䗹 17914,䗺 17915,䗻 17916,䗼 17917,䗽 17918,䗾 17919,䗿 17920,䘀 17921,䘁 17922,䘂 17923,䘃 17924,䘄 17925,䘅 17926,䘆 17927,䘇 17928,䘈 17929,䘉 17930,䘊 17931,䘋 17932,䘌 17933,䘍 17934,䘎 17935,䘏 17936,䘐 17937,䘑 17938,䘒 17939,䘓 17940,䘔 17941,䘕 17942,䘖 17943,䘗 17944,䘘 17945,䘙 17946,䘚 17947,䘛 17948,䘜 17949,䘝 17950,䘞 17951,䘟 17952,䘠 17953,䘡 17954,䘢 17955,䘣 17956,䘤 17957,䘥 17958,䘦 17959,䘧 17960,䘨 17961,䘩 17962,䘪 17963,䘫 17964,䘬 17965,䘭 17966,䘮 17967,䘯 17968,䘰 17969,䘱 17970,䘲 17971,䘳 17972,䘴 17973,䘵 17974,䘶 17975,䘷 17976,䘸 17977,䘹 17978,䘺 17979,䘻 17980,䘼 17981,䘽 17982,䘾 17983,䘿 17984,䙀 17985,䙁 17986,䙂 17987,䙃 17988,䙄 17989,䙅 17990,䙆 17991,䙇 17992,䙈 17993,䙉 17994,䙊 17995,䙋 17996,䙌 17997,䙍 17998,䙎 17999,䙏 18000,䙐 18001,䙑 18002,䙒 18003,䙓 18004,䙔 18005,䙕 18006,䙖 18007,䙗 18008,䙘 18009,䙙 18010,䙚 18011,䙛 18012,䙜 18013,䙝 18014,䙞 18015,䙟 18016,䙠 18017,䙡 18018,䙢 18019,䙣 18020,䙤 18021,䙥 18022,䙦 18023,䙧 18024,䙨 18025,䙩 18026,䙪 18027,䙫 18028,䙬 18029,䙭 18030,䙮 18031,䙯 18032,䙰 18033,䙱 18034,䙲 18035,䙳 18036,䙴 18037,䙵 18038,䙶 18039,䙷 18040,䙸 18041,䙹 18042,䙺 18043,䙻 18044,䙼 18045,䙽 18046,䙾 18047,䙿 18048,䚀 18049,䚁 18050,䚂 18051,䚃 18052,䚄 18053,䚅 18054,䚆 18055,䚇 18056,䚈 18057,䚉 18058,䚊 18059,䚋 18060,䚌 18061,䚍 18062,䚎 18063,䚏 18064,䚐 18065,䚑 18066,䚒 18067,䚓 18068,䚔 18069,䚕 18070,䚖 18071,䚗 18072,䚘 18073,䚙 18074,䚚 18075,䚛 18076,䚜 18077,䚝 18078,䚞 18079,䚟 18080,䚠 18081,䚡 18082,䚢 18083,䚣 18084,䚤 18085,䚥 18086,䚦 18087,䚧 18088,䚨 18089,䚩 18090,䚪 18091,䚫 18092,䚬 18093,䚭 18094,䚮 18095,䚯 18096,䚰 18097,䚱 18098,䚲 18099,䚳 18100,䚴 18101,䚵 18102,䚶 18103,䚷 18104,䚸 18105,䚹 18106,䚺 18107,䚻 18108,䚼 18109,䚽 18110,䚾 18111,䚿 18112,䛀 18113,䛁 18114,䛂 18115,䛃 18116,䛄 18117,䛅 18118,䛆 18119,䛇 18120,䛈 18121,䛉 18122,䛊 18123,䛋 18124,䛌 18125,䛍 18126,䛎 18127,䛏 18128,䛐 18129,䛑 18130,䛒 18131,䛓 18132,䛔 18133,䛕 18134,䛖 18135,䛗 18136,䛘 18137,䛙 18138,䛚 18139,䛛 18140,䛜 18141,䛝 18142,䛞 18143,䛟 18144,䛠 18145,䛡 18146,䛢 18147,䛣 18148,䛤 18149,䛥 18150,䛦 18151,䛧 18152,䛨 18153,䛩 18154,䛪 18155,䛫 18156,䛬 18157,䛭 18158,䛮 18159,䛯 18160,䛰 18161,䛱 18162,䛲 18163,䛳 18164,䛴 18165,䛵 18166,䛶 18167,䛷 18168,䛸 18169,䛹 18170,䛺 18171,䛻 18172,䛼 18173,䛽 18174,䛾 18175,䛿 18176,䜀 18177,䜁 18178,䜂 18179,䜃 18180,䜄 18181,䜅 18182,䜆 18183,䜇 18184,䜈 18185,䜉 18186,䜊 18187,䜋 18188,䜌 18189,䜍 18190,䜎 18191,䜏 18192,䜐 18193,䜑 18194,䜒 18195,䜓 18196,䜔 18197,䜕 18198,䜖 18199,䜗 18200,䜘 18201,䜙 18202,䜚 18203,䜛 18204,䜜 18205,䜝 18206,䜞 18207,䜟 18208,䜠 18209,䜡 18210,䜢 18211,䜣 18212,䜤 18213,䜥 18214,䜦 18215,䜧 18216,䜨 18217,䜩 18218,䜪 18219,䜫 18220,䜬 18221,䜭 18222,䜮 18223,䜯 18224,䜰 18225,䜱 18226,䜲 18227,䜳 18228,䜴 18229,䜵 18230,䜶 18231,䜷 18232,䜸 18233,䜹 18234,䜺 18235,䜻 18236,䜼 18237,䜽 18238,䜾 18239,䜿 18240,䝀 18241,䝁 18242,䝂 18243,䝃 18244,䝄 18245,䝅 18246,䝆 18247,䝇 18248,䝈 18249,䝉 18250,䝊 18251,䝋 18252,䝌 18253,䝍 18254,䝎 18255,䝏 18256,䝐 18257,䝑 18258,䝒 18259,䝓 18260,䝔 18261,䝕 18262,䝖 18263,䝗 18264,䝘 18265,䝙 18266,䝚 18267,䝛 18268,䝜 18269,䝝 18270,䝞 18271,䝟 18272,䝠 18273,䝡 18274,䝢 18275,䝣 18276,䝤 18277,䝥 18278,䝦 18279,䝧 18280,䝨 18281,䝩 18282,䝪 18283,䝫 18284,䝬 18285,䝭 18286,䝮 18287,䝯 18288,䝰 18289,䝱 18290,䝲 18291,䝳 18292,䝴 18293,䝵 18294,䝶 18295,䝷 18296,䝸 18297,䝹 18298,䝺 18299,䝻 18300,䝼 18301,䝽 18302,䝾 18303,䝿 18304,䞀 18305,䞁 18306,䞂 18307,䞃 18308,䞄 18309,䞅 18310,䞆 18311,䞇 18312,䞈 18313,䞉 18314,䞊 18315,䞋 18316,䞌 18317,䞍 18318,䞎 18319,䞏 18320,䞐 18321,䞑 18322,䞒 18323,䞓 18324,䞔 18325,䞕 18326,䞖 18327,䞗 18328,䞘 18329,䞙 18330,䞚 18331,䞛 18332,䞜 18333,䞝 18334,䞞 18335,䞟 18336,䞠 18337,䞡 18338,䞢 18339,䞣 18340,䞤 18341,䞥 18342,䞦 18343,䞧 18344,䞨 18345,䞩 18346,䞪 18347,䞫 18348,䞬 18349,䞭 18350,䞮 18351,䞯 18352,䞰 18353,䞱 18354,䞲 18355,䞳 18356,䞴 18357,䞵 18358,䞶 18359,䞷 18360,䞸 18361,䞹 18362,䞺 18363,䞻 18364,䞼 18365,䞽 18366,䞾 18367,䞿 18368,䟀 18369,䟁 18370,䟂 18371,䟃 18372,䟄 18373,䟅 18374,䟆 18375,䟇 18376,䟈 18377,䟉 18378,䟊 18379,䟋 18380,䟌 18381,䟍 18382,䟎 18383,䟏 18384,䟐 18385,䟑 18386,䟒 18387,䟓 18388,䟔 18389,䟕 18390,䟖 18391,䟗 18392,䟘 18393,䟙 18394,䟚 18395,䟛 18396,䟜 18397,䟝 18398,䟞 18399,䟟 18400,䟠 18401,䟡 18402,䟢 18403,䟣 18404,䟤 18405,䟥 18406,䟦 18407,䟧 18408,䟨 18409,䟩 18410,䟪 18411,䟫 18412,䟬 18413,䟭 18414,䟮 18415,䟯 18416,䟰 18417,䟱 18418,䟲 18419,䟳 18420,䟴 18421,䟵 18422,䟶 18423,䟷 18424,䟸 18425,䟹 18426,䟺 18427,䟻 18428,䟼 18429,䟽 18430,䟾 18431,䟿 18432,䠀 18433,䠁 18434,䠂 18435,䠃 18436,䠄 18437,䠅 18438,䠆 18439,䠇 18440,䠈 18441,䠉 18442,䠊 18443,䠋 18444,䠌 18445,䠍 18446,䠎 18447,䠏 18448,䠐 18449,䠑 18450,䠒 18451,䠓 18452,䠔 18453,䠕 18454,䠖 18455,䠗 18456,䠘 18457,䠙 18458,䠚 18459,䠛 18460,䠜 18461,䠝 18462,䠞 18463,䠟 18464,䠠 18465,䠡 18466,䠢 18467,䠣 18468,䠤 18469,䠥 18470,䠦 18471,䠧 18472,䠨 18473,䠩 18474,䠪 18475,䠫 18476,䠬 18477,䠭 18478,䠮 18479,䠯 18480,䠰 18481,䠱 18482,䠲 18483,䠳 18484,䠴 18485,䠵 18486,䠶 18487,䠷 18488,䠸 18489,䠹 18490,䠺 18491,䠻 18492,䠼 18493,䠽 18494,䠾 18495,䠿 18496,䡀 18497,䡁 18498,䡂 18499,䡃 18500,䡄 18501,䡅 18502,䡆 18503,䡇 18504,䡈 18505,䡉 18506,䡊 18507,䡋 18508,䡌 18509,䡍 18510,䡎 18511,䡏 18512,䡐 18513,䡑 18514,䡒 18515,䡓 18516,䡔 18517,䡕 18518,䡖 18519,䡗 18520,䡘 18521,䡙 18522,䡚 18523,䡛 18524,䡜 18525,䡝 18526,䡞 18527,䡟 18528,䡠 18529,䡡 18530,䡢 18531,䡣 18532,䡤 18533,䡥 18534,䡦 18535,䡧 18536,䡨 18537,䡩 18538,䡪 18539,䡫 18540,䡬 18541,䡭 18542,䡮 18543,䡯 18544,䡰 18545,䡱 18546,䡲 18547,䡳 18548,䡴 18549,䡵 18550,䡶 18551,䡷 18552,䡸 18553,䡹 18554,䡺 18555,䡻 18556,䡼 18557,䡽 18558,䡾 18559,䡿 18560,䢀 18561,䢁 18562,䢂 18563,䢃 18564,䢄 18565,䢅 18566,䢆 18567,䢇 18568,䢈 18569,䢉 18570,䢊 18571,䢋 18572,䢌 18573,䢍 18574,䢎 18575,䢏 18576,䢐 18577,䢑 18578,䢒 18579,䢓 18580,䢔 18581,䢕 18582,䢖 18583,䢗 18584,䢘 18585,䢙 18586,䢚 18587,䢛 18588,䢜 18589,䢝 18590,䢞 18591,䢟 18592,䢠 18593,䢡 18594,䢢 18595,䢣 18596,䢤 18597,䢥 18598,䢦 18599,䢧 18600,䢨 18601,䢩 18602,䢪 18603,䢫 18604,䢬 18605,䢭 18606,䢮 18607,䢯 18608,䢰 18609,䢱 18610,䢲 18611,䢳 18612,䢴 18613,䢵 18614,䢶 18615,䢷 18616,䢸 18617,䢹 18618,䢺 18619,䢻 18620,䢼 18621,䢽 18622,䢾 18623,䢿 18624,䣀 18625,䣁 18626,䣂 18627,䣃 18628,䣄 18629,䣅 18630,䣆 18631,䣇 18632,䣈 18633,䣉 18634,䣊 18635,䣋 18636,䣌 18637,䣍 18638,䣎 18639,䣏 18640,䣐 18641,䣑 18642,䣒 18643,䣓 18644,䣔 18645,䣕 18646,䣖 18647,䣗 18648,䣘 18649,䣙 18650,䣚 18651,䣛 18652,䣜 18653,䣝 18654,䣞 18655,䣟 18656,䣠 18657,䣡 18658,䣢 18659,䣣 18660,䣤 18661,䣥 18662,䣦 18663,䣧 18664,䣨 18665,䣩 18666,䣪 18667,䣫 18668,䣬 18669,䣭 18670,䣮 18671,䣯 18672,䣰 18673,䣱 18674,䣲 18675,䣳 18676,䣴 18677,䣵 18678,䣶 18679,䣷 18680,䣸 18681,䣹 18682,䣺 18683,䣻 18684,䣼 18685,䣽 18686,䣾 18687,䣿 18688,䤀 18689,䤁 18690,䤂 18691,䤃 18692,䤄 18693,䤅 18694,䤆 18695,䤇 18696,䤈 18697,䤉 18698,䤊 18699,䤋 18700,䤌 18701,䤍 18702,䤎 18703,䤏 18704,䤐 18705,䤑 18706,䤒 18707,䤓 18708,䤔 18709,䤕 18710,䤖 18711,䤗 18712,䤘 18713,䤙 18714,䤚 18715,䤛 18716,䤜 18717,䤝 18718,䤞 18719,䤟 18720,䤠 18721,䤡 18722,䤢 18723,䤣 18724,䤤 18725,䤥 18726,䤦 18727,䤧 18728,䤨 18729,䤩 18730,䤪 18731,䤫 18732,䤬 18733,䤭 18734,䤮 18735,䤯 18736,䤰 18737,䤱 18738,䤲 18739,䤳 18740,䤴 18741,䤵 18742,䤶 18743,䤷 18744,䤸 18745,䤹 18746,䤺 18747,䤻 18748,䤼 18749,䤽 18750,䤾 18751,䤿 18752,䥀 18753,䥁 18754,䥂 18755,䥃 18756,䥄 18757,䥅 18758,䥆 18759,䥇 18760,䥈 18761,䥉 18762,䥊 18763,䥋 18764,䥌 18765,䥍 18766,䥎 18767,䥏 18768,䥐 18769,䥑 18770,䥒 18771,䥓 18772,䥔 18773,䥕 18774,䥖 18775,䥗 18776,䥘 18777,䥙 18778,䥚 18779,䥛 18780,䥜 18781,䥝 18782,䥞 18783,䥟 18784,䥠 18785,䥡 18786,䥢 18787,䥣 18788,䥤 18789,䥥 18790,䥦 18791,䥧 18792,䥨 18793,䥩 18794,䥪 18795,䥫 18796,䥬 18797,䥭 18798,䥮 18799,䥯 18800,䥰 18801,䥱 18802,䥲 18803,䥳 18804,䥴 18805,䥵 18806,䥶 18807,䥷 18808,䥸 18809,䥹 18810,䥺 18811,䥻 18812,䥼 18813,䥽 18814,䥾 18815,䥿 18816,䦀 18817,䦁 18818,䦂 18819,䦃 18820,䦄 18821,䦅 18822,䦆 18823,䦇 18824,䦈 18825,䦉 18826,䦊 18827,䦋 18828,䦌 18829,䦍 18830,䦎 18831,䦏 18832,䦐 18833,䦑 18834,䦒 18835,䦓 18836,䦔 18837,䦕 18838,䦖 18839,䦗 18840,䦘 18841,䦙 18842,䦚 18843,䦛 18844,䦜 18845,䦝 18846,䦞 18847,䦟 18848,䦠 18849,䦡 18850,䦢 18851,䦣 18852,䦤 18853,䦥 18854,䦦 18855,䦧 18856,䦨 18857,䦩 18858,䦪 18859,䦫 18860,䦬 18861,䦭 18862,䦮 18863,䦯 18864,䦰 18865,䦱 18866,䦲 18867,䦳 18868,䦴 18869,䦵 18870,䦶 18871,䦷 18872,䦸 18873,䦹 18874,䦺 18875,䦻 18876,䦼 18877,䦽 18878,䦾 18879,䦿 18880,䧀 18881,䧁 18882,䧂 18883,䧃 18884,䧄 18885,䧅 18886,䧆 18887,䧇 18888,䧈 18889,䧉 18890,䧊 18891,䧋 18892,䧌 18893,䧍 18894,䧎 18895,䧏 18896,䧐 18897,䧑 18898,䧒 18899,䧓 18900,䧔 18901,䧕 18902,䧖 18903,䧗 18904,䧘 18905,䧙 18906,䧚 18907,䧛 18908,䧜 18909,䧝 18910,䧞 18911,䧟 18912,䧠 18913,䧡 18914,䧢 18915,䧣 18916,䧤 18917,䧥 18918,䧦 18919,䧧 18920,䧨 18921,䧩 18922,䧪 18923,䧫 18924,䧬 18925,䧭 18926,䧮 18927,䧯 18928,䧰 18929,䧱 18930,䧲 18931,䧳 18932,䧴 18933,䧵 18934,䧶 18935,䧷 18936,䧸 18937,䧹 18938,䧺 18939,䧻 18940,䧼 18941,䧽 18942,䧾 18943,䧿 18944,䨀 18945,䨁 18946,䨂 18947,䨃 18948,䨄 18949,䨅 18950,䨆 18951,䨇 18952,䨈 18953,䨉 18954,䨊 18955,䨋 18956,䨌 18957,䨍 18958,䨎 18959,䨏 18960,䨐 18961,䨑 18962,䨒 18963,䨓 18964,䨔 18965,䨕 18966,䨖 18967,䨗 18968,䨘 18969,䨙 18970,䨚 18971,䨛 18972,䨜 18973,䨝 18974,䨞 18975,䨟 18976,䨠 18977,䨡 18978,䨢 18979,䨣 18980,䨤 18981,䨥 18982,䨦 18983,䨧 18984,䨨 18985,䨩 18986,䨪 18987,䨫 18988,䨬 18989,䨭 18990,䨮 18991,䨯 18992,䨰 18993,䨱 18994,䨲 18995,䨳 18996,䨴 18997,䨵 18998,䨶 18999,䨷 19000,䨸 19001,䨹 19002,䨺 19003,䨻 19004,䨼 19005,䨽 19006,䨾 19007,䨿 19008,䩀 19009,䩁 19010,䩂 19011,䩃 19012,䩄 19013,䩅 19014,䩆 19015,䩇 19016,䩈 19017,䩉 19018,䩊 19019,䩋 19020,䩌 19021,䩍 19022,䩎 19023,䩏 19024,䩐 19025,䩑 19026,䩒 19027,䩓 19028,䩔 19029,䩕 19030,䩖 19031,䩗 19032,䩘 19033,䩙 19034,䩚 19035,䩛 19036,䩜 19037,䩝 19038,䩞 19039,䩟 19040,䩠 19041,䩡 19042,䩢 19043,䩣 19044,䩤 19045,䩥 19046,䩦 19047,䩧 19048,䩨 19049,䩩 19050,䩪 19051,䩫 19052,䩬 19053,䩭 19054,䩮 19055,䩯 19056,䩰 19057,䩱 19058,䩲 19059,䩳 19060,䩴 19061,䩵 19062,䩶 19063,䩷 19064,䩸 19065,䩹 19066,䩺 19067,䩻 19068,䩼 19069,䩽 19070,䩾 19071,䩿 19072,䪀 19073,䪁 19074,䪂 19075,䪃 19076,䪄 19077,䪅 19078,䪆 19079,䪇 19080,䪈 19081,䪉 19082,䪊 19083,䪋 19084,䪌 19085,䪍 19086,䪎 19087,䪏 19088,䪐 19089,䪑 19090,䪒 19091,䪓 19092,䪔 19093,䪕 19094,䪖 19095,䪗 19096,䪘 19097,䪙 19098,䪚 19099,䪛 19100,䪜 19101,䪝 19102,䪞 19103,䪟 19104,䪠 19105,䪡 19106,䪢 19107,䪣 19108,䪤 19109,䪥 19110,䪦 19111,䪧 19112,䪨 19113,䪩 19114,䪪 19115,䪫 19116,䪬 19117,䪭 19118,䪮 19119,䪯 19120,䪰 19121,䪱 19122,䪲 19123,䪳 19124,䪴 19125,䪵 19126,䪶 19127,䪷 19128,䪸 19129,䪹 19130,䪺 19131,䪻 19132,䪼 19133,䪽 19134,䪾 19135,䪿 19136,䫀 19137,䫁 19138,䫂 19139,䫃 19140,䫄 19141,䫅 19142,䫆 19143,䫇 19144,䫈 19145,䫉 19146,䫊 19147,䫋 19148,䫌 19149,䫍 19150,䫎 19151,䫏 19152,䫐 19153,䫑 19154,䫒 19155,䫓 19156,䫔 19157,䫕 19158,䫖 19159,䫗 19160,䫘 19161,䫙 19162,䫚 19163,䫛 19164,䫜 19165,䫝 19166,䫞 19167,䫟 19168,䫠 19169,䫡 19170,䫢 19171,䫣 19172,䫤 19173,䫥 19174,䫦 19175,䫧 19176,䫨 19177,䫩 19178,䫪 19179,䫫 19180,䫬 19181,䫭 19182,䫮 19183,䫯 19184,䫰 19185,䫱 19186,䫲 19187,䫳 19188,䫴 19189,䫵 19190,䫶 19191,䫷 19192,䫸 19193,䫹 19194,䫺 19195,䫻 19196,䫼 19197,䫽 19198,䫾 19199,䫿 19200,䬀 19201,䬁 19202,䬂 19203,䬃 19204,䬄 19205,䬅 19206,䬆 19207,䬇 19208,䬈 19209,䬉 19210,䬊 19211,䬋 19212,䬌 19213,䬍 19214,䬎 19215,䬏 19216,䬐 19217,䬑 19218,䬒 19219,䬓 19220,䬔 19221,䬕 19222,䬖 19223,䬗 19224,䬘 19225,䬙 19226,䬚 19227,䬛 19228,䬜 19229,䬝 19230,䬞 19231,䬟 19232,䬠 19233,䬡 19234,䬢 19235,䬣 19236,䬤 19237,䬥 19238,䬦 19239,䬧 19240,䬨 19241,䬩 19242,䬪 19243,䬫 19244,䬬 19245,䬭 19246,䬮 19247,䬯 19248,䬰 19249,䬱 19250,䬲 19251,䬳 19252,䬴 19253,䬵 19254,䬶 19255,䬷 19256,䬸 19257,䬹 19258,䬺 19259,䬻 19260,䬼 19261,䬽 19262,䬾 19263,䬿 19264,䭀 19265,䭁 19266,䭂 19267,䭃 19268,䭄 19269,䭅 19270,䭆 19271,䭇 19272,䭈 19273,䭉 19274,䭊 19275,䭋 19276,䭌 19277,䭍 19278,䭎 19279,䭏 19280,䭐 19281,䭑 19282,䭒 19283,䭓 19284,䭔 19285,䭕 19286,䭖 19287,䭗 19288,䭘 19289,䭙 19290,䭚 19291,䭛 19292,䭜 19293,䭝 19294,䭞 19295,䭟 19296,䭠 19297,䭡 19298,䭢 19299,䭣 19300,䭤 19301,䭥 19302,䭦 19303,䭧 19304,䭨 19305,䭩 19306,䭪 19307,䭫 19308,䭬 19309,䭭 19310,䭮 19311,䭯 19312,䭰 19313,䭱 19314,䭲 19315,䭳 19316,䭴 19317,䭵 19318,䭶 19319,䭷 19320,䭸 19321,䭹 19322,䭺 19323,䭻 19324,䭼 19325,䭽 19326,䭾 19327,䭿 19328,䮀 19329,䮁 19330,䮂 19331,䮃 19332,䮄 19333,䮅 19334,䮆 19335,䮇 19336,䮈 19337,䮉 19338,䮊 19339,䮋 19340,䮌 19341,䮍 19342,䮎 19343,䮏 19344,䮐 19345,䮑 19346,䮒 19347,䮓 19348,䮔 19349,䮕 19350,䮖 19351,䮗 19352,䮘 19353,䮙 19354,䮚 19355,䮛 19356,䮜 19357,䮝 19358,䮞 19359,䮟 19360,䮠 19361,䮡 19362,䮢 19363,䮣 19364,䮤 19365,䮥 19366,䮦 19367,䮧 19368,䮨 19369,䮩 19370,䮪 19371,䮫 19372,䮬 19373,䮭 19374,䮮 19375,䮯 19376,䮰 19377,䮱 19378,䮲 19379,䮳 19380,䮴 19381,䮵 19382,䮶 19383,䮷 19384,䮸 19385,䮹 19386,䮺 19387,䮻 19388,䮼 19389,䮽 19390,䮾 19391,䮿 19392,䯀 19393,䯁 19394,䯂 19395,䯃 19396,䯄 19397,䯅 19398,䯆 19399,䯇 19400,䯈 19401,䯉 19402,䯊 19403,䯋 19404,䯌 19405,䯍 19406,䯎 19407,䯏 19408,䯐 19409,䯑 19410,䯒 19411,䯓 19412,䯔 19413,䯕 19414,䯖 19415,䯗 19416,䯘 19417,䯙 19418,䯚 19419,䯛 19420,䯜 19421,䯝 19422,䯞 19423,䯟 19424,䯠 19425,䯡 19426,䯢 19427,䯣 19428,䯤 19429,䯥 19430,䯦 19431,䯧 19432,䯨 19433,䯩 19434,䯪 19435,䯫 19436,䯬 19437,䯭 19438,䯮 19439,䯯 19440,䯰 19441,䯱 19442,䯲 19443,䯳 19444,䯴 19445,䯵 19446,䯶 19447,䯷 19448,䯸 19449,䯹 19450,䯺 19451,䯻 19452,䯼 19453,䯽 19454,䯾 19455,䯿 19456,䰀 19457,䰁 19458,䰂 19459,䰃 19460,䰄 19461,䰅 19462,䰆 19463,䰇 19464,䰈 19465,䰉 19466,䰊 19467,䰋 19468,䰌 19469,䰍 19470,䰎 19471,䰏 19472,䰐 19473,䰑 19474,䰒 19475,䰓 19476,䰔 19477,䰕 19478,䰖 19479,䰗 19480,䰘 19481,䰙 19482,䰚 19483,䰛 19484,䰜 19485,䰝 19486,䰞 19487,䰟 19488,䰠 19489,䰡 19490,䰢 19491,䰣 19492,䰤 19493,䰥 19494,䰦 19495,䰧 19496,䰨 19497,䰩 19498,䰪 19499,䰫 19500,䰬 19501,䰭 19502,䰮 19503,䰯 19504,䰰 19505,䰱 19506,䰲 19507,䰳 19508,䰴 19509,䰵 19510,䰶 19511,䰷 19512,䰸 19513,䰹 19514,䰺 19515,䰻 19516,䰼 19517,䰽 19518,䰾 19519,䰿 19520,䱀 19521,䱁 19522,䱂 19523,䱃 19524,䱄 19525,䱅 19526,䱆 19527,䱇 19528,䱈 19529,䱉 19530,䱊 19531,䱋 19532,䱌 19533,䱍 19534,䱎 19535,䱏 19536,䱐 19537,䱑 19538,䱒 19539,䱓 19540,䱔 19541,䱕 19542,䱖 19543,䱗 19544,䱘 19545,䱙 19546,䱚 19547,䱛 19548,䱜 19549,䱝 19550,䱞 19551,䱟 19552,䱠 19553,䱡 19554,䱢 19555,䱣 19556,䱤 19557,䱥 19558,䱦 19559,䱧 19560,䱨 19561,䱩 19562,䱪 19563,䱫 19564,䱬 19565,䱭 19566,䱮 19567,䱯 19568,䱰 19569,䱱 19570,䱲 19571,䱳 19572,䱴 19573,䱵 19574,䱶 19575,䱷 19576,䱸 19577,䱹 19578,䱺 19579,䱻 19580,䱼 19581,䱽 19582,䱾 19583,䱿 19584,䲀 19585,䲁 19586,䲂 19587,䲃 19588,䲄 19589,䲅 19590,䲆 19591,䲇 19592,䲈 19593,䲉 19594,䲊 19595,䲋 19596,䲌 19597,䲍 19598,䲎 19599,䲏 19600,䲐 19601,䲑 19602,䲒 19603,䲓 19604,䲔 19605,䲕 19606,䲖 19607,䲗 19608,䲘 19609,䲙 19610,䲚 19611,䲛 19612,䲜 19613,䲝 19614,䲞 19615,䲟 19616,䲠 19617,䲡 19618,䲢 19619,䲣 19620,䲤 19621,䲥 19622,䲦 19623,䲧 19624,䲨 19625,䲩 19626,䲪 19627,䲫 19628,䲬 19629,䲭 19630,䲮 19631,䲯 19632,䲰 19633,䲱 19634,䲲 19635,䲳 19636,䲴 19637,䲵 19638,䲶 19639,䲷 19640,䲸 19641,䲹 19642,䲺 19643,䲻 19644,䲼 19645,䲽 19646,䲾 19647,䲿 19648,䳀 19649,䳁 19650,䳂 19651,䳃 19652,䳄 19653,䳅 19654,䳆 19655,䳇 19656,䳈 19657,䳉 19658,䳊 19659,䳋 19660,䳌 19661,䳍 19662,䳎 19663,䳏 19664,䳐 19665,䳑 19666,䳒 19667,䳓 19668,䳔 19669,䳕 19670,䳖 19671,䳗 19672,䳘 19673,䳙 19674,䳚 19675,䳛 19676,䳜 19677,䳝 19678,䳞 19679,䳟 19680,䳠 19681,䳡 19682,䳢 19683,䳣 19684,䳤 19685,䳥 19686,䳦 19687,䳧 19688,䳨 19689,䳩 19690,䳪 19691,䳫 19692,䳬 19693,䳭 19694,䳮 19695,䳯 19696,䳰 19697,䳱 19698,䳲 19699,䳳 19700,䳴 19701,䳵 19702,䳶 19703,䳷 19704,䳸 19705,䳹 19706,䳺 19707,䳻 19708,䳼 19709,䳽 19710,䳾 19711,䳿 19712,䴀 19713,䴁 19714,䴂 19715,䴃 19716,䴄 19717,䴅 19718,䴆 19719,䴇 19720,䴈 19721,䴉 19722,䴊 19723,䴋 19724,䴌 19725,䴍 19726,䴎 19727,䴏 19728,䴐 19729,䴑 19730,䴒 19731,䴓 19732,䴔 19733,䴕 19734,䴖 19735,䴗 19736,䴘 19737,䴙 19738,䴚 19739,䴛 19740,䴜 19741,䴝 19742,䴞 19743,䴟 19744,䴠 19745,䴡 19746,䴢 19747,䴣 19748,䴤 19749,䴥 19750,䴦 19751,䴧 19752,䴨 19753,䴩 19754,䴪 19755,䴫 19756,䴬 19757,䴭 19758,䴮 19759,䴯 19760,䴰 19761,䴱 19762,䴲 19763,䴳 19764,䴴 19765,䴵 19766,䴶 19767,䴷 19768,䴸 19769,䴹 19770,䴺 19771,䴻 19772,䴼 19773,䴽 19774,䴾 19775,䴿 19776,䵀 19777,䵁 19778,䵂 19779,䵃 19780,䵄 19781,䵅 19782,䵆 19783,䵇 19784,䵈 19785,䵉 19786,䵊 19787,䵋 19788,䵌 19789,䵍 19790,䵎 19791,䵏 19792,䵐 19793,䵑 19794,䵒 19795,䵓 19796,䵔 19797,䵕 19798,䵖 19799,䵗 19800,䵘 19801,䵙 19802,䵚 19803,䵛 19804,䵜 19805,䵝 19806,䵞 19807,䵟 19808,䵠 19809,䵡 19810,䵢 19811,䵣 19812,䵤 19813,䵥 19814,䵦 19815,䵧 19816,䵨 19817,䵩 19818,䵪 19819,䵫 19820,䵬 19821,䵭 19822,䵮 19823,䵯 19824,䵰 19825,䵱 19826,䵲 19827,䵳 19828,䵴 19829,䵵 19830,䵶 19831,䵷 19832,䵸 19833,䵹 19834,䵺 19835,䵻 19836,䵼 19837,䵽 19838,䵾 19839,䵿 19840,䶀 19841,䶁 19842,䶂 19843,䶃 19844,䶄 19845,䶅 19846,䶆 19847,䶇 19848,䶈 19849,䶉 19850,䶊 19851,䶋 19852,䶌 19853,䶍 19854,䶎 19855,䶏 19856,䶐 19857,䶑 19858,䶒 19859,䶓 19860,䶔 19861,䶕 19862,䶖 19863,䶗 19864,䶘 19865,䶙 19866,䶚 19867,䶛 19868,䶜 19869,䶝 19870,䶞 19871,䶟 19872,䶠 19873,䶡 19874,䶢 19875,䶣 19876,䶤 19877,䶥 19878,䶦 19879,䶧 19880,䶨 19881,䶩 19882,䶪 19883,䶫 19884,䶬 19885,䶭 19886,䶮 19887,䶯 19888,䶰 19889,䶱 19890,䶲 19891,䶳 19892,䶴 19893,䶵 19894,䶶 19895,䶷 19896,䶸 19897,䶹 19898,䶺 19899,䶻 19900,䶼 19901,䶽 19902,䶾 19903,䶿 19904,䷀ 19905,䷁ 19906,䷂ 19907,䷃ 19908,䷄ 19909,䷅ 19910,䷆ 19911,䷇ 19912,䷈ 19913,䷉ 19914,䷊ 19915,䷋ 19916,䷌ 19917,䷍ 19918,䷎ 19919,䷏ 19920,䷐ 19921,䷑ 19922,䷒ 19923,䷓ 19924,䷔ 19925,䷕ 19926,䷖ 19927,䷗ 19928,䷘ 19929,䷙ 19930,䷚ 19931,䷛ 19932,䷜ 19933,䷝ 19934,䷞ 19935,䷟ 19936,䷠ 19937,䷡ 19938,䷢ 19939,䷣ 19940,䷤ 19941,䷥ 19942,䷦ 19943,䷧ 19944,䷨ 19945,䷩ 19946,䷪ 19947,䷫ 19948,䷬ 19949,䷭ 19950,䷮ 19951,䷯ 19952,䷰ 19953,䷱ 19954,䷲ 19955,䷳ 19956,䷴ 19957,䷵ 19958,䷶ 19959,䷷ 19960,䷸ 19961,䷹ 19962,䷺ 19963,䷻ 19964,䷼ 19965,䷽ 19966,䷾ 19967,䷿ 19968,一 19969,丁 19970,丂 19971,七 19972,丄 19973,丅 19974,丆 19975,万 19976,丈 19977,三 19978,上 19979,下 19980,丌 19981,不 19982,与 19983,丏 19984,丐 19985,丑 19986,丒 19987,专 19988,且 19989,丕 19990,世 19991,丗 19992,丘 19993,丙 19994,业 19995,丛 19996,东 19997,丝 19998,丞 19999,丟 "
     ]
    }
   ],
   "source": [
    "for i in range(1000,20000):\n",
    "    print(f'{i},{chr(i)}',end=' ')"
   ]
  },
  {
   "cell_type": "code",
   "execution_count": null,
   "id": "27d37dae-33f7-4892-b568-63b2cb2e2e33",
   "metadata": {},
   "outputs": [],
   "source": []
  }
 ],
 "metadata": {
  "kernelspec": {
   "display_name": "Python 3 (ipykernel)",
   "language": "python",
   "name": "python3"
  },
  "language_info": {
   "codemirror_mode": {
    "name": "ipython",
    "version": 3
   },
   "file_extension": ".py",
   "mimetype": "text/x-python",
   "name": "python",
   "nbconvert_exporter": "python",
   "pygments_lexer": "ipython3",
   "version": "3.12.4"
  }
 },
 "nbformat": 4,
 "nbformat_minor": 5
}
